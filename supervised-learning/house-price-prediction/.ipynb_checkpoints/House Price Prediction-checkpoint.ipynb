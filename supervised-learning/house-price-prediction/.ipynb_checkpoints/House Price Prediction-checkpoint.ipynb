{
 "cells": [
  {
   "cell_type": "markdown",
   "metadata": {},
   "source": [
    "# <center> <font color='red'>How Coronavirus spread aroud the world</font></center>"
   ]
  },
  {
   "cell_type": "markdown",
   "metadata": {},
   "source": [
    "<center><img src=\"https://storage.googleapis.com/kaggle-datasets-images/490520/913071/6f768170042ff67201713be09e3ad3df/dataset-cover.jpg?t=2020-01-26-22-15-00\"/></center>"
   ]
  },
  {
   "cell_type": "markdown",
   "metadata": {},
   "source": [
    "## Table of Contents\n",
    "\n",
    "1. [Introduction](#Section1)<br>\n",
    "2. [Problem Statement](#Section2)<br>\n",
    "3. [Importing Libraries](#Section3)<br>\n",
    "4. [Data Acquisition & Description](#Section4)<br>\n",
    "5. [Exploratory Data Analysis](#Section5)<br>\n",
    "    - 5.1 [Origin place of coronavirus](#Section51)<br>\n",
    "    - 5.2 [Current spread of coronavirus through out the world](#Section52)<br>\n",
    "    - 5.3 [Let's check out the spread of CoronaVirus worldwide through animation](#Section53)<br>\n",
    "    - 5.4 [Let's compare the spread of virus in China vs Rest world](#Section54)<br>\n",
    "    - 5.5 [Number of Corona Virus confirmed cases China vs Rest World](#Section55)<br>\n"
   ]
  },
  {
   "cell_type": "markdown",
   "metadata": {},
   "source": [
    "<a id = Section1></a>\n",
    "## 1.Introduction "
   ]
  },
  {
   "cell_type": "markdown",
   "metadata": {},
   "source": [
    "The __2019-nCoV(virus name)__ is a contagious coronavirus that hailed from __Wuhan__, China. This new strain of virus has striked fear in many countries as cities are quarantined and hospitals are overcrowded. \n",
    "\n",
    "- This dataset will help us understand how __2019-nCoV__ is spread aroud the world."
   ]
  },
  {
   "cell_type": "markdown",
   "metadata": {},
   "source": [
    "### What World Health Organization(WHO) said about Coronavirus?"
   ]
  },
  {
   "cell_type": "markdown",
   "metadata": {},
   "source": [
    "<center><img src=\"https://raw.githubusercontent.com/insaid2018/Term-2/master/images/sneaz.jpg\" height=230 width=500/></center>"
   ]
  },
  {
   "cell_type": "markdown",
   "metadata": {},
   "source": [
    "Coronaviruses (CoV) are a large family of viruses that cause illness ranging from the __common cold__ to more severe diseases such as \n",
    "- __Middle East Respiratory Syndrome (MERS-CoV)__ \n",
    "- __Severe Acute Respiratory Syndrome (SARS-CoV)__\n",
    "\n",
    "A novel coronavirus (nCoV) is a new strain that has not been previously identified in humans"
   ]
  },
  {
   "cell_type": "markdown",
   "metadata": {},
   "source": [
    "__C__oronaviruses are __zoonotic__, meaning they are __transmitted__ between <font color='blue'>__Animals and people__</font>.  \n",
    "\n",
    "Coronavirus spreads in __China__ and around the world, scientists are scrambling to find out exactly __where it came from__.\n",
    "\n",
    "<br><br>\n",
    "### <center>What initial research said</center>\n",
    "<center><img src='https://raw.githubusercontent.com/vikramvinay/Titanic-Machine-Learning-from-Disaster/master/bat%20to%20humans.png' height=300 width=550/></center>\n",
    "\n",
    "\n",
    "- Now, a new study provides more clues to the virus' origins, and points to <font color='red'>__bats__</font> as the most likely __hosts__.\n",
    "\n",
    "<br><br>\n",
    "\n",
    "### <center>New claims</center>\n",
    "\n",
    "<center><img src=\"https://raw.githubusercontent.com/insaid2018/Term-2/master/images/snakes.jpg\" height=250 width=550/></center>"
   ]
  },
  {
   "cell_type": "markdown",
   "metadata": {},
   "source": [
    "__Note__: Despite emerging in humans only recently, the virus has already infected about __2,0000__ people and caused __500+__ deaths in China, while spreading to __25+__ other countries, according to the World Health Organization. \n",
    "\n",
    "- Most of the initial cases occurred in people who worked at or visited the <font color='blue'>__Huanan seafood market in Wuhan, China__</font>, where a variety of wild animals were sold."
   ]
  },
  {
   "cell_type": "markdown",
   "metadata": {},
   "source": [
    "<center><img src=\"https://raw.githubusercontent.com/insaid2018/Term-2/master/images/wuhan.jpeg\"></center>\n",
    "<center><b>Seafood Market, Wuhan, China</b></center>\n",
    "------"
   ]
  },
  {
   "cell_type": "markdown",
   "metadata": {},
   "source": [
    "#### For more information check this [video](https://www.facebook.com/interestingengineering/videos/474773186523080/?t=2)"
   ]
  },
  {
   "cell_type": "markdown",
   "metadata": {},
   "source": [
    "<a id = Section2></a>\n",
    "## 2. Problem Statement"
   ]
  },
  {
   "cell_type": "markdown",
   "metadata": {},
   "source": [
    "#### __Question__ : What in this notebook we gonna cover?\n",
    "- This notebook tracks the __spread__ of the __novel corona virus__, also known as the __2019-nCoV__. It is a contagious respiratory virus that first started in Wuhan in December 2019.\n",
    "\n",
    "<font color='blue'>__Note:__</font> \n",
    "\n",
    "Many great kernels have already been posted (even i am taking help from few of them) but i try to bring the complete visualization into one notebook and make it understand the basic traits of visualization for every reader. \n",
    "- My goal is to explore the data in a visual font using the __Plotly__, __Folium__ and animation feature in scatter and geo plots!\n",
    "\n",
    "- This notebook will be a comparative analysis, the main purpose of which is to examine the differences in the spread of the disease in China and other parts of the world."
   ]
  },
  {
   "cell_type": "markdown",
   "metadata": {},
   "source": [
    "<a id = Section3></a>\n",
    "## 3. Importing libraries"
   ]
  },
  {
   "cell_type": "code",
   "execution_count": 7,
   "metadata": {},
   "outputs": [
    {
     "data": {
      "text/html": [
       "        <script type=\"text/javascript\">\n",
       "        window.PlotlyConfig = {MathJaxConfig: 'local'};\n",
       "        if (window.MathJax) {MathJax.Hub.Config({SVG: {font: \"STIX-Web\"}});}\n",
       "        if (typeof require !== 'undefined') {\n",
       "        require.undef(\"plotly\");\n",
       "        requirejs.config({\n",
       "            paths: {\n",
       "                'plotly': ['https://cdn.plot.ly/plotly-latest.min']\n",
       "            }\n",
       "        });\n",
       "        require(['plotly'], function(Plotly) {\n",
       "            window._Plotly = Plotly;\n",
       "        });\n",
       "        }\n",
       "        </script>\n",
       "        "
      ]
     },
     "metadata": {},
     "output_type": "display_data"
    }
   ],
   "source": [
    "import pandas as pd\n",
    "import numpy as np\n",
    "import matplotlib.pyplot as plt\n",
    "import seaborn as sns\n",
    "import scipy.stats as stats\n",
    "%matplotlib inline\n",
    "\n",
    "import plotly.express as px\n",
    "import plotly.graph_objs as go\n",
    "from plotly.offline import iplot, init_notebook_mode\n",
    "import plotly.figure_factory as ff\n",
    "from plotly import subplots\n",
    "from plotly.subplots import make_subplots\n",
    "init_notebook_mode(connected=True)\n",
    "\n",
    "from datetime import date, datetime,timedelta\n",
    "\n",
    "pd.set_option('display.max_columns', 100)\n",
    "pd.set_option('display.max_rows', 100)\n",
    "import os"
   ]
  },
  {
   "cell_type": "markdown",
   "metadata": {
    "collapsed": true
   },
   "source": [
    "<a id = Section4></a>\n",
    "## 4. Data Loading and data Description"
   ]
  },
  {
   "cell_type": "code",
   "execution_count": 8,
   "metadata": {
    "collapsed": true
   },
   "outputs": [],
   "source": [
    "## The below dataset is the modified version of the originally uploaded initial data\n",
    "df=pd.read_csv('final_corona_virus_data.csv')"
   ]
  },
  {
   "cell_type": "markdown",
   "metadata": {},
   "source": [
    "| Features | Description |\n",
    "| :--| :--| \n",
    "| **Province-State(PS)** | Target state in the country |\n",
    "| **Country** | Target Country |\n",
    "| **Date** | Report Date |\n",
    "| **Confirmed** | Accumulated number of confirmed 2019-nCoV cases |\n",
    "| **Recovered** | Accumulated number of recovered 2019-nCoV cases |\n",
    "| **Deaths** | Accumulated number of deaths due to 2019-nCoV |\n",
    "| **lat**|Latitude|\n",
    "| **lon**|Longitude|"
   ]
  },
  {
   "cell_type": "code",
   "execution_count": 9,
   "metadata": {},
   "outputs": [
    {
     "data": {
      "text/html": [
       "<div>\n",
       "<style scoped>\n",
       "    .dataframe tbody tr th:only-of-type {\n",
       "        vertical-align: middle;\n",
       "    }\n",
       "\n",
       "    .dataframe tbody tr th {\n",
       "        vertical-align: top;\n",
       "    }\n",
       "\n",
       "    .dataframe thead th {\n",
       "        text-align: right;\n",
       "    }\n",
       "</style>\n",
       "<table border=\"1\" class=\"dataframe\">\n",
       "  <thead>\n",
       "    <tr style=\"text-align: right;\">\n",
       "      <th></th>\n",
       "      <th>PS</th>\n",
       "      <th>Country</th>\n",
       "      <th>Date</th>\n",
       "      <th>Confirmed</th>\n",
       "      <th>Deaths</th>\n",
       "      <th>Recovered</th>\n",
       "      <th>lat</th>\n",
       "      <th>lon</th>\n",
       "    </tr>\n",
       "  </thead>\n",
       "  <tbody>\n",
       "    <tr>\n",
       "      <th>0</th>\n",
       "      <td>Anhui</td>\n",
       "      <td>China</td>\n",
       "      <td>2020-01-22</td>\n",
       "      <td>1.0</td>\n",
       "      <td>0.0</td>\n",
       "      <td>0.0</td>\n",
       "      <td>32.0</td>\n",
       "      <td>117.0</td>\n",
       "    </tr>\n",
       "    <tr>\n",
       "      <th>1</th>\n",
       "      <td>Anhui</td>\n",
       "      <td>China</td>\n",
       "      <td>2020-01-23</td>\n",
       "      <td>9.0</td>\n",
       "      <td>0.0</td>\n",
       "      <td>0.0</td>\n",
       "      <td>32.0</td>\n",
       "      <td>117.0</td>\n",
       "    </tr>\n",
       "    <tr>\n",
       "      <th>2</th>\n",
       "      <td>Anhui</td>\n",
       "      <td>China</td>\n",
       "      <td>2020-01-24</td>\n",
       "      <td>15.0</td>\n",
       "      <td>0.0</td>\n",
       "      <td>0.0</td>\n",
       "      <td>32.0</td>\n",
       "      <td>117.0</td>\n",
       "    </tr>\n",
       "    <tr>\n",
       "      <th>3</th>\n",
       "      <td>Anhui</td>\n",
       "      <td>China</td>\n",
       "      <td>2020-01-25</td>\n",
       "      <td>60.0</td>\n",
       "      <td>0.0</td>\n",
       "      <td>0.0</td>\n",
       "      <td>32.0</td>\n",
       "      <td>117.0</td>\n",
       "    </tr>\n",
       "    <tr>\n",
       "      <th>4</th>\n",
       "      <td>Anhui</td>\n",
       "      <td>China</td>\n",
       "      <td>2020-01-26</td>\n",
       "      <td>70.0</td>\n",
       "      <td>0.0</td>\n",
       "      <td>0.0</td>\n",
       "      <td>32.0</td>\n",
       "      <td>117.0</td>\n",
       "    </tr>\n",
       "  </tbody>\n",
       "</table>\n",
       "</div>"
      ],
      "text/plain": [
       "      PS Country        Date  Confirmed  Deaths  Recovered   lat    lon\n",
       "0  Anhui   China  2020-01-22        1.0     0.0        0.0  32.0  117.0\n",
       "1  Anhui   China  2020-01-23        9.0     0.0        0.0  32.0  117.0\n",
       "2  Anhui   China  2020-01-24       15.0     0.0        0.0  32.0  117.0\n",
       "3  Anhui   China  2020-01-25       60.0     0.0        0.0  32.0  117.0\n",
       "4  Anhui   China  2020-01-26       70.0     0.0        0.0  32.0  117.0"
      ]
     },
     "execution_count": 9,
     "metadata": {},
     "output_type": "execute_result"
    }
   ],
   "source": [
    "df.head()"
   ]
  },
  {
   "cell_type": "markdown",
   "metadata": {},
   "source": [
    "In the given data longitude and latitude is seperately added which is found by using __geocoding__.\n",
    "\n",
    "Check more about [geocoding](https://developers.google.com/maps/documentation/geocoding/start?utm_source=google&utm_medium=cpc&utm_campaign=FY18-Q2-global-demandgen-paidsearchonnetworkhouseads-cs-maps_contactsal_saf&utm_content=text-ad-none-none-DEV_c-CRE_342710847021-ADGP_Hybrid+%7C+AW+SEM+%7C+SKWS+~+Geocoding+API+BMM-KWID_43700042841957297-kwd-335278985932-userloc_1007765&utm_term=KW_%2Bgeocoder%20%2Bapi-ST_%2Bgeocoder+%2Bapi&gclid=CjwKCAiAyeTxBRBvEiwAuM8dndTZIuREm-2GHB-B5JKDy25-qlqjfZRlyz2X45TxOsexSFYBfEVOaRoCrf0QAvD_BwE)"
   ]
  },
  {
   "cell_type": "markdown",
   "metadata": {},
   "source": [
    "### Geocoding_api_data\n",
    "\n",
    "Let's load the geocoded_api data which is saved in the .json format."
   ]
  },
  {
   "cell_type": "code",
   "execution_count": 10,
   "metadata": {},
   "outputs": [],
   "source": [
    "import json\n",
    "with open('Geocoding_api_data.json') as f:\n",
    "    d = json.load(f)\n"
   ]
  },
  {
   "cell_type": "code",
   "execution_count": 11,
   "metadata": {},
   "outputs": [
    {
     "name": "stdout",
     "output_type": "stream",
     "text": [
      "<class 'pandas.core.frame.DataFrame'>\n",
      "RangeIndex: 542 entries, 0 to 541\n",
      "Data columns (total 8 columns):\n",
      "PS           542 non-null object\n",
      "Country      542 non-null object\n",
      "Date         542 non-null object\n",
      "Confirmed    542 non-null float64\n",
      "Deaths       542 non-null float64\n",
      "Recovered    542 non-null float64\n",
      "lat          542 non-null float64\n",
      "lon          542 non-null float64\n",
      "dtypes: float64(5), object(3)\n",
      "memory usage: 34.0+ KB\n"
     ]
    }
   ],
   "source": [
    "##Looking at data types\n",
    "df.info()"
   ]
  },
  {
   "cell_type": "markdown",
   "metadata": {},
   "source": [
    "What here you see is the pre-processed version of data. Because for this case study our main aim is to show the exploration of data and bringing out a bigger picture."
   ]
  },
  {
   "cell_type": "code",
   "execution_count": 12,
   "metadata": {},
   "outputs": [
    {
     "data": {
      "text/plain": [
       "2020-02-02    66\n",
       "2020-01-31    63\n",
       "2020-01-30    59\n",
       "2020-01-29    56\n",
       "2020-01-28    52\n",
       "2020-01-27    51\n",
       "2020-01-26    46\n",
       "2020-01-25    43\n",
       "2020-01-24    40\n",
       "2020-01-23    37\n",
       "2020-01-22    29\n",
       "Name: Date, dtype: int64"
      ]
     },
     "execution_count": 12,
     "metadata": {},
     "output_type": "execute_result"
    }
   ],
   "source": [
    "df['Date'].value_counts()"
   ]
  },
  {
   "cell_type": "markdown",
   "metadata": {},
   "source": [
    "<a id = Section5></a>\n",
    "## 5. Exploratory Data Analysis"
   ]
  },
  {
   "cell_type": "markdown",
   "metadata": {},
   "source": [
    "<a id = Section51></a>\n",
    "### 5.1 Origin place of coronavirus"
   ]
  },
  {
   "cell_type": "markdown",
   "metadata": {},
   "source": [
    "Coronavirus spread comes in the news since 22nd January.So what we do let's check for the place where it's case were first reported."
   ]
  },
  {
   "cell_type": "code",
   "execution_count": 13,
   "metadata": {
    "collapsed": true
   },
   "outputs": [],
   "source": [
    "# plot the world data for 22nd January.\n",
    "\n",
    "df_22Jan=df[df['Date']=='2020-01-22']"
   ]
  },
  {
   "cell_type": "code",
   "execution_count": 14,
   "metadata": {},
   "outputs": [
    {
     "data": {
      "text/html": [
       "<div>\n",
       "<style scoped>\n",
       "    .dataframe tbody tr th:only-of-type {\n",
       "        vertical-align: middle;\n",
       "    }\n",
       "\n",
       "    .dataframe tbody tr th {\n",
       "        vertical-align: top;\n",
       "    }\n",
       "\n",
       "    .dataframe thead th {\n",
       "        text-align: right;\n",
       "    }\n",
       "</style>\n",
       "<table border=\"1\" class=\"dataframe\">\n",
       "  <thead>\n",
       "    <tr style=\"text-align: right;\">\n",
       "      <th></th>\n",
       "      <th>PS</th>\n",
       "      <th>Country</th>\n",
       "      <th>Date</th>\n",
       "      <th>Confirmed</th>\n",
       "      <th>Deaths</th>\n",
       "      <th>Recovered</th>\n",
       "      <th>lat</th>\n",
       "      <th>lon</th>\n",
       "    </tr>\n",
       "  </thead>\n",
       "  <tbody>\n",
       "    <tr>\n",
       "      <th>0</th>\n",
       "      <td>Anhui</td>\n",
       "      <td>China</td>\n",
       "      <td>2020-01-22</td>\n",
       "      <td>1.0</td>\n",
       "      <td>0.0</td>\n",
       "      <td>0.0</td>\n",
       "      <td>32.000000</td>\n",
       "      <td>117.000000</td>\n",
       "    </tr>\n",
       "    <tr>\n",
       "      <th>22</th>\n",
       "      <td>Beijing</td>\n",
       "      <td>China</td>\n",
       "      <td>2020-01-22</td>\n",
       "      <td>14.0</td>\n",
       "      <td>0.0</td>\n",
       "      <td>0.0</td>\n",
       "      <td>39.906217</td>\n",
       "      <td>116.391276</td>\n",
       "    </tr>\n",
       "    <tr>\n",
       "      <th>53</th>\n",
       "      <td>Chongqing</td>\n",
       "      <td>China</td>\n",
       "      <td>2020-01-22</td>\n",
       "      <td>6.0</td>\n",
       "      <td>0.0</td>\n",
       "      <td>0.0</td>\n",
       "      <td>30.055180</td>\n",
       "      <td>107.874871</td>\n",
       "    </tr>\n",
       "    <tr>\n",
       "      <th>77</th>\n",
       "      <td>Fujian</td>\n",
       "      <td>China</td>\n",
       "      <td>2020-01-22</td>\n",
       "      <td>1.0</td>\n",
       "      <td>0.0</td>\n",
       "      <td>0.0</td>\n",
       "      <td>26.545000</td>\n",
       "      <td>117.842778</td>\n",
       "    </tr>\n",
       "    <tr>\n",
       "      <th>98</th>\n",
       "      <td>Guangdong</td>\n",
       "      <td>China</td>\n",
       "      <td>2020-01-22</td>\n",
       "      <td>26.0</td>\n",
       "      <td>0.0</td>\n",
       "      <td>0.0</td>\n",
       "      <td>23.135769</td>\n",
       "      <td>113.198269</td>\n",
       "    </tr>\n",
       "    <tr>\n",
       "      <th>109</th>\n",
       "      <td>Guangxi</td>\n",
       "      <td>China</td>\n",
       "      <td>2020-01-22</td>\n",
       "      <td>2.0</td>\n",
       "      <td>0.0</td>\n",
       "      <td>0.0</td>\n",
       "      <td>24.000000</td>\n",
       "      <td>109.000000</td>\n",
       "    </tr>\n",
       "    <tr>\n",
       "      <th>120</th>\n",
       "      <td>Guizhou</td>\n",
       "      <td>China</td>\n",
       "      <td>2020-01-22</td>\n",
       "      <td>1.0</td>\n",
       "      <td>0.0</td>\n",
       "      <td>0.0</td>\n",
       "      <td>27.000000</td>\n",
       "      <td>107.000000</td>\n",
       "    </tr>\n",
       "    <tr>\n",
       "      <th>131</th>\n",
       "      <td>Hainan</td>\n",
       "      <td>China</td>\n",
       "      <td>2020-01-22</td>\n",
       "      <td>4.0</td>\n",
       "      <td>0.0</td>\n",
       "      <td>0.0</td>\n",
       "      <td>19.200000</td>\n",
       "      <td>109.600000</td>\n",
       "    </tr>\n",
       "    <tr>\n",
       "      <th>142</th>\n",
       "      <td>Hebei</td>\n",
       "      <td>China</td>\n",
       "      <td>2020-01-22</td>\n",
       "      <td>1.0</td>\n",
       "      <td>0.0</td>\n",
       "      <td>0.0</td>\n",
       "      <td>39.000000</td>\n",
       "      <td>116.000000</td>\n",
       "    </tr>\n",
       "    <tr>\n",
       "      <th>163</th>\n",
       "      <td>Henan</td>\n",
       "      <td>China</td>\n",
       "      <td>2020-01-22</td>\n",
       "      <td>5.0</td>\n",
       "      <td>0.0</td>\n",
       "      <td>0.0</td>\n",
       "      <td>34.000000</td>\n",
       "      <td>114.000000</td>\n",
       "    </tr>\n",
       "    <tr>\n",
       "      <th>184</th>\n",
       "      <td>Hubei</td>\n",
       "      <td>China</td>\n",
       "      <td>2020-01-22</td>\n",
       "      <td>444.0</td>\n",
       "      <td>0.0</td>\n",
       "      <td>0.0</td>\n",
       "      <td>31.151725</td>\n",
       "      <td>112.878322</td>\n",
       "    </tr>\n",
       "    <tr>\n",
       "      <th>195</th>\n",
       "      <td>Hunan</td>\n",
       "      <td>China</td>\n",
       "      <td>2020-01-22</td>\n",
       "      <td>4.0</td>\n",
       "      <td>0.0</td>\n",
       "      <td>0.0</td>\n",
       "      <td>27.999588</td>\n",
       "      <td>112.009538</td>\n",
       "    </tr>\n",
       "    <tr>\n",
       "      <th>228</th>\n",
       "      <td>Japan</td>\n",
       "      <td>Japan</td>\n",
       "      <td>2020-01-22</td>\n",
       "      <td>2.0</td>\n",
       "      <td>0.0</td>\n",
       "      <td>0.0</td>\n",
       "      <td>36.574844</td>\n",
       "      <td>139.239418</td>\n",
       "    </tr>\n",
       "    <tr>\n",
       "      <th>239</th>\n",
       "      <td>Jiangsu</td>\n",
       "      <td>China</td>\n",
       "      <td>2020-01-22</td>\n",
       "      <td>1.0</td>\n",
       "      <td>0.0</td>\n",
       "      <td>0.0</td>\n",
       "      <td>33.000000</td>\n",
       "      <td>120.000000</td>\n",
       "    </tr>\n",
       "    <tr>\n",
       "      <th>250</th>\n",
       "      <td>Jiangxi</td>\n",
       "      <td>China</td>\n",
       "      <td>2020-01-22</td>\n",
       "      <td>2.0</td>\n",
       "      <td>0.0</td>\n",
       "      <td>0.0</td>\n",
       "      <td>28.000000</td>\n",
       "      <td>116.000000</td>\n",
       "    </tr>\n",
       "    <tr>\n",
       "      <th>271</th>\n",
       "      <td>Liaoning</td>\n",
       "      <td>China</td>\n",
       "      <td>2020-01-22</td>\n",
       "      <td>2.0</td>\n",
       "      <td>0.0</td>\n",
       "      <td>0.0</td>\n",
       "      <td>40.997520</td>\n",
       "      <td>122.995547</td>\n",
       "    </tr>\n",
       "    <tr>\n",
       "      <th>283</th>\n",
       "      <td>Macau</td>\n",
       "      <td>China</td>\n",
       "      <td>2020-01-22</td>\n",
       "      <td>1.0</td>\n",
       "      <td>0.0</td>\n",
       "      <td>0.0</td>\n",
       "      <td>22.175761</td>\n",
       "      <td>113.551414</td>\n",
       "    </tr>\n",
       "    <tr>\n",
       "      <th>316</th>\n",
       "      <td>Ningxia</td>\n",
       "      <td>China</td>\n",
       "      <td>2020-01-22</td>\n",
       "      <td>1.0</td>\n",
       "      <td>0.0</td>\n",
       "      <td>0.0</td>\n",
       "      <td>37.000000</td>\n",
       "      <td>106.000000</td>\n",
       "    </tr>\n",
       "    <tr>\n",
       "      <th>364</th>\n",
       "      <td>Shandong</td>\n",
       "      <td>China</td>\n",
       "      <td>2020-01-22</td>\n",
       "      <td>2.0</td>\n",
       "      <td>0.0</td>\n",
       "      <td>0.0</td>\n",
       "      <td>36.000000</td>\n",
       "      <td>119.000000</td>\n",
       "    </tr>\n",
       "    <tr>\n",
       "      <th>375</th>\n",
       "      <td>Shanghai</td>\n",
       "      <td>China</td>\n",
       "      <td>2020-01-22</td>\n",
       "      <td>9.0</td>\n",
       "      <td>0.0</td>\n",
       "      <td>0.0</td>\n",
       "      <td>31.232276</td>\n",
       "      <td>121.469207</td>\n",
       "    </tr>\n",
       "    <tr>\n",
       "      <th>386</th>\n",
       "      <td>Shanxi</td>\n",
       "      <td>China</td>\n",
       "      <td>2020-01-22</td>\n",
       "      <td>1.0</td>\n",
       "      <td>0.0</td>\n",
       "      <td>0.0</td>\n",
       "      <td>37.000000</td>\n",
       "      <td>112.000000</td>\n",
       "    </tr>\n",
       "    <tr>\n",
       "      <th>397</th>\n",
       "      <td>Sichuan</td>\n",
       "      <td>China</td>\n",
       "      <td>2020-01-22</td>\n",
       "      <td>5.0</td>\n",
       "      <td>0.0</td>\n",
       "      <td>0.0</td>\n",
       "      <td>30.500000</td>\n",
       "      <td>102.500000</td>\n",
       "    </tr>\n",
       "    <tr>\n",
       "      <th>419</th>\n",
       "      <td>South Korea</td>\n",
       "      <td>South Korea</td>\n",
       "      <td>2020-01-22</td>\n",
       "      <td>1.0</td>\n",
       "      <td>0.0</td>\n",
       "      <td>0.0</td>\n",
       "      <td>36.558191</td>\n",
       "      <td>127.940856</td>\n",
       "    </tr>\n",
       "    <tr>\n",
       "      <th>440</th>\n",
       "      <td>Taiwan</td>\n",
       "      <td>China</td>\n",
       "      <td>2020-01-22</td>\n",
       "      <td>1.0</td>\n",
       "      <td>0.0</td>\n",
       "      <td>0.0</td>\n",
       "      <td>23.973937</td>\n",
       "      <td>120.982018</td>\n",
       "    </tr>\n",
       "    <tr>\n",
       "      <th>452</th>\n",
       "      <td>Thailand</td>\n",
       "      <td>Thailand</td>\n",
       "      <td>2020-01-22</td>\n",
       "      <td>2.0</td>\n",
       "      <td>0.0</td>\n",
       "      <td>0.0</td>\n",
       "      <td>14.897192</td>\n",
       "      <td>100.832730</td>\n",
       "    </tr>\n",
       "    <tr>\n",
       "      <th>463</th>\n",
       "      <td>Tianjin</td>\n",
       "      <td>China</td>\n",
       "      <td>2020-01-22</td>\n",
       "      <td>4.0</td>\n",
       "      <td>0.0</td>\n",
       "      <td>0.0</td>\n",
       "      <td>39.123564</td>\n",
       "      <td>117.198078</td>\n",
       "    </tr>\n",
       "    <tr>\n",
       "      <th>500</th>\n",
       "      <td>Washington</td>\n",
       "      <td>US</td>\n",
       "      <td>2020-01-22</td>\n",
       "      <td>1.0</td>\n",
       "      <td>0.0</td>\n",
       "      <td>0.0</td>\n",
       "      <td>38.894893</td>\n",
       "      <td>-77.036553</td>\n",
       "    </tr>\n",
       "    <tr>\n",
       "      <th>520</th>\n",
       "      <td>Yunnan</td>\n",
       "      <td>China</td>\n",
       "      <td>2020-01-22</td>\n",
       "      <td>1.0</td>\n",
       "      <td>0.0</td>\n",
       "      <td>0.0</td>\n",
       "      <td>25.000000</td>\n",
       "      <td>102.000000</td>\n",
       "    </tr>\n",
       "    <tr>\n",
       "      <th>531</th>\n",
       "      <td>Zhejiang</td>\n",
       "      <td>China</td>\n",
       "      <td>2020-01-22</td>\n",
       "      <td>10.0</td>\n",
       "      <td>0.0</td>\n",
       "      <td>0.0</td>\n",
       "      <td>29.000000</td>\n",
       "      <td>120.000000</td>\n",
       "    </tr>\n",
       "  </tbody>\n",
       "</table>\n",
       "</div>"
      ],
      "text/plain": [
       "              PS      Country        Date  Confirmed  Deaths  Recovered  \\\n",
       "0          Anhui        China  2020-01-22        1.0     0.0        0.0   \n",
       "22       Beijing        China  2020-01-22       14.0     0.0        0.0   \n",
       "53     Chongqing        China  2020-01-22        6.0     0.0        0.0   \n",
       "77        Fujian        China  2020-01-22        1.0     0.0        0.0   \n",
       "98     Guangdong        China  2020-01-22       26.0     0.0        0.0   \n",
       "109      Guangxi        China  2020-01-22        2.0     0.0        0.0   \n",
       "120      Guizhou        China  2020-01-22        1.0     0.0        0.0   \n",
       "131       Hainan        China  2020-01-22        4.0     0.0        0.0   \n",
       "142        Hebei        China  2020-01-22        1.0     0.0        0.0   \n",
       "163        Henan        China  2020-01-22        5.0     0.0        0.0   \n",
       "184        Hubei        China  2020-01-22      444.0     0.0        0.0   \n",
       "195        Hunan        China  2020-01-22        4.0     0.0        0.0   \n",
       "228        Japan        Japan  2020-01-22        2.0     0.0        0.0   \n",
       "239      Jiangsu        China  2020-01-22        1.0     0.0        0.0   \n",
       "250      Jiangxi        China  2020-01-22        2.0     0.0        0.0   \n",
       "271     Liaoning        China  2020-01-22        2.0     0.0        0.0   \n",
       "283        Macau        China  2020-01-22        1.0     0.0        0.0   \n",
       "316      Ningxia        China  2020-01-22        1.0     0.0        0.0   \n",
       "364     Shandong        China  2020-01-22        2.0     0.0        0.0   \n",
       "375     Shanghai        China  2020-01-22        9.0     0.0        0.0   \n",
       "386       Shanxi        China  2020-01-22        1.0     0.0        0.0   \n",
       "397      Sichuan        China  2020-01-22        5.0     0.0        0.0   \n",
       "419  South Korea  South Korea  2020-01-22        1.0     0.0        0.0   \n",
       "440       Taiwan        China  2020-01-22        1.0     0.0        0.0   \n",
       "452     Thailand     Thailand  2020-01-22        2.0     0.0        0.0   \n",
       "463      Tianjin        China  2020-01-22        4.0     0.0        0.0   \n",
       "500   Washington           US  2020-01-22        1.0     0.0        0.0   \n",
       "520       Yunnan        China  2020-01-22        1.0     0.0        0.0   \n",
       "531     Zhejiang        China  2020-01-22       10.0     0.0        0.0   \n",
       "\n",
       "           lat         lon  \n",
       "0    32.000000  117.000000  \n",
       "22   39.906217  116.391276  \n",
       "53   30.055180  107.874871  \n",
       "77   26.545000  117.842778  \n",
       "98   23.135769  113.198269  \n",
       "109  24.000000  109.000000  \n",
       "120  27.000000  107.000000  \n",
       "131  19.200000  109.600000  \n",
       "142  39.000000  116.000000  \n",
       "163  34.000000  114.000000  \n",
       "184  31.151725  112.878322  \n",
       "195  27.999588  112.009538  \n",
       "228  36.574844  139.239418  \n",
       "239  33.000000  120.000000  \n",
       "250  28.000000  116.000000  \n",
       "271  40.997520  122.995547  \n",
       "283  22.175761  113.551414  \n",
       "316  37.000000  106.000000  \n",
       "364  36.000000  119.000000  \n",
       "375  31.232276  121.469207  \n",
       "386  37.000000  112.000000  \n",
       "397  30.500000  102.500000  \n",
       "419  36.558191  127.940856  \n",
       "440  23.973937  120.982018  \n",
       "452  14.897192  100.832730  \n",
       "463  39.123564  117.198078  \n",
       "500  38.894893  -77.036553  \n",
       "520  25.000000  102.000000  \n",
       "531  29.000000  120.000000  "
      ]
     },
     "execution_count": 14,
     "metadata": {},
     "output_type": "execute_result"
    }
   ],
   "source": [
    "df_22Jan"
   ]
  },
  {
   "cell_type": "code",
   "execution_count": 15,
   "metadata": {
    "collapsed": true
   },
   "outputs": [],
   "source": [
    "# define plotly parameters\n",
    "dates = np.sort(df_22Jan['Date'].unique())\n",
    "data = [go.Scattergeo(\n",
    "            locationmode='country names',\n",
    "            lon = df_22Jan['lon'],lat = df_22Jan['lat'],\n",
    "            text = df_22Jan['Country'] + ', ' + df_22Jan['PS'] +   '-> Deaths: ' + df_22Jan['Deaths'].astype(str) + ' Confirmed: ' + df_22Jan['Confirmed'].astype(str),\n",
    "            mode = 'lines+markers',\n",
    "            marker=dict(size=(df_22Jan['Confirmed'])**(1/1.9)+9,color='red')\n",
    "\n",
    ") ]"
   ]
  },
  {
   "cell_type": "code",
   "execution_count": 16,
   "metadata": {
    "collapsed": true
   },
   "outputs": [],
   "source": [
    "# data"
   ]
  },
  {
   "cell_type": "code",
   "execution_count": 17,
   "metadata": {},
   "outputs": [
    {
     "data": {
      "application/vnd.plotly.v1+json": {
       "config": {
        "plotlyServerURL": "https://plot.ly"
       },
       "data": [
        {
         "lat": [
          32,
          39.906217,
          30.05518,
          26.5450001,
          23.135769399999997,
          24,
          27,
          19.2000001,
          39.0000001,
          34.0000001,
          31.15172525,
          27.999587800000004,
          36.5748441,
          33.0000001,
          28,
          40.997519700000005,
          22.175760500000003,
          37.0000001,
          36.0000001,
          31.232275800000004,
          37,
          30.500000099999998,
          36.5581914,
          23.973937399999997,
          14.8971921,
          39.1235635,
          38.894893200000006,
          25,
          29.000000099999998
         ],
         "locationmode": "country names",
         "lon": [
          117,
          116.3912757,
          107.8748712,
          117.84277800000001,
          113.19826880000001,
          109,
          107,
          109.5999999,
          116,
          113.9999999,
          112.87832224656044,
          112.00953799999999,
          139.2394179,
          119.9999999,
          116,
          122.99554690000001,
          113.5514142,
          105.9999999,
          118.9999999,
          121.4692071,
          112,
          102.4999999,
          127.9408564,
          120.9820179,
          100.83273,
          117.1980785,
          -77.0365529,
          102,
          119.9999999
         ],
         "marker": {
          "color": "red",
          "size": [
           10,
           13.010747134936679,
           11.567753262405317,
           10,
           14.555495686424408,
           10.440246537538759,
           10,
           11.074310088892384,
           10,
           11.332807751112796,
           33.73770794778472,
           11.074310088892384,
           10.440246537538759,
           10,
           10.440246537538759,
           10.440246537538759,
           10,
           10,
           10.440246537538759,
           12.178578194214825,
           10,
           11.332807751112796,
           10,
           10,
           10.440246537538759,
           11.074310088892384,
           10,
           10,
           12.359818286283781
          ]
         },
         "mode": "lines+markers",
         "text": [
          "China, Anhui-> Deaths: 0.0 Confirmed: 1.0",
          "China, Beijing-> Deaths: 0.0 Confirmed: 14.0",
          "China, Chongqing-> Deaths: 0.0 Confirmed: 6.0",
          "China, Fujian-> Deaths: 0.0 Confirmed: 1.0",
          "China, Guangdong-> Deaths: 0.0 Confirmed: 26.0",
          "China, Guangxi-> Deaths: 0.0 Confirmed: 2.0",
          "China, Guizhou-> Deaths: 0.0 Confirmed: 1.0",
          "China, Hainan-> Deaths: 0.0 Confirmed: 4.0",
          "China, Hebei-> Deaths: 0.0 Confirmed: 1.0",
          "China, Henan-> Deaths: 0.0 Confirmed: 5.0",
          "China, Hubei-> Deaths: 0.0 Confirmed: 444.0",
          "China, Hunan-> Deaths: 0.0 Confirmed: 4.0",
          "Japan, Japan-> Deaths: 0.0 Confirmed: 2.0",
          "China, Jiangsu-> Deaths: 0.0 Confirmed: 1.0",
          "China, Jiangxi-> Deaths: 0.0 Confirmed: 2.0",
          "China, Liaoning-> Deaths: 0.0 Confirmed: 2.0",
          "China, Macau-> Deaths: 0.0 Confirmed: 1.0",
          "China, Ningxia-> Deaths: 0.0 Confirmed: 1.0",
          "China, Shandong-> Deaths: 0.0 Confirmed: 2.0",
          "China, Shanghai-> Deaths: 0.0 Confirmed: 9.0",
          "China, Shanxi-> Deaths: 0.0 Confirmed: 1.0",
          "China, Sichuan-> Deaths: 0.0 Confirmed: 5.0",
          "South Korea, South Korea-> Deaths: 0.0 Confirmed: 1.0",
          "China, Taiwan-> Deaths: 0.0 Confirmed: 1.0",
          "Thailand, Thailand-> Deaths: 0.0 Confirmed: 2.0",
          "China, Tianjin-> Deaths: 0.0 Confirmed: 4.0",
          "US, Washington-> Deaths: 0.0 Confirmed: 1.0",
          "China, Yunnan-> Deaths: 0.0 Confirmed: 1.0",
          "China, Zhejiang-> Deaths: 0.0 Confirmed: 10.0"
         ],
         "type": "scattergeo"
        }
       ],
       "layout": {
        "geo": {
         "countrycolor": "rgb(128, 128, 128)",
         "landcolor": "rgb(252, 240, 220)",
         "projection": {
          "type": "robinson"
         },
         "showcountries": true,
         "showland": true,
         "showocean": true
        },
        "template": {
         "data": {
          "bar": [
           {
            "error_x": {
             "color": "#2a3f5f"
            },
            "error_y": {
             "color": "#2a3f5f"
            },
            "marker": {
             "line": {
              "color": "#E5ECF6",
              "width": 0.5
             }
            },
            "type": "bar"
           }
          ],
          "barpolar": [
           {
            "marker": {
             "line": {
              "color": "#E5ECF6",
              "width": 0.5
             }
            },
            "type": "barpolar"
           }
          ],
          "carpet": [
           {
            "aaxis": {
             "endlinecolor": "#2a3f5f",
             "gridcolor": "white",
             "linecolor": "white",
             "minorgridcolor": "white",
             "startlinecolor": "#2a3f5f"
            },
            "baxis": {
             "endlinecolor": "#2a3f5f",
             "gridcolor": "white",
             "linecolor": "white",
             "minorgridcolor": "white",
             "startlinecolor": "#2a3f5f"
            },
            "type": "carpet"
           }
          ],
          "choropleth": [
           {
            "colorbar": {
             "outlinewidth": 0,
             "ticks": ""
            },
            "type": "choropleth"
           }
          ],
          "contour": [
           {
            "colorbar": {
             "outlinewidth": 0,
             "ticks": ""
            },
            "colorscale": [
             [
              0,
              "#0d0887"
             ],
             [
              0.1111111111111111,
              "#46039f"
             ],
             [
              0.2222222222222222,
              "#7201a8"
             ],
             [
              0.3333333333333333,
              "#9c179e"
             ],
             [
              0.4444444444444444,
              "#bd3786"
             ],
             [
              0.5555555555555556,
              "#d8576b"
             ],
             [
              0.6666666666666666,
              "#ed7953"
             ],
             [
              0.7777777777777778,
              "#fb9f3a"
             ],
             [
              0.8888888888888888,
              "#fdca26"
             ],
             [
              1,
              "#f0f921"
             ]
            ],
            "type": "contour"
           }
          ],
          "contourcarpet": [
           {
            "colorbar": {
             "outlinewidth": 0,
             "ticks": ""
            },
            "type": "contourcarpet"
           }
          ],
          "heatmap": [
           {
            "colorbar": {
             "outlinewidth": 0,
             "ticks": ""
            },
            "colorscale": [
             [
              0,
              "#0d0887"
             ],
             [
              0.1111111111111111,
              "#46039f"
             ],
             [
              0.2222222222222222,
              "#7201a8"
             ],
             [
              0.3333333333333333,
              "#9c179e"
             ],
             [
              0.4444444444444444,
              "#bd3786"
             ],
             [
              0.5555555555555556,
              "#d8576b"
             ],
             [
              0.6666666666666666,
              "#ed7953"
             ],
             [
              0.7777777777777778,
              "#fb9f3a"
             ],
             [
              0.8888888888888888,
              "#fdca26"
             ],
             [
              1,
              "#f0f921"
             ]
            ],
            "type": "heatmap"
           }
          ],
          "heatmapgl": [
           {
            "colorbar": {
             "outlinewidth": 0,
             "ticks": ""
            },
            "colorscale": [
             [
              0,
              "#0d0887"
             ],
             [
              0.1111111111111111,
              "#46039f"
             ],
             [
              0.2222222222222222,
              "#7201a8"
             ],
             [
              0.3333333333333333,
              "#9c179e"
             ],
             [
              0.4444444444444444,
              "#bd3786"
             ],
             [
              0.5555555555555556,
              "#d8576b"
             ],
             [
              0.6666666666666666,
              "#ed7953"
             ],
             [
              0.7777777777777778,
              "#fb9f3a"
             ],
             [
              0.8888888888888888,
              "#fdca26"
             ],
             [
              1,
              "#f0f921"
             ]
            ],
            "type": "heatmapgl"
           }
          ],
          "histogram": [
           {
            "marker": {
             "colorbar": {
              "outlinewidth": 0,
              "ticks": ""
             }
            },
            "type": "histogram"
           }
          ],
          "histogram2d": [
           {
            "colorbar": {
             "outlinewidth": 0,
             "ticks": ""
            },
            "colorscale": [
             [
              0,
              "#0d0887"
             ],
             [
              0.1111111111111111,
              "#46039f"
             ],
             [
              0.2222222222222222,
              "#7201a8"
             ],
             [
              0.3333333333333333,
              "#9c179e"
             ],
             [
              0.4444444444444444,
              "#bd3786"
             ],
             [
              0.5555555555555556,
              "#d8576b"
             ],
             [
              0.6666666666666666,
              "#ed7953"
             ],
             [
              0.7777777777777778,
              "#fb9f3a"
             ],
             [
              0.8888888888888888,
              "#fdca26"
             ],
             [
              1,
              "#f0f921"
             ]
            ],
            "type": "histogram2d"
           }
          ],
          "histogram2dcontour": [
           {
            "colorbar": {
             "outlinewidth": 0,
             "ticks": ""
            },
            "colorscale": [
             [
              0,
              "#0d0887"
             ],
             [
              0.1111111111111111,
              "#46039f"
             ],
             [
              0.2222222222222222,
              "#7201a8"
             ],
             [
              0.3333333333333333,
              "#9c179e"
             ],
             [
              0.4444444444444444,
              "#bd3786"
             ],
             [
              0.5555555555555556,
              "#d8576b"
             ],
             [
              0.6666666666666666,
              "#ed7953"
             ],
             [
              0.7777777777777778,
              "#fb9f3a"
             ],
             [
              0.8888888888888888,
              "#fdca26"
             ],
             [
              1,
              "#f0f921"
             ]
            ],
            "type": "histogram2dcontour"
           }
          ],
          "mesh3d": [
           {
            "colorbar": {
             "outlinewidth": 0,
             "ticks": ""
            },
            "type": "mesh3d"
           }
          ],
          "parcoords": [
           {
            "line": {
             "colorbar": {
              "outlinewidth": 0,
              "ticks": ""
             }
            },
            "type": "parcoords"
           }
          ],
          "scatter": [
           {
            "marker": {
             "colorbar": {
              "outlinewidth": 0,
              "ticks": ""
             }
            },
            "type": "scatter"
           }
          ],
          "scatter3d": [
           {
            "line": {
             "colorbar": {
              "outlinewidth": 0,
              "ticks": ""
             }
            },
            "marker": {
             "colorbar": {
              "outlinewidth": 0,
              "ticks": ""
             }
            },
            "type": "scatter3d"
           }
          ],
          "scattercarpet": [
           {
            "marker": {
             "colorbar": {
              "outlinewidth": 0,
              "ticks": ""
             }
            },
            "type": "scattercarpet"
           }
          ],
          "scattergeo": [
           {
            "marker": {
             "colorbar": {
              "outlinewidth": 0,
              "ticks": ""
             }
            },
            "type": "scattergeo"
           }
          ],
          "scattergl": [
           {
            "marker": {
             "colorbar": {
              "outlinewidth": 0,
              "ticks": ""
             }
            },
            "type": "scattergl"
           }
          ],
          "scattermapbox": [
           {
            "marker": {
             "colorbar": {
              "outlinewidth": 0,
              "ticks": ""
             }
            },
            "type": "scattermapbox"
           }
          ],
          "scatterpolar": [
           {
            "marker": {
             "colorbar": {
              "outlinewidth": 0,
              "ticks": ""
             }
            },
            "type": "scatterpolar"
           }
          ],
          "scatterpolargl": [
           {
            "marker": {
             "colorbar": {
              "outlinewidth": 0,
              "ticks": ""
             }
            },
            "type": "scatterpolargl"
           }
          ],
          "scatterternary": [
           {
            "marker": {
             "colorbar": {
              "outlinewidth": 0,
              "ticks": ""
             }
            },
            "type": "scatterternary"
           }
          ],
          "surface": [
           {
            "colorbar": {
             "outlinewidth": 0,
             "ticks": ""
            },
            "colorscale": [
             [
              0,
              "#0d0887"
             ],
             [
              0.1111111111111111,
              "#46039f"
             ],
             [
              0.2222222222222222,
              "#7201a8"
             ],
             [
              0.3333333333333333,
              "#9c179e"
             ],
             [
              0.4444444444444444,
              "#bd3786"
             ],
             [
              0.5555555555555556,
              "#d8576b"
             ],
             [
              0.6666666666666666,
              "#ed7953"
             ],
             [
              0.7777777777777778,
              "#fb9f3a"
             ],
             [
              0.8888888888888888,
              "#fdca26"
             ],
             [
              1,
              "#f0f921"
             ]
            ],
            "type": "surface"
           }
          ],
          "table": [
           {
            "cells": {
             "fill": {
              "color": "#EBF0F8"
             },
             "line": {
              "color": "white"
             }
            },
            "header": {
             "fill": {
              "color": "#C8D4E3"
             },
             "line": {
              "color": "white"
             }
            },
            "type": "table"
           }
          ]
         },
         "layout": {
          "annotationdefaults": {
           "arrowcolor": "#2a3f5f",
           "arrowhead": 0,
           "arrowwidth": 1
          },
          "colorscale": {
           "diverging": [
            [
             0,
             "#8e0152"
            ],
            [
             0.1,
             "#c51b7d"
            ],
            [
             0.2,
             "#de77ae"
            ],
            [
             0.3,
             "#f1b6da"
            ],
            [
             0.4,
             "#fde0ef"
            ],
            [
             0.5,
             "#f7f7f7"
            ],
            [
             0.6,
             "#e6f5d0"
            ],
            [
             0.7,
             "#b8e186"
            ],
            [
             0.8,
             "#7fbc41"
            ],
            [
             0.9,
             "#4d9221"
            ],
            [
             1,
             "#276419"
            ]
           ],
           "sequential": [
            [
             0,
             "#0d0887"
            ],
            [
             0.1111111111111111,
             "#46039f"
            ],
            [
             0.2222222222222222,
             "#7201a8"
            ],
            [
             0.3333333333333333,
             "#9c179e"
            ],
            [
             0.4444444444444444,
             "#bd3786"
            ],
            [
             0.5555555555555556,
             "#d8576b"
            ],
            [
             0.6666666666666666,
             "#ed7953"
            ],
            [
             0.7777777777777778,
             "#fb9f3a"
            ],
            [
             0.8888888888888888,
             "#fdca26"
            ],
            [
             1,
             "#f0f921"
            ]
           ],
           "sequentialminus": [
            [
             0,
             "#0d0887"
            ],
            [
             0.1111111111111111,
             "#46039f"
            ],
            [
             0.2222222222222222,
             "#7201a8"
            ],
            [
             0.3333333333333333,
             "#9c179e"
            ],
            [
             0.4444444444444444,
             "#bd3786"
            ],
            [
             0.5555555555555556,
             "#d8576b"
            ],
            [
             0.6666666666666666,
             "#ed7953"
            ],
            [
             0.7777777777777778,
             "#fb9f3a"
            ],
            [
             0.8888888888888888,
             "#fdca26"
            ],
            [
             1,
             "#f0f921"
            ]
           ]
          },
          "colorway": [
           "#636efa",
           "#EF553B",
           "#00cc96",
           "#ab63fa",
           "#FFA15A",
           "#19d3f3",
           "#FF6692",
           "#B6E880",
           "#FF97FF",
           "#FECB52"
          ],
          "font": {
           "color": "#2a3f5f"
          },
          "geo": {
           "bgcolor": "white",
           "lakecolor": "white",
           "landcolor": "#E5ECF6",
           "showlakes": true,
           "showland": true,
           "subunitcolor": "white"
          },
          "hoverlabel": {
           "align": "left"
          },
          "hovermode": "closest",
          "mapbox": {
           "style": "light"
          },
          "paper_bgcolor": "white",
          "plot_bgcolor": "#E5ECF6",
          "polar": {
           "angularaxis": {
            "gridcolor": "white",
            "linecolor": "white",
            "ticks": ""
           },
           "bgcolor": "#E5ECF6",
           "radialaxis": {
            "gridcolor": "white",
            "linecolor": "white",
            "ticks": ""
           }
          },
          "scene": {
           "xaxis": {
            "backgroundcolor": "#E5ECF6",
            "gridcolor": "white",
            "gridwidth": 2,
            "linecolor": "white",
            "showbackground": true,
            "ticks": "",
            "zerolinecolor": "white"
           },
           "yaxis": {
            "backgroundcolor": "#E5ECF6",
            "gridcolor": "white",
            "gridwidth": 2,
            "linecolor": "white",
            "showbackground": true,
            "ticks": "",
            "zerolinecolor": "white"
           },
           "zaxis": {
            "backgroundcolor": "#E5ECF6",
            "gridcolor": "white",
            "gridwidth": 2,
            "linecolor": "white",
            "showbackground": true,
            "ticks": "",
            "zerolinecolor": "white"
           }
          },
          "shapedefaults": {
           "line": {
            "color": "#2a3f5f"
           }
          },
          "ternary": {
           "aaxis": {
            "gridcolor": "white",
            "linecolor": "white",
            "ticks": ""
           },
           "baxis": {
            "gridcolor": "white",
            "linecolor": "white",
            "ticks": ""
           },
           "bgcolor": "#E5ECF6",
           "caxis": {
            "gridcolor": "white",
            "linecolor": "white",
            "ticks": ""
           }
          },
          "title": {
           "x": 0.05
          },
          "xaxis": {
           "automargin": true,
           "gridcolor": "white",
           "linecolor": "white",
           "ticks": "",
           "zerolinecolor": "white",
           "zerolinewidth": 2
          },
          "yaxis": {
           "automargin": true,
           "gridcolor": "white",
           "linecolor": "white",
           "ticks": "",
           "zerolinecolor": "white",
           "zerolinewidth": 2
          }
         }
        },
        "title": {
         "text": "[Day -1]Detection of Corona Virus 22nd January",
         "x": 0.5,
         "xanchor": "center",
         "y": 0.98,
         "yanchor": "top"
        }
       }
      },
      "text/html": [
       "<div>\n",
       "        \n",
       "        \n",
       "            <div id=\"9e8c38b5-364b-498f-955a-ce11f6e274ad\" class=\"plotly-graph-div\" style=\"height:525px; width:100%;\"></div>\n",
       "            <script type=\"text/javascript\">\n",
       "                require([\"plotly\"], function(Plotly) {\n",
       "                    window.PLOTLYENV=window.PLOTLYENV || {};\n",
       "                    \n",
       "                if (document.getElementById(\"9e8c38b5-364b-498f-955a-ce11f6e274ad\")) {\n",
       "                    Plotly.newPlot(\n",
       "                        '9e8c38b5-364b-498f-955a-ce11f6e274ad',\n",
       "                        [{\"lat\": [32.0, 39.906217, 30.05518, 26.5450001, 23.135769399999997, 24.0, 27.0, 19.2000001, 39.0000001, 34.0000001, 31.15172525, 27.999587800000004, 36.5748441, 33.0000001, 28.0, 40.997519700000005, 22.175760500000003, 37.0000001, 36.0000001, 31.232275800000004, 37.0, 30.500000099999998, 36.5581914, 23.973937399999997, 14.8971921, 39.1235635, 38.894893200000006, 25.0, 29.000000099999998], \"locationmode\": \"country names\", \"lon\": [117.0, 116.3912757, 107.8748712, 117.84277800000001, 113.19826880000001, 109.0, 107.0, 109.5999999, 116.0, 113.9999999, 112.87832224656044, 112.00953799999999, 139.2394179, 119.9999999, 116.0, 122.99554690000001, 113.5514142, 105.9999999, 118.9999999, 121.4692071, 112.0, 102.4999999, 127.9408564, 120.9820179, 100.83273, 117.1980785, -77.0365529, 102.0, 119.9999999], \"marker\": {\"color\": \"red\", \"size\": [10.0, 13.010747134936679, 11.567753262405317, 10.0, 14.555495686424408, 10.440246537538759, 10.0, 11.074310088892384, 10.0, 11.332807751112796, 33.73770794778472, 11.074310088892384, 10.440246537538759, 10.0, 10.440246537538759, 10.440246537538759, 10.0, 10.0, 10.440246537538759, 12.178578194214825, 10.0, 11.332807751112796, 10.0, 10.0, 10.440246537538759, 11.074310088892384, 10.0, 10.0, 12.359818286283781]}, \"mode\": \"lines+markers\", \"text\": [\"China, Anhui-> Deaths: 0.0 Confirmed: 1.0\", \"China, Beijing-> Deaths: 0.0 Confirmed: 14.0\", \"China, Chongqing-> Deaths: 0.0 Confirmed: 6.0\", \"China, Fujian-> Deaths: 0.0 Confirmed: 1.0\", \"China, Guangdong-> Deaths: 0.0 Confirmed: 26.0\", \"China, Guangxi-> Deaths: 0.0 Confirmed: 2.0\", \"China, Guizhou-> Deaths: 0.0 Confirmed: 1.0\", \"China, Hainan-> Deaths: 0.0 Confirmed: 4.0\", \"China, Hebei-> Deaths: 0.0 Confirmed: 1.0\", \"China, Henan-> Deaths: 0.0 Confirmed: 5.0\", \"China, Hubei-> Deaths: 0.0 Confirmed: 444.0\", \"China, Hunan-> Deaths: 0.0 Confirmed: 4.0\", \"Japan, Japan-> Deaths: 0.0 Confirmed: 2.0\", \"China, Jiangsu-> Deaths: 0.0 Confirmed: 1.0\", \"China, Jiangxi-> Deaths: 0.0 Confirmed: 2.0\", \"China, Liaoning-> Deaths: 0.0 Confirmed: 2.0\", \"China, Macau-> Deaths: 0.0 Confirmed: 1.0\", \"China, Ningxia-> Deaths: 0.0 Confirmed: 1.0\", \"China, Shandong-> Deaths: 0.0 Confirmed: 2.0\", \"China, Shanghai-> Deaths: 0.0 Confirmed: 9.0\", \"China, Shanxi-> Deaths: 0.0 Confirmed: 1.0\", \"China, Sichuan-> Deaths: 0.0 Confirmed: 5.0\", \"South Korea, South Korea-> Deaths: 0.0 Confirmed: 1.0\", \"China, Taiwan-> Deaths: 0.0 Confirmed: 1.0\", \"Thailand, Thailand-> Deaths: 0.0 Confirmed: 2.0\", \"China, Tianjin-> Deaths: 0.0 Confirmed: 4.0\", \"US, Washington-> Deaths: 0.0 Confirmed: 1.0\", \"China, Yunnan-> Deaths: 0.0 Confirmed: 1.0\", \"China, Zhejiang-> Deaths: 0.0 Confirmed: 10.0\"], \"type\": \"scattergeo\"}],\n",
       "                        {\"geo\": {\"countrycolor\": \"rgb(128, 128, 128)\", \"landcolor\": \"rgb(252, 240, 220)\", \"projection\": {\"type\": \"robinson\"}, \"showcountries\": true, \"showland\": true, \"showocean\": true}, \"template\": {\"data\": {\"bar\": [{\"error_x\": {\"color\": \"#2a3f5f\"}, \"error_y\": {\"color\": \"#2a3f5f\"}, \"marker\": {\"line\": {\"color\": \"#E5ECF6\", \"width\": 0.5}}, \"type\": \"bar\"}], \"barpolar\": [{\"marker\": {\"line\": {\"color\": \"#E5ECF6\", \"width\": 0.5}}, \"type\": \"barpolar\"}], \"carpet\": [{\"aaxis\": {\"endlinecolor\": \"#2a3f5f\", \"gridcolor\": \"white\", \"linecolor\": \"white\", \"minorgridcolor\": \"white\", \"startlinecolor\": \"#2a3f5f\"}, \"baxis\": {\"endlinecolor\": \"#2a3f5f\", \"gridcolor\": \"white\", \"linecolor\": \"white\", \"minorgridcolor\": \"white\", \"startlinecolor\": \"#2a3f5f\"}, \"type\": \"carpet\"}], \"choropleth\": [{\"colorbar\": {\"outlinewidth\": 0, \"ticks\": \"\"}, \"type\": \"choropleth\"}], \"contour\": [{\"colorbar\": {\"outlinewidth\": 0, \"ticks\": \"\"}, \"colorscale\": [[0.0, \"#0d0887\"], [0.1111111111111111, \"#46039f\"], [0.2222222222222222, \"#7201a8\"], [0.3333333333333333, \"#9c179e\"], [0.4444444444444444, \"#bd3786\"], [0.5555555555555556, \"#d8576b\"], [0.6666666666666666, \"#ed7953\"], [0.7777777777777778, \"#fb9f3a\"], [0.8888888888888888, \"#fdca26\"], [1.0, \"#f0f921\"]], \"type\": \"contour\"}], \"contourcarpet\": [{\"colorbar\": {\"outlinewidth\": 0, \"ticks\": \"\"}, \"type\": \"contourcarpet\"}], \"heatmap\": [{\"colorbar\": {\"outlinewidth\": 0, \"ticks\": \"\"}, \"colorscale\": [[0.0, \"#0d0887\"], [0.1111111111111111, \"#46039f\"], [0.2222222222222222, \"#7201a8\"], [0.3333333333333333, \"#9c179e\"], [0.4444444444444444, \"#bd3786\"], [0.5555555555555556, \"#d8576b\"], [0.6666666666666666, \"#ed7953\"], [0.7777777777777778, \"#fb9f3a\"], [0.8888888888888888, \"#fdca26\"], [1.0, \"#f0f921\"]], \"type\": \"heatmap\"}], \"heatmapgl\": [{\"colorbar\": {\"outlinewidth\": 0, \"ticks\": \"\"}, \"colorscale\": [[0.0, \"#0d0887\"], [0.1111111111111111, \"#46039f\"], [0.2222222222222222, \"#7201a8\"], [0.3333333333333333, \"#9c179e\"], [0.4444444444444444, \"#bd3786\"], [0.5555555555555556, \"#d8576b\"], [0.6666666666666666, \"#ed7953\"], [0.7777777777777778, \"#fb9f3a\"], [0.8888888888888888, \"#fdca26\"], [1.0, \"#f0f921\"]], \"type\": \"heatmapgl\"}], \"histogram\": [{\"marker\": {\"colorbar\": {\"outlinewidth\": 0, \"ticks\": \"\"}}, \"type\": \"histogram\"}], \"histogram2d\": [{\"colorbar\": {\"outlinewidth\": 0, \"ticks\": \"\"}, \"colorscale\": [[0.0, \"#0d0887\"], [0.1111111111111111, \"#46039f\"], [0.2222222222222222, \"#7201a8\"], [0.3333333333333333, \"#9c179e\"], [0.4444444444444444, \"#bd3786\"], [0.5555555555555556, \"#d8576b\"], [0.6666666666666666, \"#ed7953\"], [0.7777777777777778, \"#fb9f3a\"], [0.8888888888888888, \"#fdca26\"], [1.0, \"#f0f921\"]], \"type\": \"histogram2d\"}], \"histogram2dcontour\": [{\"colorbar\": {\"outlinewidth\": 0, \"ticks\": \"\"}, \"colorscale\": [[0.0, \"#0d0887\"], [0.1111111111111111, \"#46039f\"], [0.2222222222222222, \"#7201a8\"], [0.3333333333333333, \"#9c179e\"], [0.4444444444444444, \"#bd3786\"], [0.5555555555555556, \"#d8576b\"], [0.6666666666666666, \"#ed7953\"], [0.7777777777777778, \"#fb9f3a\"], [0.8888888888888888, \"#fdca26\"], [1.0, \"#f0f921\"]], \"type\": \"histogram2dcontour\"}], \"mesh3d\": [{\"colorbar\": {\"outlinewidth\": 0, \"ticks\": \"\"}, \"type\": \"mesh3d\"}], \"parcoords\": [{\"line\": {\"colorbar\": {\"outlinewidth\": 0, \"ticks\": \"\"}}, \"type\": \"parcoords\"}], \"scatter\": [{\"marker\": {\"colorbar\": {\"outlinewidth\": 0, \"ticks\": \"\"}}, \"type\": \"scatter\"}], \"scatter3d\": [{\"line\": {\"colorbar\": {\"outlinewidth\": 0, \"ticks\": \"\"}}, \"marker\": {\"colorbar\": {\"outlinewidth\": 0, \"ticks\": \"\"}}, \"type\": \"scatter3d\"}], \"scattercarpet\": [{\"marker\": {\"colorbar\": {\"outlinewidth\": 0, \"ticks\": \"\"}}, \"type\": \"scattercarpet\"}], \"scattergeo\": [{\"marker\": {\"colorbar\": {\"outlinewidth\": 0, \"ticks\": \"\"}}, \"type\": \"scattergeo\"}], \"scattergl\": [{\"marker\": {\"colorbar\": {\"outlinewidth\": 0, \"ticks\": \"\"}}, \"type\": \"scattergl\"}], \"scattermapbox\": [{\"marker\": {\"colorbar\": {\"outlinewidth\": 0, \"ticks\": \"\"}}, \"type\": \"scattermapbox\"}], \"scatterpolar\": [{\"marker\": {\"colorbar\": {\"outlinewidth\": 0, \"ticks\": \"\"}}, \"type\": \"scatterpolar\"}], \"scatterpolargl\": [{\"marker\": {\"colorbar\": {\"outlinewidth\": 0, \"ticks\": \"\"}}, \"type\": \"scatterpolargl\"}], \"scatterternary\": [{\"marker\": {\"colorbar\": {\"outlinewidth\": 0, \"ticks\": \"\"}}, \"type\": \"scatterternary\"}], \"surface\": [{\"colorbar\": {\"outlinewidth\": 0, \"ticks\": \"\"}, \"colorscale\": [[0.0, \"#0d0887\"], [0.1111111111111111, \"#46039f\"], [0.2222222222222222, \"#7201a8\"], [0.3333333333333333, \"#9c179e\"], [0.4444444444444444, \"#bd3786\"], [0.5555555555555556, \"#d8576b\"], [0.6666666666666666, \"#ed7953\"], [0.7777777777777778, \"#fb9f3a\"], [0.8888888888888888, \"#fdca26\"], [1.0, \"#f0f921\"]], \"type\": \"surface\"}], \"table\": [{\"cells\": {\"fill\": {\"color\": \"#EBF0F8\"}, \"line\": {\"color\": \"white\"}}, \"header\": {\"fill\": {\"color\": \"#C8D4E3\"}, \"line\": {\"color\": \"white\"}}, \"type\": \"table\"}]}, \"layout\": {\"annotationdefaults\": {\"arrowcolor\": \"#2a3f5f\", \"arrowhead\": 0, \"arrowwidth\": 1}, \"colorscale\": {\"diverging\": [[0, \"#8e0152\"], [0.1, \"#c51b7d\"], [0.2, \"#de77ae\"], [0.3, \"#f1b6da\"], [0.4, \"#fde0ef\"], [0.5, \"#f7f7f7\"], [0.6, \"#e6f5d0\"], [0.7, \"#b8e186\"], [0.8, \"#7fbc41\"], [0.9, \"#4d9221\"], [1, \"#276419\"]], \"sequential\": [[0.0, \"#0d0887\"], [0.1111111111111111, \"#46039f\"], [0.2222222222222222, \"#7201a8\"], [0.3333333333333333, \"#9c179e\"], [0.4444444444444444, \"#bd3786\"], [0.5555555555555556, \"#d8576b\"], [0.6666666666666666, \"#ed7953\"], [0.7777777777777778, \"#fb9f3a\"], [0.8888888888888888, \"#fdca26\"], [1.0, \"#f0f921\"]], \"sequentialminus\": [[0.0, \"#0d0887\"], [0.1111111111111111, \"#46039f\"], [0.2222222222222222, \"#7201a8\"], [0.3333333333333333, \"#9c179e\"], [0.4444444444444444, \"#bd3786\"], [0.5555555555555556, \"#d8576b\"], [0.6666666666666666, \"#ed7953\"], [0.7777777777777778, \"#fb9f3a\"], [0.8888888888888888, \"#fdca26\"], [1.0, \"#f0f921\"]]}, \"colorway\": [\"#636efa\", \"#EF553B\", \"#00cc96\", \"#ab63fa\", \"#FFA15A\", \"#19d3f3\", \"#FF6692\", \"#B6E880\", \"#FF97FF\", \"#FECB52\"], \"font\": {\"color\": \"#2a3f5f\"}, \"geo\": {\"bgcolor\": \"white\", \"lakecolor\": \"white\", \"landcolor\": \"#E5ECF6\", \"showlakes\": true, \"showland\": true, \"subunitcolor\": \"white\"}, \"hoverlabel\": {\"align\": \"left\"}, \"hovermode\": \"closest\", \"mapbox\": {\"style\": \"light\"}, \"paper_bgcolor\": \"white\", \"plot_bgcolor\": \"#E5ECF6\", \"polar\": {\"angularaxis\": {\"gridcolor\": \"white\", \"linecolor\": \"white\", \"ticks\": \"\"}, \"bgcolor\": \"#E5ECF6\", \"radialaxis\": {\"gridcolor\": \"white\", \"linecolor\": \"white\", \"ticks\": \"\"}}, \"scene\": {\"xaxis\": {\"backgroundcolor\": \"#E5ECF6\", \"gridcolor\": \"white\", \"gridwidth\": 2, \"linecolor\": \"white\", \"showbackground\": true, \"ticks\": \"\", \"zerolinecolor\": \"white\"}, \"yaxis\": {\"backgroundcolor\": \"#E5ECF6\", \"gridcolor\": \"white\", \"gridwidth\": 2, \"linecolor\": \"white\", \"showbackground\": true, \"ticks\": \"\", \"zerolinecolor\": \"white\"}, \"zaxis\": {\"backgroundcolor\": \"#E5ECF6\", \"gridcolor\": \"white\", \"gridwidth\": 2, \"linecolor\": \"white\", \"showbackground\": true, \"ticks\": \"\", \"zerolinecolor\": \"white\"}}, \"shapedefaults\": {\"line\": {\"color\": \"#2a3f5f\"}}, \"ternary\": {\"aaxis\": {\"gridcolor\": \"white\", \"linecolor\": \"white\", \"ticks\": \"\"}, \"baxis\": {\"gridcolor\": \"white\", \"linecolor\": \"white\", \"ticks\": \"\"}, \"bgcolor\": \"#E5ECF6\", \"caxis\": {\"gridcolor\": \"white\", \"linecolor\": \"white\", \"ticks\": \"\"}}, \"title\": {\"x\": 0.05}, \"xaxis\": {\"automargin\": true, \"gridcolor\": \"white\", \"linecolor\": \"white\", \"ticks\": \"\", \"zerolinecolor\": \"white\", \"zerolinewidth\": 2}, \"yaxis\": {\"automargin\": true, \"gridcolor\": \"white\", \"linecolor\": \"white\", \"ticks\": \"\", \"zerolinecolor\": \"white\", \"zerolinewidth\": 2}}}, \"title\": {\"text\": \"[Day -1]Detection of Corona Virus 22nd January\", \"x\": 0.5, \"xanchor\": \"center\", \"y\": 0.98, \"yanchor\": \"top\"}},\n",
       "                        {\"responsive\": true}\n",
       "                    ).then(function(){\n",
       "                            \n",
       "var gd = document.getElementById('9e8c38b5-364b-498f-955a-ce11f6e274ad');\n",
       "var x = new MutationObserver(function (mutations, observer) {{\n",
       "        var display = window.getComputedStyle(gd).display;\n",
       "        if (!display || display === 'none') {{\n",
       "            console.log([gd, 'removed!']);\n",
       "            Plotly.purge(gd);\n",
       "            observer.disconnect();\n",
       "        }}\n",
       "}});\n",
       "\n",
       "// Listen for the removal of the full notebook cells\n",
       "var notebookContainer = gd.closest('#notebook-container');\n",
       "if (notebookContainer) {{\n",
       "    x.observe(notebookContainer, {childList: true});\n",
       "}}\n",
       "\n",
       "// Listen for the clearing of the current output cell\n",
       "var outputEl = gd.closest('.output');\n",
       "if (outputEl) {{\n",
       "    x.observe(outputEl, {childList: true});\n",
       "}}\n",
       "\n",
       "                        })\n",
       "                };\n",
       "                });\n",
       "            </script>\n",
       "        </div>"
      ]
     },
     "metadata": {},
     "output_type": "display_data"
    }
   ],
   "source": [
    "# visualize the plot\n",
    "fig = go.Figure(\n",
    "    data=data[0],\n",
    "    layout=go.Layout(\n",
    "        title = {'text': f'[Day -1]Detection of Corona Virus 22nd January','y':0.98,'x':0.5,'xanchor': 'center','yanchor': 'top'},\n",
    "        geo = dict(projection_type='robinson',showland = True,landcolor = \"rgb(252, 240, 220)\",showcountries=True,showocean=True,countrycolor = \"rgb(128, 128, 128)\",\n",
    "            )),\n",
    "    \n",
    "    frames=[go.Frame(data=dt, layout=go.Layout(title={'text': f'Corona Virus','y':0.98,'x':0.5,'xanchor': 'center','yanchor': 'top'}))for dt,date in zip(data[1:],dates[1:])])\n",
    "\n",
    "fig.show()"
   ]
  },
  {
   "cell_type": "markdown",
   "metadata": {},
   "source": [
    "From the above plot we can simply observe that __Hubei__ is the place in china had the maximum number of confirmend cases of Coronavirus.\n",
    "\n",
    "- In US there is only 1 reported case."
   ]
  },
  {
   "cell_type": "markdown",
   "metadata": {},
   "source": [
    "<img src=\"https://raw.githubusercontent.com/insaid2018/Term-2/master/images/day1.png\" height=450 width=550/>"
   ]
  },
  {
   "cell_type": "markdown",
   "metadata": {},
   "source": [
    "Almost 99% reported coronavirus cases are from CHINA.\n",
    "- From the Patients past travel data.All the patients who are not from china had recent past travel record to china.\n",
    "- And within china most of the confirmed cases are from a place called __Hubei__."
   ]
  },
  {
   "cell_type": "markdown",
   "metadata": {},
   "source": [
    "<a id = Section52></a>\n",
    "### 5.2 Current spread of coronavirus through out the world"
   ]
  },
  {
   "cell_type": "code",
   "execution_count": 18,
   "metadata": {
    "collapsed": true
   },
   "outputs": [],
   "source": [
    "# plot the world data for 22nd January.\n",
    "\n",
    "df_2ndFeb=df[df['Date']=='2020-02-02']"
   ]
  },
  {
   "cell_type": "code",
   "execution_count": 19,
   "metadata": {},
   "outputs": [
    {
     "data": {
      "text/html": [
       "<div>\n",
       "<style scoped>\n",
       "    .dataframe tbody tr th:only-of-type {\n",
       "        vertical-align: middle;\n",
       "    }\n",
       "\n",
       "    .dataframe tbody tr th {\n",
       "        vertical-align: top;\n",
       "    }\n",
       "\n",
       "    .dataframe thead th {\n",
       "        text-align: right;\n",
       "    }\n",
       "</style>\n",
       "<table border=\"1\" class=\"dataframe\">\n",
       "  <thead>\n",
       "    <tr style=\"text-align: right;\">\n",
       "      <th></th>\n",
       "      <th>PS</th>\n",
       "      <th>Country</th>\n",
       "      <th>Date</th>\n",
       "      <th>Confirmed</th>\n",
       "      <th>Deaths</th>\n",
       "      <th>Recovered</th>\n",
       "      <th>lat</th>\n",
       "      <th>lon</th>\n",
       "    </tr>\n",
       "  </thead>\n",
       "  <tbody>\n",
       "    <tr>\n",
       "      <th>10</th>\n",
       "      <td>Anhui</td>\n",
       "      <td>China</td>\n",
       "      <td>2020-02-02</td>\n",
       "      <td>408.0</td>\n",
       "      <td>0.0</td>\n",
       "      <td>7.0</td>\n",
       "      <td>32.000000</td>\n",
       "      <td>117.000000</td>\n",
       "    </tr>\n",
       "    <tr>\n",
       "      <th>32</th>\n",
       "      <td>Beijing</td>\n",
       "      <td>China</td>\n",
       "      <td>2020-02-02</td>\n",
       "      <td>191.0</td>\n",
       "      <td>1.0</td>\n",
       "      <td>9.0</td>\n",
       "      <td>39.906217</td>\n",
       "      <td>116.391276</td>\n",
       "    </tr>\n",
       "    <tr>\n",
       "      <th>33</th>\n",
       "      <td>Boston, MA</td>\n",
       "      <td>US</td>\n",
       "      <td>2020-02-02</td>\n",
       "      <td>1.0</td>\n",
       "      <td>0.0</td>\n",
       "      <td>0.0</td>\n",
       "      <td>42.360253</td>\n",
       "      <td>-71.058291</td>\n",
       "    </tr>\n",
       "    <tr>\n",
       "      <th>38</th>\n",
       "      <td>British Columbia</td>\n",
       "      <td>Canada</td>\n",
       "      <td>2020-02-02</td>\n",
       "      <td>1.0</td>\n",
       "      <td>0.0</td>\n",
       "      <td>0.0</td>\n",
       "      <td>55.001251</td>\n",
       "      <td>-125.002441</td>\n",
       "    </tr>\n",
       "    <tr>\n",
       "      <th>50</th>\n",
       "      <td>Cambodia</td>\n",
       "      <td>Cambodia</td>\n",
       "      <td>2020-02-02</td>\n",
       "      <td>1.0</td>\n",
       "      <td>0.0</td>\n",
       "      <td>0.0</td>\n",
       "      <td>13.506639</td>\n",
       "      <td>104.869423</td>\n",
       "    </tr>\n",
       "  </tbody>\n",
       "</table>\n",
       "</div>"
      ],
      "text/plain": [
       "                  PS   Country        Date  Confirmed  Deaths  Recovered  \\\n",
       "10             Anhui     China  2020-02-02      408.0     0.0        7.0   \n",
       "32           Beijing     China  2020-02-02      191.0     1.0        9.0   \n",
       "33        Boston, MA        US  2020-02-02        1.0     0.0        0.0   \n",
       "38  British Columbia    Canada  2020-02-02        1.0     0.0        0.0   \n",
       "50          Cambodia  Cambodia  2020-02-02        1.0     0.0        0.0   \n",
       "\n",
       "          lat         lon  \n",
       "10  32.000000  117.000000  \n",
       "32  39.906217  116.391276  \n",
       "33  42.360253  -71.058291  \n",
       "38  55.001251 -125.002441  \n",
       "50  13.506639  104.869423  "
      ]
     },
     "execution_count": 19,
     "metadata": {},
     "output_type": "execute_result"
    }
   ],
   "source": [
    "df_2ndFeb.head()"
   ]
  },
  {
   "cell_type": "code",
   "execution_count": 20,
   "metadata": {
    "collapsed": true
   },
   "outputs": [],
   "source": [
    "dates = np.sort(df_2ndFeb['Date'].unique())\n",
    "data = [go.Scattergeo(\n",
    "            locationmode='country names',\n",
    "            lon = df_2ndFeb['lon'],lat = df_2ndFeb['lat'],\n",
    "            text = df_2ndFeb['Country'] + ', ' + df_2ndFeb['PS'] +   '-> Deaths: ' + df_2ndFeb['Deaths'].astype(str) + ' Confirmed: ' + df_2ndFeb['Confirmed'].astype(str),\n",
    "            mode = 'lines+markers',\n",
    "#             marker = dict(size = (df_22Jan['Confirmed'])**(1/2.7)+9,opacity = 0.6,reversescale = True,\n",
    "#                 autocolorscale = False,line = dict(width=0.5,color='rgba(250, 0, 250)'),cmin=0,color=df_22Jan['Deaths'],\n",
    "#                 cmax=df_22Jan['Deaths'].max(),\n",
    "#                 colorbar_title=\"Number of Deaths\"\n",
    "    \n",
    "                          \n",
    "#             )\n",
    "            marker=dict(size=(df_2ndFeb['Confirmed'])**(1/2.9)+9,color='red')\n",
    "\n",
    ") ]"
   ]
  },
  {
   "cell_type": "code",
   "execution_count": null,
   "metadata": {
    "collapsed": true
   },
   "outputs": [],
   "source": []
  },
  {
   "cell_type": "code",
   "execution_count": 33,
   "metadata": {},
   "outputs": [
    {
     "data": {
      "application/vnd.plotly.v1+json": {
       "config": {
        "plotlyServerURL": "https://plot.ly"
       },
       "data": [
        {
         "lat": [
          32,
          39.906217,
          30.05518,
          26.5450001,
          23.135769399999997,
          24,
          27,
          19.2000001,
          39.0000001,
          34.0000001,
          31.15172525,
          27.999587800000004,
          36.5748441,
          33.0000001,
          28,
          40.997519700000005,
          22.175760500000003,
          37.0000001,
          36.0000001,
          31.232275800000004,
          37,
          30.500000099999998,
          36.5581914,
          23.973937399999997,
          14.8971921,
          39.1235635,
          38.894893200000006,
          25,
          29.000000099999998
         ],
         "locationmode": "country names",
         "lon": [
          117,
          116.3912757,
          107.8748712,
          117.84277800000001,
          113.19826880000001,
          109,
          107,
          109.5999999,
          116,
          113.9999999,
          112.87832224656044,
          112.00953799999999,
          139.2394179,
          119.9999999,
          116,
          122.99554690000001,
          113.5514142,
          105.9999999,
          118.9999999,
          121.4692071,
          112,
          102.4999999,
          127.9408564,
          120.9820179,
          100.83273,
          117.1980785,
          -77.0365529,
          102,
          119.9999999
         ],
         "marker": {
          "autocolorscale": false,
          "cmax": 350,
          "cmin": 0,
          "color": [
           0,
           0,
           0,
           0,
           0,
           0,
           0,
           0,
           0,
           0,
           0,
           0,
           0,
           0,
           0,
           0,
           0,
           0,
           0,
           0,
           0,
           0,
           0,
           0,
           0,
           0,
           0,
           0,
           0
          ],
          "colorbar": {
           "title": {
            "text": "Number of Deaths"
           }
          },
          "line": {
           "color": "rgba(0, 0, 0)",
           "width": 0.5
          },
          "reversescale": true,
          "size": [
           4,
           5.657613768320726,
           4.94179852477375,
           4,
           6.34244448653463,
           4.29268464756894,
           4,
           4.671033598060435,
           4,
           4.815004806125491,
           12.561195780665512,
           4.671033598060435,
           4.29268464756894,
           4,
           4.29268464756894,
           4.29268464756894,
           4,
           4,
           4.29268464756894,
           5.256436683972135,
           4,
           4.815004806125491,
           4,
           4,
           4.29268464756894,
           4.671033598060435,
           4,
           4,
           5.346228848142263
          ]
         },
         "mode": "lines+markers",
         "text": [
          "China, Anhui-> Deaths: 0.0 Confirmed: 1.0",
          "China, Beijing-> Deaths: 0.0 Confirmed: 14.0",
          "China, Chongqing-> Deaths: 0.0 Confirmed: 6.0",
          "China, Fujian-> Deaths: 0.0 Confirmed: 1.0",
          "China, Guangdong-> Deaths: 0.0 Confirmed: 26.0",
          "China, Guangxi-> Deaths: 0.0 Confirmed: 2.0",
          "China, Guizhou-> Deaths: 0.0 Confirmed: 1.0",
          "China, Hainan-> Deaths: 0.0 Confirmed: 4.0",
          "China, Hebei-> Deaths: 0.0 Confirmed: 1.0",
          "China, Henan-> Deaths: 0.0 Confirmed: 5.0",
          "China, Hubei-> Deaths: 0.0 Confirmed: 444.0",
          "China, Hunan-> Deaths: 0.0 Confirmed: 4.0",
          "Japan, Japan-> Deaths: 0.0 Confirmed: 2.0",
          "China, Jiangsu-> Deaths: 0.0 Confirmed: 1.0",
          "China, Jiangxi-> Deaths: 0.0 Confirmed: 2.0",
          "China, Liaoning-> Deaths: 0.0 Confirmed: 2.0",
          "China, Macau-> Deaths: 0.0 Confirmed: 1.0",
          "China, Ningxia-> Deaths: 0.0 Confirmed: 1.0",
          "China, Shandong-> Deaths: 0.0 Confirmed: 2.0",
          "China, Shanghai-> Deaths: 0.0 Confirmed: 9.0",
          "China, Shanxi-> Deaths: 0.0 Confirmed: 1.0",
          "China, Sichuan-> Deaths: 0.0 Confirmed: 5.0",
          "South Korea, South Korea-> Deaths: 0.0 Confirmed: 1.0",
          "China, Taiwan-> Deaths: 0.0 Confirmed: 1.0",
          "Thailand, Thailand-> Deaths: 0.0 Confirmed: 2.0",
          "China, Tianjin-> Deaths: 0.0 Confirmed: 4.0",
          "US, Washington-> Deaths: 0.0 Confirmed: 1.0",
          "China, Yunnan-> Deaths: 0.0 Confirmed: 1.0",
          "China, Zhejiang-> Deaths: 0.0 Confirmed: 10.0"
         ],
         "type": "scattergeo"
        }
       ],
       "frames": [
        {
         "data": [
          {
           "lat": [
            32,
            39.906217,
            30.05518,
            26.5450001,
            38.0000001,
            23.135769399999997,
            24,
            27,
            19.2000001,
            39.0000001,
            48.000004700000005,
            34.0000001,
            22.2793278,
            31.15172525,
            27.999587800000004,
            36.5748441,
            33.0000001,
            28,
            42.9995032,
            40.997519700000005,
            22.175760500000003,
            37.0000001,
            36,
            36.0000001,
            31.232275800000004,
            37,
            30.500000099999998,
            1.357107,
            36.5581914,
            23.973937399999997,
            14.8971921,
            39.1235635,
            13.2904027,
            38.894893200000006,
            41.7574769,
            25,
            29.000000099999998
           ],
           "locationmode": "country names",
           "lon": [
            117,
            116.3912757,
            107.8748712,
            117.84277800000001,
            101.9999999,
            113.19826880000001,
            109,
            107,
            109.5999999,
            116,
            127.99999199999999,
            113.9999999,
            114.16281310000001,
            112.87832224656044,
            112.00953799999999,
            139.2394179,
            119.9999999,
            116,
            125.9816054,
            122.99554690000001,
            113.5514142,
            105.9999999,
            109,
            118.9999999,
            121.4692071,
            112,
            102.4999999,
            103.81949920000001,
            127.9408564,
            120.9820179,
            100.83273,
            117.1980785,
            108.42651129999999,
            -77.0365529,
            87.16738423046895,
            102,
            119.9999999
           ],
           "marker": {
            "autocolorscale": false,
            "cmax": 350,
            "cmin": 0,
            "color": [
             0,
             0,
             0,
             0,
             0,
             0,
             0,
             0,
             0,
             1,
             0,
             0,
             0,
             17,
             0,
             0,
             0,
             0,
             0,
             0,
             0,
             0,
             0,
             0,
             0,
             0,
             0,
             0,
             0,
             0,
             0,
             0,
             0,
             0,
             0,
             0,
             0
            ],
            "colorbar": {
             "title": {
              "text": "Number of Deaths"
             }
            },
            "line": {
             "color": "rgba(0, 0, 0)",
             "width": 0.5
            },
            "reversescale": true,
            "size": [
             5.256436683972135,
             6.141908878443159,
             5.256436683972135,
             4.815004806125491,
             4.29268464756894,
             6.6096322232028495,
             4.815004806125491,
             4.502144029037208,
             4.815004806125491,
             4,
             4.29268464756894,
             4.815004806125491,
             4.29268464756894,
             12.561195780665512,
             5.256436683972135,
             4,
             4.815004806125491,
             5.0558871595781,
             4,
             4.502144029037208,
             4.29268464756894,
             4,
             4.502144029037208,
             4.94179852477375,
             5.792353285846804,
             4,
             5.160119477784612,
             4,
             4,
             4,
             4.502144029037208,
             4.671033598060435,
             4.29268464756894,
             4,
             4.29268464756894,
             4.29268464756894,
             6.389492891729259
            ]
           },
           "mode": "lines+markers",
           "text": [
            "China, Anhui-> Deaths: 0.0 Confirmed: 9.0",
            "China, Beijing-> Deaths: 0.0 Confirmed: 22.0",
            "China, Chongqing-> Deaths: 0.0 Confirmed: 9.0",
            "China, Fujian-> Deaths: 0.0 Confirmed: 5.0",
            "China, Gansu-> Deaths: 0.0 Confirmed: 2.0",
            "China, Guangdong-> Deaths: 0.0 Confirmed: 32.0",
            "China, Guangxi-> Deaths: 0.0 Confirmed: 5.0",
            "China, Guizhou-> Deaths: 0.0 Confirmed: 3.0",
            "China, Hainan-> Deaths: 0.0 Confirmed: 5.0",
            "China, Hebei-> Deaths: 1.0 Confirmed: 1.0",
            "China, Heilongjiang-> Deaths: 0.0 Confirmed: 2.0",
            "China, Henan-> Deaths: 0.0 Confirmed: 5.0",
            "Hong Kong, Hong Kong-> Deaths: 0.0 Confirmed: 2.0",
            "China, Hubei-> Deaths: 17.0 Confirmed: 444.0",
            "China, Hunan-> Deaths: 0.0 Confirmed: 9.0",
            "Japan, Japan-> Deaths: 0.0 Confirmed: 1.0",
            "China, Jiangsu-> Deaths: 0.0 Confirmed: 5.0",
            "China, Jiangxi-> Deaths: 0.0 Confirmed: 7.0",
            "China, Jilin-> Deaths: 0.0 Confirmed: 1.0",
            "China, Liaoning-> Deaths: 0.0 Confirmed: 3.0",
            "Macau, Macau-> Deaths: 0.0 Confirmed: 2.0",
            "China, Ningxia-> Deaths: 0.0 Confirmed: 1.0",
            "China, Shaanxi-> Deaths: 0.0 Confirmed: 3.0",
            "China, Shandong-> Deaths: 0.0 Confirmed: 6.0",
            "China, Shanghai-> Deaths: 0.0 Confirmed: 16.0",
            "China, Shanxi-> Deaths: 0.0 Confirmed: 1.0",
            "China, Sichuan-> Deaths: 0.0 Confirmed: 8.0",
            "Singapore, Singapore-> Deaths: 0.0 Confirmed: 1.0",
            "South Korea, South Korea-> Deaths: 0.0 Confirmed: 1.0",
            "Taiwan, Taiwan-> Deaths: 0.0 Confirmed: 1.0",
            "Thailand, Thailand-> Deaths: 0.0 Confirmed: 3.0",
            "China, Tianjin-> Deaths: 0.0 Confirmed: 4.0",
            "Vietnam, Vietnam-> Deaths: 0.0 Confirmed: 2.0",
            "US, Washington-> Deaths: 0.0 Confirmed: 1.0",
            "China, Xinjiang-> Deaths: 0.0 Confirmed: 2.0",
            "China, Yunnan-> Deaths: 0.0 Confirmed: 2.0",
            "China, Zhejiang-> Deaths: 0.0 Confirmed: 27.0"
           ],
           "type": "scattergeo"
          }
         ],
         "layout": {
          "title": {
           "text": "Corona Virus",
           "x": 0.5,
           "xanchor": "center",
           "y": 0.98,
           "yanchor": "top"
          }
         }
        },
        {
         "data": [
          {
           "lat": [
            32,
            39.906217,
            41.875561600000005,
            30.05518,
            46.603353999999996,
            26.5450001,
            38.0000001,
            23.135769399999997,
            24,
            27,
            19.2000001,
            39.0000001,
            48.000004700000005,
            34.0000001,
            22.2793278,
            31.15172525,
            27.999587800000004,
            43.2443242,
            36.5748441,
            33.0000001,
            28,
            42.9995032,
            40.997519700000005,
            22.175760500000003,
            37.0000001,
            36,
            36.0000001,
            31.232275800000004,
            37,
            30.500000099999998,
            1.357107,
            36.5581914,
            23.973937399999997,
            14.8971921,
            39.1235635,
            13.2904027,
            38.894893200000006,
            41.7574769,
            25,
            29.000000099999998
           ],
           "locationmode": "country names",
           "lon": [
            117,
            116.3912757,
            -87.6244212,
            107.8748712,
            1.8883334999999999,
            117.84277800000001,
            101.9999999,
            113.19826880000001,
            109,
            107,
            109.5999999,
            116,
            127.99999199999999,
            113.9999999,
            114.16281310000001,
            112.87832224656044,
            112.00953799999999,
            114.32516640000001,
            139.2394179,
            119.9999999,
            116,
            125.9816054,
            122.99554690000001,
            113.5514142,
            105.9999999,
            109,
            118.9999999,
            121.4692071,
            112,
            102.4999999,
            103.81949920000001,
            127.9408564,
            120.9820179,
            100.83273,
            117.1980785,
            108.42651129999999,
            -77.0365529,
            87.16738423046895,
            102,
            119.9999999
           ],
           "marker": {
            "autocolorscale": false,
            "cmax": 350,
            "cmin": 0,
            "color": [
             0,
             0,
             0,
             0,
             0,
             0,
             0,
             0,
             0,
             0,
             0,
             1,
             1,
             0,
             0,
             24,
             0,
             0,
             0,
             0,
             0,
             0,
             0,
             0,
             0,
             0,
             0,
             0,
             0,
             0,
             0,
             0,
             0,
             0,
             0,
             0,
             0,
             0,
             0,
             0
            ],
            "colorbar": {
             "title": {
              "text": "Number of Deaths"
             }
            },
            "line": {
             "color": "rgba(0, 0, 0)",
             "width": 0.5
            },
            "reversescale": true,
            "size": [
             5.726398632195241,
             6.770581510813514,
             4,
             6.389492891729259,
             4.29268464756894,
             5.346228848142263,
             4.29268464756894,
             7.3513166893231405,
             6.194064213635992,
             4.502144029037208,
             5.160119477784612,
             4.29268464756894,
             4.671033598060435,
             5.256436683972135,
             4.29268464756894,
             13.343235758122242,
             6.244810575561126,
             4,
             4.29268464756894,
             5.256436683972135,
             5.916861059582148,
             4.502144029037208,
             4.671033598060435,
             4.29268464756894,
             4.29268464756894,
             4.815004806125491,
             5.726398632195241,
             6.032934011676862,
             4,
             5.726398632195241,
             4.502144029037208,
             4.29268464756894,
             4.502144029037208,
             4.815004806125491,
             5.160119477784612,
             4.29268464756894,
             4,
             4.29268464756894,
             4.815004806125491,
             7.0270620082926145
            ]
           },
           "mode": "lines+markers",
           "text": [
            "China, Anhui-> Deaths: 0.0 Confirmed: 15.0",
            "China, Beijing-> Deaths: 0.0 Confirmed: 36.0",
            "US, Chicago-> Deaths: 0.0 Confirmed: 1.0",
            "China, Chongqing-> Deaths: 0.0 Confirmed: 27.0",
            "France, France-> Deaths: 0.0 Confirmed: 2.0",
            "China, Fujian-> Deaths: 0.0 Confirmed: 10.0",
            "China, Gansu-> Deaths: 0.0 Confirmed: 2.0",
            "China, Guangdong-> Deaths: 0.0 Confirmed: 53.0",
            "China, Guangxi-> Deaths: 0.0 Confirmed: 23.0",
            "China, Guizhou-> Deaths: 0.0 Confirmed: 3.0",
            "China, Hainan-> Deaths: 0.0 Confirmed: 8.0",
            "China, Hebei-> Deaths: 1.0 Confirmed: 2.0",
            "China, Heilongjiang-> Deaths: 1.0 Confirmed: 4.0",
            "China, Henan-> Deaths: 0.0 Confirmed: 9.0",
            "Hong Kong, Hong Kong-> Deaths: 0.0 Confirmed: 2.0",
            "China, Hubei-> Deaths: 24.0 Confirmed: 549.0",
            "China, Hunan-> Deaths: 0.0 Confirmed: 24.0",
            "China, Inner Mongolia-> Deaths: 0.0 Confirmed: 1.0",
            "Japan, Japan-> Deaths: 0.0 Confirmed: 2.0",
            "China, Jiangsu-> Deaths: 0.0 Confirmed: 9.0",
            "China, Jiangxi-> Deaths: 0.0 Confirmed: 18.0",
            "China, Jilin-> Deaths: 0.0 Confirmed: 3.0",
            "China, Liaoning-> Deaths: 0.0 Confirmed: 4.0",
            "Macau, Macau-> Deaths: 0.0 Confirmed: 2.0",
            "China, Ningxia-> Deaths: 0.0 Confirmed: 2.0",
            "China, Shaanxi-> Deaths: 0.0 Confirmed: 5.0",
            "China, Shandong-> Deaths: 0.0 Confirmed: 15.0",
            "China, Shanghai-> Deaths: 0.0 Confirmed: 20.0",
            "China, Shanxi-> Deaths: 0.0 Confirmed: 1.0",
            "China, Sichuan-> Deaths: 0.0 Confirmed: 15.0",
            "Singapore, Singapore-> Deaths: 0.0 Confirmed: 3.0",
            "South Korea, South Korea-> Deaths: 0.0 Confirmed: 2.0",
            "Taiwan, Taiwan-> Deaths: 0.0 Confirmed: 3.0",
            "Thailand, Thailand-> Deaths: 0.0 Confirmed: 5.0",
            "China, Tianjin-> Deaths: 0.0 Confirmed: 8.0",
            "Vietnam, Vietnam-> Deaths: 0.0 Confirmed: 2.0",
            "US, Washington-> Deaths: 0.0 Confirmed: 1.0",
            "China, Xinjiang-> Deaths: 0.0 Confirmed: 2.0",
            "China, Yunnan-> Deaths: 0.0 Confirmed: 5.0",
            "China, Zhejiang-> Deaths: 0.0 Confirmed: 43.0"
           ],
           "type": "scattergeo"
          }
         ],
         "layout": {
          "title": {
           "text": "Corona Virus",
           "x": 0.5,
           "xanchor": "center",
           "y": 0.98,
           "yanchor": "top"
          }
         }
        },
        {
         "data": [
          {
           "lat": [
            32,
            39.906217,
            30.05518,
            46.603353999999996,
            26.5450001,
            38.0000001,
            23.135769399999997,
            24,
            27,
            19.2000001,
            39.0000001,
            48.000004700000005,
            34.0000001,
            22.2793278,
            31.15172525,
            27.999587800000004,
            40.079660600000004,
            43.2443242,
            36.5748441,
            33.0000001,
            28,
            42.9995032,
            40.997519700000005,
            22.175760500000003,
            4.5693754,
            28.108392900000002,
            37.0000001,
            35.40709525,
            36,
            36.0000001,
            31.232275800000004,
            37,
            30.500000099999998,
            1.357107,
            36.5581914,
            23.973937399999997,
            14.8971921,
            39.1235635,
            13.2904027,
            38.894893200000006,
            41.7574769,
            25,
            29.000000099999998
           ],
           "locationmode": "country names",
           "lon": [
            117,
            116.3912757,
            107.8748712,
            1.8883334999999999,
            117.84277800000001,
            101.9999999,
            113.19826880000001,
            109,
            107,
            109.5999999,
            116,
            127.99999199999999,
            113.9999999,
            114.16281310000001,
            112.87832224656044,
            112.00953799999999,
            -89.4337288,
            114.32516640000001,
            139.2394179,
            119.9999999,
            116,
            125.9816054,
            122.99554690000001,
            113.5514142,
            102.2656823,
            84.0917139,
            105.9999999,
            95.95211573241954,
            109,
            118.9999999,
            121.4692071,
            112,
            102.4999999,
            103.81949920000001,
            127.9408564,
            120.9820179,
            100.83273,
            117.1980785,
            108.42651129999999,
            -77.0365529,
            87.16738423046895,
            102,
            119.9999999
           ],
           "marker": {
            "autocolorscale": false,
            "cmax": 350,
            "cmin": 0,
            "color": [
             0,
             0,
             0,
             0,
             1,
             0,
             0,
             0,
             0,
             0,
             1,
             0,
             1,
             0,
             52,
             0,
             0,
             0,
             0,
             0,
             0,
             0,
             0,
             0,
             0,
             0,
             0,
             0,
             0,
             0,
             1,
             0,
             0,
             0,
             0,
             0,
             0,
             0,
             0,
             0,
             0,
             0,
             0
            ],
            "colorbar": {
             "title": {
              "text": "Number of Deaths"
             }
            },
            "line": {
             "color": "rgba(0, 0, 0)",
             "width": 0.5
            },
            "reversescale": true,
            "size": [
             7.555903716104263,
             7.2897639830644705,
             7.948426620848326,
             4.502144029037208,
             5.916861059582148,
             5.0558871595781,
             8.463754021408548,
             6.6510061989273215,
             4.815004806125491,
             5.975859650018929,
             5.585661160918501,
             5.726398632195241,
             8.137710912549311,
             4.815004806125491,
             16.16027876770024,
             7.797944486874728,
             4,
             5.0558871595781,
             4.29268464756894,
             6.567435936849419,
             6.770581510813514,
             4.671033598060435,
             5.975859650018929,
             4.29268464756894,
             4.502144029037208,
             4,
             4.671033598060435,
             4,
             5.726398632195241,
             6.88403547398714,
             6.920627233984357,
             5.256436683972135,
             7.06149737122402,
             4.502144029037208,
             4.502144029037208,
             4.502144029037208,
             5.0558871595781,
             5.585661160918501,
             4.29268464756894,
             4,
             4.671033598060435,
             5.4305300479524705,
             8.585337036651225
            ]
           },
           "mode": "lines+markers",
           "text": [
            "China, Anhui-> Deaths: 0.0 Confirmed: 60.0",
            "China, Beijing-> Deaths: 0.0 Confirmed: 51.0",
            "China, Chongqing-> Deaths: 0.0 Confirmed: 75.0",
            "France, France-> Deaths: 0.0 Confirmed: 3.0",
            "China, Fujian-> Deaths: 1.0 Confirmed: 18.0",
            "China, Gansu-> Deaths: 0.0 Confirmed: 7.0",
            "China, Guangdong-> Deaths: 0.0 Confirmed: 98.0",
            "China, Guangxi-> Deaths: 0.0 Confirmed: 33.0",
            "China, Guizhou-> Deaths: 0.0 Confirmed: 5.0",
            "China, Hainan-> Deaths: 0.0 Confirmed: 19.0",
            "China, Hebei-> Deaths: 1.0 Confirmed: 13.0",
            "China, Heilongjiang-> Deaths: 0.0 Confirmed: 15.0",
            "China, Henan-> Deaths: 1.0 Confirmed: 83.0",
            "Hong Kong, Hong Kong-> Deaths: 0.0 Confirmed: 5.0",
            "China, Hubei-> Deaths: 52.0 Confirmed: 1052.0",
            "China, Hunan-> Deaths: 0.0 Confirmed: 69.0",
            "US, Illinois-> Deaths: 0.0 Confirmed: 1.0",
            "China, Inner Mongolia-> Deaths: 0.0 Confirmed: 7.0",
            "Japan, Japan-> Deaths: 0.0 Confirmed: 2.0",
            "China, Jiangsu-> Deaths: 0.0 Confirmed: 31.0",
            "China, Jiangxi-> Deaths: 0.0 Confirmed: 36.0",
            "China, Jilin-> Deaths: 0.0 Confirmed: 4.0",
            "China, Liaoning-> Deaths: 0.0 Confirmed: 19.0",
            "Macau, Macau-> Deaths: 0.0 Confirmed: 2.0",
            "Malaysia, Malaysia-> Deaths: 0.0 Confirmed: 3.0",
            "Nepal, Nepal-> Deaths: 0.0 Confirmed: 1.0",
            "China, Ningxia-> Deaths: 0.0 Confirmed: 4.0",
            "China, Qinghai-> Deaths: 0.0 Confirmed: 1.0",
            "China, Shaanxi-> Deaths: 0.0 Confirmed: 15.0",
            "China, Shandong-> Deaths: 0.0 Confirmed: 39.0",
            "China, Shanghai-> Deaths: 1.0 Confirmed: 40.0",
            "China, Shanxi-> Deaths: 0.0 Confirmed: 9.0",
            "China, Sichuan-> Deaths: 0.0 Confirmed: 44.0",
            "Singapore, Singapore-> Deaths: 0.0 Confirmed: 3.0",
            "South Korea, South Korea-> Deaths: 0.0 Confirmed: 3.0",
            "Taiwan, Taiwan-> Deaths: 0.0 Confirmed: 3.0",
            "Thailand, Thailand-> Deaths: 0.0 Confirmed: 7.0",
            "China, Tianjin-> Deaths: 0.0 Confirmed: 13.0",
            "Vietnam, Vietnam-> Deaths: 0.0 Confirmed: 2.0",
            "US, Washington-> Deaths: 0.0 Confirmed: 1.0",
            "China, Xinjiang-> Deaths: 0.0 Confirmed: 4.0",
            "China, Yunnan-> Deaths: 0.0 Confirmed: 11.0",
            "China, Zhejiang-> Deaths: 0.0 Confirmed: 104.0"
           ],
           "type": "scattergeo"
          }
         ],
         "layout": {
          "title": {
           "text": "Corona Virus",
           "x": 0.5,
           "xanchor": "center",
           "y": 0.98,
           "yanchor": "top"
          }
         }
        },
        {
         "data": [
          {
           "lat": [
            32,
            34.395342,
            39.906217,
            36.7014631,
            30.05518,
            46.603353999999996,
            26.5450001,
            38.0000001,
            23.135769399999997,
            24,
            27,
            19.2000001,
            39.0000001,
            48.000004700000005,
            34.0000001,
            22.2793278,
            31.15172525,
            27.999587800000004,
            40.079660600000004,
            43.2443242,
            36.5748441,
            33.0000001,
            28,
            42.9995032,
            40.997519700000005,
            22.175760500000003,
            4.5693754,
            28.108392900000002,
            37.0000001,
            50.000678,
            35.40709525,
            36,
            36.0000001,
            31.232275800000004,
            37,
            30.500000099999998,
            1.357107,
            36.5581914,
            23.973937399999997,
            14.8971921,
            39.1235635,
            13.2904027,
            38.894893200000006,
            41.7574769,
            25,
            29.000000099999998
           ],
           "locationmode": "country names",
           "lon": [
            117,
            -111.76327549999999,
            116.3912757,
            -118.75599740000001,
            107.8748712,
            1.8883334999999999,
            117.84277800000001,
            101.9999999,
            113.19826880000001,
            109,
            107,
            109.5999999,
            116,
            127.99999199999999,
            113.9999999,
            114.16281310000001,
            112.87832224656044,
            112.00953799999999,
            -89.4337288,
            114.32516640000001,
            139.2394179,
            119.9999999,
            116,
            125.9816054,
            122.99554690000001,
            113.5514142,
            102.2656823,
            84.0917139,
            105.9999999,
            -86.000977,
            95.95211573241954,
            109,
            118.9999999,
            121.4692071,
            112,
            102.4999999,
            103.81949920000001,
            127.9408564,
            120.9820179,
            100.83273,
            117.1980785,
            108.42651129999999,
            -77.0365529,
            87.16738423046895,
            102,
            119.9999999
           ],
           "marker": {
            "autocolorscale": false,
            "cmax": 350,
            "cmin": 0,
            "color": [
             0,
             0,
             0,
             0,
             0,
             0,
             0,
             0,
             0,
             0,
             0,
             0,
             1,
             1,
             1,
             0,
             76,
             0,
             0,
             0,
             0,
             0,
             0,
             0,
             0,
             0,
             0,
             0,
             0,
             0,
             0,
             0,
             0,
             1,
             0,
             0,
             0,
             0,
             0,
             0,
             0,
             0,
             0,
             0,
             0,
             0
            ],
            "colorbar": {
             "title": {
              "text": "Number of Deaths"
             }
            },
            "line": {
             "color": "rgba(0, 0, 0)",
             "width": 0.5
            },
            "reversescale": true,
            "size": [
             7.823581762327395,
             4,
             7.7720721880742705,
             4.29268464756894,
             8.702579714782685,
             4.502144029037208,
             6.731445075485936,
             5.657613768320726,
             9.333039092007414,
             7.128917772316606,
             5.0558871595781,
             6.141908878443159,
             5.916861059582148,
             6.088238621134508,
             9.031816721613545,
             5.160119477784612,
             17.718164978409675,
             8.50478980785497,
             4,
             5.4305300479524705,
             4.671033598060435,
             7.161937009665921,
             7.194516815297205,
             4.94179852477375,
             6.194064213635992,
             4.94179852477375,
             4.671033598060435,
             4,
             4.671033598060435,
             4,
             4.671033598060435,
             6.141908878443159,
             7.638979204979299,
             7.3513166893231405,
             5.585661160918501,
             7.797944486874728,
             4.671033598060435,
             4.502144029037208,
             4.671033598060435,
             5.160119477784612,
             5.657613768320726,
             4.29268464756894,
             4,
             4.815004806125491,
             5.975859650018929,
             9.031816721613545
            ]
           },
           "mode": "lines+markers",
           "text": [
            "China, Anhui-> Deaths: 0.0 Confirmed: 70.0",
            "US, Arizona-> Deaths: 0.0 Confirmed: 1.0",
            "China, Beijing-> Deaths: 0.0 Confirmed: 68.0",
            "US, California-> Deaths: 0.0 Confirmed: 2.0",
            "China, Chongqing-> Deaths: 0.0 Confirmed: 110.0",
            "France, France-> Deaths: 0.0 Confirmed: 3.0",
            "China, Fujian-> Deaths: 0.0 Confirmed: 35.0",
            "China, Gansu-> Deaths: 0.0 Confirmed: 14.0",
            "China, Guangdong-> Deaths: 0.0 Confirmed: 146.0",
            "China, Guangxi-> Deaths: 0.0 Confirmed: 46.0",
            "China, Guizhou-> Deaths: 0.0 Confirmed: 7.0",
            "China, Hainan-> Deaths: 0.0 Confirmed: 22.0",
            "China, Hebei-> Deaths: 1.0 Confirmed: 18.0",
            "China, Heilongjiang-> Deaths: 1.0 Confirmed: 21.0",
            "China, Henan-> Deaths: 1.0 Confirmed: 128.0",
            "Hong Kong, Hong Kong-> Deaths: 0.0 Confirmed: 8.0",
            "China, Hubei-> Deaths: 76.0 Confirmed: 1423.0",
            "China, Hunan-> Deaths: 0.0 Confirmed: 100.0",
            "US, Illinois-> Deaths: 0.0 Confirmed: 1.0",
            "China, Inner Mongolia-> Deaths: 0.0 Confirmed: 11.0",
            "Japan, Japan-> Deaths: 0.0 Confirmed: 4.0",
            "China, Jiangsu-> Deaths: 0.0 Confirmed: 47.0",
            "China, Jiangxi-> Deaths: 0.0 Confirmed: 48.0",
            "China, Jilin-> Deaths: 0.0 Confirmed: 6.0",
            "China, Liaoning-> Deaths: 0.0 Confirmed: 23.0",
            "Macau, Macau-> Deaths: 0.0 Confirmed: 6.0",
            "Malaysia, Malaysia-> Deaths: 0.0 Confirmed: 4.0",
            "Nepal, Nepal-> Deaths: 0.0 Confirmed: 1.0",
            "China, Ningxia-> Deaths: 0.0 Confirmed: 4.0",
            "Canada, Ontario-> Deaths: 0.0 Confirmed: 1.0",
            "China, Qinghai-> Deaths: 0.0 Confirmed: 4.0",
            "China, Shaanxi-> Deaths: 0.0 Confirmed: 22.0",
            "China, Shandong-> Deaths: 0.0 Confirmed: 63.0",
            "China, Shanghai-> Deaths: 1.0 Confirmed: 53.0",
            "China, Shanxi-> Deaths: 0.0 Confirmed: 13.0",
            "China, Sichuan-> Deaths: 0.0 Confirmed: 69.0",
            "Singapore, Singapore-> Deaths: 0.0 Confirmed: 4.0",
            "South Korea, South Korea-> Deaths: 0.0 Confirmed: 3.0",
            "Taiwan, Taiwan-> Deaths: 0.0 Confirmed: 4.0",
            "Thailand, Thailand-> Deaths: 0.0 Confirmed: 8.0",
            "China, Tianjin-> Deaths: 0.0 Confirmed: 14.0",
            "Vietnam, Vietnam-> Deaths: 0.0 Confirmed: 2.0",
            "US, Washington-> Deaths: 0.0 Confirmed: 1.0",
            "China, Xinjiang-> Deaths: 0.0 Confirmed: 5.0",
            "China, Yunnan-> Deaths: 0.0 Confirmed: 19.0",
            "China, Zhejiang-> Deaths: 0.0 Confirmed: 128.0"
           ],
           "type": "scattergeo"
          }
         ],
         "layout": {
          "title": {
           "text": "Corona Virus",
           "x": 0.5,
           "xanchor": "center",
           "y": 0.98,
           "yanchor": "top"
          }
         }
        },
        {
         "data": [
          {
           "lat": [
            32,
            34.395342,
            48.9467562,
            39.906217,
            36.7014631,
            13.5066394,
            30.05518,
            46.603353999999996,
            26.5450001,
            38.0000001,
            23.135769399999997,
            24,
            27,
            19.2000001,
            39.0000001,
            48.000004700000005,
            34.0000001,
            22.2793278,
            31.15172525,
            27.999587800000004,
            40.079660600000004,
            43.2443242,
            36.5748441,
            33.0000001,
            28,
            42.9995032,
            40.997519700000005,
            22.175760500000003,
            4.5693754,
            28.108392900000002,
            -31.875983500000004,
            37.0000001,
            50.000678,
            35.40709525,
            36,
            36.0000001,
            31.232275800000004,
            37,
            30.500000099999998,
            1.357107,
            36.5581914,
            7.555494199999999,
            23.973937399999997,
            14.8971921,
            39.1235635,
            -36.5986096,
            13.2904027,
            38.894893200000006,
            41.7574769,
            25,
            29.000000099999998
           ],
           "locationmode": "country names",
           "lon": [
            117,
            -111.76327549999999,
            11.4038717,
            116.3912757,
            -118.75599740000001,
            104.869423,
            107.8748712,
            1.8883334999999999,
            117.84277800000001,
            101.9999999,
            113.19826880000001,
            109,
            107,
            109.5999999,
            116,
            127.99999199999999,
            113.9999999,
            114.16281310000001,
            112.87832224656044,
            112.00953799999999,
            -89.4337288,
            114.32516640000001,
            139.2394179,
            119.9999999,
            116,
            125.9816054,
            122.99554690000001,
            113.5514142,
            102.2656823,
            84.0917139,
            147.2869493,
            105.9999999,
            -86.000977,
            95.95211573241954,
            109,
            118.9999999,
            121.4692071,
            112,
            102.4999999,
            103.81949920000001,
            127.9408564,
            80.7137847,
            120.9820179,
            100.83273,
            117.1980785,
            144.6780052,
            108.42651129999999,
            -77.0365529,
            87.16738423046895,
            102,
            119.9999999
           ],
           "marker": {
            "autocolorscale": false,
            "cmax": 350,
            "cmin": 0,
            "color": [
             0,
             0,
             0,
             1,
             0,
             0,
             0,
             0,
             0,
             0,
             0,
             0,
             0,
             1,
             1,
             1,
             1,
             0,
             100,
             0,
             0,
             0,
             0,
             0,
             0,
             0,
             0,
             0,
             0,
             0,
             0,
             0,
             0,
             0,
             0,
             1,
             1,
             0,
             0,
             0,
             0,
             0,
             0,
             0,
             0,
             0,
             0,
             0,
             0,
             0,
             0
            ],
            "colorbar": {
             "title": {
              "text": "Number of Deaths"
             }
            },
            "line": {
             "color": "rgba(0, 0, 0)",
             "width": 0.5
            },
            "reversescale": true,
            "size": [
             8.624880280998532,
             4,
             4,
             8.068134634212257,
             4.29268464756894,
             4,
             9.100954025134477,
             4.502144029037208,
             7.527631944695398,
             5.975859650018929,
             9.412516550145508,
             7.2897639830644705,
             5.256436683972135,
             6.6510061989273215,
             6.6510061989273215,
             6.524373654991745,
             9.670964397559343,
             5.160119477784612,
             21.694220002961224,
             8.50478980785497,
             4,
             5.4305300479524705,
             4.671033598060435,
             7.823581762327395,
             7.8741728314359305,
             4.94179852477375,
             6.389492891729259,
             4.94179852477375,
             4.671033598060435,
             4,
             4.671033598060435,
             5.0558871595781,
             4,
             4.94179852477375,
             6.731445075485936,
             8.228058805837552,
             7.719599661532381,
             6.032934011676862,
             8.29411684194189,
             4.815004806125491,
             4.671033598060435,
             4,
             4.815004806125491,
             5.160119477784612,
             6.194064213635992,
             4,
             4.29268464756894,
             4,
             4.815004806125491,
             6.34244448653463,
             9.743819909152371
            ]
           },
           "mode": "lines+markers",
           "text": [
            "China, Anhui-> Deaths: 0.0 Confirmed: 106.0",
            "US, Arizona-> Deaths: 0.0 Confirmed: 1.0",
            "Germany, Bavaria-> Deaths: 0.0 Confirmed: 1.0",
            "China, Beijing-> Deaths: 1.0 Confirmed: 80.0",
            "US, California-> Deaths: 0.0 Confirmed: 2.0",
            "Cambodia, Cambodia-> Deaths: 0.0 Confirmed: 1.0",
            "China, Chongqing-> Deaths: 0.0 Confirmed: 132.0",
            "France, France-> Deaths: 0.0 Confirmed: 3.0",
            "China, Fujian-> Deaths: 0.0 Confirmed: 59.0",
            "China, Gansu-> Deaths: 0.0 Confirmed: 19.0",
            "China, Guangdong-> Deaths: 0.0 Confirmed: 151.0",
            "China, Guangxi-> Deaths: 0.0 Confirmed: 51.0",
            "China, Guizhou-> Deaths: 0.0 Confirmed: 9.0",
            "China, Hainan-> Deaths: 1.0 Confirmed: 33.0",
            "China, Hebei-> Deaths: 1.0 Confirmed: 33.0",
            "China, Heilongjiang-> Deaths: 1.0 Confirmed: 30.0",
            "China, Henan-> Deaths: 1.0 Confirmed: 168.0",
            "Hong Kong, Hong Kong-> Deaths: 0.0 Confirmed: 8.0",
            "China, Hubei-> Deaths: 100.0 Confirmed: 2714.0",
            "China, Hunan-> Deaths: 0.0 Confirmed: 100.0",
            "US, Illinois-> Deaths: 0.0 Confirmed: 1.0",
            "China, Inner Mongolia-> Deaths: 0.0 Confirmed: 11.0",
            "Japan, Japan-> Deaths: 0.0 Confirmed: 4.0",
            "China, Jiangsu-> Deaths: 0.0 Confirmed: 70.0",
            "China, Jiangxi-> Deaths: 0.0 Confirmed: 72.0",
            "China, Jilin-> Deaths: 0.0 Confirmed: 6.0",
            "China, Liaoning-> Deaths: 0.0 Confirmed: 27.0",
            "Macau, Macau-> Deaths: 0.0 Confirmed: 6.0",
            "Malaysia, Malaysia-> Deaths: 0.0 Confirmed: 4.0",
            "Nepal, Nepal-> Deaths: 0.0 Confirmed: 1.0",
            "Australia, New South Wales-> Deaths: 0.0 Confirmed: 4.0",
            "China, Ningxia-> Deaths: 0.0 Confirmed: 7.0",
            "Canada, Ontario-> Deaths: 0.0 Confirmed: 1.0",
            "China, Qinghai-> Deaths: 0.0 Confirmed: 6.0",
            "China, Shaanxi-> Deaths: 0.0 Confirmed: 35.0",
            "China, Shandong-> Deaths: 1.0 Confirmed: 87.0",
            "China, Shanghai-> Deaths: 1.0 Confirmed: 66.0",
            "China, Shanxi-> Deaths: 0.0 Confirmed: 20.0",
            "China, Sichuan-> Deaths: 0.0 Confirmed: 90.0",
            "Singapore, Singapore-> Deaths: 0.0 Confirmed: 5.0",
            "South Korea, South Korea-> Deaths: 0.0 Confirmed: 4.0",
            "Sri Lanka, Sri Lanka-> Deaths: 0.0 Confirmed: 1.0",
            "Taiwan, Taiwan-> Deaths: 0.0 Confirmed: 5.0",
            "Thailand, Thailand-> Deaths: 0.0 Confirmed: 8.0",
            "China, Tianjin-> Deaths: 0.0 Confirmed: 23.0",
            "Australia, Victoria-> Deaths: 0.0 Confirmed: 1.0",
            "Vietnam, Vietnam-> Deaths: 0.0 Confirmed: 2.0",
            "US, Washington-> Deaths: 0.0 Confirmed: 1.0",
            "China, Xinjiang-> Deaths: 0.0 Confirmed: 5.0",
            "China, Yunnan-> Deaths: 0.0 Confirmed: 26.0",
            "China, Zhejiang-> Deaths: 0.0 Confirmed: 173.0"
           ],
           "type": "scattergeo"
          }
         ],
         "layout": {
          "title": {
           "text": "Corona Virus",
           "x": 0.5,
           "xanchor": "center",
           "y": 0.98,
           "yanchor": "top"
          }
         }
        },
        {
         "data": [
          {
           "lat": [
            32,
            34.395342,
            48.9467562,
            39.906217,
            55.001251,
            36.7014631,
            13.5066394,
            30.05518,
            46.603353999999996,
            26.5450001,
            38.0000001,
            23.135769399999997,
            24,
            27,
            19.2000001,
            39.0000001,
            48.000004700000005,
            34.0000001,
            22.2793278,
            31.15172525,
            27.999587800000004,
            40.079660600000004,
            43.2443242,
            36.5748441,
            33.0000001,
            28,
            42.9995032,
            40.997519700000005,
            22.175760500000003,
            4.5693754,
            28.108392900000002,
            -31.875983500000004,
            37.0000001,
            50.000678,
            35.40709525,
            36,
            36.0000001,
            31.232275800000004,
            37,
            30.500000099999998,
            1.357107,
            36.5581914,
            7.555494199999999,
            23.973937399999997,
            14.8971921,
            39.1235635,
            -36.5986096,
            13.2904027,
            38.894893200000006,
            41.7574769,
            25,
            29.000000099999998
           ],
           "locationmode": "country names",
           "lon": [
            117,
            -111.76327549999999,
            11.4038717,
            116.3912757,
            -125.00244099999999,
            -118.75599740000001,
            104.869423,
            107.8748712,
            1.8883334999999999,
            117.84277800000001,
            101.9999999,
            113.19826880000001,
            109,
            107,
            109.5999999,
            116,
            127.99999199999999,
            113.9999999,
            114.16281310000001,
            112.87832224656044,
            112.00953799999999,
            -89.4337288,
            114.32516640000001,
            139.2394179,
            119.9999999,
            116,
            125.9816054,
            122.99554690000001,
            113.5514142,
            102.2656823,
            84.0917139,
            147.2869493,
            105.9999999,
            -86.000977,
            95.95211573241954,
            109,
            118.9999999,
            121.4692071,
            112,
            102.4999999,
            103.81949920000001,
            127.9408564,
            80.7137847,
            120.9820179,
            100.83273,
            117.1980785,
            144.6780052,
            108.42651129999999,
            -77.0365529,
            87.16738423046895,
            102,
            119.9999999
           ],
           "marker": {
            "autocolorscale": false,
            "cmax": 350,
            "cmin": 0,
            "color": [
             0,
             0,
             0,
             1,
             0,
             0,
             0,
             0,
             0,
             0,
             0,
             0,
             0,
             0,
             1,
             1,
             1,
             2,
             0,
             125,
             0,
             0,
             0,
             0,
             0,
             0,
             0,
             0,
             0,
             0,
             0,
             0,
             0,
             0,
             0,
             0,
             0,
             1,
             0,
             0,
             0,
             0,
             0,
             0,
             0,
             0,
             0,
             0,
             0,
             0,
             0,
             0
            ],
            "colorbar": {
             "title": {
              "text": "Number of Deaths"
             }
            },
            "line": {
             "color": "rgba(0, 0, 0)",
             "width": 0.5
            },
            "reversescale": true,
            "size": [
             9.428212393159187,
             4,
             4.671033598060435,
             8.315827579752149,
             4,
             4.29268464756894,
             4,
             9.34907012690361,
             4.671033598060435,
             8.11469740720754,
             6.244810575561126,
             10.624801365006507,
             7.49905683093882,
             5.256436683972135,
             7.0270620082926145,
             7.194516815297205,
             6.809039298366404,
             10.19428866251348,
             5.160119477784612,
             23.657631556659094,
             10.384029697622363,
             4,
             5.792353285846804,
             5.0558871595781,
             8.484337161696507,
             8.683323885459039,
             5.256436683972135,
             6.770581510813514,
             5.0558871595781,
             5.0558871595781,
             4,
             4.671033598060435,
             5.510133141647044,
             4,
             4.94179852477375,
             7.440961897531936,
             8.90747631399984,
             8.068134634212257,
             6.389492891729259,
             8.663956502466613,
             5.0558871595781,
             4.671033598060435,
             4,
             5.160119477784612,
             5.657613768320726,
             6.294242446258631,
             4,
             4.29268464756894,
             4,
             5.585661160918501,
             7.06149737122402,
             11.227979980048302
            ]
           },
           "mode": "lines+markers",
           "text": [
            "China, Anhui-> Deaths: 0.0 Confirmed: 152.0",
            "US, Arizona-> Deaths: 0.0 Confirmed: 1.0",
            "Germany, Bavaria-> Deaths: 0.0 Confirmed: 4.0",
            "China, Beijing-> Deaths: 1.0 Confirmed: 91.0",
            "Canada, British Columbia-> Deaths: 0.0 Confirmed: 1.0",
            "US, California-> Deaths: 0.0 Confirmed: 2.0",
            "Cambodia, Cambodia-> Deaths: 0.0 Confirmed: 1.0",
            "China, Chongqing-> Deaths: 0.0 Confirmed: 147.0",
            "France, France-> Deaths: 0.0 Confirmed: 4.0",
            "China, Fujian-> Deaths: 0.0 Confirmed: 82.0",
            "China, Gansu-> Deaths: 0.0 Confirmed: 24.0",
            "China, Guangdong-> Deaths: 0.0 Confirmed: 241.0",
            "China, Guangxi-> Deaths: 0.0 Confirmed: 58.0",
            "China, Guizhou-> Deaths: 0.0 Confirmed: 9.0",
            "China, Hainan-> Deaths: 1.0 Confirmed: 43.0",
            "China, Hebei-> Deaths: 1.0 Confirmed: 48.0",
            "China, Heilongjiang-> Deaths: 1.0 Confirmed: 37.0",
            "China, Henan-> Deaths: 2.0 Confirmed: 206.0",
            "Hong Kong, Hong Kong-> Deaths: 0.0 Confirmed: 8.0",
            "China, Hubei-> Deaths: 125.0 Confirmed: 3554.0",
            "China, Hunan-> Deaths: 0.0 Confirmed: 221.0",
            "US, Illinois-> Deaths: 0.0 Confirmed: 1.0",
            "China, Inner Mongolia-> Deaths: 0.0 Confirmed: 16.0",
            "Japan, Japan-> Deaths: 0.0 Confirmed: 7.0",
            "China, Jiangsu-> Deaths: 0.0 Confirmed: 99.0",
            "China, Jiangxi-> Deaths: 0.0 Confirmed: 109.0",
            "China, Jilin-> Deaths: 0.0 Confirmed: 9.0",
            "China, Liaoning-> Deaths: 0.0 Confirmed: 36.0",
            "Macau, Macau-> Deaths: 0.0 Confirmed: 7.0",
            "Malaysia, Malaysia-> Deaths: 0.0 Confirmed: 7.0",
            "Nepal, Nepal-> Deaths: 0.0 Confirmed: 1.0",
            "Australia, New South Wales-> Deaths: 0.0 Confirmed: 4.0",
            "China, Ningxia-> Deaths: 0.0 Confirmed: 12.0",
            "Canada, Ontario-> Deaths: 0.0 Confirmed: 1.0",
            "China, Qinghai-> Deaths: 0.0 Confirmed: 6.0",
            "China, Shaanxi-> Deaths: 0.0 Confirmed: 56.0",
            "China, Shandong-> Deaths: 0.0 Confirmed: 121.0",
            "China, Shanghai-> Deaths: 1.0 Confirmed: 80.0",
            "China, Shanxi-> Deaths: 0.0 Confirmed: 27.0",
            "China, Sichuan-> Deaths: 0.0 Confirmed: 108.0",
            "Singapore, Singapore-> Deaths: 0.0 Confirmed: 7.0",
            "South Korea, South Korea-> Deaths: 0.0 Confirmed: 4.0",
            "Sri Lanka, Sri Lanka-> Deaths: 0.0 Confirmed: 1.0",
            "Taiwan, Taiwan-> Deaths: 0.0 Confirmed: 8.0",
            "Thailand, Thailand-> Deaths: 0.0 Confirmed: 14.0",
            "China, Tianjin-> Deaths: 0.0 Confirmed: 25.0",
            "Australia, Victoria-> Deaths: 0.0 Confirmed: 1.0",
            "Vietnam, Vietnam-> Deaths: 0.0 Confirmed: 2.0",
            "US, Washington-> Deaths: 0.0 Confirmed: 1.0",
            "China, Xinjiang-> Deaths: 0.0 Confirmed: 13.0",
            "China, Yunnan-> Deaths: 0.0 Confirmed: 44.0",
            "China, Zhejiang-> Deaths: 0.0 Confirmed: 296.0"
           ],
           "type": "scattergeo"
          }
         ],
         "layout": {
          "title": {
           "text": "Corona Virus",
           "x": 0.5,
           "xanchor": "center",
           "y": 0.98,
           "yanchor": "top"
          }
         }
        },
        {
         "data": [
          {
           "lat": [
            32,
            34.395342,
            48.9467562,
            39.906217,
            55.001251,
            36.7014631,
            13.5066394,
            30.05518,
            63.2467777,
            46.603353999999996,
            26.5450001,
            38.0000001,
            23.135769399999997,
            24,
            27,
            19.2000001,
            39.0000001,
            48.000004700000005,
            34.0000001,
            22.2793278,
            31.15172525,
            27.999587800000004,
            40.079660600000004,
            43.2443242,
            36.5748441,
            33.0000001,
            28,
            42.9995032,
            40.997519700000005,
            22.175760500000003,
            4.5693754,
            28.108392900000002,
            -31.875983500000004,
            37.0000001,
            50.000678,
            35.40709525,
            -22.1646782,
            36,
            36.0000001,
            31.232275800000004,
            37,
            30.500000099999998,
            1.357107,
            36.5581914,
            7.555494199999999,
            23.973937399999997,
            14.8971921,
            39.1235635,
            31.89434315,
            24.0002488,
            -36.5986096,
            13.2904027,
            38.894893200000006,
            41.7574769,
            25,
            29.000000099999998
           ],
           "locationmode": "country names",
           "lon": [
            117,
            -111.76327549999999,
            11.4038717,
            116.3912757,
            -125.00244099999999,
            -118.75599740000001,
            104.869423,
            107.8748712,
            25.9209164,
            1.8883334999999999,
            117.84277800000001,
            101.9999999,
            113.19826880000001,
            109,
            107,
            109.5999999,
            116,
            127.99999199999999,
            113.9999999,
            114.16281310000001,
            112.87832224656044,
            112.00953799999999,
            -89.4337288,
            114.32516640000001,
            139.2394179,
            119.9999999,
            116,
            125.9816054,
            122.99554690000001,
            113.5514142,
            102.2656823,
            84.0917139,
            147.2869493,
            105.9999999,
            -86.000977,
            95.95211573241954,
            144.58449030000003,
            109,
            118.9999999,
            121.4692071,
            112,
            102.4999999,
            103.81949920000001,
            127.9408564,
            80.7137847,
            120.9820179,
            100.83273,
            117.1980785,
            87.07813712706509,
            53.999482900000004,
            144.6780052,
            108.42651129999999,
            -77.0365529,
            87.16738423046895,
            102,
            119.9999999
           ],
           "marker": {
            "autocolorscale": false,
            "cmax": 350,
            "cmin": 0,
            "color": [
             0,
             0,
             0,
             1,
             0,
             0,
             0,
             0,
             0,
             0,
             0,
             0,
             0,
             0,
             0,
             1,
             1,
             1,
             2,
             0,
             162,
             0,
             0,
             0,
             0,
             0,
             0,
             0,
             0,
             0,
             0,
             0,
             0,
             0,
             0,
             0,
             0,
             0,
             0,
             1,
             0,
             1,
             0,
             0,
             0,
             0,
             0,
             0,
             0,
             0,
             0,
             0,
             0,
             0,
             0,
             0
            ],
            "colorbar": {
             "title": {
              "text": "Number of Deaths"
             }
            },
            "line": {
             "color": "rgba(0, 0, 0)",
             "width": 0.5
            },
            "reversescale": true,
            "size": [
             10.115957272708098,
             4,
             4.671033598060435,
             8.721725638409168,
             4,
             4.29268464756894,
             4,
             9.626593798247049,
             4,
             4.815004806125491,
             8.525114079844972,
             6.34244448653463,
             11.38001099657052,
             8.020833027836328,
             5.510133141647044,
             7.0270620082926145,
             7.692987434079096,
             7.0270620082926145,
             11.038995328023105,
             5.346228848142263,
             25.703179629243312,
             11.02827308350268,
             4,
             5.792353285846804,
             5.4305300479524705,
             9.049227150319336,
             9.581712296890988,
             5.657613768320726,
             6.88403547398714,
             5.0558871595781,
             5.0558871595781,
             4,
             4.671033598060435,
             5.510133141647044,
             4.29268464756894,
             4.94179852477375,
             4,
             7.440961897531936,
             9.316938772764521,
             8.525114079844972,
             6.731445075485936,
             9.268214233380256,
             5.346228848142263,
             4.671033598060435,
             4,
             5.160119477784612,
             5.657613768320726,
             6.389492891729259,
             4,
             4.671033598060435,
             4.29268464756894,
             4.29268464756894,
             4,
             5.657613768320726,
             7.411423718466154,
             12.43210883489381
            ]
           },
           "mode": "lines+markers",
           "text": [
            "China, Anhui-> Deaths: 0.0 Confirmed: 200.0",
            "US, Arizona-> Deaths: 0.0 Confirmed: 1.0",
            "Germany, Bavaria-> Deaths: 0.0 Confirmed: 4.0",
            "China, Beijing-> Deaths: 1.0 Confirmed: 111.0",
            "Canada, British Columbia-> Deaths: 0.0 Confirmed: 1.0",
            "US, California-> Deaths: 0.0 Confirmed: 2.0",
            "Cambodia, Cambodia-> Deaths: 0.0 Confirmed: 1.0",
            "China, Chongqing-> Deaths: 0.0 Confirmed: 165.0",
            "Finland, Finland-> Deaths: 0.0 Confirmed: 1.0",
            "France, France-> Deaths: 0.0 Confirmed: 5.0",
            "China, Fujian-> Deaths: 0.0 Confirmed: 101.0",
            "China, Gansu-> Deaths: 0.0 Confirmed: 26.0",
            "China, Guangdong-> Deaths: 0.0 Confirmed: 311.0",
            "China, Guangxi-> Deaths: 0.0 Confirmed: 78.0",
            "China, Guizhou-> Deaths: 0.0 Confirmed: 12.0",
            "China, Hainan-> Deaths: 1.0 Confirmed: 43.0",
            "China, Hebei-> Deaths: 1.0 Confirmed: 65.0",
            "China, Heilongjiang-> Deaths: 1.0 Confirmed: 43.0",
            "China, Henan-> Deaths: 2.0 Confirmed: 278.0",
            "Hong Kong, Hong Kong-> Deaths: 0.0 Confirmed: 10.0",
            "China, Hubei-> Deaths: 162.0 Confirmed: 4586.0",
            "China, Hunan-> Deaths: 0.0 Confirmed: 277.0",
            "US, Illinois-> Deaths: 0.0 Confirmed: 1.0",
            "China, Inner Mongolia-> Deaths: 0.0 Confirmed: 16.0",
            "Japan, Japan-> Deaths: 0.0 Confirmed: 11.0",
            "China, Jiangsu-> Deaths: 0.0 Confirmed: 129.0",
            "China, Jiangxi-> Deaths: 0.0 Confirmed: 162.0",
            "China, Jilin-> Deaths: 0.0 Confirmed: 14.0",
            "China, Liaoning-> Deaths: 0.0 Confirmed: 39.0",
            "Macau, Macau-> Deaths: 0.0 Confirmed: 7.0",
            "Malaysia, Malaysia-> Deaths: 0.0 Confirmed: 7.0",
            "Nepal, Nepal-> Deaths: 0.0 Confirmed: 1.0",
            "Australia, New South Wales-> Deaths: 0.0 Confirmed: 4.0",
            "China, Ningxia-> Deaths: 0.0 Confirmed: 12.0",
            "Canada, Ontario-> Deaths: 0.0 Confirmed: 2.0",
            "China, Qinghai-> Deaths: 0.0 Confirmed: 6.0",
            "Australia, Queensland-> Deaths: 0.0 Confirmed: 1.0",
            "China, Shaanxi-> Deaths: 0.0 Confirmed: 56.0",
            "China, Shandong-> Deaths: 0.0 Confirmed: 145.0",
            "China, Shanghai-> Deaths: 1.0 Confirmed: 101.0",
            "China, Shanxi-> Deaths: 0.0 Confirmed: 35.0",
            "China, Sichuan-> Deaths: 1.0 Confirmed: 142.0",
            "Singapore, Singapore-> Deaths: 0.0 Confirmed: 10.0",
            "South Korea, South Korea-> Deaths: 0.0 Confirmed: 4.0",
            "Sri Lanka, Sri Lanka-> Deaths: 0.0 Confirmed: 1.0",
            "Taiwan, Taiwan-> Deaths: 0.0 Confirmed: 8.0",
            "Thailand, Thailand-> Deaths: 0.0 Confirmed: 14.0",
            "China, Tianjin-> Deaths: 0.0 Confirmed: 27.0",
            "China, Tibet-> Deaths: 0.0 Confirmed: 1.0",
            "United Arab Emirates, United Arab Emirates-> Deaths: 0.0 Confirmed: 4.0",
            "Australia, Victoria-> Deaths: 0.0 Confirmed: 2.0",
            "Vietnam, Vietnam-> Deaths: 0.0 Confirmed: 2.0",
            "US, Washington-> Deaths: 0.0 Confirmed: 1.0",
            "China, Xinjiang-> Deaths: 0.0 Confirmed: 14.0",
            "China, Yunnan-> Deaths: 0.0 Confirmed: 55.0",
            "China, Zhejiang-> Deaths: 0.0 Confirmed: 428.0"
           ],
           "type": "scattergeo"
          }
         ],
         "layout": {
          "title": {
           "text": "Corona Virus",
           "x": 0.5,
           "xanchor": "center",
           "y": 0.98,
           "yanchor": "top"
          }
         }
        },
        {
         "data": [
          {
           "lat": [
            32,
            34.395342,
            48.9467562,
            39.906217,
            55.001251,
            36.7014631,
            13.5066394,
            30.05518,
            63.2467777,
            46.603353999999996,
            26.5450001,
            38.0000001,
            23.135769399999997,
            24,
            27,
            19.2000001,
            39.0000001,
            48.000004700000005,
            34.0000001,
            22.2793278,
            31.15172525,
            27.999587800000004,
            40.079660600000004,
            22.3511148,
            43.2443242,
            42.6384261,
            36.5748441,
            33.0000001,
            28,
            42.9995032,
            40.997519700000005,
            22.175760500000003,
            4.5693754,
            28.108392900000002,
            -31.875983500000004,
            37.0000001,
            50.000678,
            12.750348599999999,
            35.40709525,
            -22.1646782,
            36,
            36.0000001,
            31.232275800000004,
            37,
            30.500000099999998,
            1.357107,
            36.5581914,
            7.555494199999999,
            23.973937399999997,
            14.8971921,
            39.1235635,
            31.89434315,
            24.0002488,
            -36.5986096,
            13.2904027,
            38.894893200000006,
            41.7574769,
            25,
            29.000000099999998
           ],
           "locationmode": "country names",
           "lon": [
            117,
            -111.76327549999999,
            11.4038717,
            116.3912757,
            -125.00244099999999,
            -118.75599740000001,
            104.869423,
            107.8748712,
            25.9209164,
            1.8883334999999999,
            117.84277800000001,
            101.9999999,
            113.19826880000001,
            109,
            107,
            109.5999999,
            116,
            127.99999199999999,
            113.9999999,
            114.16281310000001,
            112.87832224656044,
            112.00953799999999,
            -89.4337288,
            78.6677428,
            114.32516640000001,
            12.674297,
            139.2394179,
            119.9999999,
            116,
            125.9816054,
            122.99554690000001,
            113.5514142,
            102.2656823,
            84.0917139,
            147.2869493,
            105.9999999,
            -86.000977,
            122.7312101,
            95.95211573241954,
            144.58449030000003,
            109,
            118.9999999,
            121.4692071,
            112,
            102.4999999,
            103.81949920000001,
            127.9408564,
            80.7137847,
            120.9820179,
            100.83273,
            117.1980785,
            87.07813712706509,
            53.999482900000004,
            144.6780052,
            108.42651129999999,
            -77.0365529,
            87.16738423046895,
            102,
            119.9999999
           ],
           "marker": {
            "autocolorscale": false,
            "cmax": 350,
            "cmin": 0,
            "color": [
             0,
             0,
             0,
             1,
             0,
             0,
             0,
             0,
             0,
             0,
             0,
             0,
             0,
             0,
             0,
             1,
             1,
             2,
             2,
             0,
             204,
             0,
             0,
             0,
             0,
             0,
             0,
             0,
             0,
             0,
             0,
             0,
             0,
             0,
             0,
             0,
             0,
             0,
             0,
             0,
             0,
             0,
             1,
             0,
             1,
             0,
             0,
             0,
             0,
             0,
             0,
             0,
             0,
             0,
             0,
             0,
             0,
             0,
             0
            ],
            "colorbar": {
             "title": {
              "text": "Number of Deaths"
             }
            },
            "line": {
             "color": "rgba(0, 0, 0)",
             "width": 0.5
            },
            "reversescale": true,
            "size": [
             10.577682845233985,
             4,
             4.671033598060435,
             8.90747631399984,
             4,
             4.29268464756894,
             4,
             10.19428866251348,
             4,
             4.815004806125491,
             8.525114079844972,
             6.480397821231865,
             12.138735961471609,
             8.228058805837552,
             5.726398632195241,
             7.258416635648482,
             8.11469740720754,
             7.527631944695398,
             11.773319580552005,
             5.510133141647044,
             27.775848127009525,
             11.58528755199164,
             4.29268464756894,
             4,
             6.032934011676862,
             4.29268464756894,
             5.4305300479524705,
             9.670964397559343,
             10.613068179138615,
             5.657613768320726,
             7.09544342612729,
             5.0558871595781,
             5.160119477784612,
             4,
             4.671033598060435,
             6.088238621134508,
             4.29268464756894,
             4,
             5.160119477784612,
             4.502144029037208,
             8.228058805837552,
             9.815361392350553,
             9.031816721613545,
             6.88403547398714,
             9.801155291402312,
             5.346228848142263,
             4.94179852477375,
             4,
             5.256436683972135,
             5.657613768320726,
             6.6096322232028495,
             4,
             4.671033598060435,
             4.29268464756894,
             4.29268464756894,
             4,
             5.855760766039176,
             7.9727614582939985,
             13.258918680359471
            ]
           },
           "mode": "lines+markers",
           "text": [
            "China, Anhui-> Deaths: 0.0 Confirmed: 237.0",
            "US, Arizona-> Deaths: 0.0 Confirmed: 1.0",
            "Germany, Bavaria-> Deaths: 0.0 Confirmed: 4.0",
            "China, Beijing-> Deaths: 1.0 Confirmed: 121.0",
            "Canada, British Columbia-> Deaths: 0.0 Confirmed: 1.0",
            "US, California-> Deaths: 0.0 Confirmed: 2.0",
            "Cambodia, Cambodia-> Deaths: 0.0 Confirmed: 1.0",
            "China, Chongqing-> Deaths: 0.0 Confirmed: 206.0",
            "Finland, Finland-> Deaths: 0.0 Confirmed: 1.0",
            "France, France-> Deaths: 0.0 Confirmed: 5.0",
            "China, Fujian-> Deaths: 0.0 Confirmed: 101.0",
            "China, Gansu-> Deaths: 0.0 Confirmed: 29.0",
            "China, Guangdong-> Deaths: 0.0 Confirmed: 393.0",
            "China, Guangxi-> Deaths: 0.0 Confirmed: 87.0",
            "China, Guizhou-> Deaths: 0.0 Confirmed: 15.0",
            "China, Hainan-> Deaths: 1.0 Confirmed: 50.0",
            "China, Hebei-> Deaths: 1.0 Confirmed: 82.0",
            "China, Heilongjiang-> Deaths: 2.0 Confirmed: 59.0",
            "China, Henan-> Deaths: 2.0 Confirmed: 352.0",
            "Hong Kong, Hong Kong-> Deaths: 0.0 Confirmed: 12.0",
            "China, Hubei-> Deaths: 204.0 Confirmed: 5806.0",
            "China, Hunan-> Deaths: 0.0 Confirmed: 332.0",
            "US, Illinois-> Deaths: 0.0 Confirmed: 2.0",
            "India, India-> Deaths: 0.0 Confirmed: 1.0",
            "China, Inner Mongolia-> Deaths: 0.0 Confirmed: 20.0",
            "Italy, Italy-> Deaths: 0.0 Confirmed: 2.0",
            "Japan, Japan-> Deaths: 0.0 Confirmed: 11.0",
            "China, Jiangsu-> Deaths: 0.0 Confirmed: 168.0",
            "China, Jiangxi-> Deaths: 0.0 Confirmed: 240.0",
            "China, Jilin-> Deaths: 0.0 Confirmed: 14.0",
            "China, Liaoning-> Deaths: 0.0 Confirmed: 45.0",
            "Macau, Macau-> Deaths: 0.0 Confirmed: 7.0",
            "Malaysia, Malaysia-> Deaths: 0.0 Confirmed: 8.0",
            "Nepal, Nepal-> Deaths: 0.0 Confirmed: 1.0",
            "Australia, New South Wales-> Deaths: 0.0 Confirmed: 4.0",
            "China, Ningxia-> Deaths: 0.0 Confirmed: 21.0",
            "Canada, Ontario-> Deaths: 0.0 Confirmed: 2.0",
            "Philippines, Philippines-> Deaths: 0.0 Confirmed: 1.0",
            "China, Qinghai-> Deaths: 0.0 Confirmed: 8.0",
            "Australia, Queensland-> Deaths: 0.0 Confirmed: 3.0",
            "China, Shaanxi-> Deaths: 0.0 Confirmed: 87.0",
            "China, Shandong-> Deaths: 0.0 Confirmed: 178.0",
            "China, Shanghai-> Deaths: 1.0 Confirmed: 128.0",
            "China, Shanxi-> Deaths: 0.0 Confirmed: 39.0",
            "China, Sichuan-> Deaths: 1.0 Confirmed: 177.0",
            "Singapore, Singapore-> Deaths: 0.0 Confirmed: 10.0",
            "South Korea, South Korea-> Deaths: 0.0 Confirmed: 6.0",
            "Sri Lanka, Sri Lanka-> Deaths: 0.0 Confirmed: 1.0",
            "Taiwan, Taiwan-> Deaths: 0.0 Confirmed: 9.0",
            "Thailand, Thailand-> Deaths: 0.0 Confirmed: 14.0",
            "China, Tianjin-> Deaths: 0.0 Confirmed: 32.0",
            "China, Tibet-> Deaths: 0.0 Confirmed: 1.0",
            "United Arab Emirates, United Arab Emirates-> Deaths: 0.0 Confirmed: 4.0",
            "Australia, Victoria-> Deaths: 0.0 Confirmed: 2.0",
            "Vietnam, Vietnam-> Deaths: 0.0 Confirmed: 2.0",
            "US, Washington-> Deaths: 0.0 Confirmed: 1.0",
            "China, Xinjiang-> Deaths: 0.0 Confirmed: 17.0",
            "China, Yunnan-> Deaths: 0.0 Confirmed: 76.0",
            "China, Zhejiang-> Deaths: 0.0 Confirmed: 537.0"
           ],
           "type": "scattergeo"
          }
         ],
         "layout": {
          "title": {
           "text": "Corona Virus",
           "x": 0.5,
           "xanchor": "center",
           "y": 0.98,
           "yanchor": "top"
          }
         }
        },
        {
         "data": [
          {
           "lat": [
            32,
            34.395342,
            48.9467562,
            39.906217,
            55.001251,
            36.7014631,
            13.5066394,
            30.05518,
            63.2467777,
            46.603353999999996,
            26.5450001,
            38.0000001,
            23.135769399999997,
            24,
            27,
            19.2000001,
            39.0000001,
            48.000004700000005,
            34.0000001,
            22.2793278,
            31.15172525,
            27.999587800000004,
            40.079660600000004,
            22.3511148,
            43.2443242,
            42.6384261,
            36.5748441,
            33.0000001,
            28,
            42.9995032,
            40.997519700000005,
            22.175760500000003,
            4.5693754,
            28.108392900000002,
            -31.875983500000004,
            37.0000001,
            50.000678,
            12.750348599999999,
            35.40709525,
            -22.1646782,
            64.6863136,
            36,
            36.0000001,
            31.232275800000004,
            37,
            30.500000099999998,
            1.357107,
            36.5581914,
            39.3262345,
            7.555494199999999,
            59.67497120000001,
            23.973937399999997,
            14.8971921,
            39.1235635,
            31.89434315,
            54.702354500000006,
            24.0002488,
            -36.5986096,
            13.2904027,
            38.894893200000006,
            41.7574769,
            25,
            29.000000099999998
           ],
           "locationmode": "country names",
           "lon": [
            117,
            -111.76327549999999,
            11.4038717,
            116.3912757,
            -125.00244099999999,
            -118.75599740000001,
            104.869423,
            107.8748712,
            25.9209164,
            1.8883334999999999,
            117.84277800000001,
            101.9999999,
            113.19826880000001,
            109,
            107,
            109.5999999,
            116,
            127.99999199999999,
            113.9999999,
            114.16281310000001,
            112.87832224656044,
            112.00953799999999,
            -89.4337288,
            78.6677428,
            114.32516640000001,
            12.674297,
            139.2394179,
            119.9999999,
            116,
            125.9816054,
            122.99554690000001,
            113.5514142,
            102.2656823,
            84.0917139,
            147.2869493,
            105.9999999,
            -86.000977,
            122.7312101,
            95.95211573241954,
            144.58449030000003,
            97.7453061,
            109,
            118.9999999,
            121.4692071,
            112,
            102.4999999,
            103.81949920000001,
            127.9408564,
            -4.838064900000001,
            80.7137847,
            14.5208584,
            120.9820179,
            100.83273,
            117.1980785,
            87.07813712706509,
            -3.2765752999999997,
            53.999482900000004,
            144.6780052,
            108.42651129999999,
            -77.0365529,
            87.16738423046895,
            102,
            119.9999999
           ],
           "marker": {
            "autocolorscale": false,
            "cmax": 350,
            "cmin": 0,
            "color": [
             0,
             0,
             0,
             1,
             0,
             0,
             0,
             1,
             0,
             0,
             0,
             0,
             0,
             0,
             0,
             1,
             1,
             2,
             2,
             0,
             249,
             0,
             0,
             0,
             0,
             0,
             0,
             0,
             0,
             0,
             0,
             0,
             0,
             0,
             0,
             0,
             0,
             0,
             0,
             0,
             0,
             0,
             0,
             1,
             0,
             1,
             0,
             0,
             0,
             0,
             0,
             0,
             0,
             0,
             0,
             0,
             0,
             0,
             0,
             0,
             0,
             0,
             0
            ],
            "colorbar": {
             "title": {
              "text": "Number of Deaths"
             }
            },
            "line": {
             "color": "rgba(0, 0, 0)",
             "width": 0.5
            },
            "reversescale": true,
            "size": [
             10.577682845233985,
             4,
             5.0558871595781,
             9.21883716430103,
             4,
             4.502144029037208,
             4,
             10.589509130855859,
             4,
             4.94179852477375,
             8.889346789610265,
             6.731445075485936,
             12.497025161261432,
             8.250235297922899,
             6.480397821231865,
             7.49905683093882,
             8.422187491104461,
             7.527631944695398,
             11.773319580552005,
             5.585661160918501,
             29.76629323402198,
             11.58528755199164,
             4.29268464756894,
             4,
             6.032934011676862,
             4.29268464756894,
             5.855760766039176,
             9.670964397559343,
             10.613068179138615,
             5.657613768320726,
             7.555903716104263,
             5.0558871595781,
             5.160119477784612,
             4,
             4.671033598060435,
             6.088238621134508,
             4.29268464756894,
             4,
             5.160119477784612,
             4.502144029037208,
             4.29268464756894,
             8.228058805837552,
             9.899560321169895,
             9.443843353139162,
             7.161937009665921,
             9.801155291402312,
             5.792353285846804,
             5.4305300479524705,
             4,
             4,
             4,
             5.346228848142263,
             5.975859650018929,
             6.6096322232028495,
             4,
             4.29268464756894,
             4.671033598060435,
             4.29268464756894,
             4.29268464756894,
             4,
             5.855760766039176,
             8.137710912549311,
             13.258918680359471
            ]
           },
           "mode": "lines+markers",
           "text": [
            "China, Anhui-> Deaths: 0.0 Confirmed: 237.0",
            "US, Arizona-> Deaths: 0.0 Confirmed: 1.0",
            "Germany, Bavaria-> Deaths: 0.0 Confirmed: 7.0",
            "China, Beijing-> Deaths: 1.0 Confirmed: 139.0",
            "Canada, British Columbia-> Deaths: 0.0 Confirmed: 1.0",
            "US, California-> Deaths: 0.0 Confirmed: 3.0",
            "Cambodia, Cambodia-> Deaths: 0.0 Confirmed: 1.0",
            "China, Chongqing-> Deaths: 1.0 Confirmed: 238.0",
            "Finland, Finland-> Deaths: 0.0 Confirmed: 1.0",
            "France, France-> Deaths: 0.0 Confirmed: 6.0",
            "China, Fujian-> Deaths: 0.0 Confirmed: 120.0",
            "China, Gansu-> Deaths: 0.0 Confirmed: 35.0",
            "China, Guangdong-> Deaths: 0.0 Confirmed: 436.0",
            "China, Guangxi-> Deaths: 0.0 Confirmed: 88.0",
            "China, Guizhou-> Deaths: 0.0 Confirmed: 29.0",
            "China, Hainan-> Deaths: 1.0 Confirmed: 58.0",
            "China, Hebei-> Deaths: 1.0 Confirmed: 96.0",
            "China, Heilongjiang-> Deaths: 2.0 Confirmed: 59.0",
            "China, Henan-> Deaths: 2.0 Confirmed: 352.0",
            "Hong Kong, Hong Kong-> Deaths: 0.0 Confirmed: 13.0",
            "China, Hubei-> Deaths: 249.0 Confirmed: 7153.0",
            "China, Hunan-> Deaths: 0.0 Confirmed: 332.0",
            "US, Illinois-> Deaths: 0.0 Confirmed: 2.0",
            "India, India-> Deaths: 0.0 Confirmed: 1.0",
            "China, Inner Mongolia-> Deaths: 0.0 Confirmed: 20.0",
            "Italy, Italy-> Deaths: 0.0 Confirmed: 2.0",
            "Japan, Japan-> Deaths: 0.0 Confirmed: 17.0",
            "China, Jiangsu-> Deaths: 0.0 Confirmed: 168.0",
            "China, Jiangxi-> Deaths: 0.0 Confirmed: 240.0",
            "China, Jilin-> Deaths: 0.0 Confirmed: 14.0",
            "China, Liaoning-> Deaths: 0.0 Confirmed: 60.0",
            "Macau, Macau-> Deaths: 0.0 Confirmed: 7.0",
            "Malaysia, Malaysia-> Deaths: 0.0 Confirmed: 8.0",
            "Nepal, Nepal-> Deaths: 0.0 Confirmed: 1.0",
            "Australia, New South Wales-> Deaths: 0.0 Confirmed: 4.0",
            "China, Ningxia-> Deaths: 0.0 Confirmed: 21.0",
            "Canada, Ontario-> Deaths: 0.0 Confirmed: 2.0",
            "Philippines, Philippines-> Deaths: 0.0 Confirmed: 1.0",
            "China, Qinghai-> Deaths: 0.0 Confirmed: 8.0",
            "Australia, Queensland-> Deaths: 0.0 Confirmed: 3.0",
            "Russia, Russia-> Deaths: 0.0 Confirmed: 2.0",
            "China, Shaanxi-> Deaths: 0.0 Confirmed: 87.0",
            "China, Shandong-> Deaths: 0.0 Confirmed: 184.0",
            "China, Shanghai-> Deaths: 1.0 Confirmed: 153.0",
            "China, Shanxi-> Deaths: 0.0 Confirmed: 47.0",
            "China, Sichuan-> Deaths: 1.0 Confirmed: 177.0",
            "Singapore, Singapore-> Deaths: 0.0 Confirmed: 16.0",
            "South Korea, South Korea-> Deaths: 0.0 Confirmed: 11.0",
            "Spain, Spain-> Deaths: 0.0 Confirmed: 1.0",
            "Sri Lanka, Sri Lanka-> Deaths: 0.0 Confirmed: 1.0",
            "Sweden, Sweden-> Deaths: 0.0 Confirmed: 1.0",
            "Taiwan, Taiwan-> Deaths: 0.0 Confirmed: 10.0",
            "Thailand, Thailand-> Deaths: 0.0 Confirmed: 19.0",
            "China, Tianjin-> Deaths: 0.0 Confirmed: 32.0",
            "China, Tibet-> Deaths: 0.0 Confirmed: 1.0",
            "UK, UK-> Deaths: 0.0 Confirmed: 2.0",
            "United Arab Emirates, United Arab Emirates-> Deaths: 0.0 Confirmed: 4.0",
            "Australia, Victoria-> Deaths: 0.0 Confirmed: 2.0",
            "Vietnam, Vietnam-> Deaths: 0.0 Confirmed: 2.0",
            "US, Washington-> Deaths: 0.0 Confirmed: 1.0",
            "China, Xinjiang-> Deaths: 0.0 Confirmed: 17.0",
            "China, Yunnan-> Deaths: 0.0 Confirmed: 83.0",
            "China, Zhejiang-> Deaths: 0.0 Confirmed: 537.0"
           ],
           "type": "scattergeo"
          }
         ],
         "layout": {
          "title": {
           "text": "Corona Virus",
           "x": 0.5,
           "xanchor": "center",
           "y": 0.98,
           "yanchor": "top"
          }
         }
        },
        {
         "data": [
          {
           "lat": [
            32,
            39.906217,
            42.3602534,
            55.001251,
            13.5066394,
            41.875561600000005,
            30.05518,
            63.2467777,
            46.603353999999996,
            26.5450001,
            38.0000001,
            23.135769399999997,
            24,
            27,
            19.2000001,
            39.0000001,
            48.000004700000005,
            34.0000001,
            22.2793278,
            31.15172525,
            27.999587800000004,
            22.3511148,
            43.2443242,
            42.6384261,
            36.5748441,
            33.0000001,
            28,
            42.9995032,
            40.997519700000005,
            34.0536909,
            22.175760500000003,
            4.5693754,
            28.108392900000002,
            -31.875983500000004,
            37.0000001,
            50.000678,
            29.7742659,
            12.750348599999999,
            35.40709525,
            -22.1646782,
            64.6863136,
            37.35411320000001,
            47.6038321,
            36,
            36.0000001,
            31.232275800000004,
            37,
            30.500000099999998,
            1.357107,
            -30.534366499999997,
            36.5581914,
            39.3262345,
            7.555494199999999,
            59.67497120000001,
            23.973937399999997,
            33.4255056,
            14.8971921,
            39.1235635,
            31.89434315,
            54.702354500000006,
            24.0002488,
            -36.5986096,
            13.2904027,
            41.7574769,
            25,
            29.000000099999998
           ],
           "locationmode": "country names",
           "lon": [
            117,
            116.3912757,
            -71.0582912,
            -125.00244099999999,
            104.869423,
            -87.6244212,
            107.8748712,
            25.9209164,
            1.8883334999999999,
            117.84277800000001,
            101.9999999,
            113.19826880000001,
            109,
            107,
            109.5999999,
            116,
            127.99999199999999,
            113.9999999,
            114.16281310000001,
            112.87832224656044,
            112.00953799999999,
            78.6677428,
            114.32516640000001,
            12.674297,
            139.2394179,
            119.9999999,
            116,
            125.9816054,
            122.99554690000001,
            -118.2427666,
            113.5514142,
            102.2656823,
            84.0917139,
            147.2869493,
            105.9999999,
            -86.000977,
            -95.3341066,
            122.7312101,
            95.95211573241954,
            144.58449030000003,
            97.7453061,
            -121.95517439999999,
            -122.3300624,
            109,
            118.9999999,
            121.4692071,
            112,
            102.4999999,
            103.81949920000001,
            135.6301212,
            127.9408564,
            -4.838064900000001,
            80.7137847,
            14.5208584,
            120.9820179,
            -111.9400125,
            100.83273,
            117.1980785,
            87.07813712706509,
            -3.2765752999999997,
            53.999482900000004,
            144.6780052,
            108.42651129999999,
            87.16738423046895,
            102,
            119.9999999
           ],
           "marker": {
            "autocolorscale": false,
            "cmax": 350,
            "cmin": 0,
            "color": [
             0,
             1,
             0,
             0,
             0,
             0,
             2,
             0,
             0,
             0,
             0,
             0,
             0,
             0,
             1,
             1,
             2,
             2,
             0,
             350,
             0,
             0,
             0,
             0,
             0,
             0,
             0,
             0,
             0,
             0,
             0,
             0,
             0,
             0,
             0,
             0,
             0,
             1,
             0,
             0,
             0,
             0,
             0,
             0,
             0,
             1,
             0,
             1,
             0,
             0,
             0,
             0,
             0,
             0,
             0,
             0,
             0,
             0,
             0,
             0,
             0,
             0,
             0,
             0,
             0,
             0
            ],
            "colorbar": {
             "title": {
              "text": "Number of Deaths"
             }
            },
            "line": {
             "color": "rgba(0, 0, 0)",
             "width": 0.5
            },
            "reversescale": true,
            "size": [
             12.266402734916461,
             9.995635501635093,
             4,
             4,
             4,
             4.29268464756894,
             11.26898714097422,
             4,
             4.94179852477375,
             9.536304383316704,
             7.2897639830644705,
             14.214642812282642,
             9.014320439199771,
             7.128917772316606,
             7.8489894617132165,
             8.759694167055606,
             8.401199567139276,
             13.460721531990252,
             5.726398632195241,
             34.577643875457504,
             13.144629578632946,
             4.29268464756894,
             6.389492891729259,
             4.29268464756894,
             6.032934011676862,
             10.96342212402689,
             12.121483265511438,
             6.567435936849419,
             7.823581762327395,
             4,
             5.160119477784612,
             5.160119477784612,
             4,
             4.671033598060435,
             6.435456517476041,
             4.502144029037208,
             4,
             4.29268464756894,
             5.4305300479524705,
             4.29268464756894,
             4.29268464756894,
             4.29268464756894,
             4,
             8.815861693894782,
             10.683012170568894,
             10.022677210900873,
             7.719599661532381,
             10.77461969731363,
             5.916861059582148,
             4.29268464756894,
             5.726398632195241,
             4,
             4,
             4,
             5.346228848142263,
             4,
             5.975859650018929,
             7.194516815297205,
             4,
             4.29268464756894,
             4.815004806125491,
             4.671033598060435,
             4.94179852477375,
             6.244810575561126,
             8.605167939821492,
             14.459414586845678
            ]
           },
           "mode": "lines+markers",
           "text": [
            "China, Anhui-> Deaths: 0.0 Confirmed: 408.0",
            "China, Beijing-> Deaths: 1.0 Confirmed: 191.0",
            "US, Boston, MA-> Deaths: 0.0 Confirmed: 1.0",
            "Canada, British Columbia-> Deaths: 0.0 Confirmed: 1.0",
            "Cambodia, Cambodia-> Deaths: 0.0 Confirmed: 1.0",
            "US, Chicago, IL-> Deaths: 0.0 Confirmed: 2.0",
            "China, Chongqing-> Deaths: 2.0 Confirmed: 300.0",
            "Finland, Finland-> Deaths: 0.0 Confirmed: 1.0",
            "France, France-> Deaths: 0.0 Confirmed: 6.0",
            "China, Fujian-> Deaths: 0.0 Confirmed: 159.0",
            "China, Gansu-> Deaths: 0.0 Confirmed: 51.0",
            "China, Guangdong-> Deaths: 0.0 Confirmed: 683.0",
            "China, Guangxi-> Deaths: 0.0 Confirmed: 127.0",
            "China, Guizhou-> Deaths: 0.0 Confirmed: 46.0",
            "China, Hainan-> Deaths: 1.0 Confirmed: 71.0",
            "China, Hebei-> Deaths: 1.0 Confirmed: 113.0",
            "China, Heilongjiang-> Deaths: 2.0 Confirmed: 95.0",
            "China, Henan-> Deaths: 2.0 Confirmed: 566.0",
            "Hong Kong, Hong Kong-> Deaths: 0.0 Confirmed: 15.0",
            "China, Hubei-> Deaths: 350.0 Confirmed: 11177.0",
            "China, Hunan-> Deaths: 0.0 Confirmed: 521.0",
            "India, India-> Deaths: 0.0 Confirmed: 2.0",
            "China, Inner Mongolia-> Deaths: 0.0 Confirmed: 27.0",
            "Italy, Italy-> Deaths: 0.0 Confirmed: 2.0",
            "Japan, Japan-> Deaths: 0.0 Confirmed: 20.0",
            "China, Jiangsu-> Deaths: 0.0 Confirmed: 271.0",
            "China, Jiangxi-> Deaths: 0.0 Confirmed: 391.0",
            "China, Jilin-> Deaths: 0.0 Confirmed: 31.0",
            "China, Liaoning-> Deaths: 0.0 Confirmed: 70.0",
            "US, Los Angeles, CA-> Deaths: 0.0 Confirmed: 1.0",
            "Macau, Macau-> Deaths: 0.0 Confirmed: 8.0",
            "Malaysia, Malaysia-> Deaths: 0.0 Confirmed: 8.0",
            "Nepal, Nepal-> Deaths: 0.0 Confirmed: 1.0",
            "Australia, New South Wales-> Deaths: 0.0 Confirmed: 4.0",
            "China, Ningxia-> Deaths: 0.0 Confirmed: 28.0",
            "Canada, Ontario-> Deaths: 0.0 Confirmed: 3.0",
            "US, Orange, CA-> Deaths: 0.0 Confirmed: 1.0",
            "Philippines, Philippines-> Deaths: 1.0 Confirmed: 2.0",
            "China, Qinghai-> Deaths: 0.0 Confirmed: 11.0",
            "Australia, Queensland-> Deaths: 0.0 Confirmed: 2.0",
            "Russia, Russia-> Deaths: 0.0 Confirmed: 2.0",
            "US, Santa Clara, CA-> Deaths: 0.0 Confirmed: 2.0",
            "US, Seattle, WA-> Deaths: 0.0 Confirmed: 1.0",
            "China, Shaanxi-> Deaths: 0.0 Confirmed: 116.0",
            "China, Shandong-> Deaths: 0.0 Confirmed: 246.0",
            "China, Shanghai-> Deaths: 1.0 Confirmed: 193.0",
            "China, Shanxi-> Deaths: 0.0 Confirmed: 66.0",
            "China, Sichuan-> Deaths: 1.0 Confirmed: 254.0",
            "Singapore, Singapore-> Deaths: 0.0 Confirmed: 18.0",
            "Australia, South Australia-> Deaths: 0.0 Confirmed: 2.0",
            "South Korea, South Korea-> Deaths: 0.0 Confirmed: 15.0",
            "Spain, Spain-> Deaths: 0.0 Confirmed: 1.0",
            "Sri Lanka, Sri Lanka-> Deaths: 0.0 Confirmed: 1.0",
            "Sweden, Sweden-> Deaths: 0.0 Confirmed: 1.0",
            "Taiwan, Taiwan-> Deaths: 0.0 Confirmed: 10.0",
            "US, Tempe, AZ-> Deaths: 0.0 Confirmed: 1.0",
            "Thailand, Thailand-> Deaths: 0.0 Confirmed: 19.0",
            "China, Tianjin-> Deaths: 0.0 Confirmed: 48.0",
            "China, Tibet-> Deaths: 0.0 Confirmed: 1.0",
            "UK, UK-> Deaths: 0.0 Confirmed: 2.0",
            "United Arab Emirates, United Arab Emirates-> Deaths: 0.0 Confirmed: 5.0",
            "Australia, Victoria-> Deaths: 0.0 Confirmed: 4.0",
            "Vietnam, Vietnam-> Deaths: 0.0 Confirmed: 6.0",
            "China, Xinjiang-> Deaths: 0.0 Confirmed: 24.0",
            "China, Yunnan-> Deaths: 0.0 Confirmed: 105.0",
            "China, Zhejiang-> Deaths: 0.0 Confirmed: 724.0"
           ],
           "type": "scattergeo"
          }
         ],
         "layout": {
          "title": {
           "text": "Corona Virus",
           "x": 0.5,
           "xanchor": "center",
           "y": 0.98,
           "yanchor": "top"
          }
         }
        }
       ],
       "layout": {
        "geo": {
         "countrycolor": "rgb(128, 128, 128)",
         "landcolor": "rgb(252, 240, 220)",
         "projection": {
          "type": "robinson"
         },
         "showcountries": true,
         "showland": true,
         "showocean": true
        },
        "template": {
         "data": {
          "bar": [
           {
            "error_x": {
             "color": "#2a3f5f"
            },
            "error_y": {
             "color": "#2a3f5f"
            },
            "marker": {
             "line": {
              "color": "#E5ECF6",
              "width": 0.5
             }
            },
            "type": "bar"
           }
          ],
          "barpolar": [
           {
            "marker": {
             "line": {
              "color": "#E5ECF6",
              "width": 0.5
             }
            },
            "type": "barpolar"
           }
          ],
          "carpet": [
           {
            "aaxis": {
             "endlinecolor": "#2a3f5f",
             "gridcolor": "white",
             "linecolor": "white",
             "minorgridcolor": "white",
             "startlinecolor": "#2a3f5f"
            },
            "baxis": {
             "endlinecolor": "#2a3f5f",
             "gridcolor": "white",
             "linecolor": "white",
             "minorgridcolor": "white",
             "startlinecolor": "#2a3f5f"
            },
            "type": "carpet"
           }
          ],
          "choropleth": [
           {
            "colorbar": {
             "outlinewidth": 0,
             "ticks": ""
            },
            "type": "choropleth"
           }
          ],
          "contour": [
           {
            "colorbar": {
             "outlinewidth": 0,
             "ticks": ""
            },
            "colorscale": [
             [
              0,
              "#0d0887"
             ],
             [
              0.1111111111111111,
              "#46039f"
             ],
             [
              0.2222222222222222,
              "#7201a8"
             ],
             [
              0.3333333333333333,
              "#9c179e"
             ],
             [
              0.4444444444444444,
              "#bd3786"
             ],
             [
              0.5555555555555556,
              "#d8576b"
             ],
             [
              0.6666666666666666,
              "#ed7953"
             ],
             [
              0.7777777777777778,
              "#fb9f3a"
             ],
             [
              0.8888888888888888,
              "#fdca26"
             ],
             [
              1,
              "#f0f921"
             ]
            ],
            "type": "contour"
           }
          ],
          "contourcarpet": [
           {
            "colorbar": {
             "outlinewidth": 0,
             "ticks": ""
            },
            "type": "contourcarpet"
           }
          ],
          "heatmap": [
           {
            "colorbar": {
             "outlinewidth": 0,
             "ticks": ""
            },
            "colorscale": [
             [
              0,
              "#0d0887"
             ],
             [
              0.1111111111111111,
              "#46039f"
             ],
             [
              0.2222222222222222,
              "#7201a8"
             ],
             [
              0.3333333333333333,
              "#9c179e"
             ],
             [
              0.4444444444444444,
              "#bd3786"
             ],
             [
              0.5555555555555556,
              "#d8576b"
             ],
             [
              0.6666666666666666,
              "#ed7953"
             ],
             [
              0.7777777777777778,
              "#fb9f3a"
             ],
             [
              0.8888888888888888,
              "#fdca26"
             ],
             [
              1,
              "#f0f921"
             ]
            ],
            "type": "heatmap"
           }
          ],
          "heatmapgl": [
           {
            "colorbar": {
             "outlinewidth": 0,
             "ticks": ""
            },
            "colorscale": [
             [
              0,
              "#0d0887"
             ],
             [
              0.1111111111111111,
              "#46039f"
             ],
             [
              0.2222222222222222,
              "#7201a8"
             ],
             [
              0.3333333333333333,
              "#9c179e"
             ],
             [
              0.4444444444444444,
              "#bd3786"
             ],
             [
              0.5555555555555556,
              "#d8576b"
             ],
             [
              0.6666666666666666,
              "#ed7953"
             ],
             [
              0.7777777777777778,
              "#fb9f3a"
             ],
             [
              0.8888888888888888,
              "#fdca26"
             ],
             [
              1,
              "#f0f921"
             ]
            ],
            "type": "heatmapgl"
           }
          ],
          "histogram": [
           {
            "marker": {
             "colorbar": {
              "outlinewidth": 0,
              "ticks": ""
             }
            },
            "type": "histogram"
           }
          ],
          "histogram2d": [
           {
            "colorbar": {
             "outlinewidth": 0,
             "ticks": ""
            },
            "colorscale": [
             [
              0,
              "#0d0887"
             ],
             [
              0.1111111111111111,
              "#46039f"
             ],
             [
              0.2222222222222222,
              "#7201a8"
             ],
             [
              0.3333333333333333,
              "#9c179e"
             ],
             [
              0.4444444444444444,
              "#bd3786"
             ],
             [
              0.5555555555555556,
              "#d8576b"
             ],
             [
              0.6666666666666666,
              "#ed7953"
             ],
             [
              0.7777777777777778,
              "#fb9f3a"
             ],
             [
              0.8888888888888888,
              "#fdca26"
             ],
             [
              1,
              "#f0f921"
             ]
            ],
            "type": "histogram2d"
           }
          ],
          "histogram2dcontour": [
           {
            "colorbar": {
             "outlinewidth": 0,
             "ticks": ""
            },
            "colorscale": [
             [
              0,
              "#0d0887"
             ],
             [
              0.1111111111111111,
              "#46039f"
             ],
             [
              0.2222222222222222,
              "#7201a8"
             ],
             [
              0.3333333333333333,
              "#9c179e"
             ],
             [
              0.4444444444444444,
              "#bd3786"
             ],
             [
              0.5555555555555556,
              "#d8576b"
             ],
             [
              0.6666666666666666,
              "#ed7953"
             ],
             [
              0.7777777777777778,
              "#fb9f3a"
             ],
             [
              0.8888888888888888,
              "#fdca26"
             ],
             [
              1,
              "#f0f921"
             ]
            ],
            "type": "histogram2dcontour"
           }
          ],
          "mesh3d": [
           {
            "colorbar": {
             "outlinewidth": 0,
             "ticks": ""
            },
            "type": "mesh3d"
           }
          ],
          "parcoords": [
           {
            "line": {
             "colorbar": {
              "outlinewidth": 0,
              "ticks": ""
             }
            },
            "type": "parcoords"
           }
          ],
          "scatter": [
           {
            "marker": {
             "colorbar": {
              "outlinewidth": 0,
              "ticks": ""
             }
            },
            "type": "scatter"
           }
          ],
          "scatter3d": [
           {
            "line": {
             "colorbar": {
              "outlinewidth": 0,
              "ticks": ""
             }
            },
            "marker": {
             "colorbar": {
              "outlinewidth": 0,
              "ticks": ""
             }
            },
            "type": "scatter3d"
           }
          ],
          "scattercarpet": [
           {
            "marker": {
             "colorbar": {
              "outlinewidth": 0,
              "ticks": ""
             }
            },
            "type": "scattercarpet"
           }
          ],
          "scattergeo": [
           {
            "marker": {
             "colorbar": {
              "outlinewidth": 0,
              "ticks": ""
             }
            },
            "type": "scattergeo"
           }
          ],
          "scattergl": [
           {
            "marker": {
             "colorbar": {
              "outlinewidth": 0,
              "ticks": ""
             }
            },
            "type": "scattergl"
           }
          ],
          "scattermapbox": [
           {
            "marker": {
             "colorbar": {
              "outlinewidth": 0,
              "ticks": ""
             }
            },
            "type": "scattermapbox"
           }
          ],
          "scatterpolar": [
           {
            "marker": {
             "colorbar": {
              "outlinewidth": 0,
              "ticks": ""
             }
            },
            "type": "scatterpolar"
           }
          ],
          "scatterpolargl": [
           {
            "marker": {
             "colorbar": {
              "outlinewidth": 0,
              "ticks": ""
             }
            },
            "type": "scatterpolargl"
           }
          ],
          "scatterternary": [
           {
            "marker": {
             "colorbar": {
              "outlinewidth": 0,
              "ticks": ""
             }
            },
            "type": "scatterternary"
           }
          ],
          "surface": [
           {
            "colorbar": {
             "outlinewidth": 0,
             "ticks": ""
            },
            "colorscale": [
             [
              0,
              "#0d0887"
             ],
             [
              0.1111111111111111,
              "#46039f"
             ],
             [
              0.2222222222222222,
              "#7201a8"
             ],
             [
              0.3333333333333333,
              "#9c179e"
             ],
             [
              0.4444444444444444,
              "#bd3786"
             ],
             [
              0.5555555555555556,
              "#d8576b"
             ],
             [
              0.6666666666666666,
              "#ed7953"
             ],
             [
              0.7777777777777778,
              "#fb9f3a"
             ],
             [
              0.8888888888888888,
              "#fdca26"
             ],
             [
              1,
              "#f0f921"
             ]
            ],
            "type": "surface"
           }
          ],
          "table": [
           {
            "cells": {
             "fill": {
              "color": "#EBF0F8"
             },
             "line": {
              "color": "white"
             }
            },
            "header": {
             "fill": {
              "color": "#C8D4E3"
             },
             "line": {
              "color": "white"
             }
            },
            "type": "table"
           }
          ]
         },
         "layout": {
          "annotationdefaults": {
           "arrowcolor": "#2a3f5f",
           "arrowhead": 0,
           "arrowwidth": 1
          },
          "colorscale": {
           "diverging": [
            [
             0,
             "#8e0152"
            ],
            [
             0.1,
             "#c51b7d"
            ],
            [
             0.2,
             "#de77ae"
            ],
            [
             0.3,
             "#f1b6da"
            ],
            [
             0.4,
             "#fde0ef"
            ],
            [
             0.5,
             "#f7f7f7"
            ],
            [
             0.6,
             "#e6f5d0"
            ],
            [
             0.7,
             "#b8e186"
            ],
            [
             0.8,
             "#7fbc41"
            ],
            [
             0.9,
             "#4d9221"
            ],
            [
             1,
             "#276419"
            ]
           ],
           "sequential": [
            [
             0,
             "#0d0887"
            ],
            [
             0.1111111111111111,
             "#46039f"
            ],
            [
             0.2222222222222222,
             "#7201a8"
            ],
            [
             0.3333333333333333,
             "#9c179e"
            ],
            [
             0.4444444444444444,
             "#bd3786"
            ],
            [
             0.5555555555555556,
             "#d8576b"
            ],
            [
             0.6666666666666666,
             "#ed7953"
            ],
            [
             0.7777777777777778,
             "#fb9f3a"
            ],
            [
             0.8888888888888888,
             "#fdca26"
            ],
            [
             1,
             "#f0f921"
            ]
           ],
           "sequentialminus": [
            [
             0,
             "#0d0887"
            ],
            [
             0.1111111111111111,
             "#46039f"
            ],
            [
             0.2222222222222222,
             "#7201a8"
            ],
            [
             0.3333333333333333,
             "#9c179e"
            ],
            [
             0.4444444444444444,
             "#bd3786"
            ],
            [
             0.5555555555555556,
             "#d8576b"
            ],
            [
             0.6666666666666666,
             "#ed7953"
            ],
            [
             0.7777777777777778,
             "#fb9f3a"
            ],
            [
             0.8888888888888888,
             "#fdca26"
            ],
            [
             1,
             "#f0f921"
            ]
           ]
          },
          "colorway": [
           "#636efa",
           "#EF553B",
           "#00cc96",
           "#ab63fa",
           "#FFA15A",
           "#19d3f3",
           "#FF6692",
           "#B6E880",
           "#FF97FF",
           "#FECB52"
          ],
          "font": {
           "color": "#2a3f5f"
          },
          "geo": {
           "bgcolor": "white",
           "lakecolor": "white",
           "landcolor": "#E5ECF6",
           "showlakes": true,
           "showland": true,
           "subunitcolor": "white"
          },
          "hoverlabel": {
           "align": "left"
          },
          "hovermode": "closest",
          "mapbox": {
           "style": "light"
          },
          "paper_bgcolor": "white",
          "plot_bgcolor": "#E5ECF6",
          "polar": {
           "angularaxis": {
            "gridcolor": "white",
            "linecolor": "white",
            "ticks": ""
           },
           "bgcolor": "#E5ECF6",
           "radialaxis": {
            "gridcolor": "white",
            "linecolor": "white",
            "ticks": ""
           }
          },
          "scene": {
           "xaxis": {
            "backgroundcolor": "#E5ECF6",
            "gridcolor": "white",
            "gridwidth": 2,
            "linecolor": "white",
            "showbackground": true,
            "ticks": "",
            "zerolinecolor": "white"
           },
           "yaxis": {
            "backgroundcolor": "#E5ECF6",
            "gridcolor": "white",
            "gridwidth": 2,
            "linecolor": "white",
            "showbackground": true,
            "ticks": "",
            "zerolinecolor": "white"
           },
           "zaxis": {
            "backgroundcolor": "#E5ECF6",
            "gridcolor": "white",
            "gridwidth": 2,
            "linecolor": "white",
            "showbackground": true,
            "ticks": "",
            "zerolinecolor": "white"
           }
          },
          "shapedefaults": {
           "line": {
            "color": "#2a3f5f"
           }
          },
          "ternary": {
           "aaxis": {
            "gridcolor": "white",
            "linecolor": "white",
            "ticks": ""
           },
           "baxis": {
            "gridcolor": "white",
            "linecolor": "white",
            "ticks": ""
           },
           "bgcolor": "#E5ECF6",
           "caxis": {
            "gridcolor": "white",
            "linecolor": "white",
            "ticks": ""
           }
          },
          "title": {
           "x": 0.05
          },
          "xaxis": {
           "automargin": true,
           "gridcolor": "white",
           "linecolor": "white",
           "ticks": "",
           "zerolinecolor": "white",
           "zerolinewidth": 2
          },
          "yaxis": {
           "automargin": true,
           "gridcolor": "white",
           "linecolor": "white",
           "ticks": "",
           "zerolinecolor": "white",
           "zerolinewidth": 2
          }
         }
        },
        "title": {
         "text": "[Last recorded data]Detection of Corona Virus 2nd Feb",
         "x": 0.5,
         "xanchor": "center",
         "y": 0.98,
         "yanchor": "top"
        }
       }
      },
      "text/html": [
       "<div>\n",
       "        \n",
       "        \n",
       "            <div id=\"b5e2c655-c600-4cfc-b8f1-ff673074226d\" class=\"plotly-graph-div\" style=\"height:525px; width:100%;\"></div>\n",
       "            <script type=\"text/javascript\">\n",
       "                require([\"plotly\"], function(Plotly) {\n",
       "                    window.PLOTLYENV=window.PLOTLYENV || {};\n",
       "                    \n",
       "                if (document.getElementById(\"b5e2c655-c600-4cfc-b8f1-ff673074226d\")) {\n",
       "                    Plotly.newPlot(\n",
       "                        'b5e2c655-c600-4cfc-b8f1-ff673074226d',\n",
       "                        [{\"lat\": [32.0, 39.906217, 30.05518, 26.5450001, 23.135769399999997, 24.0, 27.0, 19.2000001, 39.0000001, 34.0000001, 31.15172525, 27.999587800000004, 36.5748441, 33.0000001, 28.0, 40.997519700000005, 22.175760500000003, 37.0000001, 36.0000001, 31.232275800000004, 37.0, 30.500000099999998, 36.5581914, 23.973937399999997, 14.8971921, 39.1235635, 38.894893200000006, 25.0, 29.000000099999998], \"locationmode\": \"country names\", \"lon\": [117.0, 116.3912757, 107.8748712, 117.84277800000001, 113.19826880000001, 109.0, 107.0, 109.5999999, 116.0, 113.9999999, 112.87832224656044, 112.00953799999999, 139.2394179, 119.9999999, 116.0, 122.99554690000001, 113.5514142, 105.9999999, 118.9999999, 121.4692071, 112.0, 102.4999999, 127.9408564, 120.9820179, 100.83273, 117.1980785, -77.0365529, 102.0, 119.9999999], \"marker\": {\"autocolorscale\": false, \"cmax\": 350.0, \"cmin\": 0, \"color\": [0.0, 0.0, 0.0, 0.0, 0.0, 0.0, 0.0, 0.0, 0.0, 0.0, 0.0, 0.0, 0.0, 0.0, 0.0, 0.0, 0.0, 0.0, 0.0, 0.0, 0.0, 0.0, 0.0, 0.0, 0.0, 0.0, 0.0, 0.0, 0.0], \"colorbar\": {\"title\": {\"text\": \"Number of Deaths\"}}, \"line\": {\"color\": \"rgba(0, 0, 0)\", \"width\": 0.5}, \"reversescale\": true, \"size\": [4.0, 5.657613768320726, 4.94179852477375, 4.0, 6.34244448653463, 4.29268464756894, 4.0, 4.671033598060435, 4.0, 4.815004806125491, 12.561195780665512, 4.671033598060435, 4.29268464756894, 4.0, 4.29268464756894, 4.29268464756894, 4.0, 4.0, 4.29268464756894, 5.256436683972135, 4.0, 4.815004806125491, 4.0, 4.0, 4.29268464756894, 4.671033598060435, 4.0, 4.0, 5.346228848142263]}, \"mode\": \"lines+markers\", \"text\": [\"China, Anhui-> Deaths: 0.0 Confirmed: 1.0\", \"China, Beijing-> Deaths: 0.0 Confirmed: 14.0\", \"China, Chongqing-> Deaths: 0.0 Confirmed: 6.0\", \"China, Fujian-> Deaths: 0.0 Confirmed: 1.0\", \"China, Guangdong-> Deaths: 0.0 Confirmed: 26.0\", \"China, Guangxi-> Deaths: 0.0 Confirmed: 2.0\", \"China, Guizhou-> Deaths: 0.0 Confirmed: 1.0\", \"China, Hainan-> Deaths: 0.0 Confirmed: 4.0\", \"China, Hebei-> Deaths: 0.0 Confirmed: 1.0\", \"China, Henan-> Deaths: 0.0 Confirmed: 5.0\", \"China, Hubei-> Deaths: 0.0 Confirmed: 444.0\", \"China, Hunan-> Deaths: 0.0 Confirmed: 4.0\", \"Japan, Japan-> Deaths: 0.0 Confirmed: 2.0\", \"China, Jiangsu-> Deaths: 0.0 Confirmed: 1.0\", \"China, Jiangxi-> Deaths: 0.0 Confirmed: 2.0\", \"China, Liaoning-> Deaths: 0.0 Confirmed: 2.0\", \"China, Macau-> Deaths: 0.0 Confirmed: 1.0\", \"China, Ningxia-> Deaths: 0.0 Confirmed: 1.0\", \"China, Shandong-> Deaths: 0.0 Confirmed: 2.0\", \"China, Shanghai-> Deaths: 0.0 Confirmed: 9.0\", \"China, Shanxi-> Deaths: 0.0 Confirmed: 1.0\", \"China, Sichuan-> Deaths: 0.0 Confirmed: 5.0\", \"South Korea, South Korea-> Deaths: 0.0 Confirmed: 1.0\", \"China, Taiwan-> Deaths: 0.0 Confirmed: 1.0\", \"Thailand, Thailand-> Deaths: 0.0 Confirmed: 2.0\", \"China, Tianjin-> Deaths: 0.0 Confirmed: 4.0\", \"US, Washington-> Deaths: 0.0 Confirmed: 1.0\", \"China, Yunnan-> Deaths: 0.0 Confirmed: 1.0\", \"China, Zhejiang-> Deaths: 0.0 Confirmed: 10.0\"], \"type\": \"scattergeo\"}],\n",
       "                        {\"geo\": {\"countrycolor\": \"rgb(128, 128, 128)\", \"landcolor\": \"rgb(252, 240, 220)\", \"projection\": {\"type\": \"robinson\"}, \"showcountries\": true, \"showland\": true, \"showocean\": true}, \"template\": {\"data\": {\"bar\": [{\"error_x\": {\"color\": \"#2a3f5f\"}, \"error_y\": {\"color\": \"#2a3f5f\"}, \"marker\": {\"line\": {\"color\": \"#E5ECF6\", \"width\": 0.5}}, \"type\": \"bar\"}], \"barpolar\": [{\"marker\": {\"line\": {\"color\": \"#E5ECF6\", \"width\": 0.5}}, \"type\": \"barpolar\"}], \"carpet\": [{\"aaxis\": {\"endlinecolor\": \"#2a3f5f\", \"gridcolor\": \"white\", \"linecolor\": \"white\", \"minorgridcolor\": \"white\", \"startlinecolor\": \"#2a3f5f\"}, \"baxis\": {\"endlinecolor\": \"#2a3f5f\", \"gridcolor\": \"white\", \"linecolor\": \"white\", \"minorgridcolor\": \"white\", \"startlinecolor\": \"#2a3f5f\"}, \"type\": \"carpet\"}], \"choropleth\": [{\"colorbar\": {\"outlinewidth\": 0, \"ticks\": \"\"}, \"type\": \"choropleth\"}], \"contour\": [{\"colorbar\": {\"outlinewidth\": 0, \"ticks\": \"\"}, \"colorscale\": [[0.0, \"#0d0887\"], [0.1111111111111111, \"#46039f\"], [0.2222222222222222, \"#7201a8\"], [0.3333333333333333, \"#9c179e\"], [0.4444444444444444, \"#bd3786\"], [0.5555555555555556, \"#d8576b\"], [0.6666666666666666, \"#ed7953\"], [0.7777777777777778, \"#fb9f3a\"], [0.8888888888888888, \"#fdca26\"], [1.0, \"#f0f921\"]], \"type\": \"contour\"}], \"contourcarpet\": [{\"colorbar\": {\"outlinewidth\": 0, \"ticks\": \"\"}, \"type\": \"contourcarpet\"}], \"heatmap\": [{\"colorbar\": {\"outlinewidth\": 0, \"ticks\": \"\"}, \"colorscale\": [[0.0, \"#0d0887\"], [0.1111111111111111, \"#46039f\"], [0.2222222222222222, \"#7201a8\"], [0.3333333333333333, \"#9c179e\"], [0.4444444444444444, \"#bd3786\"], [0.5555555555555556, \"#d8576b\"], [0.6666666666666666, \"#ed7953\"], [0.7777777777777778, \"#fb9f3a\"], [0.8888888888888888, \"#fdca26\"], [1.0, \"#f0f921\"]], \"type\": \"heatmap\"}], \"heatmapgl\": [{\"colorbar\": {\"outlinewidth\": 0, \"ticks\": \"\"}, \"colorscale\": [[0.0, \"#0d0887\"], [0.1111111111111111, \"#46039f\"], [0.2222222222222222, \"#7201a8\"], [0.3333333333333333, \"#9c179e\"], [0.4444444444444444, \"#bd3786\"], [0.5555555555555556, \"#d8576b\"], [0.6666666666666666, \"#ed7953\"], [0.7777777777777778, \"#fb9f3a\"], [0.8888888888888888, \"#fdca26\"], [1.0, \"#f0f921\"]], \"type\": \"heatmapgl\"}], \"histogram\": [{\"marker\": {\"colorbar\": {\"outlinewidth\": 0, \"ticks\": \"\"}}, \"type\": \"histogram\"}], \"histogram2d\": [{\"colorbar\": {\"outlinewidth\": 0, \"ticks\": \"\"}, \"colorscale\": [[0.0, \"#0d0887\"], [0.1111111111111111, \"#46039f\"], [0.2222222222222222, \"#7201a8\"], [0.3333333333333333, \"#9c179e\"], [0.4444444444444444, \"#bd3786\"], [0.5555555555555556, \"#d8576b\"], [0.6666666666666666, \"#ed7953\"], [0.7777777777777778, \"#fb9f3a\"], [0.8888888888888888, \"#fdca26\"], [1.0, \"#f0f921\"]], \"type\": \"histogram2d\"}], \"histogram2dcontour\": [{\"colorbar\": {\"outlinewidth\": 0, \"ticks\": \"\"}, \"colorscale\": [[0.0, \"#0d0887\"], [0.1111111111111111, \"#46039f\"], [0.2222222222222222, \"#7201a8\"], [0.3333333333333333, \"#9c179e\"], [0.4444444444444444, \"#bd3786\"], [0.5555555555555556, \"#d8576b\"], [0.6666666666666666, \"#ed7953\"], [0.7777777777777778, \"#fb9f3a\"], [0.8888888888888888, \"#fdca26\"], [1.0, \"#f0f921\"]], \"type\": \"histogram2dcontour\"}], \"mesh3d\": [{\"colorbar\": {\"outlinewidth\": 0, \"ticks\": \"\"}, \"type\": \"mesh3d\"}], \"parcoords\": [{\"line\": {\"colorbar\": {\"outlinewidth\": 0, \"ticks\": \"\"}}, \"type\": \"parcoords\"}], \"scatter\": [{\"marker\": {\"colorbar\": {\"outlinewidth\": 0, \"ticks\": \"\"}}, \"type\": \"scatter\"}], \"scatter3d\": [{\"line\": {\"colorbar\": {\"outlinewidth\": 0, \"ticks\": \"\"}}, \"marker\": {\"colorbar\": {\"outlinewidth\": 0, \"ticks\": \"\"}}, \"type\": \"scatter3d\"}], \"scattercarpet\": [{\"marker\": {\"colorbar\": {\"outlinewidth\": 0, \"ticks\": \"\"}}, \"type\": \"scattercarpet\"}], \"scattergeo\": [{\"marker\": {\"colorbar\": {\"outlinewidth\": 0, \"ticks\": \"\"}}, \"type\": \"scattergeo\"}], \"scattergl\": [{\"marker\": {\"colorbar\": {\"outlinewidth\": 0, \"ticks\": \"\"}}, \"type\": \"scattergl\"}], \"scattermapbox\": [{\"marker\": {\"colorbar\": {\"outlinewidth\": 0, \"ticks\": \"\"}}, \"type\": \"scattermapbox\"}], \"scatterpolar\": [{\"marker\": {\"colorbar\": {\"outlinewidth\": 0, \"ticks\": \"\"}}, \"type\": \"scatterpolar\"}], \"scatterpolargl\": [{\"marker\": {\"colorbar\": {\"outlinewidth\": 0, \"ticks\": \"\"}}, \"type\": \"scatterpolargl\"}], \"scatterternary\": [{\"marker\": {\"colorbar\": {\"outlinewidth\": 0, \"ticks\": \"\"}}, \"type\": \"scatterternary\"}], \"surface\": [{\"colorbar\": {\"outlinewidth\": 0, \"ticks\": \"\"}, \"colorscale\": [[0.0, \"#0d0887\"], [0.1111111111111111, \"#46039f\"], [0.2222222222222222, \"#7201a8\"], [0.3333333333333333, \"#9c179e\"], [0.4444444444444444, \"#bd3786\"], [0.5555555555555556, \"#d8576b\"], [0.6666666666666666, \"#ed7953\"], [0.7777777777777778, \"#fb9f3a\"], [0.8888888888888888, \"#fdca26\"], [1.0, \"#f0f921\"]], \"type\": \"surface\"}], \"table\": [{\"cells\": {\"fill\": {\"color\": \"#EBF0F8\"}, \"line\": {\"color\": \"white\"}}, \"header\": {\"fill\": {\"color\": \"#C8D4E3\"}, \"line\": {\"color\": \"white\"}}, \"type\": \"table\"}]}, \"layout\": {\"annotationdefaults\": {\"arrowcolor\": \"#2a3f5f\", \"arrowhead\": 0, \"arrowwidth\": 1}, \"colorscale\": {\"diverging\": [[0, \"#8e0152\"], [0.1, \"#c51b7d\"], [0.2, \"#de77ae\"], [0.3, \"#f1b6da\"], [0.4, \"#fde0ef\"], [0.5, \"#f7f7f7\"], [0.6, \"#e6f5d0\"], [0.7, \"#b8e186\"], [0.8, \"#7fbc41\"], [0.9, \"#4d9221\"], [1, \"#276419\"]], \"sequential\": [[0.0, \"#0d0887\"], [0.1111111111111111, \"#46039f\"], [0.2222222222222222, \"#7201a8\"], [0.3333333333333333, \"#9c179e\"], [0.4444444444444444, \"#bd3786\"], [0.5555555555555556, \"#d8576b\"], [0.6666666666666666, \"#ed7953\"], [0.7777777777777778, \"#fb9f3a\"], [0.8888888888888888, \"#fdca26\"], [1.0, \"#f0f921\"]], \"sequentialminus\": [[0.0, \"#0d0887\"], [0.1111111111111111, \"#46039f\"], [0.2222222222222222, \"#7201a8\"], [0.3333333333333333, \"#9c179e\"], [0.4444444444444444, \"#bd3786\"], [0.5555555555555556, \"#d8576b\"], [0.6666666666666666, \"#ed7953\"], [0.7777777777777778, \"#fb9f3a\"], [0.8888888888888888, \"#fdca26\"], [1.0, \"#f0f921\"]]}, \"colorway\": [\"#636efa\", \"#EF553B\", \"#00cc96\", \"#ab63fa\", \"#FFA15A\", \"#19d3f3\", \"#FF6692\", \"#B6E880\", \"#FF97FF\", \"#FECB52\"], \"font\": {\"color\": \"#2a3f5f\"}, \"geo\": {\"bgcolor\": \"white\", \"lakecolor\": \"white\", \"landcolor\": \"#E5ECF6\", \"showlakes\": true, \"showland\": true, \"subunitcolor\": \"white\"}, \"hoverlabel\": {\"align\": \"left\"}, \"hovermode\": \"closest\", \"mapbox\": {\"style\": \"light\"}, \"paper_bgcolor\": \"white\", \"plot_bgcolor\": \"#E5ECF6\", \"polar\": {\"angularaxis\": {\"gridcolor\": \"white\", \"linecolor\": \"white\", \"ticks\": \"\"}, \"bgcolor\": \"#E5ECF6\", \"radialaxis\": {\"gridcolor\": \"white\", \"linecolor\": \"white\", \"ticks\": \"\"}}, \"scene\": {\"xaxis\": {\"backgroundcolor\": \"#E5ECF6\", \"gridcolor\": \"white\", \"gridwidth\": 2, \"linecolor\": \"white\", \"showbackground\": true, \"ticks\": \"\", \"zerolinecolor\": \"white\"}, \"yaxis\": {\"backgroundcolor\": \"#E5ECF6\", \"gridcolor\": \"white\", \"gridwidth\": 2, \"linecolor\": \"white\", \"showbackground\": true, \"ticks\": \"\", \"zerolinecolor\": \"white\"}, \"zaxis\": {\"backgroundcolor\": \"#E5ECF6\", \"gridcolor\": \"white\", \"gridwidth\": 2, \"linecolor\": \"white\", \"showbackground\": true, \"ticks\": \"\", \"zerolinecolor\": \"white\"}}, \"shapedefaults\": {\"line\": {\"color\": \"#2a3f5f\"}}, \"ternary\": {\"aaxis\": {\"gridcolor\": \"white\", \"linecolor\": \"white\", \"ticks\": \"\"}, \"baxis\": {\"gridcolor\": \"white\", \"linecolor\": \"white\", \"ticks\": \"\"}, \"bgcolor\": \"#E5ECF6\", \"caxis\": {\"gridcolor\": \"white\", \"linecolor\": \"white\", \"ticks\": \"\"}}, \"title\": {\"x\": 0.05}, \"xaxis\": {\"automargin\": true, \"gridcolor\": \"white\", \"linecolor\": \"white\", \"ticks\": \"\", \"zerolinecolor\": \"white\", \"zerolinewidth\": 2}, \"yaxis\": {\"automargin\": true, \"gridcolor\": \"white\", \"linecolor\": \"white\", \"ticks\": \"\", \"zerolinecolor\": \"white\", \"zerolinewidth\": 2}}}, \"title\": {\"text\": \"[Last recorded data]Detection of Corona Virus 2nd Feb\", \"x\": 0.5, \"xanchor\": \"center\", \"y\": 0.98, \"yanchor\": \"top\"}},\n",
       "                        {\"responsive\": true}\n",
       "                    ).then(function(){\n",
       "                            Plotly.addFrames('b5e2c655-c600-4cfc-b8f1-ff673074226d', [{\"data\": [{\"lat\": [32.0, 39.906217, 30.05518, 26.5450001, 38.0000001, 23.135769399999997, 24.0, 27.0, 19.2000001, 39.0000001, 48.000004700000005, 34.0000001, 22.2793278, 31.15172525, 27.999587800000004, 36.5748441, 33.0000001, 28.0, 42.9995032, 40.997519700000005, 22.175760500000003, 37.0000001, 36.0, 36.0000001, 31.232275800000004, 37.0, 30.500000099999998, 1.357107, 36.5581914, 23.973937399999997, 14.8971921, 39.1235635, 13.2904027, 38.894893200000006, 41.7574769, 25.0, 29.000000099999998], \"locationmode\": \"country names\", \"lon\": [117.0, 116.3912757, 107.8748712, 117.84277800000001, 101.9999999, 113.19826880000001, 109.0, 107.0, 109.5999999, 116.0, 127.99999199999999, 113.9999999, 114.16281310000001, 112.87832224656044, 112.00953799999999, 139.2394179, 119.9999999, 116.0, 125.9816054, 122.99554690000001, 113.5514142, 105.9999999, 109.0, 118.9999999, 121.4692071, 112.0, 102.4999999, 103.81949920000001, 127.9408564, 120.9820179, 100.83273, 117.1980785, 108.42651129999999, -77.0365529, 87.16738423046895, 102.0, 119.9999999], \"marker\": {\"autocolorscale\": false, \"cmax\": 350.0, \"cmin\": 0, \"color\": [0.0, 0.0, 0.0, 0.0, 0.0, 0.0, 0.0, 0.0, 0.0, 1.0, 0.0, 0.0, 0.0, 17.0, 0.0, 0.0, 0.0, 0.0, 0.0, 0.0, 0.0, 0.0, 0.0, 0.0, 0.0, 0.0, 0.0, 0.0, 0.0, 0.0, 0.0, 0.0, 0.0, 0.0, 0.0, 0.0, 0.0], \"colorbar\": {\"title\": {\"text\": \"Number of Deaths\"}}, \"line\": {\"color\": \"rgba(0, 0, 0)\", \"width\": 0.5}, \"reversescale\": true, \"size\": [5.256436683972135, 6.141908878443159, 5.256436683972135, 4.815004806125491, 4.29268464756894, 6.6096322232028495, 4.815004806125491, 4.502144029037208, 4.815004806125491, 4.0, 4.29268464756894, 4.815004806125491, 4.29268464756894, 12.561195780665512, 5.256436683972135, 4.0, 4.815004806125491, 5.0558871595781, 4.0, 4.502144029037208, 4.29268464756894, 4.0, 4.502144029037208, 4.94179852477375, 5.792353285846804, 4.0, 5.160119477784612, 4.0, 4.0, 4.0, 4.502144029037208, 4.671033598060435, 4.29268464756894, 4.0, 4.29268464756894, 4.29268464756894, 6.389492891729259]}, \"mode\": \"lines+markers\", \"text\": [\"China, Anhui-> Deaths: 0.0 Confirmed: 9.0\", \"China, Beijing-> Deaths: 0.0 Confirmed: 22.0\", \"China, Chongqing-> Deaths: 0.0 Confirmed: 9.0\", \"China, Fujian-> Deaths: 0.0 Confirmed: 5.0\", \"China, Gansu-> Deaths: 0.0 Confirmed: 2.0\", \"China, Guangdong-> Deaths: 0.0 Confirmed: 32.0\", \"China, Guangxi-> Deaths: 0.0 Confirmed: 5.0\", \"China, Guizhou-> Deaths: 0.0 Confirmed: 3.0\", \"China, Hainan-> Deaths: 0.0 Confirmed: 5.0\", \"China, Hebei-> Deaths: 1.0 Confirmed: 1.0\", \"China, Heilongjiang-> Deaths: 0.0 Confirmed: 2.0\", \"China, Henan-> Deaths: 0.0 Confirmed: 5.0\", \"Hong Kong, Hong Kong-> Deaths: 0.0 Confirmed: 2.0\", \"China, Hubei-> Deaths: 17.0 Confirmed: 444.0\", \"China, Hunan-> Deaths: 0.0 Confirmed: 9.0\", \"Japan, Japan-> Deaths: 0.0 Confirmed: 1.0\", \"China, Jiangsu-> Deaths: 0.0 Confirmed: 5.0\", \"China, Jiangxi-> Deaths: 0.0 Confirmed: 7.0\", \"China, Jilin-> Deaths: 0.0 Confirmed: 1.0\", \"China, Liaoning-> Deaths: 0.0 Confirmed: 3.0\", \"Macau, Macau-> Deaths: 0.0 Confirmed: 2.0\", \"China, Ningxia-> Deaths: 0.0 Confirmed: 1.0\", \"China, Shaanxi-> Deaths: 0.0 Confirmed: 3.0\", \"China, Shandong-> Deaths: 0.0 Confirmed: 6.0\", \"China, Shanghai-> Deaths: 0.0 Confirmed: 16.0\", \"China, Shanxi-> Deaths: 0.0 Confirmed: 1.0\", \"China, Sichuan-> Deaths: 0.0 Confirmed: 8.0\", \"Singapore, Singapore-> Deaths: 0.0 Confirmed: 1.0\", \"South Korea, South Korea-> Deaths: 0.0 Confirmed: 1.0\", \"Taiwan, Taiwan-> Deaths: 0.0 Confirmed: 1.0\", \"Thailand, Thailand-> Deaths: 0.0 Confirmed: 3.0\", \"China, Tianjin-> Deaths: 0.0 Confirmed: 4.0\", \"Vietnam, Vietnam-> Deaths: 0.0 Confirmed: 2.0\", \"US, Washington-> Deaths: 0.0 Confirmed: 1.0\", \"China, Xinjiang-> Deaths: 0.0 Confirmed: 2.0\", \"China, Yunnan-> Deaths: 0.0 Confirmed: 2.0\", \"China, Zhejiang-> Deaths: 0.0 Confirmed: 27.0\"], \"type\": \"scattergeo\"}], \"layout\": {\"title\": {\"text\": \"Corona Virus\", \"x\": 0.5, \"xanchor\": \"center\", \"y\": 0.98, \"yanchor\": \"top\"}}}, {\"data\": [{\"lat\": [32.0, 39.906217, 41.875561600000005, 30.05518, 46.603353999999996, 26.5450001, 38.0000001, 23.135769399999997, 24.0, 27.0, 19.2000001, 39.0000001, 48.000004700000005, 34.0000001, 22.2793278, 31.15172525, 27.999587800000004, 43.2443242, 36.5748441, 33.0000001, 28.0, 42.9995032, 40.997519700000005, 22.175760500000003, 37.0000001, 36.0, 36.0000001, 31.232275800000004, 37.0, 30.500000099999998, 1.357107, 36.5581914, 23.973937399999997, 14.8971921, 39.1235635, 13.2904027, 38.894893200000006, 41.7574769, 25.0, 29.000000099999998], \"locationmode\": \"country names\", \"lon\": [117.0, 116.3912757, -87.6244212, 107.8748712, 1.8883334999999999, 117.84277800000001, 101.9999999, 113.19826880000001, 109.0, 107.0, 109.5999999, 116.0, 127.99999199999999, 113.9999999, 114.16281310000001, 112.87832224656044, 112.00953799999999, 114.32516640000001, 139.2394179, 119.9999999, 116.0, 125.9816054, 122.99554690000001, 113.5514142, 105.9999999, 109.0, 118.9999999, 121.4692071, 112.0, 102.4999999, 103.81949920000001, 127.9408564, 120.9820179, 100.83273, 117.1980785, 108.42651129999999, -77.0365529, 87.16738423046895, 102.0, 119.9999999], \"marker\": {\"autocolorscale\": false, \"cmax\": 350.0, \"cmin\": 0, \"color\": [0.0, 0.0, 0.0, 0.0, 0.0, 0.0, 0.0, 0.0, 0.0, 0.0, 0.0, 1.0, 1.0, 0.0, 0.0, 24.0, 0.0, 0.0, 0.0, 0.0, 0.0, 0.0, 0.0, 0.0, 0.0, 0.0, 0.0, 0.0, 0.0, 0.0, 0.0, 0.0, 0.0, 0.0, 0.0, 0.0, 0.0, 0.0, 0.0, 0.0], \"colorbar\": {\"title\": {\"text\": \"Number of Deaths\"}}, \"line\": {\"color\": \"rgba(0, 0, 0)\", \"width\": 0.5}, \"reversescale\": true, \"size\": [5.726398632195241, 6.770581510813514, 4.0, 6.389492891729259, 4.29268464756894, 5.346228848142263, 4.29268464756894, 7.3513166893231405, 6.194064213635992, 4.502144029037208, 5.160119477784612, 4.29268464756894, 4.671033598060435, 5.256436683972135, 4.29268464756894, 13.343235758122242, 6.244810575561126, 4.0, 4.29268464756894, 5.256436683972135, 5.916861059582148, 4.502144029037208, 4.671033598060435, 4.29268464756894, 4.29268464756894, 4.815004806125491, 5.726398632195241, 6.032934011676862, 4.0, 5.726398632195241, 4.502144029037208, 4.29268464756894, 4.502144029037208, 4.815004806125491, 5.160119477784612, 4.29268464756894, 4.0, 4.29268464756894, 4.815004806125491, 7.0270620082926145]}, \"mode\": \"lines+markers\", \"text\": [\"China, Anhui-> Deaths: 0.0 Confirmed: 15.0\", \"China, Beijing-> Deaths: 0.0 Confirmed: 36.0\", \"US, Chicago-> Deaths: 0.0 Confirmed: 1.0\", \"China, Chongqing-> Deaths: 0.0 Confirmed: 27.0\", \"France, France-> Deaths: 0.0 Confirmed: 2.0\", \"China, Fujian-> Deaths: 0.0 Confirmed: 10.0\", \"China, Gansu-> Deaths: 0.0 Confirmed: 2.0\", \"China, Guangdong-> Deaths: 0.0 Confirmed: 53.0\", \"China, Guangxi-> Deaths: 0.0 Confirmed: 23.0\", \"China, Guizhou-> Deaths: 0.0 Confirmed: 3.0\", \"China, Hainan-> Deaths: 0.0 Confirmed: 8.0\", \"China, Hebei-> Deaths: 1.0 Confirmed: 2.0\", \"China, Heilongjiang-> Deaths: 1.0 Confirmed: 4.0\", \"China, Henan-> Deaths: 0.0 Confirmed: 9.0\", \"Hong Kong, Hong Kong-> Deaths: 0.0 Confirmed: 2.0\", \"China, Hubei-> Deaths: 24.0 Confirmed: 549.0\", \"China, Hunan-> Deaths: 0.0 Confirmed: 24.0\", \"China, Inner Mongolia-> Deaths: 0.0 Confirmed: 1.0\", \"Japan, Japan-> Deaths: 0.0 Confirmed: 2.0\", \"China, Jiangsu-> Deaths: 0.0 Confirmed: 9.0\", \"China, Jiangxi-> Deaths: 0.0 Confirmed: 18.0\", \"China, Jilin-> Deaths: 0.0 Confirmed: 3.0\", \"China, Liaoning-> Deaths: 0.0 Confirmed: 4.0\", \"Macau, Macau-> Deaths: 0.0 Confirmed: 2.0\", \"China, Ningxia-> Deaths: 0.0 Confirmed: 2.0\", \"China, Shaanxi-> Deaths: 0.0 Confirmed: 5.0\", \"China, Shandong-> Deaths: 0.0 Confirmed: 15.0\", \"China, Shanghai-> Deaths: 0.0 Confirmed: 20.0\", \"China, Shanxi-> Deaths: 0.0 Confirmed: 1.0\", \"China, Sichuan-> Deaths: 0.0 Confirmed: 15.0\", \"Singapore, Singapore-> Deaths: 0.0 Confirmed: 3.0\", \"South Korea, South Korea-> Deaths: 0.0 Confirmed: 2.0\", \"Taiwan, Taiwan-> Deaths: 0.0 Confirmed: 3.0\", \"Thailand, Thailand-> Deaths: 0.0 Confirmed: 5.0\", \"China, Tianjin-> Deaths: 0.0 Confirmed: 8.0\", \"Vietnam, Vietnam-> Deaths: 0.0 Confirmed: 2.0\", \"US, Washington-> Deaths: 0.0 Confirmed: 1.0\", \"China, Xinjiang-> Deaths: 0.0 Confirmed: 2.0\", \"China, Yunnan-> Deaths: 0.0 Confirmed: 5.0\", \"China, Zhejiang-> Deaths: 0.0 Confirmed: 43.0\"], \"type\": \"scattergeo\"}], \"layout\": {\"title\": {\"text\": \"Corona Virus\", \"x\": 0.5, \"xanchor\": \"center\", \"y\": 0.98, \"yanchor\": \"top\"}}}, {\"data\": [{\"lat\": [32.0, 39.906217, 30.05518, 46.603353999999996, 26.5450001, 38.0000001, 23.135769399999997, 24.0, 27.0, 19.2000001, 39.0000001, 48.000004700000005, 34.0000001, 22.2793278, 31.15172525, 27.999587800000004, 40.079660600000004, 43.2443242, 36.5748441, 33.0000001, 28.0, 42.9995032, 40.997519700000005, 22.175760500000003, 4.5693754, 28.108392900000002, 37.0000001, 35.40709525, 36.0, 36.0000001, 31.232275800000004, 37.0, 30.500000099999998, 1.357107, 36.5581914, 23.973937399999997, 14.8971921, 39.1235635, 13.2904027, 38.894893200000006, 41.7574769, 25.0, 29.000000099999998], \"locationmode\": \"country names\", \"lon\": [117.0, 116.3912757, 107.8748712, 1.8883334999999999, 117.84277800000001, 101.9999999, 113.19826880000001, 109.0, 107.0, 109.5999999, 116.0, 127.99999199999999, 113.9999999, 114.16281310000001, 112.87832224656044, 112.00953799999999, -89.4337288, 114.32516640000001, 139.2394179, 119.9999999, 116.0, 125.9816054, 122.99554690000001, 113.5514142, 102.2656823, 84.0917139, 105.9999999, 95.95211573241954, 109.0, 118.9999999, 121.4692071, 112.0, 102.4999999, 103.81949920000001, 127.9408564, 120.9820179, 100.83273, 117.1980785, 108.42651129999999, -77.0365529, 87.16738423046895, 102.0, 119.9999999], \"marker\": {\"autocolorscale\": false, \"cmax\": 350.0, \"cmin\": 0, \"color\": [0.0, 0.0, 0.0, 0.0, 1.0, 0.0, 0.0, 0.0, 0.0, 0.0, 1.0, 0.0, 1.0, 0.0, 52.0, 0.0, 0.0, 0.0, 0.0, 0.0, 0.0, 0.0, 0.0, 0.0, 0.0, 0.0, 0.0, 0.0, 0.0, 0.0, 1.0, 0.0, 0.0, 0.0, 0.0, 0.0, 0.0, 0.0, 0.0, 0.0, 0.0, 0.0, 0.0], \"colorbar\": {\"title\": {\"text\": \"Number of Deaths\"}}, \"line\": {\"color\": \"rgba(0, 0, 0)\", \"width\": 0.5}, \"reversescale\": true, \"size\": [7.555903716104263, 7.2897639830644705, 7.948426620848326, 4.502144029037208, 5.916861059582148, 5.0558871595781, 8.463754021408548, 6.6510061989273215, 4.815004806125491, 5.975859650018929, 5.585661160918501, 5.726398632195241, 8.137710912549311, 4.815004806125491, 16.16027876770024, 7.797944486874728, 4.0, 5.0558871595781, 4.29268464756894, 6.567435936849419, 6.770581510813514, 4.671033598060435, 5.975859650018929, 4.29268464756894, 4.502144029037208, 4.0, 4.671033598060435, 4.0, 5.726398632195241, 6.88403547398714, 6.920627233984357, 5.256436683972135, 7.06149737122402, 4.502144029037208, 4.502144029037208, 4.502144029037208, 5.0558871595781, 5.585661160918501, 4.29268464756894, 4.0, 4.671033598060435, 5.4305300479524705, 8.585337036651225]}, \"mode\": \"lines+markers\", \"text\": [\"China, Anhui-> Deaths: 0.0 Confirmed: 60.0\", \"China, Beijing-> Deaths: 0.0 Confirmed: 51.0\", \"China, Chongqing-> Deaths: 0.0 Confirmed: 75.0\", \"France, France-> Deaths: 0.0 Confirmed: 3.0\", \"China, Fujian-> Deaths: 1.0 Confirmed: 18.0\", \"China, Gansu-> Deaths: 0.0 Confirmed: 7.0\", \"China, Guangdong-> Deaths: 0.0 Confirmed: 98.0\", \"China, Guangxi-> Deaths: 0.0 Confirmed: 33.0\", \"China, Guizhou-> Deaths: 0.0 Confirmed: 5.0\", \"China, Hainan-> Deaths: 0.0 Confirmed: 19.0\", \"China, Hebei-> Deaths: 1.0 Confirmed: 13.0\", \"China, Heilongjiang-> Deaths: 0.0 Confirmed: 15.0\", \"China, Henan-> Deaths: 1.0 Confirmed: 83.0\", \"Hong Kong, Hong Kong-> Deaths: 0.0 Confirmed: 5.0\", \"China, Hubei-> Deaths: 52.0 Confirmed: 1052.0\", \"China, Hunan-> Deaths: 0.0 Confirmed: 69.0\", \"US, Illinois-> Deaths: 0.0 Confirmed: 1.0\", \"China, Inner Mongolia-> Deaths: 0.0 Confirmed: 7.0\", \"Japan, Japan-> Deaths: 0.0 Confirmed: 2.0\", \"China, Jiangsu-> Deaths: 0.0 Confirmed: 31.0\", \"China, Jiangxi-> Deaths: 0.0 Confirmed: 36.0\", \"China, Jilin-> Deaths: 0.0 Confirmed: 4.0\", \"China, Liaoning-> Deaths: 0.0 Confirmed: 19.0\", \"Macau, Macau-> Deaths: 0.0 Confirmed: 2.0\", \"Malaysia, Malaysia-> Deaths: 0.0 Confirmed: 3.0\", \"Nepal, Nepal-> Deaths: 0.0 Confirmed: 1.0\", \"China, Ningxia-> Deaths: 0.0 Confirmed: 4.0\", \"China, Qinghai-> Deaths: 0.0 Confirmed: 1.0\", \"China, Shaanxi-> Deaths: 0.0 Confirmed: 15.0\", \"China, Shandong-> Deaths: 0.0 Confirmed: 39.0\", \"China, Shanghai-> Deaths: 1.0 Confirmed: 40.0\", \"China, Shanxi-> Deaths: 0.0 Confirmed: 9.0\", \"China, Sichuan-> Deaths: 0.0 Confirmed: 44.0\", \"Singapore, Singapore-> Deaths: 0.0 Confirmed: 3.0\", \"South Korea, South Korea-> Deaths: 0.0 Confirmed: 3.0\", \"Taiwan, Taiwan-> Deaths: 0.0 Confirmed: 3.0\", \"Thailand, Thailand-> Deaths: 0.0 Confirmed: 7.0\", \"China, Tianjin-> Deaths: 0.0 Confirmed: 13.0\", \"Vietnam, Vietnam-> Deaths: 0.0 Confirmed: 2.0\", \"US, Washington-> Deaths: 0.0 Confirmed: 1.0\", \"China, Xinjiang-> Deaths: 0.0 Confirmed: 4.0\", \"China, Yunnan-> Deaths: 0.0 Confirmed: 11.0\", \"China, Zhejiang-> Deaths: 0.0 Confirmed: 104.0\"], \"type\": \"scattergeo\"}], \"layout\": {\"title\": {\"text\": \"Corona Virus\", \"x\": 0.5, \"xanchor\": \"center\", \"y\": 0.98, \"yanchor\": \"top\"}}}, {\"data\": [{\"lat\": [32.0, 34.395342, 39.906217, 36.7014631, 30.05518, 46.603353999999996, 26.5450001, 38.0000001, 23.135769399999997, 24.0, 27.0, 19.2000001, 39.0000001, 48.000004700000005, 34.0000001, 22.2793278, 31.15172525, 27.999587800000004, 40.079660600000004, 43.2443242, 36.5748441, 33.0000001, 28.0, 42.9995032, 40.997519700000005, 22.175760500000003, 4.5693754, 28.108392900000002, 37.0000001, 50.000678, 35.40709525, 36.0, 36.0000001, 31.232275800000004, 37.0, 30.500000099999998, 1.357107, 36.5581914, 23.973937399999997, 14.8971921, 39.1235635, 13.2904027, 38.894893200000006, 41.7574769, 25.0, 29.000000099999998], \"locationmode\": \"country names\", \"lon\": [117.0, -111.76327549999999, 116.3912757, -118.75599740000001, 107.8748712, 1.8883334999999999, 117.84277800000001, 101.9999999, 113.19826880000001, 109.0, 107.0, 109.5999999, 116.0, 127.99999199999999, 113.9999999, 114.16281310000001, 112.87832224656044, 112.00953799999999, -89.4337288, 114.32516640000001, 139.2394179, 119.9999999, 116.0, 125.9816054, 122.99554690000001, 113.5514142, 102.2656823, 84.0917139, 105.9999999, -86.000977, 95.95211573241954, 109.0, 118.9999999, 121.4692071, 112.0, 102.4999999, 103.81949920000001, 127.9408564, 120.9820179, 100.83273, 117.1980785, 108.42651129999999, -77.0365529, 87.16738423046895, 102.0, 119.9999999], \"marker\": {\"autocolorscale\": false, \"cmax\": 350.0, \"cmin\": 0, \"color\": [0.0, 0.0, 0.0, 0.0, 0.0, 0.0, 0.0, 0.0, 0.0, 0.0, 0.0, 0.0, 1.0, 1.0, 1.0, 0.0, 76.0, 0.0, 0.0, 0.0, 0.0, 0.0, 0.0, 0.0, 0.0, 0.0, 0.0, 0.0, 0.0, 0.0, 0.0, 0.0, 0.0, 1.0, 0.0, 0.0, 0.0, 0.0, 0.0, 0.0, 0.0, 0.0, 0.0, 0.0, 0.0, 0.0], \"colorbar\": {\"title\": {\"text\": \"Number of Deaths\"}}, \"line\": {\"color\": \"rgba(0, 0, 0)\", \"width\": 0.5}, \"reversescale\": true, \"size\": [7.823581762327395, 4.0, 7.7720721880742705, 4.29268464756894, 8.702579714782685, 4.502144029037208, 6.731445075485936, 5.657613768320726, 9.333039092007414, 7.128917772316606, 5.0558871595781, 6.141908878443159, 5.916861059582148, 6.088238621134508, 9.031816721613545, 5.160119477784612, 17.718164978409675, 8.50478980785497, 4.0, 5.4305300479524705, 4.671033598060435, 7.161937009665921, 7.194516815297205, 4.94179852477375, 6.194064213635992, 4.94179852477375, 4.671033598060435, 4.0, 4.671033598060435, 4.0, 4.671033598060435, 6.141908878443159, 7.638979204979299, 7.3513166893231405, 5.585661160918501, 7.797944486874728, 4.671033598060435, 4.502144029037208, 4.671033598060435, 5.160119477784612, 5.657613768320726, 4.29268464756894, 4.0, 4.815004806125491, 5.975859650018929, 9.031816721613545]}, \"mode\": \"lines+markers\", \"text\": [\"China, Anhui-> Deaths: 0.0 Confirmed: 70.0\", \"US, Arizona-> Deaths: 0.0 Confirmed: 1.0\", \"China, Beijing-> Deaths: 0.0 Confirmed: 68.0\", \"US, California-> Deaths: 0.0 Confirmed: 2.0\", \"China, Chongqing-> Deaths: 0.0 Confirmed: 110.0\", \"France, France-> Deaths: 0.0 Confirmed: 3.0\", \"China, Fujian-> Deaths: 0.0 Confirmed: 35.0\", \"China, Gansu-> Deaths: 0.0 Confirmed: 14.0\", \"China, Guangdong-> Deaths: 0.0 Confirmed: 146.0\", \"China, Guangxi-> Deaths: 0.0 Confirmed: 46.0\", \"China, Guizhou-> Deaths: 0.0 Confirmed: 7.0\", \"China, Hainan-> Deaths: 0.0 Confirmed: 22.0\", \"China, Hebei-> Deaths: 1.0 Confirmed: 18.0\", \"China, Heilongjiang-> Deaths: 1.0 Confirmed: 21.0\", \"China, Henan-> Deaths: 1.0 Confirmed: 128.0\", \"Hong Kong, Hong Kong-> Deaths: 0.0 Confirmed: 8.0\", \"China, Hubei-> Deaths: 76.0 Confirmed: 1423.0\", \"China, Hunan-> Deaths: 0.0 Confirmed: 100.0\", \"US, Illinois-> Deaths: 0.0 Confirmed: 1.0\", \"China, Inner Mongolia-> Deaths: 0.0 Confirmed: 11.0\", \"Japan, Japan-> Deaths: 0.0 Confirmed: 4.0\", \"China, Jiangsu-> Deaths: 0.0 Confirmed: 47.0\", \"China, Jiangxi-> Deaths: 0.0 Confirmed: 48.0\", \"China, Jilin-> Deaths: 0.0 Confirmed: 6.0\", \"China, Liaoning-> Deaths: 0.0 Confirmed: 23.0\", \"Macau, Macau-> Deaths: 0.0 Confirmed: 6.0\", \"Malaysia, Malaysia-> Deaths: 0.0 Confirmed: 4.0\", \"Nepal, Nepal-> Deaths: 0.0 Confirmed: 1.0\", \"China, Ningxia-> Deaths: 0.0 Confirmed: 4.0\", \"Canada, Ontario-> Deaths: 0.0 Confirmed: 1.0\", \"China, Qinghai-> Deaths: 0.0 Confirmed: 4.0\", \"China, Shaanxi-> Deaths: 0.0 Confirmed: 22.0\", \"China, Shandong-> Deaths: 0.0 Confirmed: 63.0\", \"China, Shanghai-> Deaths: 1.0 Confirmed: 53.0\", \"China, Shanxi-> Deaths: 0.0 Confirmed: 13.0\", \"China, Sichuan-> Deaths: 0.0 Confirmed: 69.0\", \"Singapore, Singapore-> Deaths: 0.0 Confirmed: 4.0\", \"South Korea, South Korea-> Deaths: 0.0 Confirmed: 3.0\", \"Taiwan, Taiwan-> Deaths: 0.0 Confirmed: 4.0\", \"Thailand, Thailand-> Deaths: 0.0 Confirmed: 8.0\", \"China, Tianjin-> Deaths: 0.0 Confirmed: 14.0\", \"Vietnam, Vietnam-> Deaths: 0.0 Confirmed: 2.0\", \"US, Washington-> Deaths: 0.0 Confirmed: 1.0\", \"China, Xinjiang-> Deaths: 0.0 Confirmed: 5.0\", \"China, Yunnan-> Deaths: 0.0 Confirmed: 19.0\", \"China, Zhejiang-> Deaths: 0.0 Confirmed: 128.0\"], \"type\": \"scattergeo\"}], \"layout\": {\"title\": {\"text\": \"Corona Virus\", \"x\": 0.5, \"xanchor\": \"center\", \"y\": 0.98, \"yanchor\": \"top\"}}}, {\"data\": [{\"lat\": [32.0, 34.395342, 48.9467562, 39.906217, 36.7014631, 13.5066394, 30.05518, 46.603353999999996, 26.5450001, 38.0000001, 23.135769399999997, 24.0, 27.0, 19.2000001, 39.0000001, 48.000004700000005, 34.0000001, 22.2793278, 31.15172525, 27.999587800000004, 40.079660600000004, 43.2443242, 36.5748441, 33.0000001, 28.0, 42.9995032, 40.997519700000005, 22.175760500000003, 4.5693754, 28.108392900000002, -31.875983500000004, 37.0000001, 50.000678, 35.40709525, 36.0, 36.0000001, 31.232275800000004, 37.0, 30.500000099999998, 1.357107, 36.5581914, 7.555494199999999, 23.973937399999997, 14.8971921, 39.1235635, -36.5986096, 13.2904027, 38.894893200000006, 41.7574769, 25.0, 29.000000099999998], \"locationmode\": \"country names\", \"lon\": [117.0, -111.76327549999999, 11.4038717, 116.3912757, -118.75599740000001, 104.869423, 107.8748712, 1.8883334999999999, 117.84277800000001, 101.9999999, 113.19826880000001, 109.0, 107.0, 109.5999999, 116.0, 127.99999199999999, 113.9999999, 114.16281310000001, 112.87832224656044, 112.00953799999999, -89.4337288, 114.32516640000001, 139.2394179, 119.9999999, 116.0, 125.9816054, 122.99554690000001, 113.5514142, 102.2656823, 84.0917139, 147.2869493, 105.9999999, -86.000977, 95.95211573241954, 109.0, 118.9999999, 121.4692071, 112.0, 102.4999999, 103.81949920000001, 127.9408564, 80.7137847, 120.9820179, 100.83273, 117.1980785, 144.6780052, 108.42651129999999, -77.0365529, 87.16738423046895, 102.0, 119.9999999], \"marker\": {\"autocolorscale\": false, \"cmax\": 350.0, \"cmin\": 0, \"color\": [0.0, 0.0, 0.0, 1.0, 0.0, 0.0, 0.0, 0.0, 0.0, 0.0, 0.0, 0.0, 0.0, 1.0, 1.0, 1.0, 1.0, 0.0, 100.0, 0.0, 0.0, 0.0, 0.0, 0.0, 0.0, 0.0, 0.0, 0.0, 0.0, 0.0, 0.0, 0.0, 0.0, 0.0, 0.0, 1.0, 1.0, 0.0, 0.0, 0.0, 0.0, 0.0, 0.0, 0.0, 0.0, 0.0, 0.0, 0.0, 0.0, 0.0, 0.0], \"colorbar\": {\"title\": {\"text\": \"Number of Deaths\"}}, \"line\": {\"color\": \"rgba(0, 0, 0)\", \"width\": 0.5}, \"reversescale\": true, \"size\": [8.624880280998532, 4.0, 4.0, 8.068134634212257, 4.29268464756894, 4.0, 9.100954025134477, 4.502144029037208, 7.527631944695398, 5.975859650018929, 9.412516550145508, 7.2897639830644705, 5.256436683972135, 6.6510061989273215, 6.6510061989273215, 6.524373654991745, 9.670964397559343, 5.160119477784612, 21.694220002961224, 8.50478980785497, 4.0, 5.4305300479524705, 4.671033598060435, 7.823581762327395, 7.8741728314359305, 4.94179852477375, 6.389492891729259, 4.94179852477375, 4.671033598060435, 4.0, 4.671033598060435, 5.0558871595781, 4.0, 4.94179852477375, 6.731445075485936, 8.228058805837552, 7.719599661532381, 6.032934011676862, 8.29411684194189, 4.815004806125491, 4.671033598060435, 4.0, 4.815004806125491, 5.160119477784612, 6.194064213635992, 4.0, 4.29268464756894, 4.0, 4.815004806125491, 6.34244448653463, 9.743819909152371]}, \"mode\": \"lines+markers\", \"text\": [\"China, Anhui-> Deaths: 0.0 Confirmed: 106.0\", \"US, Arizona-> Deaths: 0.0 Confirmed: 1.0\", \"Germany, Bavaria-> Deaths: 0.0 Confirmed: 1.0\", \"China, Beijing-> Deaths: 1.0 Confirmed: 80.0\", \"US, California-> Deaths: 0.0 Confirmed: 2.0\", \"Cambodia, Cambodia-> Deaths: 0.0 Confirmed: 1.0\", \"China, Chongqing-> Deaths: 0.0 Confirmed: 132.0\", \"France, France-> Deaths: 0.0 Confirmed: 3.0\", \"China, Fujian-> Deaths: 0.0 Confirmed: 59.0\", \"China, Gansu-> Deaths: 0.0 Confirmed: 19.0\", \"China, Guangdong-> Deaths: 0.0 Confirmed: 151.0\", \"China, Guangxi-> Deaths: 0.0 Confirmed: 51.0\", \"China, Guizhou-> Deaths: 0.0 Confirmed: 9.0\", \"China, Hainan-> Deaths: 1.0 Confirmed: 33.0\", \"China, Hebei-> Deaths: 1.0 Confirmed: 33.0\", \"China, Heilongjiang-> Deaths: 1.0 Confirmed: 30.0\", \"China, Henan-> Deaths: 1.0 Confirmed: 168.0\", \"Hong Kong, Hong Kong-> Deaths: 0.0 Confirmed: 8.0\", \"China, Hubei-> Deaths: 100.0 Confirmed: 2714.0\", \"China, Hunan-> Deaths: 0.0 Confirmed: 100.0\", \"US, Illinois-> Deaths: 0.0 Confirmed: 1.0\", \"China, Inner Mongolia-> Deaths: 0.0 Confirmed: 11.0\", \"Japan, Japan-> Deaths: 0.0 Confirmed: 4.0\", \"China, Jiangsu-> Deaths: 0.0 Confirmed: 70.0\", \"China, Jiangxi-> Deaths: 0.0 Confirmed: 72.0\", \"China, Jilin-> Deaths: 0.0 Confirmed: 6.0\", \"China, Liaoning-> Deaths: 0.0 Confirmed: 27.0\", \"Macau, Macau-> Deaths: 0.0 Confirmed: 6.0\", \"Malaysia, Malaysia-> Deaths: 0.0 Confirmed: 4.0\", \"Nepal, Nepal-> Deaths: 0.0 Confirmed: 1.0\", \"Australia, New South Wales-> Deaths: 0.0 Confirmed: 4.0\", \"China, Ningxia-> Deaths: 0.0 Confirmed: 7.0\", \"Canada, Ontario-> Deaths: 0.0 Confirmed: 1.0\", \"China, Qinghai-> Deaths: 0.0 Confirmed: 6.0\", \"China, Shaanxi-> Deaths: 0.0 Confirmed: 35.0\", \"China, Shandong-> Deaths: 1.0 Confirmed: 87.0\", \"China, Shanghai-> Deaths: 1.0 Confirmed: 66.0\", \"China, Shanxi-> Deaths: 0.0 Confirmed: 20.0\", \"China, Sichuan-> Deaths: 0.0 Confirmed: 90.0\", \"Singapore, Singapore-> Deaths: 0.0 Confirmed: 5.0\", \"South Korea, South Korea-> Deaths: 0.0 Confirmed: 4.0\", \"Sri Lanka, Sri Lanka-> Deaths: 0.0 Confirmed: 1.0\", \"Taiwan, Taiwan-> Deaths: 0.0 Confirmed: 5.0\", \"Thailand, Thailand-> Deaths: 0.0 Confirmed: 8.0\", \"China, Tianjin-> Deaths: 0.0 Confirmed: 23.0\", \"Australia, Victoria-> Deaths: 0.0 Confirmed: 1.0\", \"Vietnam, Vietnam-> Deaths: 0.0 Confirmed: 2.0\", \"US, Washington-> Deaths: 0.0 Confirmed: 1.0\", \"China, Xinjiang-> Deaths: 0.0 Confirmed: 5.0\", \"China, Yunnan-> Deaths: 0.0 Confirmed: 26.0\", \"China, Zhejiang-> Deaths: 0.0 Confirmed: 173.0\"], \"type\": \"scattergeo\"}], \"layout\": {\"title\": {\"text\": \"Corona Virus\", \"x\": 0.5, \"xanchor\": \"center\", \"y\": 0.98, \"yanchor\": \"top\"}}}, {\"data\": [{\"lat\": [32.0, 34.395342, 48.9467562, 39.906217, 55.001251, 36.7014631, 13.5066394, 30.05518, 46.603353999999996, 26.5450001, 38.0000001, 23.135769399999997, 24.0, 27.0, 19.2000001, 39.0000001, 48.000004700000005, 34.0000001, 22.2793278, 31.15172525, 27.999587800000004, 40.079660600000004, 43.2443242, 36.5748441, 33.0000001, 28.0, 42.9995032, 40.997519700000005, 22.175760500000003, 4.5693754, 28.108392900000002, -31.875983500000004, 37.0000001, 50.000678, 35.40709525, 36.0, 36.0000001, 31.232275800000004, 37.0, 30.500000099999998, 1.357107, 36.5581914, 7.555494199999999, 23.973937399999997, 14.8971921, 39.1235635, -36.5986096, 13.2904027, 38.894893200000006, 41.7574769, 25.0, 29.000000099999998], \"locationmode\": \"country names\", \"lon\": [117.0, -111.76327549999999, 11.4038717, 116.3912757, -125.00244099999999, -118.75599740000001, 104.869423, 107.8748712, 1.8883334999999999, 117.84277800000001, 101.9999999, 113.19826880000001, 109.0, 107.0, 109.5999999, 116.0, 127.99999199999999, 113.9999999, 114.16281310000001, 112.87832224656044, 112.00953799999999, -89.4337288, 114.32516640000001, 139.2394179, 119.9999999, 116.0, 125.9816054, 122.99554690000001, 113.5514142, 102.2656823, 84.0917139, 147.2869493, 105.9999999, -86.000977, 95.95211573241954, 109.0, 118.9999999, 121.4692071, 112.0, 102.4999999, 103.81949920000001, 127.9408564, 80.7137847, 120.9820179, 100.83273, 117.1980785, 144.6780052, 108.42651129999999, -77.0365529, 87.16738423046895, 102.0, 119.9999999], \"marker\": {\"autocolorscale\": false, \"cmax\": 350.0, \"cmin\": 0, \"color\": [0.0, 0.0, 0.0, 1.0, 0.0, 0.0, 0.0, 0.0, 0.0, 0.0, 0.0, 0.0, 0.0, 0.0, 1.0, 1.0, 1.0, 2.0, 0.0, 125.0, 0.0, 0.0, 0.0, 0.0, 0.0, 0.0, 0.0, 0.0, 0.0, 0.0, 0.0, 0.0, 0.0, 0.0, 0.0, 0.0, 0.0, 1.0, 0.0, 0.0, 0.0, 0.0, 0.0, 0.0, 0.0, 0.0, 0.0, 0.0, 0.0, 0.0, 0.0, 0.0], \"colorbar\": {\"title\": {\"text\": \"Number of Deaths\"}}, \"line\": {\"color\": \"rgba(0, 0, 0)\", \"width\": 0.5}, \"reversescale\": true, \"size\": [9.428212393159187, 4.0, 4.671033598060435, 8.315827579752149, 4.0, 4.29268464756894, 4.0, 9.34907012690361, 4.671033598060435, 8.11469740720754, 6.244810575561126, 10.624801365006507, 7.49905683093882, 5.256436683972135, 7.0270620082926145, 7.194516815297205, 6.809039298366404, 10.19428866251348, 5.160119477784612, 23.657631556659094, 10.384029697622363, 4.0, 5.792353285846804, 5.0558871595781, 8.484337161696507, 8.683323885459039, 5.256436683972135, 6.770581510813514, 5.0558871595781, 5.0558871595781, 4.0, 4.671033598060435, 5.510133141647044, 4.0, 4.94179852477375, 7.440961897531936, 8.90747631399984, 8.068134634212257, 6.389492891729259, 8.663956502466613, 5.0558871595781, 4.671033598060435, 4.0, 5.160119477784612, 5.657613768320726, 6.294242446258631, 4.0, 4.29268464756894, 4.0, 5.585661160918501, 7.06149737122402, 11.227979980048302]}, \"mode\": \"lines+markers\", \"text\": [\"China, Anhui-> Deaths: 0.0 Confirmed: 152.0\", \"US, Arizona-> Deaths: 0.0 Confirmed: 1.0\", \"Germany, Bavaria-> Deaths: 0.0 Confirmed: 4.0\", \"China, Beijing-> Deaths: 1.0 Confirmed: 91.0\", \"Canada, British Columbia-> Deaths: 0.0 Confirmed: 1.0\", \"US, California-> Deaths: 0.0 Confirmed: 2.0\", \"Cambodia, Cambodia-> Deaths: 0.0 Confirmed: 1.0\", \"China, Chongqing-> Deaths: 0.0 Confirmed: 147.0\", \"France, France-> Deaths: 0.0 Confirmed: 4.0\", \"China, Fujian-> Deaths: 0.0 Confirmed: 82.0\", \"China, Gansu-> Deaths: 0.0 Confirmed: 24.0\", \"China, Guangdong-> Deaths: 0.0 Confirmed: 241.0\", \"China, Guangxi-> Deaths: 0.0 Confirmed: 58.0\", \"China, Guizhou-> Deaths: 0.0 Confirmed: 9.0\", \"China, Hainan-> Deaths: 1.0 Confirmed: 43.0\", \"China, Hebei-> Deaths: 1.0 Confirmed: 48.0\", \"China, Heilongjiang-> Deaths: 1.0 Confirmed: 37.0\", \"China, Henan-> Deaths: 2.0 Confirmed: 206.0\", \"Hong Kong, Hong Kong-> Deaths: 0.0 Confirmed: 8.0\", \"China, Hubei-> Deaths: 125.0 Confirmed: 3554.0\", \"China, Hunan-> Deaths: 0.0 Confirmed: 221.0\", \"US, Illinois-> Deaths: 0.0 Confirmed: 1.0\", \"China, Inner Mongolia-> Deaths: 0.0 Confirmed: 16.0\", \"Japan, Japan-> Deaths: 0.0 Confirmed: 7.0\", \"China, Jiangsu-> Deaths: 0.0 Confirmed: 99.0\", \"China, Jiangxi-> Deaths: 0.0 Confirmed: 109.0\", \"China, Jilin-> Deaths: 0.0 Confirmed: 9.0\", \"China, Liaoning-> Deaths: 0.0 Confirmed: 36.0\", \"Macau, Macau-> Deaths: 0.0 Confirmed: 7.0\", \"Malaysia, Malaysia-> Deaths: 0.0 Confirmed: 7.0\", \"Nepal, Nepal-> Deaths: 0.0 Confirmed: 1.0\", \"Australia, New South Wales-> Deaths: 0.0 Confirmed: 4.0\", \"China, Ningxia-> Deaths: 0.0 Confirmed: 12.0\", \"Canada, Ontario-> Deaths: 0.0 Confirmed: 1.0\", \"China, Qinghai-> Deaths: 0.0 Confirmed: 6.0\", \"China, Shaanxi-> Deaths: 0.0 Confirmed: 56.0\", \"China, Shandong-> Deaths: 0.0 Confirmed: 121.0\", \"China, Shanghai-> Deaths: 1.0 Confirmed: 80.0\", \"China, Shanxi-> Deaths: 0.0 Confirmed: 27.0\", \"China, Sichuan-> Deaths: 0.0 Confirmed: 108.0\", \"Singapore, Singapore-> Deaths: 0.0 Confirmed: 7.0\", \"South Korea, South Korea-> Deaths: 0.0 Confirmed: 4.0\", \"Sri Lanka, Sri Lanka-> Deaths: 0.0 Confirmed: 1.0\", \"Taiwan, Taiwan-> Deaths: 0.0 Confirmed: 8.0\", \"Thailand, Thailand-> Deaths: 0.0 Confirmed: 14.0\", \"China, Tianjin-> Deaths: 0.0 Confirmed: 25.0\", \"Australia, Victoria-> Deaths: 0.0 Confirmed: 1.0\", \"Vietnam, Vietnam-> Deaths: 0.0 Confirmed: 2.0\", \"US, Washington-> Deaths: 0.0 Confirmed: 1.0\", \"China, Xinjiang-> Deaths: 0.0 Confirmed: 13.0\", \"China, Yunnan-> Deaths: 0.0 Confirmed: 44.0\", \"China, Zhejiang-> Deaths: 0.0 Confirmed: 296.0\"], \"type\": \"scattergeo\"}], \"layout\": {\"title\": {\"text\": \"Corona Virus\", \"x\": 0.5, \"xanchor\": \"center\", \"y\": 0.98, \"yanchor\": \"top\"}}}, {\"data\": [{\"lat\": [32.0, 34.395342, 48.9467562, 39.906217, 55.001251, 36.7014631, 13.5066394, 30.05518, 63.2467777, 46.603353999999996, 26.5450001, 38.0000001, 23.135769399999997, 24.0, 27.0, 19.2000001, 39.0000001, 48.000004700000005, 34.0000001, 22.2793278, 31.15172525, 27.999587800000004, 40.079660600000004, 43.2443242, 36.5748441, 33.0000001, 28.0, 42.9995032, 40.997519700000005, 22.175760500000003, 4.5693754, 28.108392900000002, -31.875983500000004, 37.0000001, 50.000678, 35.40709525, -22.1646782, 36.0, 36.0000001, 31.232275800000004, 37.0, 30.500000099999998, 1.357107, 36.5581914, 7.555494199999999, 23.973937399999997, 14.8971921, 39.1235635, 31.89434315, 24.0002488, -36.5986096, 13.2904027, 38.894893200000006, 41.7574769, 25.0, 29.000000099999998], \"locationmode\": \"country names\", \"lon\": [117.0, -111.76327549999999, 11.4038717, 116.3912757, -125.00244099999999, -118.75599740000001, 104.869423, 107.8748712, 25.9209164, 1.8883334999999999, 117.84277800000001, 101.9999999, 113.19826880000001, 109.0, 107.0, 109.5999999, 116.0, 127.99999199999999, 113.9999999, 114.16281310000001, 112.87832224656044, 112.00953799999999, -89.4337288, 114.32516640000001, 139.2394179, 119.9999999, 116.0, 125.9816054, 122.99554690000001, 113.5514142, 102.2656823, 84.0917139, 147.2869493, 105.9999999, -86.000977, 95.95211573241954, 144.58449030000003, 109.0, 118.9999999, 121.4692071, 112.0, 102.4999999, 103.81949920000001, 127.9408564, 80.7137847, 120.9820179, 100.83273, 117.1980785, 87.07813712706509, 53.999482900000004, 144.6780052, 108.42651129999999, -77.0365529, 87.16738423046895, 102.0, 119.9999999], \"marker\": {\"autocolorscale\": false, \"cmax\": 350.0, \"cmin\": 0, \"color\": [0.0, 0.0, 0.0, 1.0, 0.0, 0.0, 0.0, 0.0, 0.0, 0.0, 0.0, 0.0, 0.0, 0.0, 0.0, 1.0, 1.0, 1.0, 2.0, 0.0, 162.0, 0.0, 0.0, 0.0, 0.0, 0.0, 0.0, 0.0, 0.0, 0.0, 0.0, 0.0, 0.0, 0.0, 0.0, 0.0, 0.0, 0.0, 0.0, 1.0, 0.0, 1.0, 0.0, 0.0, 0.0, 0.0, 0.0, 0.0, 0.0, 0.0, 0.0, 0.0, 0.0, 0.0, 0.0, 0.0], \"colorbar\": {\"title\": {\"text\": \"Number of Deaths\"}}, \"line\": {\"color\": \"rgba(0, 0, 0)\", \"width\": 0.5}, \"reversescale\": true, \"size\": [10.115957272708098, 4.0, 4.671033598060435, 8.721725638409168, 4.0, 4.29268464756894, 4.0, 9.626593798247049, 4.0, 4.815004806125491, 8.525114079844972, 6.34244448653463, 11.38001099657052, 8.020833027836328, 5.510133141647044, 7.0270620082926145, 7.692987434079096, 7.0270620082926145, 11.038995328023105, 5.346228848142263, 25.703179629243312, 11.02827308350268, 4.0, 5.792353285846804, 5.4305300479524705, 9.049227150319336, 9.581712296890988, 5.657613768320726, 6.88403547398714, 5.0558871595781, 5.0558871595781, 4.0, 4.671033598060435, 5.510133141647044, 4.29268464756894, 4.94179852477375, 4.0, 7.440961897531936, 9.316938772764521, 8.525114079844972, 6.731445075485936, 9.268214233380256, 5.346228848142263, 4.671033598060435, 4.0, 5.160119477784612, 5.657613768320726, 6.389492891729259, 4.0, 4.671033598060435, 4.29268464756894, 4.29268464756894, 4.0, 5.657613768320726, 7.411423718466154, 12.43210883489381]}, \"mode\": \"lines+markers\", \"text\": [\"China, Anhui-> Deaths: 0.0 Confirmed: 200.0\", \"US, Arizona-> Deaths: 0.0 Confirmed: 1.0\", \"Germany, Bavaria-> Deaths: 0.0 Confirmed: 4.0\", \"China, Beijing-> Deaths: 1.0 Confirmed: 111.0\", \"Canada, British Columbia-> Deaths: 0.0 Confirmed: 1.0\", \"US, California-> Deaths: 0.0 Confirmed: 2.0\", \"Cambodia, Cambodia-> Deaths: 0.0 Confirmed: 1.0\", \"China, Chongqing-> Deaths: 0.0 Confirmed: 165.0\", \"Finland, Finland-> Deaths: 0.0 Confirmed: 1.0\", \"France, France-> Deaths: 0.0 Confirmed: 5.0\", \"China, Fujian-> Deaths: 0.0 Confirmed: 101.0\", \"China, Gansu-> Deaths: 0.0 Confirmed: 26.0\", \"China, Guangdong-> Deaths: 0.0 Confirmed: 311.0\", \"China, Guangxi-> Deaths: 0.0 Confirmed: 78.0\", \"China, Guizhou-> Deaths: 0.0 Confirmed: 12.0\", \"China, Hainan-> Deaths: 1.0 Confirmed: 43.0\", \"China, Hebei-> Deaths: 1.0 Confirmed: 65.0\", \"China, Heilongjiang-> Deaths: 1.0 Confirmed: 43.0\", \"China, Henan-> Deaths: 2.0 Confirmed: 278.0\", \"Hong Kong, Hong Kong-> Deaths: 0.0 Confirmed: 10.0\", \"China, Hubei-> Deaths: 162.0 Confirmed: 4586.0\", \"China, Hunan-> Deaths: 0.0 Confirmed: 277.0\", \"US, Illinois-> Deaths: 0.0 Confirmed: 1.0\", \"China, Inner Mongolia-> Deaths: 0.0 Confirmed: 16.0\", \"Japan, Japan-> Deaths: 0.0 Confirmed: 11.0\", \"China, Jiangsu-> Deaths: 0.0 Confirmed: 129.0\", \"China, Jiangxi-> Deaths: 0.0 Confirmed: 162.0\", \"China, Jilin-> Deaths: 0.0 Confirmed: 14.0\", \"China, Liaoning-> Deaths: 0.0 Confirmed: 39.0\", \"Macau, Macau-> Deaths: 0.0 Confirmed: 7.0\", \"Malaysia, Malaysia-> Deaths: 0.0 Confirmed: 7.0\", \"Nepal, Nepal-> Deaths: 0.0 Confirmed: 1.0\", \"Australia, New South Wales-> Deaths: 0.0 Confirmed: 4.0\", \"China, Ningxia-> Deaths: 0.0 Confirmed: 12.0\", \"Canada, Ontario-> Deaths: 0.0 Confirmed: 2.0\", \"China, Qinghai-> Deaths: 0.0 Confirmed: 6.0\", \"Australia, Queensland-> Deaths: 0.0 Confirmed: 1.0\", \"China, Shaanxi-> Deaths: 0.0 Confirmed: 56.0\", \"China, Shandong-> Deaths: 0.0 Confirmed: 145.0\", \"China, Shanghai-> Deaths: 1.0 Confirmed: 101.0\", \"China, Shanxi-> Deaths: 0.0 Confirmed: 35.0\", \"China, Sichuan-> Deaths: 1.0 Confirmed: 142.0\", \"Singapore, Singapore-> Deaths: 0.0 Confirmed: 10.0\", \"South Korea, South Korea-> Deaths: 0.0 Confirmed: 4.0\", \"Sri Lanka, Sri Lanka-> Deaths: 0.0 Confirmed: 1.0\", \"Taiwan, Taiwan-> Deaths: 0.0 Confirmed: 8.0\", \"Thailand, Thailand-> Deaths: 0.0 Confirmed: 14.0\", \"China, Tianjin-> Deaths: 0.0 Confirmed: 27.0\", \"China, Tibet-> Deaths: 0.0 Confirmed: 1.0\", \"United Arab Emirates, United Arab Emirates-> Deaths: 0.0 Confirmed: 4.0\", \"Australia, Victoria-> Deaths: 0.0 Confirmed: 2.0\", \"Vietnam, Vietnam-> Deaths: 0.0 Confirmed: 2.0\", \"US, Washington-> Deaths: 0.0 Confirmed: 1.0\", \"China, Xinjiang-> Deaths: 0.0 Confirmed: 14.0\", \"China, Yunnan-> Deaths: 0.0 Confirmed: 55.0\", \"China, Zhejiang-> Deaths: 0.0 Confirmed: 428.0\"], \"type\": \"scattergeo\"}], \"layout\": {\"title\": {\"text\": \"Corona Virus\", \"x\": 0.5, \"xanchor\": \"center\", \"y\": 0.98, \"yanchor\": \"top\"}}}, {\"data\": [{\"lat\": [32.0, 34.395342, 48.9467562, 39.906217, 55.001251, 36.7014631, 13.5066394, 30.05518, 63.2467777, 46.603353999999996, 26.5450001, 38.0000001, 23.135769399999997, 24.0, 27.0, 19.2000001, 39.0000001, 48.000004700000005, 34.0000001, 22.2793278, 31.15172525, 27.999587800000004, 40.079660600000004, 22.3511148, 43.2443242, 42.6384261, 36.5748441, 33.0000001, 28.0, 42.9995032, 40.997519700000005, 22.175760500000003, 4.5693754, 28.108392900000002, -31.875983500000004, 37.0000001, 50.000678, 12.750348599999999, 35.40709525, -22.1646782, 36.0, 36.0000001, 31.232275800000004, 37.0, 30.500000099999998, 1.357107, 36.5581914, 7.555494199999999, 23.973937399999997, 14.8971921, 39.1235635, 31.89434315, 24.0002488, -36.5986096, 13.2904027, 38.894893200000006, 41.7574769, 25.0, 29.000000099999998], \"locationmode\": \"country names\", \"lon\": [117.0, -111.76327549999999, 11.4038717, 116.3912757, -125.00244099999999, -118.75599740000001, 104.869423, 107.8748712, 25.9209164, 1.8883334999999999, 117.84277800000001, 101.9999999, 113.19826880000001, 109.0, 107.0, 109.5999999, 116.0, 127.99999199999999, 113.9999999, 114.16281310000001, 112.87832224656044, 112.00953799999999, -89.4337288, 78.6677428, 114.32516640000001, 12.674297, 139.2394179, 119.9999999, 116.0, 125.9816054, 122.99554690000001, 113.5514142, 102.2656823, 84.0917139, 147.2869493, 105.9999999, -86.000977, 122.7312101, 95.95211573241954, 144.58449030000003, 109.0, 118.9999999, 121.4692071, 112.0, 102.4999999, 103.81949920000001, 127.9408564, 80.7137847, 120.9820179, 100.83273, 117.1980785, 87.07813712706509, 53.999482900000004, 144.6780052, 108.42651129999999, -77.0365529, 87.16738423046895, 102.0, 119.9999999], \"marker\": {\"autocolorscale\": false, \"cmax\": 350.0, \"cmin\": 0, \"color\": [0.0, 0.0, 0.0, 1.0, 0.0, 0.0, 0.0, 0.0, 0.0, 0.0, 0.0, 0.0, 0.0, 0.0, 0.0, 1.0, 1.0, 2.0, 2.0, 0.0, 204.0, 0.0, 0.0, 0.0, 0.0, 0.0, 0.0, 0.0, 0.0, 0.0, 0.0, 0.0, 0.0, 0.0, 0.0, 0.0, 0.0, 0.0, 0.0, 0.0, 0.0, 0.0, 1.0, 0.0, 1.0, 0.0, 0.0, 0.0, 0.0, 0.0, 0.0, 0.0, 0.0, 0.0, 0.0, 0.0, 0.0, 0.0, 0.0], \"colorbar\": {\"title\": {\"text\": \"Number of Deaths\"}}, \"line\": {\"color\": \"rgba(0, 0, 0)\", \"width\": 0.5}, \"reversescale\": true, \"size\": [10.577682845233985, 4.0, 4.671033598060435, 8.90747631399984, 4.0, 4.29268464756894, 4.0, 10.19428866251348, 4.0, 4.815004806125491, 8.525114079844972, 6.480397821231865, 12.138735961471609, 8.228058805837552, 5.726398632195241, 7.258416635648482, 8.11469740720754, 7.527631944695398, 11.773319580552005, 5.510133141647044, 27.775848127009525, 11.58528755199164, 4.29268464756894, 4.0, 6.032934011676862, 4.29268464756894, 5.4305300479524705, 9.670964397559343, 10.613068179138615, 5.657613768320726, 7.09544342612729, 5.0558871595781, 5.160119477784612, 4.0, 4.671033598060435, 6.088238621134508, 4.29268464756894, 4.0, 5.160119477784612, 4.502144029037208, 8.228058805837552, 9.815361392350553, 9.031816721613545, 6.88403547398714, 9.801155291402312, 5.346228848142263, 4.94179852477375, 4.0, 5.256436683972135, 5.657613768320726, 6.6096322232028495, 4.0, 4.671033598060435, 4.29268464756894, 4.29268464756894, 4.0, 5.855760766039176, 7.9727614582939985, 13.258918680359471]}, \"mode\": \"lines+markers\", \"text\": [\"China, Anhui-> Deaths: 0.0 Confirmed: 237.0\", \"US, Arizona-> Deaths: 0.0 Confirmed: 1.0\", \"Germany, Bavaria-> Deaths: 0.0 Confirmed: 4.0\", \"China, Beijing-> Deaths: 1.0 Confirmed: 121.0\", \"Canada, British Columbia-> Deaths: 0.0 Confirmed: 1.0\", \"US, California-> Deaths: 0.0 Confirmed: 2.0\", \"Cambodia, Cambodia-> Deaths: 0.0 Confirmed: 1.0\", \"China, Chongqing-> Deaths: 0.0 Confirmed: 206.0\", \"Finland, Finland-> Deaths: 0.0 Confirmed: 1.0\", \"France, France-> Deaths: 0.0 Confirmed: 5.0\", \"China, Fujian-> Deaths: 0.0 Confirmed: 101.0\", \"China, Gansu-> Deaths: 0.0 Confirmed: 29.0\", \"China, Guangdong-> Deaths: 0.0 Confirmed: 393.0\", \"China, Guangxi-> Deaths: 0.0 Confirmed: 87.0\", \"China, Guizhou-> Deaths: 0.0 Confirmed: 15.0\", \"China, Hainan-> Deaths: 1.0 Confirmed: 50.0\", \"China, Hebei-> Deaths: 1.0 Confirmed: 82.0\", \"China, Heilongjiang-> Deaths: 2.0 Confirmed: 59.0\", \"China, Henan-> Deaths: 2.0 Confirmed: 352.0\", \"Hong Kong, Hong Kong-> Deaths: 0.0 Confirmed: 12.0\", \"China, Hubei-> Deaths: 204.0 Confirmed: 5806.0\", \"China, Hunan-> Deaths: 0.0 Confirmed: 332.0\", \"US, Illinois-> Deaths: 0.0 Confirmed: 2.0\", \"India, India-> Deaths: 0.0 Confirmed: 1.0\", \"China, Inner Mongolia-> Deaths: 0.0 Confirmed: 20.0\", \"Italy, Italy-> Deaths: 0.0 Confirmed: 2.0\", \"Japan, Japan-> Deaths: 0.0 Confirmed: 11.0\", \"China, Jiangsu-> Deaths: 0.0 Confirmed: 168.0\", \"China, Jiangxi-> Deaths: 0.0 Confirmed: 240.0\", \"China, Jilin-> Deaths: 0.0 Confirmed: 14.0\", \"China, Liaoning-> Deaths: 0.0 Confirmed: 45.0\", \"Macau, Macau-> Deaths: 0.0 Confirmed: 7.0\", \"Malaysia, Malaysia-> Deaths: 0.0 Confirmed: 8.0\", \"Nepal, Nepal-> Deaths: 0.0 Confirmed: 1.0\", \"Australia, New South Wales-> Deaths: 0.0 Confirmed: 4.0\", \"China, Ningxia-> Deaths: 0.0 Confirmed: 21.0\", \"Canada, Ontario-> Deaths: 0.0 Confirmed: 2.0\", \"Philippines, Philippines-> Deaths: 0.0 Confirmed: 1.0\", \"China, Qinghai-> Deaths: 0.0 Confirmed: 8.0\", \"Australia, Queensland-> Deaths: 0.0 Confirmed: 3.0\", \"China, Shaanxi-> Deaths: 0.0 Confirmed: 87.0\", \"China, Shandong-> Deaths: 0.0 Confirmed: 178.0\", \"China, Shanghai-> Deaths: 1.0 Confirmed: 128.0\", \"China, Shanxi-> Deaths: 0.0 Confirmed: 39.0\", \"China, Sichuan-> Deaths: 1.0 Confirmed: 177.0\", \"Singapore, Singapore-> Deaths: 0.0 Confirmed: 10.0\", \"South Korea, South Korea-> Deaths: 0.0 Confirmed: 6.0\", \"Sri Lanka, Sri Lanka-> Deaths: 0.0 Confirmed: 1.0\", \"Taiwan, Taiwan-> Deaths: 0.0 Confirmed: 9.0\", \"Thailand, Thailand-> Deaths: 0.0 Confirmed: 14.0\", \"China, Tianjin-> Deaths: 0.0 Confirmed: 32.0\", \"China, Tibet-> Deaths: 0.0 Confirmed: 1.0\", \"United Arab Emirates, United Arab Emirates-> Deaths: 0.0 Confirmed: 4.0\", \"Australia, Victoria-> Deaths: 0.0 Confirmed: 2.0\", \"Vietnam, Vietnam-> Deaths: 0.0 Confirmed: 2.0\", \"US, Washington-> Deaths: 0.0 Confirmed: 1.0\", \"China, Xinjiang-> Deaths: 0.0 Confirmed: 17.0\", \"China, Yunnan-> Deaths: 0.0 Confirmed: 76.0\", \"China, Zhejiang-> Deaths: 0.0 Confirmed: 537.0\"], \"type\": \"scattergeo\"}], \"layout\": {\"title\": {\"text\": \"Corona Virus\", \"x\": 0.5, \"xanchor\": \"center\", \"y\": 0.98, \"yanchor\": \"top\"}}}, {\"data\": [{\"lat\": [32.0, 34.395342, 48.9467562, 39.906217, 55.001251, 36.7014631, 13.5066394, 30.05518, 63.2467777, 46.603353999999996, 26.5450001, 38.0000001, 23.135769399999997, 24.0, 27.0, 19.2000001, 39.0000001, 48.000004700000005, 34.0000001, 22.2793278, 31.15172525, 27.999587800000004, 40.079660600000004, 22.3511148, 43.2443242, 42.6384261, 36.5748441, 33.0000001, 28.0, 42.9995032, 40.997519700000005, 22.175760500000003, 4.5693754, 28.108392900000002, -31.875983500000004, 37.0000001, 50.000678, 12.750348599999999, 35.40709525, -22.1646782, 64.6863136, 36.0, 36.0000001, 31.232275800000004, 37.0, 30.500000099999998, 1.357107, 36.5581914, 39.3262345, 7.555494199999999, 59.67497120000001, 23.973937399999997, 14.8971921, 39.1235635, 31.89434315, 54.702354500000006, 24.0002488, -36.5986096, 13.2904027, 38.894893200000006, 41.7574769, 25.0, 29.000000099999998], \"locationmode\": \"country names\", \"lon\": [117.0, -111.76327549999999, 11.4038717, 116.3912757, -125.00244099999999, -118.75599740000001, 104.869423, 107.8748712, 25.9209164, 1.8883334999999999, 117.84277800000001, 101.9999999, 113.19826880000001, 109.0, 107.0, 109.5999999, 116.0, 127.99999199999999, 113.9999999, 114.16281310000001, 112.87832224656044, 112.00953799999999, -89.4337288, 78.6677428, 114.32516640000001, 12.674297, 139.2394179, 119.9999999, 116.0, 125.9816054, 122.99554690000001, 113.5514142, 102.2656823, 84.0917139, 147.2869493, 105.9999999, -86.000977, 122.7312101, 95.95211573241954, 144.58449030000003, 97.7453061, 109.0, 118.9999999, 121.4692071, 112.0, 102.4999999, 103.81949920000001, 127.9408564, -4.838064900000001, 80.7137847, 14.5208584, 120.9820179, 100.83273, 117.1980785, 87.07813712706509, -3.2765752999999997, 53.999482900000004, 144.6780052, 108.42651129999999, -77.0365529, 87.16738423046895, 102.0, 119.9999999], \"marker\": {\"autocolorscale\": false, \"cmax\": 350.0, \"cmin\": 0, \"color\": [0.0, 0.0, 0.0, 1.0, 0.0, 0.0, 0.0, 1.0, 0.0, 0.0, 0.0, 0.0, 0.0, 0.0, 0.0, 1.0, 1.0, 2.0, 2.0, 0.0, 249.0, 0.0, 0.0, 0.0, 0.0, 0.0, 0.0, 0.0, 0.0, 0.0, 0.0, 0.0, 0.0, 0.0, 0.0, 0.0, 0.0, 0.0, 0.0, 0.0, 0.0, 0.0, 0.0, 1.0, 0.0, 1.0, 0.0, 0.0, 0.0, 0.0, 0.0, 0.0, 0.0, 0.0, 0.0, 0.0, 0.0, 0.0, 0.0, 0.0, 0.0, 0.0, 0.0], \"colorbar\": {\"title\": {\"text\": \"Number of Deaths\"}}, \"line\": {\"color\": \"rgba(0, 0, 0)\", \"width\": 0.5}, \"reversescale\": true, \"size\": [10.577682845233985, 4.0, 5.0558871595781, 9.21883716430103, 4.0, 4.502144029037208, 4.0, 10.589509130855859, 4.0, 4.94179852477375, 8.889346789610265, 6.731445075485936, 12.497025161261432, 8.250235297922899, 6.480397821231865, 7.49905683093882, 8.422187491104461, 7.527631944695398, 11.773319580552005, 5.585661160918501, 29.76629323402198, 11.58528755199164, 4.29268464756894, 4.0, 6.032934011676862, 4.29268464756894, 5.855760766039176, 9.670964397559343, 10.613068179138615, 5.657613768320726, 7.555903716104263, 5.0558871595781, 5.160119477784612, 4.0, 4.671033598060435, 6.088238621134508, 4.29268464756894, 4.0, 5.160119477784612, 4.502144029037208, 4.29268464756894, 8.228058805837552, 9.899560321169895, 9.443843353139162, 7.161937009665921, 9.801155291402312, 5.792353285846804, 5.4305300479524705, 4.0, 4.0, 4.0, 5.346228848142263, 5.975859650018929, 6.6096322232028495, 4.0, 4.29268464756894, 4.671033598060435, 4.29268464756894, 4.29268464756894, 4.0, 5.855760766039176, 8.137710912549311, 13.258918680359471]}, \"mode\": \"lines+markers\", \"text\": [\"China, Anhui-> Deaths: 0.0 Confirmed: 237.0\", \"US, Arizona-> Deaths: 0.0 Confirmed: 1.0\", \"Germany, Bavaria-> Deaths: 0.0 Confirmed: 7.0\", \"China, Beijing-> Deaths: 1.0 Confirmed: 139.0\", \"Canada, British Columbia-> Deaths: 0.0 Confirmed: 1.0\", \"US, California-> Deaths: 0.0 Confirmed: 3.0\", \"Cambodia, Cambodia-> Deaths: 0.0 Confirmed: 1.0\", \"China, Chongqing-> Deaths: 1.0 Confirmed: 238.0\", \"Finland, Finland-> Deaths: 0.0 Confirmed: 1.0\", \"France, France-> Deaths: 0.0 Confirmed: 6.0\", \"China, Fujian-> Deaths: 0.0 Confirmed: 120.0\", \"China, Gansu-> Deaths: 0.0 Confirmed: 35.0\", \"China, Guangdong-> Deaths: 0.0 Confirmed: 436.0\", \"China, Guangxi-> Deaths: 0.0 Confirmed: 88.0\", \"China, Guizhou-> Deaths: 0.0 Confirmed: 29.0\", \"China, Hainan-> Deaths: 1.0 Confirmed: 58.0\", \"China, Hebei-> Deaths: 1.0 Confirmed: 96.0\", \"China, Heilongjiang-> Deaths: 2.0 Confirmed: 59.0\", \"China, Henan-> Deaths: 2.0 Confirmed: 352.0\", \"Hong Kong, Hong Kong-> Deaths: 0.0 Confirmed: 13.0\", \"China, Hubei-> Deaths: 249.0 Confirmed: 7153.0\", \"China, Hunan-> Deaths: 0.0 Confirmed: 332.0\", \"US, Illinois-> Deaths: 0.0 Confirmed: 2.0\", \"India, India-> Deaths: 0.0 Confirmed: 1.0\", \"China, Inner Mongolia-> Deaths: 0.0 Confirmed: 20.0\", \"Italy, Italy-> Deaths: 0.0 Confirmed: 2.0\", \"Japan, Japan-> Deaths: 0.0 Confirmed: 17.0\", \"China, Jiangsu-> Deaths: 0.0 Confirmed: 168.0\", \"China, Jiangxi-> Deaths: 0.0 Confirmed: 240.0\", \"China, Jilin-> Deaths: 0.0 Confirmed: 14.0\", \"China, Liaoning-> Deaths: 0.0 Confirmed: 60.0\", \"Macau, Macau-> Deaths: 0.0 Confirmed: 7.0\", \"Malaysia, Malaysia-> Deaths: 0.0 Confirmed: 8.0\", \"Nepal, Nepal-> Deaths: 0.0 Confirmed: 1.0\", \"Australia, New South Wales-> Deaths: 0.0 Confirmed: 4.0\", \"China, Ningxia-> Deaths: 0.0 Confirmed: 21.0\", \"Canada, Ontario-> Deaths: 0.0 Confirmed: 2.0\", \"Philippines, Philippines-> Deaths: 0.0 Confirmed: 1.0\", \"China, Qinghai-> Deaths: 0.0 Confirmed: 8.0\", \"Australia, Queensland-> Deaths: 0.0 Confirmed: 3.0\", \"Russia, Russia-> Deaths: 0.0 Confirmed: 2.0\", \"China, Shaanxi-> Deaths: 0.0 Confirmed: 87.0\", \"China, Shandong-> Deaths: 0.0 Confirmed: 184.0\", \"China, Shanghai-> Deaths: 1.0 Confirmed: 153.0\", \"China, Shanxi-> Deaths: 0.0 Confirmed: 47.0\", \"China, Sichuan-> Deaths: 1.0 Confirmed: 177.0\", \"Singapore, Singapore-> Deaths: 0.0 Confirmed: 16.0\", \"South Korea, South Korea-> Deaths: 0.0 Confirmed: 11.0\", \"Spain, Spain-> Deaths: 0.0 Confirmed: 1.0\", \"Sri Lanka, Sri Lanka-> Deaths: 0.0 Confirmed: 1.0\", \"Sweden, Sweden-> Deaths: 0.0 Confirmed: 1.0\", \"Taiwan, Taiwan-> Deaths: 0.0 Confirmed: 10.0\", \"Thailand, Thailand-> Deaths: 0.0 Confirmed: 19.0\", \"China, Tianjin-> Deaths: 0.0 Confirmed: 32.0\", \"China, Tibet-> Deaths: 0.0 Confirmed: 1.0\", \"UK, UK-> Deaths: 0.0 Confirmed: 2.0\", \"United Arab Emirates, United Arab Emirates-> Deaths: 0.0 Confirmed: 4.0\", \"Australia, Victoria-> Deaths: 0.0 Confirmed: 2.0\", \"Vietnam, Vietnam-> Deaths: 0.0 Confirmed: 2.0\", \"US, Washington-> Deaths: 0.0 Confirmed: 1.0\", \"China, Xinjiang-> Deaths: 0.0 Confirmed: 17.0\", \"China, Yunnan-> Deaths: 0.0 Confirmed: 83.0\", \"China, Zhejiang-> Deaths: 0.0 Confirmed: 537.0\"], \"type\": \"scattergeo\"}], \"layout\": {\"title\": {\"text\": \"Corona Virus\", \"x\": 0.5, \"xanchor\": \"center\", \"y\": 0.98, \"yanchor\": \"top\"}}}, {\"data\": [{\"lat\": [32.0, 39.906217, 42.3602534, 55.001251, 13.5066394, 41.875561600000005, 30.05518, 63.2467777, 46.603353999999996, 26.5450001, 38.0000001, 23.135769399999997, 24.0, 27.0, 19.2000001, 39.0000001, 48.000004700000005, 34.0000001, 22.2793278, 31.15172525, 27.999587800000004, 22.3511148, 43.2443242, 42.6384261, 36.5748441, 33.0000001, 28.0, 42.9995032, 40.997519700000005, 34.0536909, 22.175760500000003, 4.5693754, 28.108392900000002, -31.875983500000004, 37.0000001, 50.000678, 29.7742659, 12.750348599999999, 35.40709525, -22.1646782, 64.6863136, 37.35411320000001, 47.6038321, 36.0, 36.0000001, 31.232275800000004, 37.0, 30.500000099999998, 1.357107, -30.534366499999997, 36.5581914, 39.3262345, 7.555494199999999, 59.67497120000001, 23.973937399999997, 33.4255056, 14.8971921, 39.1235635, 31.89434315, 54.702354500000006, 24.0002488, -36.5986096, 13.2904027, 41.7574769, 25.0, 29.000000099999998], \"locationmode\": \"country names\", \"lon\": [117.0, 116.3912757, -71.0582912, -125.00244099999999, 104.869423, -87.6244212, 107.8748712, 25.9209164, 1.8883334999999999, 117.84277800000001, 101.9999999, 113.19826880000001, 109.0, 107.0, 109.5999999, 116.0, 127.99999199999999, 113.9999999, 114.16281310000001, 112.87832224656044, 112.00953799999999, 78.6677428, 114.32516640000001, 12.674297, 139.2394179, 119.9999999, 116.0, 125.9816054, 122.99554690000001, -118.2427666, 113.5514142, 102.2656823, 84.0917139, 147.2869493, 105.9999999, -86.000977, -95.3341066, 122.7312101, 95.95211573241954, 144.58449030000003, 97.7453061, -121.95517439999999, -122.3300624, 109.0, 118.9999999, 121.4692071, 112.0, 102.4999999, 103.81949920000001, 135.6301212, 127.9408564, -4.838064900000001, 80.7137847, 14.5208584, 120.9820179, -111.9400125, 100.83273, 117.1980785, 87.07813712706509, -3.2765752999999997, 53.999482900000004, 144.6780052, 108.42651129999999, 87.16738423046895, 102.0, 119.9999999], \"marker\": {\"autocolorscale\": false, \"cmax\": 350.0, \"cmin\": 0, \"color\": [0.0, 1.0, 0.0, 0.0, 0.0, 0.0, 2.0, 0.0, 0.0, 0.0, 0.0, 0.0, 0.0, 0.0, 1.0, 1.0, 2.0, 2.0, 0.0, 350.0, 0.0, 0.0, 0.0, 0.0, 0.0, 0.0, 0.0, 0.0, 0.0, 0.0, 0.0, 0.0, 0.0, 0.0, 0.0, 0.0, 0.0, 1.0, 0.0, 0.0, 0.0, 0.0, 0.0, 0.0, 0.0, 1.0, 0.0, 1.0, 0.0, 0.0, 0.0, 0.0, 0.0, 0.0, 0.0, 0.0, 0.0, 0.0, 0.0, 0.0, 0.0, 0.0, 0.0, 0.0, 0.0, 0.0], \"colorbar\": {\"title\": {\"text\": \"Number of Deaths\"}}, \"line\": {\"color\": \"rgba(0, 0, 0)\", \"width\": 0.5}, \"reversescale\": true, \"size\": [12.266402734916461, 9.995635501635093, 4.0, 4.0, 4.0, 4.29268464756894, 11.26898714097422, 4.0, 4.94179852477375, 9.536304383316704, 7.2897639830644705, 14.214642812282642, 9.014320439199771, 7.128917772316606, 7.8489894617132165, 8.759694167055606, 8.401199567139276, 13.460721531990252, 5.726398632195241, 34.577643875457504, 13.144629578632946, 4.29268464756894, 6.389492891729259, 4.29268464756894, 6.032934011676862, 10.96342212402689, 12.121483265511438, 6.567435936849419, 7.823581762327395, 4.0, 5.160119477784612, 5.160119477784612, 4.0, 4.671033598060435, 6.435456517476041, 4.502144029037208, 4.0, 4.29268464756894, 5.4305300479524705, 4.29268464756894, 4.29268464756894, 4.29268464756894, 4.0, 8.815861693894782, 10.683012170568894, 10.022677210900873, 7.719599661532381, 10.77461969731363, 5.916861059582148, 4.29268464756894, 5.726398632195241, 4.0, 4.0, 4.0, 5.346228848142263, 4.0, 5.975859650018929, 7.194516815297205, 4.0, 4.29268464756894, 4.815004806125491, 4.671033598060435, 4.94179852477375, 6.244810575561126, 8.605167939821492, 14.459414586845678]}, \"mode\": \"lines+markers\", \"text\": [\"China, Anhui-> Deaths: 0.0 Confirmed: 408.0\", \"China, Beijing-> Deaths: 1.0 Confirmed: 191.0\", \"US, Boston, MA-> Deaths: 0.0 Confirmed: 1.0\", \"Canada, British Columbia-> Deaths: 0.0 Confirmed: 1.0\", \"Cambodia, Cambodia-> Deaths: 0.0 Confirmed: 1.0\", \"US, Chicago, IL-> Deaths: 0.0 Confirmed: 2.0\", \"China, Chongqing-> Deaths: 2.0 Confirmed: 300.0\", \"Finland, Finland-> Deaths: 0.0 Confirmed: 1.0\", \"France, France-> Deaths: 0.0 Confirmed: 6.0\", \"China, Fujian-> Deaths: 0.0 Confirmed: 159.0\", \"China, Gansu-> Deaths: 0.0 Confirmed: 51.0\", \"China, Guangdong-> Deaths: 0.0 Confirmed: 683.0\", \"China, Guangxi-> Deaths: 0.0 Confirmed: 127.0\", \"China, Guizhou-> Deaths: 0.0 Confirmed: 46.0\", \"China, Hainan-> Deaths: 1.0 Confirmed: 71.0\", \"China, Hebei-> Deaths: 1.0 Confirmed: 113.0\", \"China, Heilongjiang-> Deaths: 2.0 Confirmed: 95.0\", \"China, Henan-> Deaths: 2.0 Confirmed: 566.0\", \"Hong Kong, Hong Kong-> Deaths: 0.0 Confirmed: 15.0\", \"China, Hubei-> Deaths: 350.0 Confirmed: 11177.0\", \"China, Hunan-> Deaths: 0.0 Confirmed: 521.0\", \"India, India-> Deaths: 0.0 Confirmed: 2.0\", \"China, Inner Mongolia-> Deaths: 0.0 Confirmed: 27.0\", \"Italy, Italy-> Deaths: 0.0 Confirmed: 2.0\", \"Japan, Japan-> Deaths: 0.0 Confirmed: 20.0\", \"China, Jiangsu-> Deaths: 0.0 Confirmed: 271.0\", \"China, Jiangxi-> Deaths: 0.0 Confirmed: 391.0\", \"China, Jilin-> Deaths: 0.0 Confirmed: 31.0\", \"China, Liaoning-> Deaths: 0.0 Confirmed: 70.0\", \"US, Los Angeles, CA-> Deaths: 0.0 Confirmed: 1.0\", \"Macau, Macau-> Deaths: 0.0 Confirmed: 8.0\", \"Malaysia, Malaysia-> Deaths: 0.0 Confirmed: 8.0\", \"Nepal, Nepal-> Deaths: 0.0 Confirmed: 1.0\", \"Australia, New South Wales-> Deaths: 0.0 Confirmed: 4.0\", \"China, Ningxia-> Deaths: 0.0 Confirmed: 28.0\", \"Canada, Ontario-> Deaths: 0.0 Confirmed: 3.0\", \"US, Orange, CA-> Deaths: 0.0 Confirmed: 1.0\", \"Philippines, Philippines-> Deaths: 1.0 Confirmed: 2.0\", \"China, Qinghai-> Deaths: 0.0 Confirmed: 11.0\", \"Australia, Queensland-> Deaths: 0.0 Confirmed: 2.0\", \"Russia, Russia-> Deaths: 0.0 Confirmed: 2.0\", \"US, Santa Clara, CA-> Deaths: 0.0 Confirmed: 2.0\", \"US, Seattle, WA-> Deaths: 0.0 Confirmed: 1.0\", \"China, Shaanxi-> Deaths: 0.0 Confirmed: 116.0\", \"China, Shandong-> Deaths: 0.0 Confirmed: 246.0\", \"China, Shanghai-> Deaths: 1.0 Confirmed: 193.0\", \"China, Shanxi-> Deaths: 0.0 Confirmed: 66.0\", \"China, Sichuan-> Deaths: 1.0 Confirmed: 254.0\", \"Singapore, Singapore-> Deaths: 0.0 Confirmed: 18.0\", \"Australia, South Australia-> Deaths: 0.0 Confirmed: 2.0\", \"South Korea, South Korea-> Deaths: 0.0 Confirmed: 15.0\", \"Spain, Spain-> Deaths: 0.0 Confirmed: 1.0\", \"Sri Lanka, Sri Lanka-> Deaths: 0.0 Confirmed: 1.0\", \"Sweden, Sweden-> Deaths: 0.0 Confirmed: 1.0\", \"Taiwan, Taiwan-> Deaths: 0.0 Confirmed: 10.0\", \"US, Tempe, AZ-> Deaths: 0.0 Confirmed: 1.0\", \"Thailand, Thailand-> Deaths: 0.0 Confirmed: 19.0\", \"China, Tianjin-> Deaths: 0.0 Confirmed: 48.0\", \"China, Tibet-> Deaths: 0.0 Confirmed: 1.0\", \"UK, UK-> Deaths: 0.0 Confirmed: 2.0\", \"United Arab Emirates, United Arab Emirates-> Deaths: 0.0 Confirmed: 5.0\", \"Australia, Victoria-> Deaths: 0.0 Confirmed: 4.0\", \"Vietnam, Vietnam-> Deaths: 0.0 Confirmed: 6.0\", \"China, Xinjiang-> Deaths: 0.0 Confirmed: 24.0\", \"China, Yunnan-> Deaths: 0.0 Confirmed: 105.0\", \"China, Zhejiang-> Deaths: 0.0 Confirmed: 724.0\"], \"type\": \"scattergeo\"}], \"layout\": {\"title\": {\"text\": \"Corona Virus\", \"x\": 0.5, \"xanchor\": \"center\", \"y\": 0.98, \"yanchor\": \"top\"}}}]);\n",
       "                        }).then(function(){\n",
       "                            \n",
       "var gd = document.getElementById('b5e2c655-c600-4cfc-b8f1-ff673074226d');\n",
       "var x = new MutationObserver(function (mutations, observer) {{\n",
       "        var display = window.getComputedStyle(gd).display;\n",
       "        if (!display || display === 'none') {{\n",
       "            console.log([gd, 'removed!']);\n",
       "            Plotly.purge(gd);\n",
       "            observer.disconnect();\n",
       "        }}\n",
       "}});\n",
       "\n",
       "// Listen for the removal of the full notebook cells\n",
       "var notebookContainer = gd.closest('#notebook-container');\n",
       "if (notebookContainer) {{\n",
       "    x.observe(notebookContainer, {childList: true});\n",
       "}}\n",
       "\n",
       "// Listen for the clearing of the current output cell\n",
       "var outputEl = gd.closest('.output');\n",
       "if (outputEl) {{\n",
       "    x.observe(outputEl, {childList: true});\n",
       "}}\n",
       "\n",
       "                        })\n",
       "                };\n",
       "                });\n",
       "            </script>\n",
       "        </div>"
      ]
     },
     "metadata": {},
     "output_type": "display_data"
    }
   ],
   "source": [
    "fig = go.Figure(\n",
    "    data=data[0],\n",
    "    layout=go.Layout(\n",
    "        title = {'text': f'[Last recorded data]Detection of Corona Virus 2nd Feb','y':0.98,'x':0.5,'xanchor': 'center','yanchor': 'top'},\n",
    "        geo = dict(projection_type='robinson',showland = True,landcolor = \"rgb(252, 240, 220)\",showcountries=True,showocean=True,countrycolor = \"rgb(128, 128, 128)\",\n",
    "            )),\n",
    "    \n",
    "    frames=[go.Frame(data=dt, layout=go.Layout(title={'text': f'Corona Virus','y':0.98,'x':0.5,'xanchor': 'center','yanchor': 'top'}))for dt,date in zip(data[1:],dates[1:])])\n",
    "\n",
    "fig.show()"
   ]
  },
  {
   "cell_type": "markdown",
   "metadata": {},
   "source": [
    "Within 10 days Corona Virus spread to the whole world. Now it became worldwide serious issue.\n",
    "\n",
    "- Almost 30time confirmed cases of corona all over the world.\n",
    "\n",
    "<img src=\"https://raw.githubusercontent.com/insaid2018/Term-2/master/images/last%20day.png\" height=400 width=500/>\n",
    "- Death toll starts increasing, Only in Hubei 350 people got died due to corona virus."
   ]
  },
  {
   "cell_type": "markdown",
   "metadata": {},
   "source": [
    "<a id = Section53></a>\n",
    "### 5.3 Let's check out the spread of CoronaVirus worldwide through animation.</center>"
   ]
  },
  {
   "cell_type": "code",
   "execution_count": 22,
   "metadata": {},
   "outputs": [
    {
     "data": {
      "application/vnd.plotly.v1+json": {
       "config": {
        "plotlyServerURL": "https://plot.ly"
       },
       "data": [
        {
         "lat": [
          32,
          39.906217,
          30.05518,
          26.5450001,
          23.135769399999997,
          24,
          27,
          19.2000001,
          39.0000001,
          34.0000001,
          31.15172525,
          27.999587800000004,
          36.5748441,
          33.0000001,
          28,
          40.997519700000005,
          22.175760500000003,
          37.0000001,
          36.0000001,
          31.232275800000004,
          37,
          30.500000099999998,
          36.5581914,
          23.973937399999997,
          14.8971921,
          39.1235635,
          38.894893200000006,
          25,
          29.000000099999998
         ],
         "locationmode": "country names",
         "lon": [
          117,
          116.3912757,
          107.8748712,
          117.84277800000001,
          113.19826880000001,
          109,
          107,
          109.5999999,
          116,
          113.9999999,
          112.87832224656044,
          112.00953799999999,
          139.2394179,
          119.9999999,
          116,
          122.99554690000001,
          113.5514142,
          105.9999999,
          118.9999999,
          121.4692071,
          112,
          102.4999999,
          127.9408564,
          120.9820179,
          100.83273,
          117.1980785,
          -77.0365529,
          102,
          119.9999999
         ],
         "marker": {
          "autocolorscale": false,
          "cmax": 350,
          "cmin": 0,
          "color": [
           0,
           0,
           0,
           0,
           0,
           0,
           0,
           0,
           0,
           0,
           0,
           0,
           0,
           0,
           0,
           0,
           0,
           0,
           0,
           0,
           0,
           0,
           0,
           0,
           0,
           0,
           0,
           0,
           0
          ],
          "colorbar": {
           "title": {
            "text": "Number of Deaths"
           }
          },
          "line": {
           "color": "rgba(0, 0, 0)",
           "width": 0.5
          },
          "reversescale": true,
          "size": [
           4,
           5.657613768320726,
           4.94179852477375,
           4,
           6.34244448653463,
           4.29268464756894,
           4,
           4.671033598060435,
           4,
           4.815004806125491,
           12.561195780665512,
           4.671033598060435,
           4.29268464756894,
           4,
           4.29268464756894,
           4.29268464756894,
           4,
           4,
           4.29268464756894,
           5.256436683972135,
           4,
           4.815004806125491,
           4,
           4,
           4.29268464756894,
           4.671033598060435,
           4,
           4,
           5.346228848142263
          ]
         },
         "mode": "lines+markers",
         "text": [
          "China, Anhui-> Deaths: 0.0 Confirmed: 1.0",
          "China, Beijing-> Deaths: 0.0 Confirmed: 14.0",
          "China, Chongqing-> Deaths: 0.0 Confirmed: 6.0",
          "China, Fujian-> Deaths: 0.0 Confirmed: 1.0",
          "China, Guangdong-> Deaths: 0.0 Confirmed: 26.0",
          "China, Guangxi-> Deaths: 0.0 Confirmed: 2.0",
          "China, Guizhou-> Deaths: 0.0 Confirmed: 1.0",
          "China, Hainan-> Deaths: 0.0 Confirmed: 4.0",
          "China, Hebei-> Deaths: 0.0 Confirmed: 1.0",
          "China, Henan-> Deaths: 0.0 Confirmed: 5.0",
          "China, Hubei-> Deaths: 0.0 Confirmed: 444.0",
          "China, Hunan-> Deaths: 0.0 Confirmed: 4.0",
          "Japan, Japan-> Deaths: 0.0 Confirmed: 2.0",
          "China, Jiangsu-> Deaths: 0.0 Confirmed: 1.0",
          "China, Jiangxi-> Deaths: 0.0 Confirmed: 2.0",
          "China, Liaoning-> Deaths: 0.0 Confirmed: 2.0",
          "China, Macau-> Deaths: 0.0 Confirmed: 1.0",
          "China, Ningxia-> Deaths: 0.0 Confirmed: 1.0",
          "China, Shandong-> Deaths: 0.0 Confirmed: 2.0",
          "China, Shanghai-> Deaths: 0.0 Confirmed: 9.0",
          "China, Shanxi-> Deaths: 0.0 Confirmed: 1.0",
          "China, Sichuan-> Deaths: 0.0 Confirmed: 5.0",
          "South Korea, South Korea-> Deaths: 0.0 Confirmed: 1.0",
          "China, Taiwan-> Deaths: 0.0 Confirmed: 1.0",
          "Thailand, Thailand-> Deaths: 0.0 Confirmed: 2.0",
          "China, Tianjin-> Deaths: 0.0 Confirmed: 4.0",
          "US, Washington-> Deaths: 0.0 Confirmed: 1.0",
          "China, Yunnan-> Deaths: 0.0 Confirmed: 1.0",
          "China, Zhejiang-> Deaths: 0.0 Confirmed: 10.0"
         ],
         "type": "scattergeo"
        }
       ],
       "frames": [
        {
         "data": [
          {
           "lat": [
            32,
            39.906217,
            30.05518,
            26.5450001,
            38.0000001,
            23.135769399999997,
            24,
            27,
            19.2000001,
            39.0000001,
            48.000004700000005,
            34.0000001,
            22.2793278,
            31.15172525,
            27.999587800000004,
            36.5748441,
            33.0000001,
            28,
            42.9995032,
            40.997519700000005,
            22.175760500000003,
            37.0000001,
            36,
            36.0000001,
            31.232275800000004,
            37,
            30.500000099999998,
            1.357107,
            36.5581914,
            23.973937399999997,
            14.8971921,
            39.1235635,
            13.2904027,
            38.894893200000006,
            41.7574769,
            25,
            29.000000099999998
           ],
           "locationmode": "country names",
           "lon": [
            117,
            116.3912757,
            107.8748712,
            117.84277800000001,
            101.9999999,
            113.19826880000001,
            109,
            107,
            109.5999999,
            116,
            127.99999199999999,
            113.9999999,
            114.16281310000001,
            112.87832224656044,
            112.00953799999999,
            139.2394179,
            119.9999999,
            116,
            125.9816054,
            122.99554690000001,
            113.5514142,
            105.9999999,
            109,
            118.9999999,
            121.4692071,
            112,
            102.4999999,
            103.81949920000001,
            127.9408564,
            120.9820179,
            100.83273,
            117.1980785,
            108.42651129999999,
            -77.0365529,
            87.16738423046895,
            102,
            119.9999999
           ],
           "marker": {
            "autocolorscale": false,
            "cmax": 350,
            "cmin": 0,
            "color": [
             0,
             0,
             0,
             0,
             0,
             0,
             0,
             0,
             0,
             1,
             0,
             0,
             0,
             17,
             0,
             0,
             0,
             0,
             0,
             0,
             0,
             0,
             0,
             0,
             0,
             0,
             0,
             0,
             0,
             0,
             0,
             0,
             0,
             0,
             0,
             0,
             0
            ],
            "colorbar": {
             "title": {
              "text": "Number of Deaths"
             }
            },
            "line": {
             "color": "rgba(0, 0, 0)",
             "width": 0.5
            },
            "reversescale": true,
            "size": [
             5.256436683972135,
             6.141908878443159,
             5.256436683972135,
             4.815004806125491,
             4.29268464756894,
             6.6096322232028495,
             4.815004806125491,
             4.502144029037208,
             4.815004806125491,
             4,
             4.29268464756894,
             4.815004806125491,
             4.29268464756894,
             12.561195780665512,
             5.256436683972135,
             4,
             4.815004806125491,
             5.0558871595781,
             4,
             4.502144029037208,
             4.29268464756894,
             4,
             4.502144029037208,
             4.94179852477375,
             5.792353285846804,
             4,
             5.160119477784612,
             4,
             4,
             4,
             4.502144029037208,
             4.671033598060435,
             4.29268464756894,
             4,
             4.29268464756894,
             4.29268464756894,
             6.389492891729259
            ]
           },
           "mode": "lines+markers",
           "text": [
            "China, Anhui-> Deaths: 0.0 Confirmed: 9.0",
            "China, Beijing-> Deaths: 0.0 Confirmed: 22.0",
            "China, Chongqing-> Deaths: 0.0 Confirmed: 9.0",
            "China, Fujian-> Deaths: 0.0 Confirmed: 5.0",
            "China, Gansu-> Deaths: 0.0 Confirmed: 2.0",
            "China, Guangdong-> Deaths: 0.0 Confirmed: 32.0",
            "China, Guangxi-> Deaths: 0.0 Confirmed: 5.0",
            "China, Guizhou-> Deaths: 0.0 Confirmed: 3.0",
            "China, Hainan-> Deaths: 0.0 Confirmed: 5.0",
            "China, Hebei-> Deaths: 1.0 Confirmed: 1.0",
            "China, Heilongjiang-> Deaths: 0.0 Confirmed: 2.0",
            "China, Henan-> Deaths: 0.0 Confirmed: 5.0",
            "Hong Kong, Hong Kong-> Deaths: 0.0 Confirmed: 2.0",
            "China, Hubei-> Deaths: 17.0 Confirmed: 444.0",
            "China, Hunan-> Deaths: 0.0 Confirmed: 9.0",
            "Japan, Japan-> Deaths: 0.0 Confirmed: 1.0",
            "China, Jiangsu-> Deaths: 0.0 Confirmed: 5.0",
            "China, Jiangxi-> Deaths: 0.0 Confirmed: 7.0",
            "China, Jilin-> Deaths: 0.0 Confirmed: 1.0",
            "China, Liaoning-> Deaths: 0.0 Confirmed: 3.0",
            "Macau, Macau-> Deaths: 0.0 Confirmed: 2.0",
            "China, Ningxia-> Deaths: 0.0 Confirmed: 1.0",
            "China, Shaanxi-> Deaths: 0.0 Confirmed: 3.0",
            "China, Shandong-> Deaths: 0.0 Confirmed: 6.0",
            "China, Shanghai-> Deaths: 0.0 Confirmed: 16.0",
            "China, Shanxi-> Deaths: 0.0 Confirmed: 1.0",
            "China, Sichuan-> Deaths: 0.0 Confirmed: 8.0",
            "Singapore, Singapore-> Deaths: 0.0 Confirmed: 1.0",
            "South Korea, South Korea-> Deaths: 0.0 Confirmed: 1.0",
            "Taiwan, Taiwan-> Deaths: 0.0 Confirmed: 1.0",
            "Thailand, Thailand-> Deaths: 0.0 Confirmed: 3.0",
            "China, Tianjin-> Deaths: 0.0 Confirmed: 4.0",
            "Vietnam, Vietnam-> Deaths: 0.0 Confirmed: 2.0",
            "US, Washington-> Deaths: 0.0 Confirmed: 1.0",
            "China, Xinjiang-> Deaths: 0.0 Confirmed: 2.0",
            "China, Yunnan-> Deaths: 0.0 Confirmed: 2.0",
            "China, Zhejiang-> Deaths: 0.0 Confirmed: 27.0"
           ],
           "type": "scattergeo"
          }
         ],
         "layout": {
          "title": {
           "text": "Corona Virus, 2020-01-23",
           "x": 0.5,
           "xanchor": "center",
           "y": 0.98,
           "yanchor": "top"
          }
         }
        },
        {
         "data": [
          {
           "lat": [
            32,
            39.906217,
            41.875561600000005,
            30.05518,
            46.603353999999996,
            26.5450001,
            38.0000001,
            23.135769399999997,
            24,
            27,
            19.2000001,
            39.0000001,
            48.000004700000005,
            34.0000001,
            22.2793278,
            31.15172525,
            27.999587800000004,
            43.2443242,
            36.5748441,
            33.0000001,
            28,
            42.9995032,
            40.997519700000005,
            22.175760500000003,
            37.0000001,
            36,
            36.0000001,
            31.232275800000004,
            37,
            30.500000099999998,
            1.357107,
            36.5581914,
            23.973937399999997,
            14.8971921,
            39.1235635,
            13.2904027,
            38.894893200000006,
            41.7574769,
            25,
            29.000000099999998
           ],
           "locationmode": "country names",
           "lon": [
            117,
            116.3912757,
            -87.6244212,
            107.8748712,
            1.8883334999999999,
            117.84277800000001,
            101.9999999,
            113.19826880000001,
            109,
            107,
            109.5999999,
            116,
            127.99999199999999,
            113.9999999,
            114.16281310000001,
            112.87832224656044,
            112.00953799999999,
            114.32516640000001,
            139.2394179,
            119.9999999,
            116,
            125.9816054,
            122.99554690000001,
            113.5514142,
            105.9999999,
            109,
            118.9999999,
            121.4692071,
            112,
            102.4999999,
            103.81949920000001,
            127.9408564,
            120.9820179,
            100.83273,
            117.1980785,
            108.42651129999999,
            -77.0365529,
            87.16738423046895,
            102,
            119.9999999
           ],
           "marker": {
            "autocolorscale": false,
            "cmax": 350,
            "cmin": 0,
            "color": [
             0,
             0,
             0,
             0,
             0,
             0,
             0,
             0,
             0,
             0,
             0,
             1,
             1,
             0,
             0,
             24,
             0,
             0,
             0,
             0,
             0,
             0,
             0,
             0,
             0,
             0,
             0,
             0,
             0,
             0,
             0,
             0,
             0,
             0,
             0,
             0,
             0,
             0,
             0,
             0
            ],
            "colorbar": {
             "title": {
              "text": "Number of Deaths"
             }
            },
            "line": {
             "color": "rgba(0, 0, 0)",
             "width": 0.5
            },
            "reversescale": true,
            "size": [
             5.726398632195241,
             6.770581510813514,
             4,
             6.389492891729259,
             4.29268464756894,
             5.346228848142263,
             4.29268464756894,
             7.3513166893231405,
             6.194064213635992,
             4.502144029037208,
             5.160119477784612,
             4.29268464756894,
             4.671033598060435,
             5.256436683972135,
             4.29268464756894,
             13.343235758122242,
             6.244810575561126,
             4,
             4.29268464756894,
             5.256436683972135,
             5.916861059582148,
             4.502144029037208,
             4.671033598060435,
             4.29268464756894,
             4.29268464756894,
             4.815004806125491,
             5.726398632195241,
             6.032934011676862,
             4,
             5.726398632195241,
             4.502144029037208,
             4.29268464756894,
             4.502144029037208,
             4.815004806125491,
             5.160119477784612,
             4.29268464756894,
             4,
             4.29268464756894,
             4.815004806125491,
             7.0270620082926145
            ]
           },
           "mode": "lines+markers",
           "text": [
            "China, Anhui-> Deaths: 0.0 Confirmed: 15.0",
            "China, Beijing-> Deaths: 0.0 Confirmed: 36.0",
            "US, Chicago-> Deaths: 0.0 Confirmed: 1.0",
            "China, Chongqing-> Deaths: 0.0 Confirmed: 27.0",
            "France, France-> Deaths: 0.0 Confirmed: 2.0",
            "China, Fujian-> Deaths: 0.0 Confirmed: 10.0",
            "China, Gansu-> Deaths: 0.0 Confirmed: 2.0",
            "China, Guangdong-> Deaths: 0.0 Confirmed: 53.0",
            "China, Guangxi-> Deaths: 0.0 Confirmed: 23.0",
            "China, Guizhou-> Deaths: 0.0 Confirmed: 3.0",
            "China, Hainan-> Deaths: 0.0 Confirmed: 8.0",
            "China, Hebei-> Deaths: 1.0 Confirmed: 2.0",
            "China, Heilongjiang-> Deaths: 1.0 Confirmed: 4.0",
            "China, Henan-> Deaths: 0.0 Confirmed: 9.0",
            "Hong Kong, Hong Kong-> Deaths: 0.0 Confirmed: 2.0",
            "China, Hubei-> Deaths: 24.0 Confirmed: 549.0",
            "China, Hunan-> Deaths: 0.0 Confirmed: 24.0",
            "China, Inner Mongolia-> Deaths: 0.0 Confirmed: 1.0",
            "Japan, Japan-> Deaths: 0.0 Confirmed: 2.0",
            "China, Jiangsu-> Deaths: 0.0 Confirmed: 9.0",
            "China, Jiangxi-> Deaths: 0.0 Confirmed: 18.0",
            "China, Jilin-> Deaths: 0.0 Confirmed: 3.0",
            "China, Liaoning-> Deaths: 0.0 Confirmed: 4.0",
            "Macau, Macau-> Deaths: 0.0 Confirmed: 2.0",
            "China, Ningxia-> Deaths: 0.0 Confirmed: 2.0",
            "China, Shaanxi-> Deaths: 0.0 Confirmed: 5.0",
            "China, Shandong-> Deaths: 0.0 Confirmed: 15.0",
            "China, Shanghai-> Deaths: 0.0 Confirmed: 20.0",
            "China, Shanxi-> Deaths: 0.0 Confirmed: 1.0",
            "China, Sichuan-> Deaths: 0.0 Confirmed: 15.0",
            "Singapore, Singapore-> Deaths: 0.0 Confirmed: 3.0",
            "South Korea, South Korea-> Deaths: 0.0 Confirmed: 2.0",
            "Taiwan, Taiwan-> Deaths: 0.0 Confirmed: 3.0",
            "Thailand, Thailand-> Deaths: 0.0 Confirmed: 5.0",
            "China, Tianjin-> Deaths: 0.0 Confirmed: 8.0",
            "Vietnam, Vietnam-> Deaths: 0.0 Confirmed: 2.0",
            "US, Washington-> Deaths: 0.0 Confirmed: 1.0",
            "China, Xinjiang-> Deaths: 0.0 Confirmed: 2.0",
            "China, Yunnan-> Deaths: 0.0 Confirmed: 5.0",
            "China, Zhejiang-> Deaths: 0.0 Confirmed: 43.0"
           ],
           "type": "scattergeo"
          }
         ],
         "layout": {
          "title": {
           "text": "Corona Virus, 2020-01-24",
           "x": 0.5,
           "xanchor": "center",
           "y": 0.98,
           "yanchor": "top"
          }
         }
        },
        {
         "data": [
          {
           "lat": [
            32,
            39.906217,
            30.05518,
            46.603353999999996,
            26.5450001,
            38.0000001,
            23.135769399999997,
            24,
            27,
            19.2000001,
            39.0000001,
            48.000004700000005,
            34.0000001,
            22.2793278,
            31.15172525,
            27.999587800000004,
            40.079660600000004,
            43.2443242,
            36.5748441,
            33.0000001,
            28,
            42.9995032,
            40.997519700000005,
            22.175760500000003,
            4.5693754,
            28.108392900000002,
            37.0000001,
            35.40709525,
            36,
            36.0000001,
            31.232275800000004,
            37,
            30.500000099999998,
            1.357107,
            36.5581914,
            23.973937399999997,
            14.8971921,
            39.1235635,
            13.2904027,
            38.894893200000006,
            41.7574769,
            25,
            29.000000099999998
           ],
           "locationmode": "country names",
           "lon": [
            117,
            116.3912757,
            107.8748712,
            1.8883334999999999,
            117.84277800000001,
            101.9999999,
            113.19826880000001,
            109,
            107,
            109.5999999,
            116,
            127.99999199999999,
            113.9999999,
            114.16281310000001,
            112.87832224656044,
            112.00953799999999,
            -89.4337288,
            114.32516640000001,
            139.2394179,
            119.9999999,
            116,
            125.9816054,
            122.99554690000001,
            113.5514142,
            102.2656823,
            84.0917139,
            105.9999999,
            95.95211573241954,
            109,
            118.9999999,
            121.4692071,
            112,
            102.4999999,
            103.81949920000001,
            127.9408564,
            120.9820179,
            100.83273,
            117.1980785,
            108.42651129999999,
            -77.0365529,
            87.16738423046895,
            102,
            119.9999999
           ],
           "marker": {
            "autocolorscale": false,
            "cmax": 350,
            "cmin": 0,
            "color": [
             0,
             0,
             0,
             0,
             1,
             0,
             0,
             0,
             0,
             0,
             1,
             0,
             1,
             0,
             52,
             0,
             0,
             0,
             0,
             0,
             0,
             0,
             0,
             0,
             0,
             0,
             0,
             0,
             0,
             0,
             1,
             0,
             0,
             0,
             0,
             0,
             0,
             0,
             0,
             0,
             0,
             0,
             0
            ],
            "colorbar": {
             "title": {
              "text": "Number of Deaths"
             }
            },
            "line": {
             "color": "rgba(0, 0, 0)",
             "width": 0.5
            },
            "reversescale": true,
            "size": [
             7.555903716104263,
             7.2897639830644705,
             7.948426620848326,
             4.502144029037208,
             5.916861059582148,
             5.0558871595781,
             8.463754021408548,
             6.6510061989273215,
             4.815004806125491,
             5.975859650018929,
             5.585661160918501,
             5.726398632195241,
             8.137710912549311,
             4.815004806125491,
             16.16027876770024,
             7.797944486874728,
             4,
             5.0558871595781,
             4.29268464756894,
             6.567435936849419,
             6.770581510813514,
             4.671033598060435,
             5.975859650018929,
             4.29268464756894,
             4.502144029037208,
             4,
             4.671033598060435,
             4,
             5.726398632195241,
             6.88403547398714,
             6.920627233984357,
             5.256436683972135,
             7.06149737122402,
             4.502144029037208,
             4.502144029037208,
             4.502144029037208,
             5.0558871595781,
             5.585661160918501,
             4.29268464756894,
             4,
             4.671033598060435,
             5.4305300479524705,
             8.585337036651225
            ]
           },
           "mode": "lines+markers",
           "text": [
            "China, Anhui-> Deaths: 0.0 Confirmed: 60.0",
            "China, Beijing-> Deaths: 0.0 Confirmed: 51.0",
            "China, Chongqing-> Deaths: 0.0 Confirmed: 75.0",
            "France, France-> Deaths: 0.0 Confirmed: 3.0",
            "China, Fujian-> Deaths: 1.0 Confirmed: 18.0",
            "China, Gansu-> Deaths: 0.0 Confirmed: 7.0",
            "China, Guangdong-> Deaths: 0.0 Confirmed: 98.0",
            "China, Guangxi-> Deaths: 0.0 Confirmed: 33.0",
            "China, Guizhou-> Deaths: 0.0 Confirmed: 5.0",
            "China, Hainan-> Deaths: 0.0 Confirmed: 19.0",
            "China, Hebei-> Deaths: 1.0 Confirmed: 13.0",
            "China, Heilongjiang-> Deaths: 0.0 Confirmed: 15.0",
            "China, Henan-> Deaths: 1.0 Confirmed: 83.0",
            "Hong Kong, Hong Kong-> Deaths: 0.0 Confirmed: 5.0",
            "China, Hubei-> Deaths: 52.0 Confirmed: 1052.0",
            "China, Hunan-> Deaths: 0.0 Confirmed: 69.0",
            "US, Illinois-> Deaths: 0.0 Confirmed: 1.0",
            "China, Inner Mongolia-> Deaths: 0.0 Confirmed: 7.0",
            "Japan, Japan-> Deaths: 0.0 Confirmed: 2.0",
            "China, Jiangsu-> Deaths: 0.0 Confirmed: 31.0",
            "China, Jiangxi-> Deaths: 0.0 Confirmed: 36.0",
            "China, Jilin-> Deaths: 0.0 Confirmed: 4.0",
            "China, Liaoning-> Deaths: 0.0 Confirmed: 19.0",
            "Macau, Macau-> Deaths: 0.0 Confirmed: 2.0",
            "Malaysia, Malaysia-> Deaths: 0.0 Confirmed: 3.0",
            "Nepal, Nepal-> Deaths: 0.0 Confirmed: 1.0",
            "China, Ningxia-> Deaths: 0.0 Confirmed: 4.0",
            "China, Qinghai-> Deaths: 0.0 Confirmed: 1.0",
            "China, Shaanxi-> Deaths: 0.0 Confirmed: 15.0",
            "China, Shandong-> Deaths: 0.0 Confirmed: 39.0",
            "China, Shanghai-> Deaths: 1.0 Confirmed: 40.0",
            "China, Shanxi-> Deaths: 0.0 Confirmed: 9.0",
            "China, Sichuan-> Deaths: 0.0 Confirmed: 44.0",
            "Singapore, Singapore-> Deaths: 0.0 Confirmed: 3.0",
            "South Korea, South Korea-> Deaths: 0.0 Confirmed: 3.0",
            "Taiwan, Taiwan-> Deaths: 0.0 Confirmed: 3.0",
            "Thailand, Thailand-> Deaths: 0.0 Confirmed: 7.0",
            "China, Tianjin-> Deaths: 0.0 Confirmed: 13.0",
            "Vietnam, Vietnam-> Deaths: 0.0 Confirmed: 2.0",
            "US, Washington-> Deaths: 0.0 Confirmed: 1.0",
            "China, Xinjiang-> Deaths: 0.0 Confirmed: 4.0",
            "China, Yunnan-> Deaths: 0.0 Confirmed: 11.0",
            "China, Zhejiang-> Deaths: 0.0 Confirmed: 104.0"
           ],
           "type": "scattergeo"
          }
         ],
         "layout": {
          "title": {
           "text": "Corona Virus, 2020-01-25",
           "x": 0.5,
           "xanchor": "center",
           "y": 0.98,
           "yanchor": "top"
          }
         }
        },
        {
         "data": [
          {
           "lat": [
            32,
            34.395342,
            39.906217,
            36.7014631,
            30.05518,
            46.603353999999996,
            26.5450001,
            38.0000001,
            23.135769399999997,
            24,
            27,
            19.2000001,
            39.0000001,
            48.000004700000005,
            34.0000001,
            22.2793278,
            31.15172525,
            27.999587800000004,
            40.079660600000004,
            43.2443242,
            36.5748441,
            33.0000001,
            28,
            42.9995032,
            40.997519700000005,
            22.175760500000003,
            4.5693754,
            28.108392900000002,
            37.0000001,
            50.000678,
            35.40709525,
            36,
            36.0000001,
            31.232275800000004,
            37,
            30.500000099999998,
            1.357107,
            36.5581914,
            23.973937399999997,
            14.8971921,
            39.1235635,
            13.2904027,
            38.894893200000006,
            41.7574769,
            25,
            29.000000099999998
           ],
           "locationmode": "country names",
           "lon": [
            117,
            -111.76327549999999,
            116.3912757,
            -118.75599740000001,
            107.8748712,
            1.8883334999999999,
            117.84277800000001,
            101.9999999,
            113.19826880000001,
            109,
            107,
            109.5999999,
            116,
            127.99999199999999,
            113.9999999,
            114.16281310000001,
            112.87832224656044,
            112.00953799999999,
            -89.4337288,
            114.32516640000001,
            139.2394179,
            119.9999999,
            116,
            125.9816054,
            122.99554690000001,
            113.5514142,
            102.2656823,
            84.0917139,
            105.9999999,
            -86.000977,
            95.95211573241954,
            109,
            118.9999999,
            121.4692071,
            112,
            102.4999999,
            103.81949920000001,
            127.9408564,
            120.9820179,
            100.83273,
            117.1980785,
            108.42651129999999,
            -77.0365529,
            87.16738423046895,
            102,
            119.9999999
           ],
           "marker": {
            "autocolorscale": false,
            "cmax": 350,
            "cmin": 0,
            "color": [
             0,
             0,
             0,
             0,
             0,
             0,
             0,
             0,
             0,
             0,
             0,
             0,
             1,
             1,
             1,
             0,
             76,
             0,
             0,
             0,
             0,
             0,
             0,
             0,
             0,
             0,
             0,
             0,
             0,
             0,
             0,
             0,
             0,
             1,
             0,
             0,
             0,
             0,
             0,
             0,
             0,
             0,
             0,
             0,
             0,
             0
            ],
            "colorbar": {
             "title": {
              "text": "Number of Deaths"
             }
            },
            "line": {
             "color": "rgba(0, 0, 0)",
             "width": 0.5
            },
            "reversescale": true,
            "size": [
             7.823581762327395,
             4,
             7.7720721880742705,
             4.29268464756894,
             8.702579714782685,
             4.502144029037208,
             6.731445075485936,
             5.657613768320726,
             9.333039092007414,
             7.128917772316606,
             5.0558871595781,
             6.141908878443159,
             5.916861059582148,
             6.088238621134508,
             9.031816721613545,
             5.160119477784612,
             17.718164978409675,
             8.50478980785497,
             4,
             5.4305300479524705,
             4.671033598060435,
             7.161937009665921,
             7.194516815297205,
             4.94179852477375,
             6.194064213635992,
             4.94179852477375,
             4.671033598060435,
             4,
             4.671033598060435,
             4,
             4.671033598060435,
             6.141908878443159,
             7.638979204979299,
             7.3513166893231405,
             5.585661160918501,
             7.797944486874728,
             4.671033598060435,
             4.502144029037208,
             4.671033598060435,
             5.160119477784612,
             5.657613768320726,
             4.29268464756894,
             4,
             4.815004806125491,
             5.975859650018929,
             9.031816721613545
            ]
           },
           "mode": "lines+markers",
           "text": [
            "China, Anhui-> Deaths: 0.0 Confirmed: 70.0",
            "US, Arizona-> Deaths: 0.0 Confirmed: 1.0",
            "China, Beijing-> Deaths: 0.0 Confirmed: 68.0",
            "US, California-> Deaths: 0.0 Confirmed: 2.0",
            "China, Chongqing-> Deaths: 0.0 Confirmed: 110.0",
            "France, France-> Deaths: 0.0 Confirmed: 3.0",
            "China, Fujian-> Deaths: 0.0 Confirmed: 35.0",
            "China, Gansu-> Deaths: 0.0 Confirmed: 14.0",
            "China, Guangdong-> Deaths: 0.0 Confirmed: 146.0",
            "China, Guangxi-> Deaths: 0.0 Confirmed: 46.0",
            "China, Guizhou-> Deaths: 0.0 Confirmed: 7.0",
            "China, Hainan-> Deaths: 0.0 Confirmed: 22.0",
            "China, Hebei-> Deaths: 1.0 Confirmed: 18.0",
            "China, Heilongjiang-> Deaths: 1.0 Confirmed: 21.0",
            "China, Henan-> Deaths: 1.0 Confirmed: 128.0",
            "Hong Kong, Hong Kong-> Deaths: 0.0 Confirmed: 8.0",
            "China, Hubei-> Deaths: 76.0 Confirmed: 1423.0",
            "China, Hunan-> Deaths: 0.0 Confirmed: 100.0",
            "US, Illinois-> Deaths: 0.0 Confirmed: 1.0",
            "China, Inner Mongolia-> Deaths: 0.0 Confirmed: 11.0",
            "Japan, Japan-> Deaths: 0.0 Confirmed: 4.0",
            "China, Jiangsu-> Deaths: 0.0 Confirmed: 47.0",
            "China, Jiangxi-> Deaths: 0.0 Confirmed: 48.0",
            "China, Jilin-> Deaths: 0.0 Confirmed: 6.0",
            "China, Liaoning-> Deaths: 0.0 Confirmed: 23.0",
            "Macau, Macau-> Deaths: 0.0 Confirmed: 6.0",
            "Malaysia, Malaysia-> Deaths: 0.0 Confirmed: 4.0",
            "Nepal, Nepal-> Deaths: 0.0 Confirmed: 1.0",
            "China, Ningxia-> Deaths: 0.0 Confirmed: 4.0",
            "Canada, Ontario-> Deaths: 0.0 Confirmed: 1.0",
            "China, Qinghai-> Deaths: 0.0 Confirmed: 4.0",
            "China, Shaanxi-> Deaths: 0.0 Confirmed: 22.0",
            "China, Shandong-> Deaths: 0.0 Confirmed: 63.0",
            "China, Shanghai-> Deaths: 1.0 Confirmed: 53.0",
            "China, Shanxi-> Deaths: 0.0 Confirmed: 13.0",
            "China, Sichuan-> Deaths: 0.0 Confirmed: 69.0",
            "Singapore, Singapore-> Deaths: 0.0 Confirmed: 4.0",
            "South Korea, South Korea-> Deaths: 0.0 Confirmed: 3.0",
            "Taiwan, Taiwan-> Deaths: 0.0 Confirmed: 4.0",
            "Thailand, Thailand-> Deaths: 0.0 Confirmed: 8.0",
            "China, Tianjin-> Deaths: 0.0 Confirmed: 14.0",
            "Vietnam, Vietnam-> Deaths: 0.0 Confirmed: 2.0",
            "US, Washington-> Deaths: 0.0 Confirmed: 1.0",
            "China, Xinjiang-> Deaths: 0.0 Confirmed: 5.0",
            "China, Yunnan-> Deaths: 0.0 Confirmed: 19.0",
            "China, Zhejiang-> Deaths: 0.0 Confirmed: 128.0"
           ],
           "type": "scattergeo"
          }
         ],
         "layout": {
          "title": {
           "text": "Corona Virus, 2020-01-26",
           "x": 0.5,
           "xanchor": "center",
           "y": 0.98,
           "yanchor": "top"
          }
         }
        },
        {
         "data": [
          {
           "lat": [
            32,
            34.395342,
            48.9467562,
            39.906217,
            36.7014631,
            13.5066394,
            30.05518,
            46.603353999999996,
            26.5450001,
            38.0000001,
            23.135769399999997,
            24,
            27,
            19.2000001,
            39.0000001,
            48.000004700000005,
            34.0000001,
            22.2793278,
            31.15172525,
            27.999587800000004,
            40.079660600000004,
            43.2443242,
            36.5748441,
            33.0000001,
            28,
            42.9995032,
            40.997519700000005,
            22.175760500000003,
            4.5693754,
            28.108392900000002,
            -31.875983500000004,
            37.0000001,
            50.000678,
            35.40709525,
            36,
            36.0000001,
            31.232275800000004,
            37,
            30.500000099999998,
            1.357107,
            36.5581914,
            7.555494199999999,
            23.973937399999997,
            14.8971921,
            39.1235635,
            -36.5986096,
            13.2904027,
            38.894893200000006,
            41.7574769,
            25,
            29.000000099999998
           ],
           "locationmode": "country names",
           "lon": [
            117,
            -111.76327549999999,
            11.4038717,
            116.3912757,
            -118.75599740000001,
            104.869423,
            107.8748712,
            1.8883334999999999,
            117.84277800000001,
            101.9999999,
            113.19826880000001,
            109,
            107,
            109.5999999,
            116,
            127.99999199999999,
            113.9999999,
            114.16281310000001,
            112.87832224656044,
            112.00953799999999,
            -89.4337288,
            114.32516640000001,
            139.2394179,
            119.9999999,
            116,
            125.9816054,
            122.99554690000001,
            113.5514142,
            102.2656823,
            84.0917139,
            147.2869493,
            105.9999999,
            -86.000977,
            95.95211573241954,
            109,
            118.9999999,
            121.4692071,
            112,
            102.4999999,
            103.81949920000001,
            127.9408564,
            80.7137847,
            120.9820179,
            100.83273,
            117.1980785,
            144.6780052,
            108.42651129999999,
            -77.0365529,
            87.16738423046895,
            102,
            119.9999999
           ],
           "marker": {
            "autocolorscale": false,
            "cmax": 350,
            "cmin": 0,
            "color": [
             0,
             0,
             0,
             1,
             0,
             0,
             0,
             0,
             0,
             0,
             0,
             0,
             0,
             1,
             1,
             1,
             1,
             0,
             100,
             0,
             0,
             0,
             0,
             0,
             0,
             0,
             0,
             0,
             0,
             0,
             0,
             0,
             0,
             0,
             0,
             1,
             1,
             0,
             0,
             0,
             0,
             0,
             0,
             0,
             0,
             0,
             0,
             0,
             0,
             0,
             0
            ],
            "colorbar": {
             "title": {
              "text": "Number of Deaths"
             }
            },
            "line": {
             "color": "rgba(0, 0, 0)",
             "width": 0.5
            },
            "reversescale": true,
            "size": [
             8.624880280998532,
             4,
             4,
             8.068134634212257,
             4.29268464756894,
             4,
             9.100954025134477,
             4.502144029037208,
             7.527631944695398,
             5.975859650018929,
             9.412516550145508,
             7.2897639830644705,
             5.256436683972135,
             6.6510061989273215,
             6.6510061989273215,
             6.524373654991745,
             9.670964397559343,
             5.160119477784612,
             21.694220002961224,
             8.50478980785497,
             4,
             5.4305300479524705,
             4.671033598060435,
             7.823581762327395,
             7.8741728314359305,
             4.94179852477375,
             6.389492891729259,
             4.94179852477375,
             4.671033598060435,
             4,
             4.671033598060435,
             5.0558871595781,
             4,
             4.94179852477375,
             6.731445075485936,
             8.228058805837552,
             7.719599661532381,
             6.032934011676862,
             8.29411684194189,
             4.815004806125491,
             4.671033598060435,
             4,
             4.815004806125491,
             5.160119477784612,
             6.194064213635992,
             4,
             4.29268464756894,
             4,
             4.815004806125491,
             6.34244448653463,
             9.743819909152371
            ]
           },
           "mode": "lines+markers",
           "text": [
            "China, Anhui-> Deaths: 0.0 Confirmed: 106.0",
            "US, Arizona-> Deaths: 0.0 Confirmed: 1.0",
            "Germany, Bavaria-> Deaths: 0.0 Confirmed: 1.0",
            "China, Beijing-> Deaths: 1.0 Confirmed: 80.0",
            "US, California-> Deaths: 0.0 Confirmed: 2.0",
            "Cambodia, Cambodia-> Deaths: 0.0 Confirmed: 1.0",
            "China, Chongqing-> Deaths: 0.0 Confirmed: 132.0",
            "France, France-> Deaths: 0.0 Confirmed: 3.0",
            "China, Fujian-> Deaths: 0.0 Confirmed: 59.0",
            "China, Gansu-> Deaths: 0.0 Confirmed: 19.0",
            "China, Guangdong-> Deaths: 0.0 Confirmed: 151.0",
            "China, Guangxi-> Deaths: 0.0 Confirmed: 51.0",
            "China, Guizhou-> Deaths: 0.0 Confirmed: 9.0",
            "China, Hainan-> Deaths: 1.0 Confirmed: 33.0",
            "China, Hebei-> Deaths: 1.0 Confirmed: 33.0",
            "China, Heilongjiang-> Deaths: 1.0 Confirmed: 30.0",
            "China, Henan-> Deaths: 1.0 Confirmed: 168.0",
            "Hong Kong, Hong Kong-> Deaths: 0.0 Confirmed: 8.0",
            "China, Hubei-> Deaths: 100.0 Confirmed: 2714.0",
            "China, Hunan-> Deaths: 0.0 Confirmed: 100.0",
            "US, Illinois-> Deaths: 0.0 Confirmed: 1.0",
            "China, Inner Mongolia-> Deaths: 0.0 Confirmed: 11.0",
            "Japan, Japan-> Deaths: 0.0 Confirmed: 4.0",
            "China, Jiangsu-> Deaths: 0.0 Confirmed: 70.0",
            "China, Jiangxi-> Deaths: 0.0 Confirmed: 72.0",
            "China, Jilin-> Deaths: 0.0 Confirmed: 6.0",
            "China, Liaoning-> Deaths: 0.0 Confirmed: 27.0",
            "Macau, Macau-> Deaths: 0.0 Confirmed: 6.0",
            "Malaysia, Malaysia-> Deaths: 0.0 Confirmed: 4.0",
            "Nepal, Nepal-> Deaths: 0.0 Confirmed: 1.0",
            "Australia, New South Wales-> Deaths: 0.0 Confirmed: 4.0",
            "China, Ningxia-> Deaths: 0.0 Confirmed: 7.0",
            "Canada, Ontario-> Deaths: 0.0 Confirmed: 1.0",
            "China, Qinghai-> Deaths: 0.0 Confirmed: 6.0",
            "China, Shaanxi-> Deaths: 0.0 Confirmed: 35.0",
            "China, Shandong-> Deaths: 1.0 Confirmed: 87.0",
            "China, Shanghai-> Deaths: 1.0 Confirmed: 66.0",
            "China, Shanxi-> Deaths: 0.0 Confirmed: 20.0",
            "China, Sichuan-> Deaths: 0.0 Confirmed: 90.0",
            "Singapore, Singapore-> Deaths: 0.0 Confirmed: 5.0",
            "South Korea, South Korea-> Deaths: 0.0 Confirmed: 4.0",
            "Sri Lanka, Sri Lanka-> Deaths: 0.0 Confirmed: 1.0",
            "Taiwan, Taiwan-> Deaths: 0.0 Confirmed: 5.0",
            "Thailand, Thailand-> Deaths: 0.0 Confirmed: 8.0",
            "China, Tianjin-> Deaths: 0.0 Confirmed: 23.0",
            "Australia, Victoria-> Deaths: 0.0 Confirmed: 1.0",
            "Vietnam, Vietnam-> Deaths: 0.0 Confirmed: 2.0",
            "US, Washington-> Deaths: 0.0 Confirmed: 1.0",
            "China, Xinjiang-> Deaths: 0.0 Confirmed: 5.0",
            "China, Yunnan-> Deaths: 0.0 Confirmed: 26.0",
            "China, Zhejiang-> Deaths: 0.0 Confirmed: 173.0"
           ],
           "type": "scattergeo"
          }
         ],
         "layout": {
          "title": {
           "text": "Corona Virus, 2020-01-27",
           "x": 0.5,
           "xanchor": "center",
           "y": 0.98,
           "yanchor": "top"
          }
         }
        },
        {
         "data": [
          {
           "lat": [
            32,
            34.395342,
            48.9467562,
            39.906217,
            55.001251,
            36.7014631,
            13.5066394,
            30.05518,
            46.603353999999996,
            26.5450001,
            38.0000001,
            23.135769399999997,
            24,
            27,
            19.2000001,
            39.0000001,
            48.000004700000005,
            34.0000001,
            22.2793278,
            31.15172525,
            27.999587800000004,
            40.079660600000004,
            43.2443242,
            36.5748441,
            33.0000001,
            28,
            42.9995032,
            40.997519700000005,
            22.175760500000003,
            4.5693754,
            28.108392900000002,
            -31.875983500000004,
            37.0000001,
            50.000678,
            35.40709525,
            36,
            36.0000001,
            31.232275800000004,
            37,
            30.500000099999998,
            1.357107,
            36.5581914,
            7.555494199999999,
            23.973937399999997,
            14.8971921,
            39.1235635,
            -36.5986096,
            13.2904027,
            38.894893200000006,
            41.7574769,
            25,
            29.000000099999998
           ],
           "locationmode": "country names",
           "lon": [
            117,
            -111.76327549999999,
            11.4038717,
            116.3912757,
            -125.00244099999999,
            -118.75599740000001,
            104.869423,
            107.8748712,
            1.8883334999999999,
            117.84277800000001,
            101.9999999,
            113.19826880000001,
            109,
            107,
            109.5999999,
            116,
            127.99999199999999,
            113.9999999,
            114.16281310000001,
            112.87832224656044,
            112.00953799999999,
            -89.4337288,
            114.32516640000001,
            139.2394179,
            119.9999999,
            116,
            125.9816054,
            122.99554690000001,
            113.5514142,
            102.2656823,
            84.0917139,
            147.2869493,
            105.9999999,
            -86.000977,
            95.95211573241954,
            109,
            118.9999999,
            121.4692071,
            112,
            102.4999999,
            103.81949920000001,
            127.9408564,
            80.7137847,
            120.9820179,
            100.83273,
            117.1980785,
            144.6780052,
            108.42651129999999,
            -77.0365529,
            87.16738423046895,
            102,
            119.9999999
           ],
           "marker": {
            "autocolorscale": false,
            "cmax": 350,
            "cmin": 0,
            "color": [
             0,
             0,
             0,
             1,
             0,
             0,
             0,
             0,
             0,
             0,
             0,
             0,
             0,
             0,
             1,
             1,
             1,
             2,
             0,
             125,
             0,
             0,
             0,
             0,
             0,
             0,
             0,
             0,
             0,
             0,
             0,
             0,
             0,
             0,
             0,
             0,
             0,
             1,
             0,
             0,
             0,
             0,
             0,
             0,
             0,
             0,
             0,
             0,
             0,
             0,
             0,
             0
            ],
            "colorbar": {
             "title": {
              "text": "Number of Deaths"
             }
            },
            "line": {
             "color": "rgba(0, 0, 0)",
             "width": 0.5
            },
            "reversescale": true,
            "size": [
             9.428212393159187,
             4,
             4.671033598060435,
             8.315827579752149,
             4,
             4.29268464756894,
             4,
             9.34907012690361,
             4.671033598060435,
             8.11469740720754,
             6.244810575561126,
             10.624801365006507,
             7.49905683093882,
             5.256436683972135,
             7.0270620082926145,
             7.194516815297205,
             6.809039298366404,
             10.19428866251348,
             5.160119477784612,
             23.657631556659094,
             10.384029697622363,
             4,
             5.792353285846804,
             5.0558871595781,
             8.484337161696507,
             8.683323885459039,
             5.256436683972135,
             6.770581510813514,
             5.0558871595781,
             5.0558871595781,
             4,
             4.671033598060435,
             5.510133141647044,
             4,
             4.94179852477375,
             7.440961897531936,
             8.90747631399984,
             8.068134634212257,
             6.389492891729259,
             8.663956502466613,
             5.0558871595781,
             4.671033598060435,
             4,
             5.160119477784612,
             5.657613768320726,
             6.294242446258631,
             4,
             4.29268464756894,
             4,
             5.585661160918501,
             7.06149737122402,
             11.227979980048302
            ]
           },
           "mode": "lines+markers",
           "text": [
            "China, Anhui-> Deaths: 0.0 Confirmed: 152.0",
            "US, Arizona-> Deaths: 0.0 Confirmed: 1.0",
            "Germany, Bavaria-> Deaths: 0.0 Confirmed: 4.0",
            "China, Beijing-> Deaths: 1.0 Confirmed: 91.0",
            "Canada, British Columbia-> Deaths: 0.0 Confirmed: 1.0",
            "US, California-> Deaths: 0.0 Confirmed: 2.0",
            "Cambodia, Cambodia-> Deaths: 0.0 Confirmed: 1.0",
            "China, Chongqing-> Deaths: 0.0 Confirmed: 147.0",
            "France, France-> Deaths: 0.0 Confirmed: 4.0",
            "China, Fujian-> Deaths: 0.0 Confirmed: 82.0",
            "China, Gansu-> Deaths: 0.0 Confirmed: 24.0",
            "China, Guangdong-> Deaths: 0.0 Confirmed: 241.0",
            "China, Guangxi-> Deaths: 0.0 Confirmed: 58.0",
            "China, Guizhou-> Deaths: 0.0 Confirmed: 9.0",
            "China, Hainan-> Deaths: 1.0 Confirmed: 43.0",
            "China, Hebei-> Deaths: 1.0 Confirmed: 48.0",
            "China, Heilongjiang-> Deaths: 1.0 Confirmed: 37.0",
            "China, Henan-> Deaths: 2.0 Confirmed: 206.0",
            "Hong Kong, Hong Kong-> Deaths: 0.0 Confirmed: 8.0",
            "China, Hubei-> Deaths: 125.0 Confirmed: 3554.0",
            "China, Hunan-> Deaths: 0.0 Confirmed: 221.0",
            "US, Illinois-> Deaths: 0.0 Confirmed: 1.0",
            "China, Inner Mongolia-> Deaths: 0.0 Confirmed: 16.0",
            "Japan, Japan-> Deaths: 0.0 Confirmed: 7.0",
            "China, Jiangsu-> Deaths: 0.0 Confirmed: 99.0",
            "China, Jiangxi-> Deaths: 0.0 Confirmed: 109.0",
            "China, Jilin-> Deaths: 0.0 Confirmed: 9.0",
            "China, Liaoning-> Deaths: 0.0 Confirmed: 36.0",
            "Macau, Macau-> Deaths: 0.0 Confirmed: 7.0",
            "Malaysia, Malaysia-> Deaths: 0.0 Confirmed: 7.0",
            "Nepal, Nepal-> Deaths: 0.0 Confirmed: 1.0",
            "Australia, New South Wales-> Deaths: 0.0 Confirmed: 4.0",
            "China, Ningxia-> Deaths: 0.0 Confirmed: 12.0",
            "Canada, Ontario-> Deaths: 0.0 Confirmed: 1.0",
            "China, Qinghai-> Deaths: 0.0 Confirmed: 6.0",
            "China, Shaanxi-> Deaths: 0.0 Confirmed: 56.0",
            "China, Shandong-> Deaths: 0.0 Confirmed: 121.0",
            "China, Shanghai-> Deaths: 1.0 Confirmed: 80.0",
            "China, Shanxi-> Deaths: 0.0 Confirmed: 27.0",
            "China, Sichuan-> Deaths: 0.0 Confirmed: 108.0",
            "Singapore, Singapore-> Deaths: 0.0 Confirmed: 7.0",
            "South Korea, South Korea-> Deaths: 0.0 Confirmed: 4.0",
            "Sri Lanka, Sri Lanka-> Deaths: 0.0 Confirmed: 1.0",
            "Taiwan, Taiwan-> Deaths: 0.0 Confirmed: 8.0",
            "Thailand, Thailand-> Deaths: 0.0 Confirmed: 14.0",
            "China, Tianjin-> Deaths: 0.0 Confirmed: 25.0",
            "Australia, Victoria-> Deaths: 0.0 Confirmed: 1.0",
            "Vietnam, Vietnam-> Deaths: 0.0 Confirmed: 2.0",
            "US, Washington-> Deaths: 0.0 Confirmed: 1.0",
            "China, Xinjiang-> Deaths: 0.0 Confirmed: 13.0",
            "China, Yunnan-> Deaths: 0.0 Confirmed: 44.0",
            "China, Zhejiang-> Deaths: 0.0 Confirmed: 296.0"
           ],
           "type": "scattergeo"
          }
         ],
         "layout": {
          "title": {
           "text": "Corona Virus, 2020-01-28",
           "x": 0.5,
           "xanchor": "center",
           "y": 0.98,
           "yanchor": "top"
          }
         }
        },
        {
         "data": [
          {
           "lat": [
            32,
            34.395342,
            48.9467562,
            39.906217,
            55.001251,
            36.7014631,
            13.5066394,
            30.05518,
            63.2467777,
            46.603353999999996,
            26.5450001,
            38.0000001,
            23.135769399999997,
            24,
            27,
            19.2000001,
            39.0000001,
            48.000004700000005,
            34.0000001,
            22.2793278,
            31.15172525,
            27.999587800000004,
            40.079660600000004,
            43.2443242,
            36.5748441,
            33.0000001,
            28,
            42.9995032,
            40.997519700000005,
            22.175760500000003,
            4.5693754,
            28.108392900000002,
            -31.875983500000004,
            37.0000001,
            50.000678,
            35.40709525,
            -22.1646782,
            36,
            36.0000001,
            31.232275800000004,
            37,
            30.500000099999998,
            1.357107,
            36.5581914,
            7.555494199999999,
            23.973937399999997,
            14.8971921,
            39.1235635,
            31.89434315,
            24.0002488,
            -36.5986096,
            13.2904027,
            38.894893200000006,
            41.7574769,
            25,
            29.000000099999998
           ],
           "locationmode": "country names",
           "lon": [
            117,
            -111.76327549999999,
            11.4038717,
            116.3912757,
            -125.00244099999999,
            -118.75599740000001,
            104.869423,
            107.8748712,
            25.9209164,
            1.8883334999999999,
            117.84277800000001,
            101.9999999,
            113.19826880000001,
            109,
            107,
            109.5999999,
            116,
            127.99999199999999,
            113.9999999,
            114.16281310000001,
            112.87832224656044,
            112.00953799999999,
            -89.4337288,
            114.32516640000001,
            139.2394179,
            119.9999999,
            116,
            125.9816054,
            122.99554690000001,
            113.5514142,
            102.2656823,
            84.0917139,
            147.2869493,
            105.9999999,
            -86.000977,
            95.95211573241954,
            144.58449030000003,
            109,
            118.9999999,
            121.4692071,
            112,
            102.4999999,
            103.81949920000001,
            127.9408564,
            80.7137847,
            120.9820179,
            100.83273,
            117.1980785,
            87.07813712706509,
            53.999482900000004,
            144.6780052,
            108.42651129999999,
            -77.0365529,
            87.16738423046895,
            102,
            119.9999999
           ],
           "marker": {
            "autocolorscale": false,
            "cmax": 350,
            "cmin": 0,
            "color": [
             0,
             0,
             0,
             1,
             0,
             0,
             0,
             0,
             0,
             0,
             0,
             0,
             0,
             0,
             0,
             1,
             1,
             1,
             2,
             0,
             162,
             0,
             0,
             0,
             0,
             0,
             0,
             0,
             0,
             0,
             0,
             0,
             0,
             0,
             0,
             0,
             0,
             0,
             0,
             1,
             0,
             1,
             0,
             0,
             0,
             0,
             0,
             0,
             0,
             0,
             0,
             0,
             0,
             0,
             0,
             0
            ],
            "colorbar": {
             "title": {
              "text": "Number of Deaths"
             }
            },
            "line": {
             "color": "rgba(0, 0, 0)",
             "width": 0.5
            },
            "reversescale": true,
            "size": [
             10.115957272708098,
             4,
             4.671033598060435,
             8.721725638409168,
             4,
             4.29268464756894,
             4,
             9.626593798247049,
             4,
             4.815004806125491,
             8.525114079844972,
             6.34244448653463,
             11.38001099657052,
             8.020833027836328,
             5.510133141647044,
             7.0270620082926145,
             7.692987434079096,
             7.0270620082926145,
             11.038995328023105,
             5.346228848142263,
             25.703179629243312,
             11.02827308350268,
             4,
             5.792353285846804,
             5.4305300479524705,
             9.049227150319336,
             9.581712296890988,
             5.657613768320726,
             6.88403547398714,
             5.0558871595781,
             5.0558871595781,
             4,
             4.671033598060435,
             5.510133141647044,
             4.29268464756894,
             4.94179852477375,
             4,
             7.440961897531936,
             9.316938772764521,
             8.525114079844972,
             6.731445075485936,
             9.268214233380256,
             5.346228848142263,
             4.671033598060435,
             4,
             5.160119477784612,
             5.657613768320726,
             6.389492891729259,
             4,
             4.671033598060435,
             4.29268464756894,
             4.29268464756894,
             4,
             5.657613768320726,
             7.411423718466154,
             12.43210883489381
            ]
           },
           "mode": "lines+markers",
           "text": [
            "China, Anhui-> Deaths: 0.0 Confirmed: 200.0",
            "US, Arizona-> Deaths: 0.0 Confirmed: 1.0",
            "Germany, Bavaria-> Deaths: 0.0 Confirmed: 4.0",
            "China, Beijing-> Deaths: 1.0 Confirmed: 111.0",
            "Canada, British Columbia-> Deaths: 0.0 Confirmed: 1.0",
            "US, California-> Deaths: 0.0 Confirmed: 2.0",
            "Cambodia, Cambodia-> Deaths: 0.0 Confirmed: 1.0",
            "China, Chongqing-> Deaths: 0.0 Confirmed: 165.0",
            "Finland, Finland-> Deaths: 0.0 Confirmed: 1.0",
            "France, France-> Deaths: 0.0 Confirmed: 5.0",
            "China, Fujian-> Deaths: 0.0 Confirmed: 101.0",
            "China, Gansu-> Deaths: 0.0 Confirmed: 26.0",
            "China, Guangdong-> Deaths: 0.0 Confirmed: 311.0",
            "China, Guangxi-> Deaths: 0.0 Confirmed: 78.0",
            "China, Guizhou-> Deaths: 0.0 Confirmed: 12.0",
            "China, Hainan-> Deaths: 1.0 Confirmed: 43.0",
            "China, Hebei-> Deaths: 1.0 Confirmed: 65.0",
            "China, Heilongjiang-> Deaths: 1.0 Confirmed: 43.0",
            "China, Henan-> Deaths: 2.0 Confirmed: 278.0",
            "Hong Kong, Hong Kong-> Deaths: 0.0 Confirmed: 10.0",
            "China, Hubei-> Deaths: 162.0 Confirmed: 4586.0",
            "China, Hunan-> Deaths: 0.0 Confirmed: 277.0",
            "US, Illinois-> Deaths: 0.0 Confirmed: 1.0",
            "China, Inner Mongolia-> Deaths: 0.0 Confirmed: 16.0",
            "Japan, Japan-> Deaths: 0.0 Confirmed: 11.0",
            "China, Jiangsu-> Deaths: 0.0 Confirmed: 129.0",
            "China, Jiangxi-> Deaths: 0.0 Confirmed: 162.0",
            "China, Jilin-> Deaths: 0.0 Confirmed: 14.0",
            "China, Liaoning-> Deaths: 0.0 Confirmed: 39.0",
            "Macau, Macau-> Deaths: 0.0 Confirmed: 7.0",
            "Malaysia, Malaysia-> Deaths: 0.0 Confirmed: 7.0",
            "Nepal, Nepal-> Deaths: 0.0 Confirmed: 1.0",
            "Australia, New South Wales-> Deaths: 0.0 Confirmed: 4.0",
            "China, Ningxia-> Deaths: 0.0 Confirmed: 12.0",
            "Canada, Ontario-> Deaths: 0.0 Confirmed: 2.0",
            "China, Qinghai-> Deaths: 0.0 Confirmed: 6.0",
            "Australia, Queensland-> Deaths: 0.0 Confirmed: 1.0",
            "China, Shaanxi-> Deaths: 0.0 Confirmed: 56.0",
            "China, Shandong-> Deaths: 0.0 Confirmed: 145.0",
            "China, Shanghai-> Deaths: 1.0 Confirmed: 101.0",
            "China, Shanxi-> Deaths: 0.0 Confirmed: 35.0",
            "China, Sichuan-> Deaths: 1.0 Confirmed: 142.0",
            "Singapore, Singapore-> Deaths: 0.0 Confirmed: 10.0",
            "South Korea, South Korea-> Deaths: 0.0 Confirmed: 4.0",
            "Sri Lanka, Sri Lanka-> Deaths: 0.0 Confirmed: 1.0",
            "Taiwan, Taiwan-> Deaths: 0.0 Confirmed: 8.0",
            "Thailand, Thailand-> Deaths: 0.0 Confirmed: 14.0",
            "China, Tianjin-> Deaths: 0.0 Confirmed: 27.0",
            "China, Tibet-> Deaths: 0.0 Confirmed: 1.0",
            "United Arab Emirates, United Arab Emirates-> Deaths: 0.0 Confirmed: 4.0",
            "Australia, Victoria-> Deaths: 0.0 Confirmed: 2.0",
            "Vietnam, Vietnam-> Deaths: 0.0 Confirmed: 2.0",
            "US, Washington-> Deaths: 0.0 Confirmed: 1.0",
            "China, Xinjiang-> Deaths: 0.0 Confirmed: 14.0",
            "China, Yunnan-> Deaths: 0.0 Confirmed: 55.0",
            "China, Zhejiang-> Deaths: 0.0 Confirmed: 428.0"
           ],
           "type": "scattergeo"
          }
         ],
         "layout": {
          "title": {
           "text": "Corona Virus, 2020-01-29",
           "x": 0.5,
           "xanchor": "center",
           "y": 0.98,
           "yanchor": "top"
          }
         }
        },
        {
         "data": [
          {
           "lat": [
            32,
            34.395342,
            48.9467562,
            39.906217,
            55.001251,
            36.7014631,
            13.5066394,
            30.05518,
            63.2467777,
            46.603353999999996,
            26.5450001,
            38.0000001,
            23.135769399999997,
            24,
            27,
            19.2000001,
            39.0000001,
            48.000004700000005,
            34.0000001,
            22.2793278,
            31.15172525,
            27.999587800000004,
            40.079660600000004,
            22.3511148,
            43.2443242,
            42.6384261,
            36.5748441,
            33.0000001,
            28,
            42.9995032,
            40.997519700000005,
            22.175760500000003,
            4.5693754,
            28.108392900000002,
            -31.875983500000004,
            37.0000001,
            50.000678,
            12.750348599999999,
            35.40709525,
            -22.1646782,
            36,
            36.0000001,
            31.232275800000004,
            37,
            30.500000099999998,
            1.357107,
            36.5581914,
            7.555494199999999,
            23.973937399999997,
            14.8971921,
            39.1235635,
            31.89434315,
            24.0002488,
            -36.5986096,
            13.2904027,
            38.894893200000006,
            41.7574769,
            25,
            29.000000099999998
           ],
           "locationmode": "country names",
           "lon": [
            117,
            -111.76327549999999,
            11.4038717,
            116.3912757,
            -125.00244099999999,
            -118.75599740000001,
            104.869423,
            107.8748712,
            25.9209164,
            1.8883334999999999,
            117.84277800000001,
            101.9999999,
            113.19826880000001,
            109,
            107,
            109.5999999,
            116,
            127.99999199999999,
            113.9999999,
            114.16281310000001,
            112.87832224656044,
            112.00953799999999,
            -89.4337288,
            78.6677428,
            114.32516640000001,
            12.674297,
            139.2394179,
            119.9999999,
            116,
            125.9816054,
            122.99554690000001,
            113.5514142,
            102.2656823,
            84.0917139,
            147.2869493,
            105.9999999,
            -86.000977,
            122.7312101,
            95.95211573241954,
            144.58449030000003,
            109,
            118.9999999,
            121.4692071,
            112,
            102.4999999,
            103.81949920000001,
            127.9408564,
            80.7137847,
            120.9820179,
            100.83273,
            117.1980785,
            87.07813712706509,
            53.999482900000004,
            144.6780052,
            108.42651129999999,
            -77.0365529,
            87.16738423046895,
            102,
            119.9999999
           ],
           "marker": {
            "autocolorscale": false,
            "cmax": 350,
            "cmin": 0,
            "color": [
             0,
             0,
             0,
             1,
             0,
             0,
             0,
             0,
             0,
             0,
             0,
             0,
             0,
             0,
             0,
             1,
             1,
             2,
             2,
             0,
             204,
             0,
             0,
             0,
             0,
             0,
             0,
             0,
             0,
             0,
             0,
             0,
             0,
             0,
             0,
             0,
             0,
             0,
             0,
             0,
             0,
             0,
             1,
             0,
             1,
             0,
             0,
             0,
             0,
             0,
             0,
             0,
             0,
             0,
             0,
             0,
             0,
             0,
             0
            ],
            "colorbar": {
             "title": {
              "text": "Number of Deaths"
             }
            },
            "line": {
             "color": "rgba(0, 0, 0)",
             "width": 0.5
            },
            "reversescale": true,
            "size": [
             10.577682845233985,
             4,
             4.671033598060435,
             8.90747631399984,
             4,
             4.29268464756894,
             4,
             10.19428866251348,
             4,
             4.815004806125491,
             8.525114079844972,
             6.480397821231865,
             12.138735961471609,
             8.228058805837552,
             5.726398632195241,
             7.258416635648482,
             8.11469740720754,
             7.527631944695398,
             11.773319580552005,
             5.510133141647044,
             27.775848127009525,
             11.58528755199164,
             4.29268464756894,
             4,
             6.032934011676862,
             4.29268464756894,
             5.4305300479524705,
             9.670964397559343,
             10.613068179138615,
             5.657613768320726,
             7.09544342612729,
             5.0558871595781,
             5.160119477784612,
             4,
             4.671033598060435,
             6.088238621134508,
             4.29268464756894,
             4,
             5.160119477784612,
             4.502144029037208,
             8.228058805837552,
             9.815361392350553,
             9.031816721613545,
             6.88403547398714,
             9.801155291402312,
             5.346228848142263,
             4.94179852477375,
             4,
             5.256436683972135,
             5.657613768320726,
             6.6096322232028495,
             4,
             4.671033598060435,
             4.29268464756894,
             4.29268464756894,
             4,
             5.855760766039176,
             7.9727614582939985,
             13.258918680359471
            ]
           },
           "mode": "lines+markers",
           "text": [
            "China, Anhui-> Deaths: 0.0 Confirmed: 237.0",
            "US, Arizona-> Deaths: 0.0 Confirmed: 1.0",
            "Germany, Bavaria-> Deaths: 0.0 Confirmed: 4.0",
            "China, Beijing-> Deaths: 1.0 Confirmed: 121.0",
            "Canada, British Columbia-> Deaths: 0.0 Confirmed: 1.0",
            "US, California-> Deaths: 0.0 Confirmed: 2.0",
            "Cambodia, Cambodia-> Deaths: 0.0 Confirmed: 1.0",
            "China, Chongqing-> Deaths: 0.0 Confirmed: 206.0",
            "Finland, Finland-> Deaths: 0.0 Confirmed: 1.0",
            "France, France-> Deaths: 0.0 Confirmed: 5.0",
            "China, Fujian-> Deaths: 0.0 Confirmed: 101.0",
            "China, Gansu-> Deaths: 0.0 Confirmed: 29.0",
            "China, Guangdong-> Deaths: 0.0 Confirmed: 393.0",
            "China, Guangxi-> Deaths: 0.0 Confirmed: 87.0",
            "China, Guizhou-> Deaths: 0.0 Confirmed: 15.0",
            "China, Hainan-> Deaths: 1.0 Confirmed: 50.0",
            "China, Hebei-> Deaths: 1.0 Confirmed: 82.0",
            "China, Heilongjiang-> Deaths: 2.0 Confirmed: 59.0",
            "China, Henan-> Deaths: 2.0 Confirmed: 352.0",
            "Hong Kong, Hong Kong-> Deaths: 0.0 Confirmed: 12.0",
            "China, Hubei-> Deaths: 204.0 Confirmed: 5806.0",
            "China, Hunan-> Deaths: 0.0 Confirmed: 332.0",
            "US, Illinois-> Deaths: 0.0 Confirmed: 2.0",
            "India, India-> Deaths: 0.0 Confirmed: 1.0",
            "China, Inner Mongolia-> Deaths: 0.0 Confirmed: 20.0",
            "Italy, Italy-> Deaths: 0.0 Confirmed: 2.0",
            "Japan, Japan-> Deaths: 0.0 Confirmed: 11.0",
            "China, Jiangsu-> Deaths: 0.0 Confirmed: 168.0",
            "China, Jiangxi-> Deaths: 0.0 Confirmed: 240.0",
            "China, Jilin-> Deaths: 0.0 Confirmed: 14.0",
            "China, Liaoning-> Deaths: 0.0 Confirmed: 45.0",
            "Macau, Macau-> Deaths: 0.0 Confirmed: 7.0",
            "Malaysia, Malaysia-> Deaths: 0.0 Confirmed: 8.0",
            "Nepal, Nepal-> Deaths: 0.0 Confirmed: 1.0",
            "Australia, New South Wales-> Deaths: 0.0 Confirmed: 4.0",
            "China, Ningxia-> Deaths: 0.0 Confirmed: 21.0",
            "Canada, Ontario-> Deaths: 0.0 Confirmed: 2.0",
            "Philippines, Philippines-> Deaths: 0.0 Confirmed: 1.0",
            "China, Qinghai-> Deaths: 0.0 Confirmed: 8.0",
            "Australia, Queensland-> Deaths: 0.0 Confirmed: 3.0",
            "China, Shaanxi-> Deaths: 0.0 Confirmed: 87.0",
            "China, Shandong-> Deaths: 0.0 Confirmed: 178.0",
            "China, Shanghai-> Deaths: 1.0 Confirmed: 128.0",
            "China, Shanxi-> Deaths: 0.0 Confirmed: 39.0",
            "China, Sichuan-> Deaths: 1.0 Confirmed: 177.0",
            "Singapore, Singapore-> Deaths: 0.0 Confirmed: 10.0",
            "South Korea, South Korea-> Deaths: 0.0 Confirmed: 6.0",
            "Sri Lanka, Sri Lanka-> Deaths: 0.0 Confirmed: 1.0",
            "Taiwan, Taiwan-> Deaths: 0.0 Confirmed: 9.0",
            "Thailand, Thailand-> Deaths: 0.0 Confirmed: 14.0",
            "China, Tianjin-> Deaths: 0.0 Confirmed: 32.0",
            "China, Tibet-> Deaths: 0.0 Confirmed: 1.0",
            "United Arab Emirates, United Arab Emirates-> Deaths: 0.0 Confirmed: 4.0",
            "Australia, Victoria-> Deaths: 0.0 Confirmed: 2.0",
            "Vietnam, Vietnam-> Deaths: 0.0 Confirmed: 2.0",
            "US, Washington-> Deaths: 0.0 Confirmed: 1.0",
            "China, Xinjiang-> Deaths: 0.0 Confirmed: 17.0",
            "China, Yunnan-> Deaths: 0.0 Confirmed: 76.0",
            "China, Zhejiang-> Deaths: 0.0 Confirmed: 537.0"
           ],
           "type": "scattergeo"
          }
         ],
         "layout": {
          "title": {
           "text": "Corona Virus, 2020-01-30",
           "x": 0.5,
           "xanchor": "center",
           "y": 0.98,
           "yanchor": "top"
          }
         }
        },
        {
         "data": [
          {
           "lat": [
            32,
            34.395342,
            48.9467562,
            39.906217,
            55.001251,
            36.7014631,
            13.5066394,
            30.05518,
            63.2467777,
            46.603353999999996,
            26.5450001,
            38.0000001,
            23.135769399999997,
            24,
            27,
            19.2000001,
            39.0000001,
            48.000004700000005,
            34.0000001,
            22.2793278,
            31.15172525,
            27.999587800000004,
            40.079660600000004,
            22.3511148,
            43.2443242,
            42.6384261,
            36.5748441,
            33.0000001,
            28,
            42.9995032,
            40.997519700000005,
            22.175760500000003,
            4.5693754,
            28.108392900000002,
            -31.875983500000004,
            37.0000001,
            50.000678,
            12.750348599999999,
            35.40709525,
            -22.1646782,
            64.6863136,
            36,
            36.0000001,
            31.232275800000004,
            37,
            30.500000099999998,
            1.357107,
            36.5581914,
            39.3262345,
            7.555494199999999,
            59.67497120000001,
            23.973937399999997,
            14.8971921,
            39.1235635,
            31.89434315,
            54.702354500000006,
            24.0002488,
            -36.5986096,
            13.2904027,
            38.894893200000006,
            41.7574769,
            25,
            29.000000099999998
           ],
           "locationmode": "country names",
           "lon": [
            117,
            -111.76327549999999,
            11.4038717,
            116.3912757,
            -125.00244099999999,
            -118.75599740000001,
            104.869423,
            107.8748712,
            25.9209164,
            1.8883334999999999,
            117.84277800000001,
            101.9999999,
            113.19826880000001,
            109,
            107,
            109.5999999,
            116,
            127.99999199999999,
            113.9999999,
            114.16281310000001,
            112.87832224656044,
            112.00953799999999,
            -89.4337288,
            78.6677428,
            114.32516640000001,
            12.674297,
            139.2394179,
            119.9999999,
            116,
            125.9816054,
            122.99554690000001,
            113.5514142,
            102.2656823,
            84.0917139,
            147.2869493,
            105.9999999,
            -86.000977,
            122.7312101,
            95.95211573241954,
            144.58449030000003,
            97.7453061,
            109,
            118.9999999,
            121.4692071,
            112,
            102.4999999,
            103.81949920000001,
            127.9408564,
            -4.838064900000001,
            80.7137847,
            14.5208584,
            120.9820179,
            100.83273,
            117.1980785,
            87.07813712706509,
            -3.2765752999999997,
            53.999482900000004,
            144.6780052,
            108.42651129999999,
            -77.0365529,
            87.16738423046895,
            102,
            119.9999999
           ],
           "marker": {
            "autocolorscale": false,
            "cmax": 350,
            "cmin": 0,
            "color": [
             0,
             0,
             0,
             1,
             0,
             0,
             0,
             1,
             0,
             0,
             0,
             0,
             0,
             0,
             0,
             1,
             1,
             2,
             2,
             0,
             249,
             0,
             0,
             0,
             0,
             0,
             0,
             0,
             0,
             0,
             0,
             0,
             0,
             0,
             0,
             0,
             0,
             0,
             0,
             0,
             0,
             0,
             0,
             1,
             0,
             1,
             0,
             0,
             0,
             0,
             0,
             0,
             0,
             0,
             0,
             0,
             0,
             0,
             0,
             0,
             0,
             0,
             0
            ],
            "colorbar": {
             "title": {
              "text": "Number of Deaths"
             }
            },
            "line": {
             "color": "rgba(0, 0, 0)",
             "width": 0.5
            },
            "reversescale": true,
            "size": [
             10.577682845233985,
             4,
             5.0558871595781,
             9.21883716430103,
             4,
             4.502144029037208,
             4,
             10.589509130855859,
             4,
             4.94179852477375,
             8.889346789610265,
             6.731445075485936,
             12.497025161261432,
             8.250235297922899,
             6.480397821231865,
             7.49905683093882,
             8.422187491104461,
             7.527631944695398,
             11.773319580552005,
             5.585661160918501,
             29.76629323402198,
             11.58528755199164,
             4.29268464756894,
             4,
             6.032934011676862,
             4.29268464756894,
             5.855760766039176,
             9.670964397559343,
             10.613068179138615,
             5.657613768320726,
             7.555903716104263,
             5.0558871595781,
             5.160119477784612,
             4,
             4.671033598060435,
             6.088238621134508,
             4.29268464756894,
             4,
             5.160119477784612,
             4.502144029037208,
             4.29268464756894,
             8.228058805837552,
             9.899560321169895,
             9.443843353139162,
             7.161937009665921,
             9.801155291402312,
             5.792353285846804,
             5.4305300479524705,
             4,
             4,
             4,
             5.346228848142263,
             5.975859650018929,
             6.6096322232028495,
             4,
             4.29268464756894,
             4.671033598060435,
             4.29268464756894,
             4.29268464756894,
             4,
             5.855760766039176,
             8.137710912549311,
             13.258918680359471
            ]
           },
           "mode": "lines+markers",
           "text": [
            "China, Anhui-> Deaths: 0.0 Confirmed: 237.0",
            "US, Arizona-> Deaths: 0.0 Confirmed: 1.0",
            "Germany, Bavaria-> Deaths: 0.0 Confirmed: 7.0",
            "China, Beijing-> Deaths: 1.0 Confirmed: 139.0",
            "Canada, British Columbia-> Deaths: 0.0 Confirmed: 1.0",
            "US, California-> Deaths: 0.0 Confirmed: 3.0",
            "Cambodia, Cambodia-> Deaths: 0.0 Confirmed: 1.0",
            "China, Chongqing-> Deaths: 1.0 Confirmed: 238.0",
            "Finland, Finland-> Deaths: 0.0 Confirmed: 1.0",
            "France, France-> Deaths: 0.0 Confirmed: 6.0",
            "China, Fujian-> Deaths: 0.0 Confirmed: 120.0",
            "China, Gansu-> Deaths: 0.0 Confirmed: 35.0",
            "China, Guangdong-> Deaths: 0.0 Confirmed: 436.0",
            "China, Guangxi-> Deaths: 0.0 Confirmed: 88.0",
            "China, Guizhou-> Deaths: 0.0 Confirmed: 29.0",
            "China, Hainan-> Deaths: 1.0 Confirmed: 58.0",
            "China, Hebei-> Deaths: 1.0 Confirmed: 96.0",
            "China, Heilongjiang-> Deaths: 2.0 Confirmed: 59.0",
            "China, Henan-> Deaths: 2.0 Confirmed: 352.0",
            "Hong Kong, Hong Kong-> Deaths: 0.0 Confirmed: 13.0",
            "China, Hubei-> Deaths: 249.0 Confirmed: 7153.0",
            "China, Hunan-> Deaths: 0.0 Confirmed: 332.0",
            "US, Illinois-> Deaths: 0.0 Confirmed: 2.0",
            "India, India-> Deaths: 0.0 Confirmed: 1.0",
            "China, Inner Mongolia-> Deaths: 0.0 Confirmed: 20.0",
            "Italy, Italy-> Deaths: 0.0 Confirmed: 2.0",
            "Japan, Japan-> Deaths: 0.0 Confirmed: 17.0",
            "China, Jiangsu-> Deaths: 0.0 Confirmed: 168.0",
            "China, Jiangxi-> Deaths: 0.0 Confirmed: 240.0",
            "China, Jilin-> Deaths: 0.0 Confirmed: 14.0",
            "China, Liaoning-> Deaths: 0.0 Confirmed: 60.0",
            "Macau, Macau-> Deaths: 0.0 Confirmed: 7.0",
            "Malaysia, Malaysia-> Deaths: 0.0 Confirmed: 8.0",
            "Nepal, Nepal-> Deaths: 0.0 Confirmed: 1.0",
            "Australia, New South Wales-> Deaths: 0.0 Confirmed: 4.0",
            "China, Ningxia-> Deaths: 0.0 Confirmed: 21.0",
            "Canada, Ontario-> Deaths: 0.0 Confirmed: 2.0",
            "Philippines, Philippines-> Deaths: 0.0 Confirmed: 1.0",
            "China, Qinghai-> Deaths: 0.0 Confirmed: 8.0",
            "Australia, Queensland-> Deaths: 0.0 Confirmed: 3.0",
            "Russia, Russia-> Deaths: 0.0 Confirmed: 2.0",
            "China, Shaanxi-> Deaths: 0.0 Confirmed: 87.0",
            "China, Shandong-> Deaths: 0.0 Confirmed: 184.0",
            "China, Shanghai-> Deaths: 1.0 Confirmed: 153.0",
            "China, Shanxi-> Deaths: 0.0 Confirmed: 47.0",
            "China, Sichuan-> Deaths: 1.0 Confirmed: 177.0",
            "Singapore, Singapore-> Deaths: 0.0 Confirmed: 16.0",
            "South Korea, South Korea-> Deaths: 0.0 Confirmed: 11.0",
            "Spain, Spain-> Deaths: 0.0 Confirmed: 1.0",
            "Sri Lanka, Sri Lanka-> Deaths: 0.0 Confirmed: 1.0",
            "Sweden, Sweden-> Deaths: 0.0 Confirmed: 1.0",
            "Taiwan, Taiwan-> Deaths: 0.0 Confirmed: 10.0",
            "Thailand, Thailand-> Deaths: 0.0 Confirmed: 19.0",
            "China, Tianjin-> Deaths: 0.0 Confirmed: 32.0",
            "China, Tibet-> Deaths: 0.0 Confirmed: 1.0",
            "UK, UK-> Deaths: 0.0 Confirmed: 2.0",
            "United Arab Emirates, United Arab Emirates-> Deaths: 0.0 Confirmed: 4.0",
            "Australia, Victoria-> Deaths: 0.0 Confirmed: 2.0",
            "Vietnam, Vietnam-> Deaths: 0.0 Confirmed: 2.0",
            "US, Washington-> Deaths: 0.0 Confirmed: 1.0",
            "China, Xinjiang-> Deaths: 0.0 Confirmed: 17.0",
            "China, Yunnan-> Deaths: 0.0 Confirmed: 83.0",
            "China, Zhejiang-> Deaths: 0.0 Confirmed: 537.0"
           ],
           "type": "scattergeo"
          }
         ],
         "layout": {
          "title": {
           "text": "Corona Virus, 2020-01-31",
           "x": 0.5,
           "xanchor": "center",
           "y": 0.98,
           "yanchor": "top"
          }
         }
        },
        {
         "data": [
          {
           "lat": [
            32,
            39.906217,
            42.3602534,
            55.001251,
            13.5066394,
            41.875561600000005,
            30.05518,
            63.2467777,
            46.603353999999996,
            26.5450001,
            38.0000001,
            23.135769399999997,
            24,
            27,
            19.2000001,
            39.0000001,
            48.000004700000005,
            34.0000001,
            22.2793278,
            31.15172525,
            27.999587800000004,
            22.3511148,
            43.2443242,
            42.6384261,
            36.5748441,
            33.0000001,
            28,
            42.9995032,
            40.997519700000005,
            34.0536909,
            22.175760500000003,
            4.5693754,
            28.108392900000002,
            -31.875983500000004,
            37.0000001,
            50.000678,
            29.7742659,
            12.750348599999999,
            35.40709525,
            -22.1646782,
            64.6863136,
            37.35411320000001,
            47.6038321,
            36,
            36.0000001,
            31.232275800000004,
            37,
            30.500000099999998,
            1.357107,
            -30.534366499999997,
            36.5581914,
            39.3262345,
            7.555494199999999,
            59.67497120000001,
            23.973937399999997,
            33.4255056,
            14.8971921,
            39.1235635,
            31.89434315,
            54.702354500000006,
            24.0002488,
            -36.5986096,
            13.2904027,
            41.7574769,
            25,
            29.000000099999998
           ],
           "locationmode": "country names",
           "lon": [
            117,
            116.3912757,
            -71.0582912,
            -125.00244099999999,
            104.869423,
            -87.6244212,
            107.8748712,
            25.9209164,
            1.8883334999999999,
            117.84277800000001,
            101.9999999,
            113.19826880000001,
            109,
            107,
            109.5999999,
            116,
            127.99999199999999,
            113.9999999,
            114.16281310000001,
            112.87832224656044,
            112.00953799999999,
            78.6677428,
            114.32516640000001,
            12.674297,
            139.2394179,
            119.9999999,
            116,
            125.9816054,
            122.99554690000001,
            -118.2427666,
            113.5514142,
            102.2656823,
            84.0917139,
            147.2869493,
            105.9999999,
            -86.000977,
            -95.3341066,
            122.7312101,
            95.95211573241954,
            144.58449030000003,
            97.7453061,
            -121.95517439999999,
            -122.3300624,
            109,
            118.9999999,
            121.4692071,
            112,
            102.4999999,
            103.81949920000001,
            135.6301212,
            127.9408564,
            -4.838064900000001,
            80.7137847,
            14.5208584,
            120.9820179,
            -111.9400125,
            100.83273,
            117.1980785,
            87.07813712706509,
            -3.2765752999999997,
            53.999482900000004,
            144.6780052,
            108.42651129999999,
            87.16738423046895,
            102,
            119.9999999
           ],
           "marker": {
            "autocolorscale": false,
            "cmax": 350,
            "cmin": 0,
            "color": [
             0,
             1,
             0,
             0,
             0,
             0,
             2,
             0,
             0,
             0,
             0,
             0,
             0,
             0,
             1,
             1,
             2,
             2,
             0,
             350,
             0,
             0,
             0,
             0,
             0,
             0,
             0,
             0,
             0,
             0,
             0,
             0,
             0,
             0,
             0,
             0,
             0,
             1,
             0,
             0,
             0,
             0,
             0,
             0,
             0,
             1,
             0,
             1,
             0,
             0,
             0,
             0,
             0,
             0,
             0,
             0,
             0,
             0,
             0,
             0,
             0,
             0,
             0,
             0,
             0,
             0
            ],
            "colorbar": {
             "title": {
              "text": "Number of Deaths"
             }
            },
            "line": {
             "color": "rgba(0, 0, 0)",
             "width": 0.5
            },
            "reversescale": true,
            "size": [
             12.266402734916461,
             9.995635501635093,
             4,
             4,
             4,
             4.29268464756894,
             11.26898714097422,
             4,
             4.94179852477375,
             9.536304383316704,
             7.2897639830644705,
             14.214642812282642,
             9.014320439199771,
             7.128917772316606,
             7.8489894617132165,
             8.759694167055606,
             8.401199567139276,
             13.460721531990252,
             5.726398632195241,
             34.577643875457504,
             13.144629578632946,
             4.29268464756894,
             6.389492891729259,
             4.29268464756894,
             6.032934011676862,
             10.96342212402689,
             12.121483265511438,
             6.567435936849419,
             7.823581762327395,
             4,
             5.160119477784612,
             5.160119477784612,
             4,
             4.671033598060435,
             6.435456517476041,
             4.502144029037208,
             4,
             4.29268464756894,
             5.4305300479524705,
             4.29268464756894,
             4.29268464756894,
             4.29268464756894,
             4,
             8.815861693894782,
             10.683012170568894,
             10.022677210900873,
             7.719599661532381,
             10.77461969731363,
             5.916861059582148,
             4.29268464756894,
             5.726398632195241,
             4,
             4,
             4,
             5.346228848142263,
             4,
             5.975859650018929,
             7.194516815297205,
             4,
             4.29268464756894,
             4.815004806125491,
             4.671033598060435,
             4.94179852477375,
             6.244810575561126,
             8.605167939821492,
             14.459414586845678
            ]
           },
           "mode": "lines+markers",
           "text": [
            "China, Anhui-> Deaths: 0.0 Confirmed: 408.0",
            "China, Beijing-> Deaths: 1.0 Confirmed: 191.0",
            "US, Boston, MA-> Deaths: 0.0 Confirmed: 1.0",
            "Canada, British Columbia-> Deaths: 0.0 Confirmed: 1.0",
            "Cambodia, Cambodia-> Deaths: 0.0 Confirmed: 1.0",
            "US, Chicago, IL-> Deaths: 0.0 Confirmed: 2.0",
            "China, Chongqing-> Deaths: 2.0 Confirmed: 300.0",
            "Finland, Finland-> Deaths: 0.0 Confirmed: 1.0",
            "France, France-> Deaths: 0.0 Confirmed: 6.0",
            "China, Fujian-> Deaths: 0.0 Confirmed: 159.0",
            "China, Gansu-> Deaths: 0.0 Confirmed: 51.0",
            "China, Guangdong-> Deaths: 0.0 Confirmed: 683.0",
            "China, Guangxi-> Deaths: 0.0 Confirmed: 127.0",
            "China, Guizhou-> Deaths: 0.0 Confirmed: 46.0",
            "China, Hainan-> Deaths: 1.0 Confirmed: 71.0",
            "China, Hebei-> Deaths: 1.0 Confirmed: 113.0",
            "China, Heilongjiang-> Deaths: 2.0 Confirmed: 95.0",
            "China, Henan-> Deaths: 2.0 Confirmed: 566.0",
            "Hong Kong, Hong Kong-> Deaths: 0.0 Confirmed: 15.0",
            "China, Hubei-> Deaths: 350.0 Confirmed: 11177.0",
            "China, Hunan-> Deaths: 0.0 Confirmed: 521.0",
            "India, India-> Deaths: 0.0 Confirmed: 2.0",
            "China, Inner Mongolia-> Deaths: 0.0 Confirmed: 27.0",
            "Italy, Italy-> Deaths: 0.0 Confirmed: 2.0",
            "Japan, Japan-> Deaths: 0.0 Confirmed: 20.0",
            "China, Jiangsu-> Deaths: 0.0 Confirmed: 271.0",
            "China, Jiangxi-> Deaths: 0.0 Confirmed: 391.0",
            "China, Jilin-> Deaths: 0.0 Confirmed: 31.0",
            "China, Liaoning-> Deaths: 0.0 Confirmed: 70.0",
            "US, Los Angeles, CA-> Deaths: 0.0 Confirmed: 1.0",
            "Macau, Macau-> Deaths: 0.0 Confirmed: 8.0",
            "Malaysia, Malaysia-> Deaths: 0.0 Confirmed: 8.0",
            "Nepal, Nepal-> Deaths: 0.0 Confirmed: 1.0",
            "Australia, New South Wales-> Deaths: 0.0 Confirmed: 4.0",
            "China, Ningxia-> Deaths: 0.0 Confirmed: 28.0",
            "Canada, Ontario-> Deaths: 0.0 Confirmed: 3.0",
            "US, Orange, CA-> Deaths: 0.0 Confirmed: 1.0",
            "Philippines, Philippines-> Deaths: 1.0 Confirmed: 2.0",
            "China, Qinghai-> Deaths: 0.0 Confirmed: 11.0",
            "Australia, Queensland-> Deaths: 0.0 Confirmed: 2.0",
            "Russia, Russia-> Deaths: 0.0 Confirmed: 2.0",
            "US, Santa Clara, CA-> Deaths: 0.0 Confirmed: 2.0",
            "US, Seattle, WA-> Deaths: 0.0 Confirmed: 1.0",
            "China, Shaanxi-> Deaths: 0.0 Confirmed: 116.0",
            "China, Shandong-> Deaths: 0.0 Confirmed: 246.0",
            "China, Shanghai-> Deaths: 1.0 Confirmed: 193.0",
            "China, Shanxi-> Deaths: 0.0 Confirmed: 66.0",
            "China, Sichuan-> Deaths: 1.0 Confirmed: 254.0",
            "Singapore, Singapore-> Deaths: 0.0 Confirmed: 18.0",
            "Australia, South Australia-> Deaths: 0.0 Confirmed: 2.0",
            "South Korea, South Korea-> Deaths: 0.0 Confirmed: 15.0",
            "Spain, Spain-> Deaths: 0.0 Confirmed: 1.0",
            "Sri Lanka, Sri Lanka-> Deaths: 0.0 Confirmed: 1.0",
            "Sweden, Sweden-> Deaths: 0.0 Confirmed: 1.0",
            "Taiwan, Taiwan-> Deaths: 0.0 Confirmed: 10.0",
            "US, Tempe, AZ-> Deaths: 0.0 Confirmed: 1.0",
            "Thailand, Thailand-> Deaths: 0.0 Confirmed: 19.0",
            "China, Tianjin-> Deaths: 0.0 Confirmed: 48.0",
            "China, Tibet-> Deaths: 0.0 Confirmed: 1.0",
            "UK, UK-> Deaths: 0.0 Confirmed: 2.0",
            "United Arab Emirates, United Arab Emirates-> Deaths: 0.0 Confirmed: 5.0",
            "Australia, Victoria-> Deaths: 0.0 Confirmed: 4.0",
            "Vietnam, Vietnam-> Deaths: 0.0 Confirmed: 6.0",
            "China, Xinjiang-> Deaths: 0.0 Confirmed: 24.0",
            "China, Yunnan-> Deaths: 0.0 Confirmed: 105.0",
            "China, Zhejiang-> Deaths: 0.0 Confirmed: 724.0"
           ],
           "type": "scattergeo"
          }
         ],
         "layout": {
          "title": {
           "text": "Corona Virus, 2020-02-02",
           "x": 0.5,
           "xanchor": "center",
           "y": 0.98,
           "yanchor": "top"
          }
         }
        }
       ],
       "layout": {
        "geo": {
         "countrycolor": "rgb(128, 128, 128)",
         "landcolor": "rgb(252, 240, 220)",
         "projection": {
          "type": "robinson"
         },
         "scope": "world",
         "showcountries": true,
         "showland": true,
         "showocean": true
        },
        "template": {
         "data": {
          "bar": [
           {
            "error_x": {
             "color": "#2a3f5f"
            },
            "error_y": {
             "color": "#2a3f5f"
            },
            "marker": {
             "line": {
              "color": "#E5ECF6",
              "width": 0.5
             }
            },
            "type": "bar"
           }
          ],
          "barpolar": [
           {
            "marker": {
             "line": {
              "color": "#E5ECF6",
              "width": 0.5
             }
            },
            "type": "barpolar"
           }
          ],
          "carpet": [
           {
            "aaxis": {
             "endlinecolor": "#2a3f5f",
             "gridcolor": "white",
             "linecolor": "white",
             "minorgridcolor": "white",
             "startlinecolor": "#2a3f5f"
            },
            "baxis": {
             "endlinecolor": "#2a3f5f",
             "gridcolor": "white",
             "linecolor": "white",
             "minorgridcolor": "white",
             "startlinecolor": "#2a3f5f"
            },
            "type": "carpet"
           }
          ],
          "choropleth": [
           {
            "colorbar": {
             "outlinewidth": 0,
             "ticks": ""
            },
            "type": "choropleth"
           }
          ],
          "contour": [
           {
            "colorbar": {
             "outlinewidth": 0,
             "ticks": ""
            },
            "colorscale": [
             [
              0,
              "#0d0887"
             ],
             [
              0.1111111111111111,
              "#46039f"
             ],
             [
              0.2222222222222222,
              "#7201a8"
             ],
             [
              0.3333333333333333,
              "#9c179e"
             ],
             [
              0.4444444444444444,
              "#bd3786"
             ],
             [
              0.5555555555555556,
              "#d8576b"
             ],
             [
              0.6666666666666666,
              "#ed7953"
             ],
             [
              0.7777777777777778,
              "#fb9f3a"
             ],
             [
              0.8888888888888888,
              "#fdca26"
             ],
             [
              1,
              "#f0f921"
             ]
            ],
            "type": "contour"
           }
          ],
          "contourcarpet": [
           {
            "colorbar": {
             "outlinewidth": 0,
             "ticks": ""
            },
            "type": "contourcarpet"
           }
          ],
          "heatmap": [
           {
            "colorbar": {
             "outlinewidth": 0,
             "ticks": ""
            },
            "colorscale": [
             [
              0,
              "#0d0887"
             ],
             [
              0.1111111111111111,
              "#46039f"
             ],
             [
              0.2222222222222222,
              "#7201a8"
             ],
             [
              0.3333333333333333,
              "#9c179e"
             ],
             [
              0.4444444444444444,
              "#bd3786"
             ],
             [
              0.5555555555555556,
              "#d8576b"
             ],
             [
              0.6666666666666666,
              "#ed7953"
             ],
             [
              0.7777777777777778,
              "#fb9f3a"
             ],
             [
              0.8888888888888888,
              "#fdca26"
             ],
             [
              1,
              "#f0f921"
             ]
            ],
            "type": "heatmap"
           }
          ],
          "heatmapgl": [
           {
            "colorbar": {
             "outlinewidth": 0,
             "ticks": ""
            },
            "colorscale": [
             [
              0,
              "#0d0887"
             ],
             [
              0.1111111111111111,
              "#46039f"
             ],
             [
              0.2222222222222222,
              "#7201a8"
             ],
             [
              0.3333333333333333,
              "#9c179e"
             ],
             [
              0.4444444444444444,
              "#bd3786"
             ],
             [
              0.5555555555555556,
              "#d8576b"
             ],
             [
              0.6666666666666666,
              "#ed7953"
             ],
             [
              0.7777777777777778,
              "#fb9f3a"
             ],
             [
              0.8888888888888888,
              "#fdca26"
             ],
             [
              1,
              "#f0f921"
             ]
            ],
            "type": "heatmapgl"
           }
          ],
          "histogram": [
           {
            "marker": {
             "colorbar": {
              "outlinewidth": 0,
              "ticks": ""
             }
            },
            "type": "histogram"
           }
          ],
          "histogram2d": [
           {
            "colorbar": {
             "outlinewidth": 0,
             "ticks": ""
            },
            "colorscale": [
             [
              0,
              "#0d0887"
             ],
             [
              0.1111111111111111,
              "#46039f"
             ],
             [
              0.2222222222222222,
              "#7201a8"
             ],
             [
              0.3333333333333333,
              "#9c179e"
             ],
             [
              0.4444444444444444,
              "#bd3786"
             ],
             [
              0.5555555555555556,
              "#d8576b"
             ],
             [
              0.6666666666666666,
              "#ed7953"
             ],
             [
              0.7777777777777778,
              "#fb9f3a"
             ],
             [
              0.8888888888888888,
              "#fdca26"
             ],
             [
              1,
              "#f0f921"
             ]
            ],
            "type": "histogram2d"
           }
          ],
          "histogram2dcontour": [
           {
            "colorbar": {
             "outlinewidth": 0,
             "ticks": ""
            },
            "colorscale": [
             [
              0,
              "#0d0887"
             ],
             [
              0.1111111111111111,
              "#46039f"
             ],
             [
              0.2222222222222222,
              "#7201a8"
             ],
             [
              0.3333333333333333,
              "#9c179e"
             ],
             [
              0.4444444444444444,
              "#bd3786"
             ],
             [
              0.5555555555555556,
              "#d8576b"
             ],
             [
              0.6666666666666666,
              "#ed7953"
             ],
             [
              0.7777777777777778,
              "#fb9f3a"
             ],
             [
              0.8888888888888888,
              "#fdca26"
             ],
             [
              1,
              "#f0f921"
             ]
            ],
            "type": "histogram2dcontour"
           }
          ],
          "mesh3d": [
           {
            "colorbar": {
             "outlinewidth": 0,
             "ticks": ""
            },
            "type": "mesh3d"
           }
          ],
          "parcoords": [
           {
            "line": {
             "colorbar": {
              "outlinewidth": 0,
              "ticks": ""
             }
            },
            "type": "parcoords"
           }
          ],
          "scatter": [
           {
            "marker": {
             "colorbar": {
              "outlinewidth": 0,
              "ticks": ""
             }
            },
            "type": "scatter"
           }
          ],
          "scatter3d": [
           {
            "line": {
             "colorbar": {
              "outlinewidth": 0,
              "ticks": ""
             }
            },
            "marker": {
             "colorbar": {
              "outlinewidth": 0,
              "ticks": ""
             }
            },
            "type": "scatter3d"
           }
          ],
          "scattercarpet": [
           {
            "marker": {
             "colorbar": {
              "outlinewidth": 0,
              "ticks": ""
             }
            },
            "type": "scattercarpet"
           }
          ],
          "scattergeo": [
           {
            "marker": {
             "colorbar": {
              "outlinewidth": 0,
              "ticks": ""
             }
            },
            "type": "scattergeo"
           }
          ],
          "scattergl": [
           {
            "marker": {
             "colorbar": {
              "outlinewidth": 0,
              "ticks": ""
             }
            },
            "type": "scattergl"
           }
          ],
          "scattermapbox": [
           {
            "marker": {
             "colorbar": {
              "outlinewidth": 0,
              "ticks": ""
             }
            },
            "type": "scattermapbox"
           }
          ],
          "scatterpolar": [
           {
            "marker": {
             "colorbar": {
              "outlinewidth": 0,
              "ticks": ""
             }
            },
            "type": "scatterpolar"
           }
          ],
          "scatterpolargl": [
           {
            "marker": {
             "colorbar": {
              "outlinewidth": 0,
              "ticks": ""
             }
            },
            "type": "scatterpolargl"
           }
          ],
          "scatterternary": [
           {
            "marker": {
             "colorbar": {
              "outlinewidth": 0,
              "ticks": ""
             }
            },
            "type": "scatterternary"
           }
          ],
          "surface": [
           {
            "colorbar": {
             "outlinewidth": 0,
             "ticks": ""
            },
            "colorscale": [
             [
              0,
              "#0d0887"
             ],
             [
              0.1111111111111111,
              "#46039f"
             ],
             [
              0.2222222222222222,
              "#7201a8"
             ],
             [
              0.3333333333333333,
              "#9c179e"
             ],
             [
              0.4444444444444444,
              "#bd3786"
             ],
             [
              0.5555555555555556,
              "#d8576b"
             ],
             [
              0.6666666666666666,
              "#ed7953"
             ],
             [
              0.7777777777777778,
              "#fb9f3a"
             ],
             [
              0.8888888888888888,
              "#fdca26"
             ],
             [
              1,
              "#f0f921"
             ]
            ],
            "type": "surface"
           }
          ],
          "table": [
           {
            "cells": {
             "fill": {
              "color": "#EBF0F8"
             },
             "line": {
              "color": "white"
             }
            },
            "header": {
             "fill": {
              "color": "#C8D4E3"
             },
             "line": {
              "color": "white"
             }
            },
            "type": "table"
           }
          ]
         },
         "layout": {
          "annotationdefaults": {
           "arrowcolor": "#2a3f5f",
           "arrowhead": 0,
           "arrowwidth": 1
          },
          "colorscale": {
           "diverging": [
            [
             0,
             "#8e0152"
            ],
            [
             0.1,
             "#c51b7d"
            ],
            [
             0.2,
             "#de77ae"
            ],
            [
             0.3,
             "#f1b6da"
            ],
            [
             0.4,
             "#fde0ef"
            ],
            [
             0.5,
             "#f7f7f7"
            ],
            [
             0.6,
             "#e6f5d0"
            ],
            [
             0.7,
             "#b8e186"
            ],
            [
             0.8,
             "#7fbc41"
            ],
            [
             0.9,
             "#4d9221"
            ],
            [
             1,
             "#276419"
            ]
           ],
           "sequential": [
            [
             0,
             "#0d0887"
            ],
            [
             0.1111111111111111,
             "#46039f"
            ],
            [
             0.2222222222222222,
             "#7201a8"
            ],
            [
             0.3333333333333333,
             "#9c179e"
            ],
            [
             0.4444444444444444,
             "#bd3786"
            ],
            [
             0.5555555555555556,
             "#d8576b"
            ],
            [
             0.6666666666666666,
             "#ed7953"
            ],
            [
             0.7777777777777778,
             "#fb9f3a"
            ],
            [
             0.8888888888888888,
             "#fdca26"
            ],
            [
             1,
             "#f0f921"
            ]
           ],
           "sequentialminus": [
            [
             0,
             "#0d0887"
            ],
            [
             0.1111111111111111,
             "#46039f"
            ],
            [
             0.2222222222222222,
             "#7201a8"
            ],
            [
             0.3333333333333333,
             "#9c179e"
            ],
            [
             0.4444444444444444,
             "#bd3786"
            ],
            [
             0.5555555555555556,
             "#d8576b"
            ],
            [
             0.6666666666666666,
             "#ed7953"
            ],
            [
             0.7777777777777778,
             "#fb9f3a"
            ],
            [
             0.8888888888888888,
             "#fdca26"
            ],
            [
             1,
             "#f0f921"
            ]
           ]
          },
          "colorway": [
           "#636efa",
           "#EF553B",
           "#00cc96",
           "#ab63fa",
           "#FFA15A",
           "#19d3f3",
           "#FF6692",
           "#B6E880",
           "#FF97FF",
           "#FECB52"
          ],
          "font": {
           "color": "#2a3f5f"
          },
          "geo": {
           "bgcolor": "white",
           "lakecolor": "white",
           "landcolor": "#E5ECF6",
           "showlakes": true,
           "showland": true,
           "subunitcolor": "white"
          },
          "hoverlabel": {
           "align": "left"
          },
          "hovermode": "closest",
          "mapbox": {
           "style": "light"
          },
          "paper_bgcolor": "white",
          "plot_bgcolor": "#E5ECF6",
          "polar": {
           "angularaxis": {
            "gridcolor": "white",
            "linecolor": "white",
            "ticks": ""
           },
           "bgcolor": "#E5ECF6",
           "radialaxis": {
            "gridcolor": "white",
            "linecolor": "white",
            "ticks": ""
           }
          },
          "scene": {
           "xaxis": {
            "backgroundcolor": "#E5ECF6",
            "gridcolor": "white",
            "gridwidth": 2,
            "linecolor": "white",
            "showbackground": true,
            "ticks": "",
            "zerolinecolor": "white"
           },
           "yaxis": {
            "backgroundcolor": "#E5ECF6",
            "gridcolor": "white",
            "gridwidth": 2,
            "linecolor": "white",
            "showbackground": true,
            "ticks": "",
            "zerolinecolor": "white"
           },
           "zaxis": {
            "backgroundcolor": "#E5ECF6",
            "gridcolor": "white",
            "gridwidth": 2,
            "linecolor": "white",
            "showbackground": true,
            "ticks": "",
            "zerolinecolor": "white"
           }
          },
          "shapedefaults": {
           "line": {
            "color": "#2a3f5f"
           }
          },
          "ternary": {
           "aaxis": {
            "gridcolor": "white",
            "linecolor": "white",
            "ticks": ""
           },
           "baxis": {
            "gridcolor": "white",
            "linecolor": "white",
            "ticks": ""
           },
           "bgcolor": "#E5ECF6",
           "caxis": {
            "gridcolor": "white",
            "linecolor": "white",
            "ticks": ""
           }
          },
          "title": {
           "x": 0.05
          },
          "xaxis": {
           "automargin": true,
           "gridcolor": "white",
           "linecolor": "white",
           "ticks": "",
           "zerolinecolor": "white",
           "zerolinewidth": 2
          },
          "yaxis": {
           "automargin": true,
           "gridcolor": "white",
           "linecolor": "white",
           "ticks": "",
           "zerolinecolor": "white",
           "zerolinewidth": 2
          }
         }
        },
        "title": {
         "text": "Corona Virus, 2020-01-22",
         "x": 0.5,
         "xanchor": "center",
         "y": 0.98,
         "yanchor": "top"
        },
        "updatemenus": [
         {
          "buttons": [
           {
            "args": [
             null
            ],
            "label": "Play",
            "method": "animate"
           }
          ],
          "type": "buttons"
         }
        ]
       }
      },
      "text/html": [
       "<div>\n",
       "        \n",
       "        \n",
       "            <div id=\"820c2f44-c036-48ed-a2de-0c7971ceb800\" class=\"plotly-graph-div\" style=\"height:525px; width:100%;\"></div>\n",
       "            <script type=\"text/javascript\">\n",
       "                require([\"plotly\"], function(Plotly) {\n",
       "                    window.PLOTLYENV=window.PLOTLYENV || {};\n",
       "                    \n",
       "                if (document.getElementById(\"820c2f44-c036-48ed-a2de-0c7971ceb800\")) {\n",
       "                    Plotly.newPlot(\n",
       "                        '820c2f44-c036-48ed-a2de-0c7971ceb800',\n",
       "                        [{\"lat\": [32.0, 39.906217, 30.05518, 26.5450001, 23.135769399999997, 24.0, 27.0, 19.2000001, 39.0000001, 34.0000001, 31.15172525, 27.999587800000004, 36.5748441, 33.0000001, 28.0, 40.997519700000005, 22.175760500000003, 37.0000001, 36.0000001, 31.232275800000004, 37.0, 30.500000099999998, 36.5581914, 23.973937399999997, 14.8971921, 39.1235635, 38.894893200000006, 25.0, 29.000000099999998], \"locationmode\": \"country names\", \"lon\": [117.0, 116.3912757, 107.8748712, 117.84277800000001, 113.19826880000001, 109.0, 107.0, 109.5999999, 116.0, 113.9999999, 112.87832224656044, 112.00953799999999, 139.2394179, 119.9999999, 116.0, 122.99554690000001, 113.5514142, 105.9999999, 118.9999999, 121.4692071, 112.0, 102.4999999, 127.9408564, 120.9820179, 100.83273, 117.1980785, -77.0365529, 102.0, 119.9999999], \"marker\": {\"autocolorscale\": false, \"cmax\": 350.0, \"cmin\": 0, \"color\": [0.0, 0.0, 0.0, 0.0, 0.0, 0.0, 0.0, 0.0, 0.0, 0.0, 0.0, 0.0, 0.0, 0.0, 0.0, 0.0, 0.0, 0.0, 0.0, 0.0, 0.0, 0.0, 0.0, 0.0, 0.0, 0.0, 0.0, 0.0, 0.0], \"colorbar\": {\"title\": {\"text\": \"Number of Deaths\"}}, \"line\": {\"color\": \"rgba(0, 0, 0)\", \"width\": 0.5}, \"reversescale\": true, \"size\": [4.0, 5.657613768320726, 4.94179852477375, 4.0, 6.34244448653463, 4.29268464756894, 4.0, 4.671033598060435, 4.0, 4.815004806125491, 12.561195780665512, 4.671033598060435, 4.29268464756894, 4.0, 4.29268464756894, 4.29268464756894, 4.0, 4.0, 4.29268464756894, 5.256436683972135, 4.0, 4.815004806125491, 4.0, 4.0, 4.29268464756894, 4.671033598060435, 4.0, 4.0, 5.346228848142263]}, \"mode\": \"lines+markers\", \"text\": [\"China, Anhui-> Deaths: 0.0 Confirmed: 1.0\", \"China, Beijing-> Deaths: 0.0 Confirmed: 14.0\", \"China, Chongqing-> Deaths: 0.0 Confirmed: 6.0\", \"China, Fujian-> Deaths: 0.0 Confirmed: 1.0\", \"China, Guangdong-> Deaths: 0.0 Confirmed: 26.0\", \"China, Guangxi-> Deaths: 0.0 Confirmed: 2.0\", \"China, Guizhou-> Deaths: 0.0 Confirmed: 1.0\", \"China, Hainan-> Deaths: 0.0 Confirmed: 4.0\", \"China, Hebei-> Deaths: 0.0 Confirmed: 1.0\", \"China, Henan-> Deaths: 0.0 Confirmed: 5.0\", \"China, Hubei-> Deaths: 0.0 Confirmed: 444.0\", \"China, Hunan-> Deaths: 0.0 Confirmed: 4.0\", \"Japan, Japan-> Deaths: 0.0 Confirmed: 2.0\", \"China, Jiangsu-> Deaths: 0.0 Confirmed: 1.0\", \"China, Jiangxi-> Deaths: 0.0 Confirmed: 2.0\", \"China, Liaoning-> Deaths: 0.0 Confirmed: 2.0\", \"China, Macau-> Deaths: 0.0 Confirmed: 1.0\", \"China, Ningxia-> Deaths: 0.0 Confirmed: 1.0\", \"China, Shandong-> Deaths: 0.0 Confirmed: 2.0\", \"China, Shanghai-> Deaths: 0.0 Confirmed: 9.0\", \"China, Shanxi-> Deaths: 0.0 Confirmed: 1.0\", \"China, Sichuan-> Deaths: 0.0 Confirmed: 5.0\", \"South Korea, South Korea-> Deaths: 0.0 Confirmed: 1.0\", \"China, Taiwan-> Deaths: 0.0 Confirmed: 1.0\", \"Thailand, Thailand-> Deaths: 0.0 Confirmed: 2.0\", \"China, Tianjin-> Deaths: 0.0 Confirmed: 4.0\", \"US, Washington-> Deaths: 0.0 Confirmed: 1.0\", \"China, Yunnan-> Deaths: 0.0 Confirmed: 1.0\", \"China, Zhejiang-> Deaths: 0.0 Confirmed: 10.0\"], \"type\": \"scattergeo\"}],\n",
       "                        {\"geo\": {\"countrycolor\": \"rgb(128, 128, 128)\", \"landcolor\": \"rgb(252, 240, 220)\", \"projection\": {\"type\": \"robinson\"}, \"scope\": \"world\", \"showcountries\": true, \"showland\": true, \"showocean\": true}, \"template\": {\"data\": {\"bar\": [{\"error_x\": {\"color\": \"#2a3f5f\"}, \"error_y\": {\"color\": \"#2a3f5f\"}, \"marker\": {\"line\": {\"color\": \"#E5ECF6\", \"width\": 0.5}}, \"type\": \"bar\"}], \"barpolar\": [{\"marker\": {\"line\": {\"color\": \"#E5ECF6\", \"width\": 0.5}}, \"type\": \"barpolar\"}], \"carpet\": [{\"aaxis\": {\"endlinecolor\": \"#2a3f5f\", \"gridcolor\": \"white\", \"linecolor\": \"white\", \"minorgridcolor\": \"white\", \"startlinecolor\": \"#2a3f5f\"}, \"baxis\": {\"endlinecolor\": \"#2a3f5f\", \"gridcolor\": \"white\", \"linecolor\": \"white\", \"minorgridcolor\": \"white\", \"startlinecolor\": \"#2a3f5f\"}, \"type\": \"carpet\"}], \"choropleth\": [{\"colorbar\": {\"outlinewidth\": 0, \"ticks\": \"\"}, \"type\": \"choropleth\"}], \"contour\": [{\"colorbar\": {\"outlinewidth\": 0, \"ticks\": \"\"}, \"colorscale\": [[0.0, \"#0d0887\"], [0.1111111111111111, \"#46039f\"], [0.2222222222222222, \"#7201a8\"], [0.3333333333333333, \"#9c179e\"], [0.4444444444444444, \"#bd3786\"], [0.5555555555555556, \"#d8576b\"], [0.6666666666666666, \"#ed7953\"], [0.7777777777777778, \"#fb9f3a\"], [0.8888888888888888, \"#fdca26\"], [1.0, \"#f0f921\"]], \"type\": \"contour\"}], \"contourcarpet\": [{\"colorbar\": {\"outlinewidth\": 0, \"ticks\": \"\"}, \"type\": \"contourcarpet\"}], \"heatmap\": [{\"colorbar\": {\"outlinewidth\": 0, \"ticks\": \"\"}, \"colorscale\": [[0.0, \"#0d0887\"], [0.1111111111111111, \"#46039f\"], [0.2222222222222222, \"#7201a8\"], [0.3333333333333333, \"#9c179e\"], [0.4444444444444444, \"#bd3786\"], [0.5555555555555556, \"#d8576b\"], [0.6666666666666666, \"#ed7953\"], [0.7777777777777778, \"#fb9f3a\"], [0.8888888888888888, \"#fdca26\"], [1.0, \"#f0f921\"]], \"type\": \"heatmap\"}], \"heatmapgl\": [{\"colorbar\": {\"outlinewidth\": 0, \"ticks\": \"\"}, \"colorscale\": [[0.0, \"#0d0887\"], [0.1111111111111111, \"#46039f\"], [0.2222222222222222, \"#7201a8\"], [0.3333333333333333, \"#9c179e\"], [0.4444444444444444, \"#bd3786\"], [0.5555555555555556, \"#d8576b\"], [0.6666666666666666, \"#ed7953\"], [0.7777777777777778, \"#fb9f3a\"], [0.8888888888888888, \"#fdca26\"], [1.0, \"#f0f921\"]], \"type\": \"heatmapgl\"}], \"histogram\": [{\"marker\": {\"colorbar\": {\"outlinewidth\": 0, \"ticks\": \"\"}}, \"type\": \"histogram\"}], \"histogram2d\": [{\"colorbar\": {\"outlinewidth\": 0, \"ticks\": \"\"}, \"colorscale\": [[0.0, \"#0d0887\"], [0.1111111111111111, \"#46039f\"], [0.2222222222222222, \"#7201a8\"], [0.3333333333333333, \"#9c179e\"], [0.4444444444444444, \"#bd3786\"], [0.5555555555555556, \"#d8576b\"], [0.6666666666666666, \"#ed7953\"], [0.7777777777777778, \"#fb9f3a\"], [0.8888888888888888, \"#fdca26\"], [1.0, \"#f0f921\"]], \"type\": \"histogram2d\"}], \"histogram2dcontour\": [{\"colorbar\": {\"outlinewidth\": 0, \"ticks\": \"\"}, \"colorscale\": [[0.0, \"#0d0887\"], [0.1111111111111111, \"#46039f\"], [0.2222222222222222, \"#7201a8\"], [0.3333333333333333, \"#9c179e\"], [0.4444444444444444, \"#bd3786\"], [0.5555555555555556, \"#d8576b\"], [0.6666666666666666, \"#ed7953\"], [0.7777777777777778, \"#fb9f3a\"], [0.8888888888888888, \"#fdca26\"], [1.0, \"#f0f921\"]], \"type\": \"histogram2dcontour\"}], \"mesh3d\": [{\"colorbar\": {\"outlinewidth\": 0, \"ticks\": \"\"}, \"type\": \"mesh3d\"}], \"parcoords\": [{\"line\": {\"colorbar\": {\"outlinewidth\": 0, \"ticks\": \"\"}}, \"type\": \"parcoords\"}], \"scatter\": [{\"marker\": {\"colorbar\": {\"outlinewidth\": 0, \"ticks\": \"\"}}, \"type\": \"scatter\"}], \"scatter3d\": [{\"line\": {\"colorbar\": {\"outlinewidth\": 0, \"ticks\": \"\"}}, \"marker\": {\"colorbar\": {\"outlinewidth\": 0, \"ticks\": \"\"}}, \"type\": \"scatter3d\"}], \"scattercarpet\": [{\"marker\": {\"colorbar\": {\"outlinewidth\": 0, \"ticks\": \"\"}}, \"type\": \"scattercarpet\"}], \"scattergeo\": [{\"marker\": {\"colorbar\": {\"outlinewidth\": 0, \"ticks\": \"\"}}, \"type\": \"scattergeo\"}], \"scattergl\": [{\"marker\": {\"colorbar\": {\"outlinewidth\": 0, \"ticks\": \"\"}}, \"type\": \"scattergl\"}], \"scattermapbox\": [{\"marker\": {\"colorbar\": {\"outlinewidth\": 0, \"ticks\": \"\"}}, \"type\": \"scattermapbox\"}], \"scatterpolar\": [{\"marker\": {\"colorbar\": {\"outlinewidth\": 0, \"ticks\": \"\"}}, \"type\": \"scatterpolar\"}], \"scatterpolargl\": [{\"marker\": {\"colorbar\": {\"outlinewidth\": 0, \"ticks\": \"\"}}, \"type\": \"scatterpolargl\"}], \"scatterternary\": [{\"marker\": {\"colorbar\": {\"outlinewidth\": 0, \"ticks\": \"\"}}, \"type\": \"scatterternary\"}], \"surface\": [{\"colorbar\": {\"outlinewidth\": 0, \"ticks\": \"\"}, \"colorscale\": [[0.0, \"#0d0887\"], [0.1111111111111111, \"#46039f\"], [0.2222222222222222, \"#7201a8\"], [0.3333333333333333, \"#9c179e\"], [0.4444444444444444, \"#bd3786\"], [0.5555555555555556, \"#d8576b\"], [0.6666666666666666, \"#ed7953\"], [0.7777777777777778, \"#fb9f3a\"], [0.8888888888888888, \"#fdca26\"], [1.0, \"#f0f921\"]], \"type\": \"surface\"}], \"table\": [{\"cells\": {\"fill\": {\"color\": \"#EBF0F8\"}, \"line\": {\"color\": \"white\"}}, \"header\": {\"fill\": {\"color\": \"#C8D4E3\"}, \"line\": {\"color\": \"white\"}}, \"type\": \"table\"}]}, \"layout\": {\"annotationdefaults\": {\"arrowcolor\": \"#2a3f5f\", \"arrowhead\": 0, \"arrowwidth\": 1}, \"colorscale\": {\"diverging\": [[0, \"#8e0152\"], [0.1, \"#c51b7d\"], [0.2, \"#de77ae\"], [0.3, \"#f1b6da\"], [0.4, \"#fde0ef\"], [0.5, \"#f7f7f7\"], [0.6, \"#e6f5d0\"], [0.7, \"#b8e186\"], [0.8, \"#7fbc41\"], [0.9, \"#4d9221\"], [1, \"#276419\"]], \"sequential\": [[0.0, \"#0d0887\"], [0.1111111111111111, \"#46039f\"], [0.2222222222222222, \"#7201a8\"], [0.3333333333333333, \"#9c179e\"], [0.4444444444444444, \"#bd3786\"], [0.5555555555555556, \"#d8576b\"], [0.6666666666666666, \"#ed7953\"], [0.7777777777777778, \"#fb9f3a\"], [0.8888888888888888, \"#fdca26\"], [1.0, \"#f0f921\"]], \"sequentialminus\": [[0.0, \"#0d0887\"], [0.1111111111111111, \"#46039f\"], [0.2222222222222222, \"#7201a8\"], [0.3333333333333333, \"#9c179e\"], [0.4444444444444444, \"#bd3786\"], [0.5555555555555556, \"#d8576b\"], [0.6666666666666666, \"#ed7953\"], [0.7777777777777778, \"#fb9f3a\"], [0.8888888888888888, \"#fdca26\"], [1.0, \"#f0f921\"]]}, \"colorway\": [\"#636efa\", \"#EF553B\", \"#00cc96\", \"#ab63fa\", \"#FFA15A\", \"#19d3f3\", \"#FF6692\", \"#B6E880\", \"#FF97FF\", \"#FECB52\"], \"font\": {\"color\": \"#2a3f5f\"}, \"geo\": {\"bgcolor\": \"white\", \"lakecolor\": \"white\", \"landcolor\": \"#E5ECF6\", \"showlakes\": true, \"showland\": true, \"subunitcolor\": \"white\"}, \"hoverlabel\": {\"align\": \"left\"}, \"hovermode\": \"closest\", \"mapbox\": {\"style\": \"light\"}, \"paper_bgcolor\": \"white\", \"plot_bgcolor\": \"#E5ECF6\", \"polar\": {\"angularaxis\": {\"gridcolor\": \"white\", \"linecolor\": \"white\", \"ticks\": \"\"}, \"bgcolor\": \"#E5ECF6\", \"radialaxis\": {\"gridcolor\": \"white\", \"linecolor\": \"white\", \"ticks\": \"\"}}, \"scene\": {\"xaxis\": {\"backgroundcolor\": \"#E5ECF6\", \"gridcolor\": \"white\", \"gridwidth\": 2, \"linecolor\": \"white\", \"showbackground\": true, \"ticks\": \"\", \"zerolinecolor\": \"white\"}, \"yaxis\": {\"backgroundcolor\": \"#E5ECF6\", \"gridcolor\": \"white\", \"gridwidth\": 2, \"linecolor\": \"white\", \"showbackground\": true, \"ticks\": \"\", \"zerolinecolor\": \"white\"}, \"zaxis\": {\"backgroundcolor\": \"#E5ECF6\", \"gridcolor\": \"white\", \"gridwidth\": 2, \"linecolor\": \"white\", \"showbackground\": true, \"ticks\": \"\", \"zerolinecolor\": \"white\"}}, \"shapedefaults\": {\"line\": {\"color\": \"#2a3f5f\"}}, \"ternary\": {\"aaxis\": {\"gridcolor\": \"white\", \"linecolor\": \"white\", \"ticks\": \"\"}, \"baxis\": {\"gridcolor\": \"white\", \"linecolor\": \"white\", \"ticks\": \"\"}, \"bgcolor\": \"#E5ECF6\", \"caxis\": {\"gridcolor\": \"white\", \"linecolor\": \"white\", \"ticks\": \"\"}}, \"title\": {\"x\": 0.05}, \"xaxis\": {\"automargin\": true, \"gridcolor\": \"white\", \"linecolor\": \"white\", \"ticks\": \"\", \"zerolinecolor\": \"white\", \"zerolinewidth\": 2}, \"yaxis\": {\"automargin\": true, \"gridcolor\": \"white\", \"linecolor\": \"white\", \"ticks\": \"\", \"zerolinecolor\": \"white\", \"zerolinewidth\": 2}}}, \"title\": {\"text\": \"Corona Virus, 2020-01-22\", \"x\": 0.5, \"xanchor\": \"center\", \"y\": 0.98, \"yanchor\": \"top\"}, \"updatemenus\": [{\"buttons\": [{\"args\": [null], \"label\": \"Play\", \"method\": \"animate\"}], \"type\": \"buttons\"}]},\n",
       "                        {\"responsive\": true}\n",
       "                    ).then(function(){\n",
       "                            Plotly.addFrames('820c2f44-c036-48ed-a2de-0c7971ceb800', [{\"data\": [{\"lat\": [32.0, 39.906217, 30.05518, 26.5450001, 38.0000001, 23.135769399999997, 24.0, 27.0, 19.2000001, 39.0000001, 48.000004700000005, 34.0000001, 22.2793278, 31.15172525, 27.999587800000004, 36.5748441, 33.0000001, 28.0, 42.9995032, 40.997519700000005, 22.175760500000003, 37.0000001, 36.0, 36.0000001, 31.232275800000004, 37.0, 30.500000099999998, 1.357107, 36.5581914, 23.973937399999997, 14.8971921, 39.1235635, 13.2904027, 38.894893200000006, 41.7574769, 25.0, 29.000000099999998], \"locationmode\": \"country names\", \"lon\": [117.0, 116.3912757, 107.8748712, 117.84277800000001, 101.9999999, 113.19826880000001, 109.0, 107.0, 109.5999999, 116.0, 127.99999199999999, 113.9999999, 114.16281310000001, 112.87832224656044, 112.00953799999999, 139.2394179, 119.9999999, 116.0, 125.9816054, 122.99554690000001, 113.5514142, 105.9999999, 109.0, 118.9999999, 121.4692071, 112.0, 102.4999999, 103.81949920000001, 127.9408564, 120.9820179, 100.83273, 117.1980785, 108.42651129999999, -77.0365529, 87.16738423046895, 102.0, 119.9999999], \"marker\": {\"autocolorscale\": false, \"cmax\": 350.0, \"cmin\": 0, \"color\": [0.0, 0.0, 0.0, 0.0, 0.0, 0.0, 0.0, 0.0, 0.0, 1.0, 0.0, 0.0, 0.0, 17.0, 0.0, 0.0, 0.0, 0.0, 0.0, 0.0, 0.0, 0.0, 0.0, 0.0, 0.0, 0.0, 0.0, 0.0, 0.0, 0.0, 0.0, 0.0, 0.0, 0.0, 0.0, 0.0, 0.0], \"colorbar\": {\"title\": {\"text\": \"Number of Deaths\"}}, \"line\": {\"color\": \"rgba(0, 0, 0)\", \"width\": 0.5}, \"reversescale\": true, \"size\": [5.256436683972135, 6.141908878443159, 5.256436683972135, 4.815004806125491, 4.29268464756894, 6.6096322232028495, 4.815004806125491, 4.502144029037208, 4.815004806125491, 4.0, 4.29268464756894, 4.815004806125491, 4.29268464756894, 12.561195780665512, 5.256436683972135, 4.0, 4.815004806125491, 5.0558871595781, 4.0, 4.502144029037208, 4.29268464756894, 4.0, 4.502144029037208, 4.94179852477375, 5.792353285846804, 4.0, 5.160119477784612, 4.0, 4.0, 4.0, 4.502144029037208, 4.671033598060435, 4.29268464756894, 4.0, 4.29268464756894, 4.29268464756894, 6.389492891729259]}, \"mode\": \"lines+markers\", \"text\": [\"China, Anhui-> Deaths: 0.0 Confirmed: 9.0\", \"China, Beijing-> Deaths: 0.0 Confirmed: 22.0\", \"China, Chongqing-> Deaths: 0.0 Confirmed: 9.0\", \"China, Fujian-> Deaths: 0.0 Confirmed: 5.0\", \"China, Gansu-> Deaths: 0.0 Confirmed: 2.0\", \"China, Guangdong-> Deaths: 0.0 Confirmed: 32.0\", \"China, Guangxi-> Deaths: 0.0 Confirmed: 5.0\", \"China, Guizhou-> Deaths: 0.0 Confirmed: 3.0\", \"China, Hainan-> Deaths: 0.0 Confirmed: 5.0\", \"China, Hebei-> Deaths: 1.0 Confirmed: 1.0\", \"China, Heilongjiang-> Deaths: 0.0 Confirmed: 2.0\", \"China, Henan-> Deaths: 0.0 Confirmed: 5.0\", \"Hong Kong, Hong Kong-> Deaths: 0.0 Confirmed: 2.0\", \"China, Hubei-> Deaths: 17.0 Confirmed: 444.0\", \"China, Hunan-> Deaths: 0.0 Confirmed: 9.0\", \"Japan, Japan-> Deaths: 0.0 Confirmed: 1.0\", \"China, Jiangsu-> Deaths: 0.0 Confirmed: 5.0\", \"China, Jiangxi-> Deaths: 0.0 Confirmed: 7.0\", \"China, Jilin-> Deaths: 0.0 Confirmed: 1.0\", \"China, Liaoning-> Deaths: 0.0 Confirmed: 3.0\", \"Macau, Macau-> Deaths: 0.0 Confirmed: 2.0\", \"China, Ningxia-> Deaths: 0.0 Confirmed: 1.0\", \"China, Shaanxi-> Deaths: 0.0 Confirmed: 3.0\", \"China, Shandong-> Deaths: 0.0 Confirmed: 6.0\", \"China, Shanghai-> Deaths: 0.0 Confirmed: 16.0\", \"China, Shanxi-> Deaths: 0.0 Confirmed: 1.0\", \"China, Sichuan-> Deaths: 0.0 Confirmed: 8.0\", \"Singapore, Singapore-> Deaths: 0.0 Confirmed: 1.0\", \"South Korea, South Korea-> Deaths: 0.0 Confirmed: 1.0\", \"Taiwan, Taiwan-> Deaths: 0.0 Confirmed: 1.0\", \"Thailand, Thailand-> Deaths: 0.0 Confirmed: 3.0\", \"China, Tianjin-> Deaths: 0.0 Confirmed: 4.0\", \"Vietnam, Vietnam-> Deaths: 0.0 Confirmed: 2.0\", \"US, Washington-> Deaths: 0.0 Confirmed: 1.0\", \"China, Xinjiang-> Deaths: 0.0 Confirmed: 2.0\", \"China, Yunnan-> Deaths: 0.0 Confirmed: 2.0\", \"China, Zhejiang-> Deaths: 0.0 Confirmed: 27.0\"], \"type\": \"scattergeo\"}], \"layout\": {\"title\": {\"text\": \"Corona Virus, 2020-01-23\", \"x\": 0.5, \"xanchor\": \"center\", \"y\": 0.98, \"yanchor\": \"top\"}}}, {\"data\": [{\"lat\": [32.0, 39.906217, 41.875561600000005, 30.05518, 46.603353999999996, 26.5450001, 38.0000001, 23.135769399999997, 24.0, 27.0, 19.2000001, 39.0000001, 48.000004700000005, 34.0000001, 22.2793278, 31.15172525, 27.999587800000004, 43.2443242, 36.5748441, 33.0000001, 28.0, 42.9995032, 40.997519700000005, 22.175760500000003, 37.0000001, 36.0, 36.0000001, 31.232275800000004, 37.0, 30.500000099999998, 1.357107, 36.5581914, 23.973937399999997, 14.8971921, 39.1235635, 13.2904027, 38.894893200000006, 41.7574769, 25.0, 29.000000099999998], \"locationmode\": \"country names\", \"lon\": [117.0, 116.3912757, -87.6244212, 107.8748712, 1.8883334999999999, 117.84277800000001, 101.9999999, 113.19826880000001, 109.0, 107.0, 109.5999999, 116.0, 127.99999199999999, 113.9999999, 114.16281310000001, 112.87832224656044, 112.00953799999999, 114.32516640000001, 139.2394179, 119.9999999, 116.0, 125.9816054, 122.99554690000001, 113.5514142, 105.9999999, 109.0, 118.9999999, 121.4692071, 112.0, 102.4999999, 103.81949920000001, 127.9408564, 120.9820179, 100.83273, 117.1980785, 108.42651129999999, -77.0365529, 87.16738423046895, 102.0, 119.9999999], \"marker\": {\"autocolorscale\": false, \"cmax\": 350.0, \"cmin\": 0, \"color\": [0.0, 0.0, 0.0, 0.0, 0.0, 0.0, 0.0, 0.0, 0.0, 0.0, 0.0, 1.0, 1.0, 0.0, 0.0, 24.0, 0.0, 0.0, 0.0, 0.0, 0.0, 0.0, 0.0, 0.0, 0.0, 0.0, 0.0, 0.0, 0.0, 0.0, 0.0, 0.0, 0.0, 0.0, 0.0, 0.0, 0.0, 0.0, 0.0, 0.0], \"colorbar\": {\"title\": {\"text\": \"Number of Deaths\"}}, \"line\": {\"color\": \"rgba(0, 0, 0)\", \"width\": 0.5}, \"reversescale\": true, \"size\": [5.726398632195241, 6.770581510813514, 4.0, 6.389492891729259, 4.29268464756894, 5.346228848142263, 4.29268464756894, 7.3513166893231405, 6.194064213635992, 4.502144029037208, 5.160119477784612, 4.29268464756894, 4.671033598060435, 5.256436683972135, 4.29268464756894, 13.343235758122242, 6.244810575561126, 4.0, 4.29268464756894, 5.256436683972135, 5.916861059582148, 4.502144029037208, 4.671033598060435, 4.29268464756894, 4.29268464756894, 4.815004806125491, 5.726398632195241, 6.032934011676862, 4.0, 5.726398632195241, 4.502144029037208, 4.29268464756894, 4.502144029037208, 4.815004806125491, 5.160119477784612, 4.29268464756894, 4.0, 4.29268464756894, 4.815004806125491, 7.0270620082926145]}, \"mode\": \"lines+markers\", \"text\": [\"China, Anhui-> Deaths: 0.0 Confirmed: 15.0\", \"China, Beijing-> Deaths: 0.0 Confirmed: 36.0\", \"US, Chicago-> Deaths: 0.0 Confirmed: 1.0\", \"China, Chongqing-> Deaths: 0.0 Confirmed: 27.0\", \"France, France-> Deaths: 0.0 Confirmed: 2.0\", \"China, Fujian-> Deaths: 0.0 Confirmed: 10.0\", \"China, Gansu-> Deaths: 0.0 Confirmed: 2.0\", \"China, Guangdong-> Deaths: 0.0 Confirmed: 53.0\", \"China, Guangxi-> Deaths: 0.0 Confirmed: 23.0\", \"China, Guizhou-> Deaths: 0.0 Confirmed: 3.0\", \"China, Hainan-> Deaths: 0.0 Confirmed: 8.0\", \"China, Hebei-> Deaths: 1.0 Confirmed: 2.0\", \"China, Heilongjiang-> Deaths: 1.0 Confirmed: 4.0\", \"China, Henan-> Deaths: 0.0 Confirmed: 9.0\", \"Hong Kong, Hong Kong-> Deaths: 0.0 Confirmed: 2.0\", \"China, Hubei-> Deaths: 24.0 Confirmed: 549.0\", \"China, Hunan-> Deaths: 0.0 Confirmed: 24.0\", \"China, Inner Mongolia-> Deaths: 0.0 Confirmed: 1.0\", \"Japan, Japan-> Deaths: 0.0 Confirmed: 2.0\", \"China, Jiangsu-> Deaths: 0.0 Confirmed: 9.0\", \"China, Jiangxi-> Deaths: 0.0 Confirmed: 18.0\", \"China, Jilin-> Deaths: 0.0 Confirmed: 3.0\", \"China, Liaoning-> Deaths: 0.0 Confirmed: 4.0\", \"Macau, Macau-> Deaths: 0.0 Confirmed: 2.0\", \"China, Ningxia-> Deaths: 0.0 Confirmed: 2.0\", \"China, Shaanxi-> Deaths: 0.0 Confirmed: 5.0\", \"China, Shandong-> Deaths: 0.0 Confirmed: 15.0\", \"China, Shanghai-> Deaths: 0.0 Confirmed: 20.0\", \"China, Shanxi-> Deaths: 0.0 Confirmed: 1.0\", \"China, Sichuan-> Deaths: 0.0 Confirmed: 15.0\", \"Singapore, Singapore-> Deaths: 0.0 Confirmed: 3.0\", \"South Korea, South Korea-> Deaths: 0.0 Confirmed: 2.0\", \"Taiwan, Taiwan-> Deaths: 0.0 Confirmed: 3.0\", \"Thailand, Thailand-> Deaths: 0.0 Confirmed: 5.0\", \"China, Tianjin-> Deaths: 0.0 Confirmed: 8.0\", \"Vietnam, Vietnam-> Deaths: 0.0 Confirmed: 2.0\", \"US, Washington-> Deaths: 0.0 Confirmed: 1.0\", \"China, Xinjiang-> Deaths: 0.0 Confirmed: 2.0\", \"China, Yunnan-> Deaths: 0.0 Confirmed: 5.0\", \"China, Zhejiang-> Deaths: 0.0 Confirmed: 43.0\"], \"type\": \"scattergeo\"}], \"layout\": {\"title\": {\"text\": \"Corona Virus, 2020-01-24\", \"x\": 0.5, \"xanchor\": \"center\", \"y\": 0.98, \"yanchor\": \"top\"}}}, {\"data\": [{\"lat\": [32.0, 39.906217, 30.05518, 46.603353999999996, 26.5450001, 38.0000001, 23.135769399999997, 24.0, 27.0, 19.2000001, 39.0000001, 48.000004700000005, 34.0000001, 22.2793278, 31.15172525, 27.999587800000004, 40.079660600000004, 43.2443242, 36.5748441, 33.0000001, 28.0, 42.9995032, 40.997519700000005, 22.175760500000003, 4.5693754, 28.108392900000002, 37.0000001, 35.40709525, 36.0, 36.0000001, 31.232275800000004, 37.0, 30.500000099999998, 1.357107, 36.5581914, 23.973937399999997, 14.8971921, 39.1235635, 13.2904027, 38.894893200000006, 41.7574769, 25.0, 29.000000099999998], \"locationmode\": \"country names\", \"lon\": [117.0, 116.3912757, 107.8748712, 1.8883334999999999, 117.84277800000001, 101.9999999, 113.19826880000001, 109.0, 107.0, 109.5999999, 116.0, 127.99999199999999, 113.9999999, 114.16281310000001, 112.87832224656044, 112.00953799999999, -89.4337288, 114.32516640000001, 139.2394179, 119.9999999, 116.0, 125.9816054, 122.99554690000001, 113.5514142, 102.2656823, 84.0917139, 105.9999999, 95.95211573241954, 109.0, 118.9999999, 121.4692071, 112.0, 102.4999999, 103.81949920000001, 127.9408564, 120.9820179, 100.83273, 117.1980785, 108.42651129999999, -77.0365529, 87.16738423046895, 102.0, 119.9999999], \"marker\": {\"autocolorscale\": false, \"cmax\": 350.0, \"cmin\": 0, \"color\": [0.0, 0.0, 0.0, 0.0, 1.0, 0.0, 0.0, 0.0, 0.0, 0.0, 1.0, 0.0, 1.0, 0.0, 52.0, 0.0, 0.0, 0.0, 0.0, 0.0, 0.0, 0.0, 0.0, 0.0, 0.0, 0.0, 0.0, 0.0, 0.0, 0.0, 1.0, 0.0, 0.0, 0.0, 0.0, 0.0, 0.0, 0.0, 0.0, 0.0, 0.0, 0.0, 0.0], \"colorbar\": {\"title\": {\"text\": \"Number of Deaths\"}}, \"line\": {\"color\": \"rgba(0, 0, 0)\", \"width\": 0.5}, \"reversescale\": true, \"size\": [7.555903716104263, 7.2897639830644705, 7.948426620848326, 4.502144029037208, 5.916861059582148, 5.0558871595781, 8.463754021408548, 6.6510061989273215, 4.815004806125491, 5.975859650018929, 5.585661160918501, 5.726398632195241, 8.137710912549311, 4.815004806125491, 16.16027876770024, 7.797944486874728, 4.0, 5.0558871595781, 4.29268464756894, 6.567435936849419, 6.770581510813514, 4.671033598060435, 5.975859650018929, 4.29268464756894, 4.502144029037208, 4.0, 4.671033598060435, 4.0, 5.726398632195241, 6.88403547398714, 6.920627233984357, 5.256436683972135, 7.06149737122402, 4.502144029037208, 4.502144029037208, 4.502144029037208, 5.0558871595781, 5.585661160918501, 4.29268464756894, 4.0, 4.671033598060435, 5.4305300479524705, 8.585337036651225]}, \"mode\": \"lines+markers\", \"text\": [\"China, Anhui-> Deaths: 0.0 Confirmed: 60.0\", \"China, Beijing-> Deaths: 0.0 Confirmed: 51.0\", \"China, Chongqing-> Deaths: 0.0 Confirmed: 75.0\", \"France, France-> Deaths: 0.0 Confirmed: 3.0\", \"China, Fujian-> Deaths: 1.0 Confirmed: 18.0\", \"China, Gansu-> Deaths: 0.0 Confirmed: 7.0\", \"China, Guangdong-> Deaths: 0.0 Confirmed: 98.0\", \"China, Guangxi-> Deaths: 0.0 Confirmed: 33.0\", \"China, Guizhou-> Deaths: 0.0 Confirmed: 5.0\", \"China, Hainan-> Deaths: 0.0 Confirmed: 19.0\", \"China, Hebei-> Deaths: 1.0 Confirmed: 13.0\", \"China, Heilongjiang-> Deaths: 0.0 Confirmed: 15.0\", \"China, Henan-> Deaths: 1.0 Confirmed: 83.0\", \"Hong Kong, Hong Kong-> Deaths: 0.0 Confirmed: 5.0\", \"China, Hubei-> Deaths: 52.0 Confirmed: 1052.0\", \"China, Hunan-> Deaths: 0.0 Confirmed: 69.0\", \"US, Illinois-> Deaths: 0.0 Confirmed: 1.0\", \"China, Inner Mongolia-> Deaths: 0.0 Confirmed: 7.0\", \"Japan, Japan-> Deaths: 0.0 Confirmed: 2.0\", \"China, Jiangsu-> Deaths: 0.0 Confirmed: 31.0\", \"China, Jiangxi-> Deaths: 0.0 Confirmed: 36.0\", \"China, Jilin-> Deaths: 0.0 Confirmed: 4.0\", \"China, Liaoning-> Deaths: 0.0 Confirmed: 19.0\", \"Macau, Macau-> Deaths: 0.0 Confirmed: 2.0\", \"Malaysia, Malaysia-> Deaths: 0.0 Confirmed: 3.0\", \"Nepal, Nepal-> Deaths: 0.0 Confirmed: 1.0\", \"China, Ningxia-> Deaths: 0.0 Confirmed: 4.0\", \"China, Qinghai-> Deaths: 0.0 Confirmed: 1.0\", \"China, Shaanxi-> Deaths: 0.0 Confirmed: 15.0\", \"China, Shandong-> Deaths: 0.0 Confirmed: 39.0\", \"China, Shanghai-> Deaths: 1.0 Confirmed: 40.0\", \"China, Shanxi-> Deaths: 0.0 Confirmed: 9.0\", \"China, Sichuan-> Deaths: 0.0 Confirmed: 44.0\", \"Singapore, Singapore-> Deaths: 0.0 Confirmed: 3.0\", \"South Korea, South Korea-> Deaths: 0.0 Confirmed: 3.0\", \"Taiwan, Taiwan-> Deaths: 0.0 Confirmed: 3.0\", \"Thailand, Thailand-> Deaths: 0.0 Confirmed: 7.0\", \"China, Tianjin-> Deaths: 0.0 Confirmed: 13.0\", \"Vietnam, Vietnam-> Deaths: 0.0 Confirmed: 2.0\", \"US, Washington-> Deaths: 0.0 Confirmed: 1.0\", \"China, Xinjiang-> Deaths: 0.0 Confirmed: 4.0\", \"China, Yunnan-> Deaths: 0.0 Confirmed: 11.0\", \"China, Zhejiang-> Deaths: 0.0 Confirmed: 104.0\"], \"type\": \"scattergeo\"}], \"layout\": {\"title\": {\"text\": \"Corona Virus, 2020-01-25\", \"x\": 0.5, \"xanchor\": \"center\", \"y\": 0.98, \"yanchor\": \"top\"}}}, {\"data\": [{\"lat\": [32.0, 34.395342, 39.906217, 36.7014631, 30.05518, 46.603353999999996, 26.5450001, 38.0000001, 23.135769399999997, 24.0, 27.0, 19.2000001, 39.0000001, 48.000004700000005, 34.0000001, 22.2793278, 31.15172525, 27.999587800000004, 40.079660600000004, 43.2443242, 36.5748441, 33.0000001, 28.0, 42.9995032, 40.997519700000005, 22.175760500000003, 4.5693754, 28.108392900000002, 37.0000001, 50.000678, 35.40709525, 36.0, 36.0000001, 31.232275800000004, 37.0, 30.500000099999998, 1.357107, 36.5581914, 23.973937399999997, 14.8971921, 39.1235635, 13.2904027, 38.894893200000006, 41.7574769, 25.0, 29.000000099999998], \"locationmode\": \"country names\", \"lon\": [117.0, -111.76327549999999, 116.3912757, -118.75599740000001, 107.8748712, 1.8883334999999999, 117.84277800000001, 101.9999999, 113.19826880000001, 109.0, 107.0, 109.5999999, 116.0, 127.99999199999999, 113.9999999, 114.16281310000001, 112.87832224656044, 112.00953799999999, -89.4337288, 114.32516640000001, 139.2394179, 119.9999999, 116.0, 125.9816054, 122.99554690000001, 113.5514142, 102.2656823, 84.0917139, 105.9999999, -86.000977, 95.95211573241954, 109.0, 118.9999999, 121.4692071, 112.0, 102.4999999, 103.81949920000001, 127.9408564, 120.9820179, 100.83273, 117.1980785, 108.42651129999999, -77.0365529, 87.16738423046895, 102.0, 119.9999999], \"marker\": {\"autocolorscale\": false, \"cmax\": 350.0, \"cmin\": 0, \"color\": [0.0, 0.0, 0.0, 0.0, 0.0, 0.0, 0.0, 0.0, 0.0, 0.0, 0.0, 0.0, 1.0, 1.0, 1.0, 0.0, 76.0, 0.0, 0.0, 0.0, 0.0, 0.0, 0.0, 0.0, 0.0, 0.0, 0.0, 0.0, 0.0, 0.0, 0.0, 0.0, 0.0, 1.0, 0.0, 0.0, 0.0, 0.0, 0.0, 0.0, 0.0, 0.0, 0.0, 0.0, 0.0, 0.0], \"colorbar\": {\"title\": {\"text\": \"Number of Deaths\"}}, \"line\": {\"color\": \"rgba(0, 0, 0)\", \"width\": 0.5}, \"reversescale\": true, \"size\": [7.823581762327395, 4.0, 7.7720721880742705, 4.29268464756894, 8.702579714782685, 4.502144029037208, 6.731445075485936, 5.657613768320726, 9.333039092007414, 7.128917772316606, 5.0558871595781, 6.141908878443159, 5.916861059582148, 6.088238621134508, 9.031816721613545, 5.160119477784612, 17.718164978409675, 8.50478980785497, 4.0, 5.4305300479524705, 4.671033598060435, 7.161937009665921, 7.194516815297205, 4.94179852477375, 6.194064213635992, 4.94179852477375, 4.671033598060435, 4.0, 4.671033598060435, 4.0, 4.671033598060435, 6.141908878443159, 7.638979204979299, 7.3513166893231405, 5.585661160918501, 7.797944486874728, 4.671033598060435, 4.502144029037208, 4.671033598060435, 5.160119477784612, 5.657613768320726, 4.29268464756894, 4.0, 4.815004806125491, 5.975859650018929, 9.031816721613545]}, \"mode\": \"lines+markers\", \"text\": [\"China, Anhui-> Deaths: 0.0 Confirmed: 70.0\", \"US, Arizona-> Deaths: 0.0 Confirmed: 1.0\", \"China, Beijing-> Deaths: 0.0 Confirmed: 68.0\", \"US, California-> Deaths: 0.0 Confirmed: 2.0\", \"China, Chongqing-> Deaths: 0.0 Confirmed: 110.0\", \"France, France-> Deaths: 0.0 Confirmed: 3.0\", \"China, Fujian-> Deaths: 0.0 Confirmed: 35.0\", \"China, Gansu-> Deaths: 0.0 Confirmed: 14.0\", \"China, Guangdong-> Deaths: 0.0 Confirmed: 146.0\", \"China, Guangxi-> Deaths: 0.0 Confirmed: 46.0\", \"China, Guizhou-> Deaths: 0.0 Confirmed: 7.0\", \"China, Hainan-> Deaths: 0.0 Confirmed: 22.0\", \"China, Hebei-> Deaths: 1.0 Confirmed: 18.0\", \"China, Heilongjiang-> Deaths: 1.0 Confirmed: 21.0\", \"China, Henan-> Deaths: 1.0 Confirmed: 128.0\", \"Hong Kong, Hong Kong-> Deaths: 0.0 Confirmed: 8.0\", \"China, Hubei-> Deaths: 76.0 Confirmed: 1423.0\", \"China, Hunan-> Deaths: 0.0 Confirmed: 100.0\", \"US, Illinois-> Deaths: 0.0 Confirmed: 1.0\", \"China, Inner Mongolia-> Deaths: 0.0 Confirmed: 11.0\", \"Japan, Japan-> Deaths: 0.0 Confirmed: 4.0\", \"China, Jiangsu-> Deaths: 0.0 Confirmed: 47.0\", \"China, Jiangxi-> Deaths: 0.0 Confirmed: 48.0\", \"China, Jilin-> Deaths: 0.0 Confirmed: 6.0\", \"China, Liaoning-> Deaths: 0.0 Confirmed: 23.0\", \"Macau, Macau-> Deaths: 0.0 Confirmed: 6.0\", \"Malaysia, Malaysia-> Deaths: 0.0 Confirmed: 4.0\", \"Nepal, Nepal-> Deaths: 0.0 Confirmed: 1.0\", \"China, Ningxia-> Deaths: 0.0 Confirmed: 4.0\", \"Canada, Ontario-> Deaths: 0.0 Confirmed: 1.0\", \"China, Qinghai-> Deaths: 0.0 Confirmed: 4.0\", \"China, Shaanxi-> Deaths: 0.0 Confirmed: 22.0\", \"China, Shandong-> Deaths: 0.0 Confirmed: 63.0\", \"China, Shanghai-> Deaths: 1.0 Confirmed: 53.0\", \"China, Shanxi-> Deaths: 0.0 Confirmed: 13.0\", \"China, Sichuan-> Deaths: 0.0 Confirmed: 69.0\", \"Singapore, Singapore-> Deaths: 0.0 Confirmed: 4.0\", \"South Korea, South Korea-> Deaths: 0.0 Confirmed: 3.0\", \"Taiwan, Taiwan-> Deaths: 0.0 Confirmed: 4.0\", \"Thailand, Thailand-> Deaths: 0.0 Confirmed: 8.0\", \"China, Tianjin-> Deaths: 0.0 Confirmed: 14.0\", \"Vietnam, Vietnam-> Deaths: 0.0 Confirmed: 2.0\", \"US, Washington-> Deaths: 0.0 Confirmed: 1.0\", \"China, Xinjiang-> Deaths: 0.0 Confirmed: 5.0\", \"China, Yunnan-> Deaths: 0.0 Confirmed: 19.0\", \"China, Zhejiang-> Deaths: 0.0 Confirmed: 128.0\"], \"type\": \"scattergeo\"}], \"layout\": {\"title\": {\"text\": \"Corona Virus, 2020-01-26\", \"x\": 0.5, \"xanchor\": \"center\", \"y\": 0.98, \"yanchor\": \"top\"}}}, {\"data\": [{\"lat\": [32.0, 34.395342, 48.9467562, 39.906217, 36.7014631, 13.5066394, 30.05518, 46.603353999999996, 26.5450001, 38.0000001, 23.135769399999997, 24.0, 27.0, 19.2000001, 39.0000001, 48.000004700000005, 34.0000001, 22.2793278, 31.15172525, 27.999587800000004, 40.079660600000004, 43.2443242, 36.5748441, 33.0000001, 28.0, 42.9995032, 40.997519700000005, 22.175760500000003, 4.5693754, 28.108392900000002, -31.875983500000004, 37.0000001, 50.000678, 35.40709525, 36.0, 36.0000001, 31.232275800000004, 37.0, 30.500000099999998, 1.357107, 36.5581914, 7.555494199999999, 23.973937399999997, 14.8971921, 39.1235635, -36.5986096, 13.2904027, 38.894893200000006, 41.7574769, 25.0, 29.000000099999998], \"locationmode\": \"country names\", \"lon\": [117.0, -111.76327549999999, 11.4038717, 116.3912757, -118.75599740000001, 104.869423, 107.8748712, 1.8883334999999999, 117.84277800000001, 101.9999999, 113.19826880000001, 109.0, 107.0, 109.5999999, 116.0, 127.99999199999999, 113.9999999, 114.16281310000001, 112.87832224656044, 112.00953799999999, -89.4337288, 114.32516640000001, 139.2394179, 119.9999999, 116.0, 125.9816054, 122.99554690000001, 113.5514142, 102.2656823, 84.0917139, 147.2869493, 105.9999999, -86.000977, 95.95211573241954, 109.0, 118.9999999, 121.4692071, 112.0, 102.4999999, 103.81949920000001, 127.9408564, 80.7137847, 120.9820179, 100.83273, 117.1980785, 144.6780052, 108.42651129999999, -77.0365529, 87.16738423046895, 102.0, 119.9999999], \"marker\": {\"autocolorscale\": false, \"cmax\": 350.0, \"cmin\": 0, \"color\": [0.0, 0.0, 0.0, 1.0, 0.0, 0.0, 0.0, 0.0, 0.0, 0.0, 0.0, 0.0, 0.0, 1.0, 1.0, 1.0, 1.0, 0.0, 100.0, 0.0, 0.0, 0.0, 0.0, 0.0, 0.0, 0.0, 0.0, 0.0, 0.0, 0.0, 0.0, 0.0, 0.0, 0.0, 0.0, 1.0, 1.0, 0.0, 0.0, 0.0, 0.0, 0.0, 0.0, 0.0, 0.0, 0.0, 0.0, 0.0, 0.0, 0.0, 0.0], \"colorbar\": {\"title\": {\"text\": \"Number of Deaths\"}}, \"line\": {\"color\": \"rgba(0, 0, 0)\", \"width\": 0.5}, \"reversescale\": true, \"size\": [8.624880280998532, 4.0, 4.0, 8.068134634212257, 4.29268464756894, 4.0, 9.100954025134477, 4.502144029037208, 7.527631944695398, 5.975859650018929, 9.412516550145508, 7.2897639830644705, 5.256436683972135, 6.6510061989273215, 6.6510061989273215, 6.524373654991745, 9.670964397559343, 5.160119477784612, 21.694220002961224, 8.50478980785497, 4.0, 5.4305300479524705, 4.671033598060435, 7.823581762327395, 7.8741728314359305, 4.94179852477375, 6.389492891729259, 4.94179852477375, 4.671033598060435, 4.0, 4.671033598060435, 5.0558871595781, 4.0, 4.94179852477375, 6.731445075485936, 8.228058805837552, 7.719599661532381, 6.032934011676862, 8.29411684194189, 4.815004806125491, 4.671033598060435, 4.0, 4.815004806125491, 5.160119477784612, 6.194064213635992, 4.0, 4.29268464756894, 4.0, 4.815004806125491, 6.34244448653463, 9.743819909152371]}, \"mode\": \"lines+markers\", \"text\": [\"China, Anhui-> Deaths: 0.0 Confirmed: 106.0\", \"US, Arizona-> Deaths: 0.0 Confirmed: 1.0\", \"Germany, Bavaria-> Deaths: 0.0 Confirmed: 1.0\", \"China, Beijing-> Deaths: 1.0 Confirmed: 80.0\", \"US, California-> Deaths: 0.0 Confirmed: 2.0\", \"Cambodia, Cambodia-> Deaths: 0.0 Confirmed: 1.0\", \"China, Chongqing-> Deaths: 0.0 Confirmed: 132.0\", \"France, France-> Deaths: 0.0 Confirmed: 3.0\", \"China, Fujian-> Deaths: 0.0 Confirmed: 59.0\", \"China, Gansu-> Deaths: 0.0 Confirmed: 19.0\", \"China, Guangdong-> Deaths: 0.0 Confirmed: 151.0\", \"China, Guangxi-> Deaths: 0.0 Confirmed: 51.0\", \"China, Guizhou-> Deaths: 0.0 Confirmed: 9.0\", \"China, Hainan-> Deaths: 1.0 Confirmed: 33.0\", \"China, Hebei-> Deaths: 1.0 Confirmed: 33.0\", \"China, Heilongjiang-> Deaths: 1.0 Confirmed: 30.0\", \"China, Henan-> Deaths: 1.0 Confirmed: 168.0\", \"Hong Kong, Hong Kong-> Deaths: 0.0 Confirmed: 8.0\", \"China, Hubei-> Deaths: 100.0 Confirmed: 2714.0\", \"China, Hunan-> Deaths: 0.0 Confirmed: 100.0\", \"US, Illinois-> Deaths: 0.0 Confirmed: 1.0\", \"China, Inner Mongolia-> Deaths: 0.0 Confirmed: 11.0\", \"Japan, Japan-> Deaths: 0.0 Confirmed: 4.0\", \"China, Jiangsu-> Deaths: 0.0 Confirmed: 70.0\", \"China, Jiangxi-> Deaths: 0.0 Confirmed: 72.0\", \"China, Jilin-> Deaths: 0.0 Confirmed: 6.0\", \"China, Liaoning-> Deaths: 0.0 Confirmed: 27.0\", \"Macau, Macau-> Deaths: 0.0 Confirmed: 6.0\", \"Malaysia, Malaysia-> Deaths: 0.0 Confirmed: 4.0\", \"Nepal, Nepal-> Deaths: 0.0 Confirmed: 1.0\", \"Australia, New South Wales-> Deaths: 0.0 Confirmed: 4.0\", \"China, Ningxia-> Deaths: 0.0 Confirmed: 7.0\", \"Canada, Ontario-> Deaths: 0.0 Confirmed: 1.0\", \"China, Qinghai-> Deaths: 0.0 Confirmed: 6.0\", \"China, Shaanxi-> Deaths: 0.0 Confirmed: 35.0\", \"China, Shandong-> Deaths: 1.0 Confirmed: 87.0\", \"China, Shanghai-> Deaths: 1.0 Confirmed: 66.0\", \"China, Shanxi-> Deaths: 0.0 Confirmed: 20.0\", \"China, Sichuan-> Deaths: 0.0 Confirmed: 90.0\", \"Singapore, Singapore-> Deaths: 0.0 Confirmed: 5.0\", \"South Korea, South Korea-> Deaths: 0.0 Confirmed: 4.0\", \"Sri Lanka, Sri Lanka-> Deaths: 0.0 Confirmed: 1.0\", \"Taiwan, Taiwan-> Deaths: 0.0 Confirmed: 5.0\", \"Thailand, Thailand-> Deaths: 0.0 Confirmed: 8.0\", \"China, Tianjin-> Deaths: 0.0 Confirmed: 23.0\", \"Australia, Victoria-> Deaths: 0.0 Confirmed: 1.0\", \"Vietnam, Vietnam-> Deaths: 0.0 Confirmed: 2.0\", \"US, Washington-> Deaths: 0.0 Confirmed: 1.0\", \"China, Xinjiang-> Deaths: 0.0 Confirmed: 5.0\", \"China, Yunnan-> Deaths: 0.0 Confirmed: 26.0\", \"China, Zhejiang-> Deaths: 0.0 Confirmed: 173.0\"], \"type\": \"scattergeo\"}], \"layout\": {\"title\": {\"text\": \"Corona Virus, 2020-01-27\", \"x\": 0.5, \"xanchor\": \"center\", \"y\": 0.98, \"yanchor\": \"top\"}}}, {\"data\": [{\"lat\": [32.0, 34.395342, 48.9467562, 39.906217, 55.001251, 36.7014631, 13.5066394, 30.05518, 46.603353999999996, 26.5450001, 38.0000001, 23.135769399999997, 24.0, 27.0, 19.2000001, 39.0000001, 48.000004700000005, 34.0000001, 22.2793278, 31.15172525, 27.999587800000004, 40.079660600000004, 43.2443242, 36.5748441, 33.0000001, 28.0, 42.9995032, 40.997519700000005, 22.175760500000003, 4.5693754, 28.108392900000002, -31.875983500000004, 37.0000001, 50.000678, 35.40709525, 36.0, 36.0000001, 31.232275800000004, 37.0, 30.500000099999998, 1.357107, 36.5581914, 7.555494199999999, 23.973937399999997, 14.8971921, 39.1235635, -36.5986096, 13.2904027, 38.894893200000006, 41.7574769, 25.0, 29.000000099999998], \"locationmode\": \"country names\", \"lon\": [117.0, -111.76327549999999, 11.4038717, 116.3912757, -125.00244099999999, -118.75599740000001, 104.869423, 107.8748712, 1.8883334999999999, 117.84277800000001, 101.9999999, 113.19826880000001, 109.0, 107.0, 109.5999999, 116.0, 127.99999199999999, 113.9999999, 114.16281310000001, 112.87832224656044, 112.00953799999999, -89.4337288, 114.32516640000001, 139.2394179, 119.9999999, 116.0, 125.9816054, 122.99554690000001, 113.5514142, 102.2656823, 84.0917139, 147.2869493, 105.9999999, -86.000977, 95.95211573241954, 109.0, 118.9999999, 121.4692071, 112.0, 102.4999999, 103.81949920000001, 127.9408564, 80.7137847, 120.9820179, 100.83273, 117.1980785, 144.6780052, 108.42651129999999, -77.0365529, 87.16738423046895, 102.0, 119.9999999], \"marker\": {\"autocolorscale\": false, \"cmax\": 350.0, \"cmin\": 0, \"color\": [0.0, 0.0, 0.0, 1.0, 0.0, 0.0, 0.0, 0.0, 0.0, 0.0, 0.0, 0.0, 0.0, 0.0, 1.0, 1.0, 1.0, 2.0, 0.0, 125.0, 0.0, 0.0, 0.0, 0.0, 0.0, 0.0, 0.0, 0.0, 0.0, 0.0, 0.0, 0.0, 0.0, 0.0, 0.0, 0.0, 0.0, 1.0, 0.0, 0.0, 0.0, 0.0, 0.0, 0.0, 0.0, 0.0, 0.0, 0.0, 0.0, 0.0, 0.0, 0.0], \"colorbar\": {\"title\": {\"text\": \"Number of Deaths\"}}, \"line\": {\"color\": \"rgba(0, 0, 0)\", \"width\": 0.5}, \"reversescale\": true, \"size\": [9.428212393159187, 4.0, 4.671033598060435, 8.315827579752149, 4.0, 4.29268464756894, 4.0, 9.34907012690361, 4.671033598060435, 8.11469740720754, 6.244810575561126, 10.624801365006507, 7.49905683093882, 5.256436683972135, 7.0270620082926145, 7.194516815297205, 6.809039298366404, 10.19428866251348, 5.160119477784612, 23.657631556659094, 10.384029697622363, 4.0, 5.792353285846804, 5.0558871595781, 8.484337161696507, 8.683323885459039, 5.256436683972135, 6.770581510813514, 5.0558871595781, 5.0558871595781, 4.0, 4.671033598060435, 5.510133141647044, 4.0, 4.94179852477375, 7.440961897531936, 8.90747631399984, 8.068134634212257, 6.389492891729259, 8.663956502466613, 5.0558871595781, 4.671033598060435, 4.0, 5.160119477784612, 5.657613768320726, 6.294242446258631, 4.0, 4.29268464756894, 4.0, 5.585661160918501, 7.06149737122402, 11.227979980048302]}, \"mode\": \"lines+markers\", \"text\": [\"China, Anhui-> Deaths: 0.0 Confirmed: 152.0\", \"US, Arizona-> Deaths: 0.0 Confirmed: 1.0\", \"Germany, Bavaria-> Deaths: 0.0 Confirmed: 4.0\", \"China, Beijing-> Deaths: 1.0 Confirmed: 91.0\", \"Canada, British Columbia-> Deaths: 0.0 Confirmed: 1.0\", \"US, California-> Deaths: 0.0 Confirmed: 2.0\", \"Cambodia, Cambodia-> Deaths: 0.0 Confirmed: 1.0\", \"China, Chongqing-> Deaths: 0.0 Confirmed: 147.0\", \"France, France-> Deaths: 0.0 Confirmed: 4.0\", \"China, Fujian-> Deaths: 0.0 Confirmed: 82.0\", \"China, Gansu-> Deaths: 0.0 Confirmed: 24.0\", \"China, Guangdong-> Deaths: 0.0 Confirmed: 241.0\", \"China, Guangxi-> Deaths: 0.0 Confirmed: 58.0\", \"China, Guizhou-> Deaths: 0.0 Confirmed: 9.0\", \"China, Hainan-> Deaths: 1.0 Confirmed: 43.0\", \"China, Hebei-> Deaths: 1.0 Confirmed: 48.0\", \"China, Heilongjiang-> Deaths: 1.0 Confirmed: 37.0\", \"China, Henan-> Deaths: 2.0 Confirmed: 206.0\", \"Hong Kong, Hong Kong-> Deaths: 0.0 Confirmed: 8.0\", \"China, Hubei-> Deaths: 125.0 Confirmed: 3554.0\", \"China, Hunan-> Deaths: 0.0 Confirmed: 221.0\", \"US, Illinois-> Deaths: 0.0 Confirmed: 1.0\", \"China, Inner Mongolia-> Deaths: 0.0 Confirmed: 16.0\", \"Japan, Japan-> Deaths: 0.0 Confirmed: 7.0\", \"China, Jiangsu-> Deaths: 0.0 Confirmed: 99.0\", \"China, Jiangxi-> Deaths: 0.0 Confirmed: 109.0\", \"China, Jilin-> Deaths: 0.0 Confirmed: 9.0\", \"China, Liaoning-> Deaths: 0.0 Confirmed: 36.0\", \"Macau, Macau-> Deaths: 0.0 Confirmed: 7.0\", \"Malaysia, Malaysia-> Deaths: 0.0 Confirmed: 7.0\", \"Nepal, Nepal-> Deaths: 0.0 Confirmed: 1.0\", \"Australia, New South Wales-> Deaths: 0.0 Confirmed: 4.0\", \"China, Ningxia-> Deaths: 0.0 Confirmed: 12.0\", \"Canada, Ontario-> Deaths: 0.0 Confirmed: 1.0\", \"China, Qinghai-> Deaths: 0.0 Confirmed: 6.0\", \"China, Shaanxi-> Deaths: 0.0 Confirmed: 56.0\", \"China, Shandong-> Deaths: 0.0 Confirmed: 121.0\", \"China, Shanghai-> Deaths: 1.0 Confirmed: 80.0\", \"China, Shanxi-> Deaths: 0.0 Confirmed: 27.0\", \"China, Sichuan-> Deaths: 0.0 Confirmed: 108.0\", \"Singapore, Singapore-> Deaths: 0.0 Confirmed: 7.0\", \"South Korea, South Korea-> Deaths: 0.0 Confirmed: 4.0\", \"Sri Lanka, Sri Lanka-> Deaths: 0.0 Confirmed: 1.0\", \"Taiwan, Taiwan-> Deaths: 0.0 Confirmed: 8.0\", \"Thailand, Thailand-> Deaths: 0.0 Confirmed: 14.0\", \"China, Tianjin-> Deaths: 0.0 Confirmed: 25.0\", \"Australia, Victoria-> Deaths: 0.0 Confirmed: 1.0\", \"Vietnam, Vietnam-> Deaths: 0.0 Confirmed: 2.0\", \"US, Washington-> Deaths: 0.0 Confirmed: 1.0\", \"China, Xinjiang-> Deaths: 0.0 Confirmed: 13.0\", \"China, Yunnan-> Deaths: 0.0 Confirmed: 44.0\", \"China, Zhejiang-> Deaths: 0.0 Confirmed: 296.0\"], \"type\": \"scattergeo\"}], \"layout\": {\"title\": {\"text\": \"Corona Virus, 2020-01-28\", \"x\": 0.5, \"xanchor\": \"center\", \"y\": 0.98, \"yanchor\": \"top\"}}}, {\"data\": [{\"lat\": [32.0, 34.395342, 48.9467562, 39.906217, 55.001251, 36.7014631, 13.5066394, 30.05518, 63.2467777, 46.603353999999996, 26.5450001, 38.0000001, 23.135769399999997, 24.0, 27.0, 19.2000001, 39.0000001, 48.000004700000005, 34.0000001, 22.2793278, 31.15172525, 27.999587800000004, 40.079660600000004, 43.2443242, 36.5748441, 33.0000001, 28.0, 42.9995032, 40.997519700000005, 22.175760500000003, 4.5693754, 28.108392900000002, -31.875983500000004, 37.0000001, 50.000678, 35.40709525, -22.1646782, 36.0, 36.0000001, 31.232275800000004, 37.0, 30.500000099999998, 1.357107, 36.5581914, 7.555494199999999, 23.973937399999997, 14.8971921, 39.1235635, 31.89434315, 24.0002488, -36.5986096, 13.2904027, 38.894893200000006, 41.7574769, 25.0, 29.000000099999998], \"locationmode\": \"country names\", \"lon\": [117.0, -111.76327549999999, 11.4038717, 116.3912757, -125.00244099999999, -118.75599740000001, 104.869423, 107.8748712, 25.9209164, 1.8883334999999999, 117.84277800000001, 101.9999999, 113.19826880000001, 109.0, 107.0, 109.5999999, 116.0, 127.99999199999999, 113.9999999, 114.16281310000001, 112.87832224656044, 112.00953799999999, -89.4337288, 114.32516640000001, 139.2394179, 119.9999999, 116.0, 125.9816054, 122.99554690000001, 113.5514142, 102.2656823, 84.0917139, 147.2869493, 105.9999999, -86.000977, 95.95211573241954, 144.58449030000003, 109.0, 118.9999999, 121.4692071, 112.0, 102.4999999, 103.81949920000001, 127.9408564, 80.7137847, 120.9820179, 100.83273, 117.1980785, 87.07813712706509, 53.999482900000004, 144.6780052, 108.42651129999999, -77.0365529, 87.16738423046895, 102.0, 119.9999999], \"marker\": {\"autocolorscale\": false, \"cmax\": 350.0, \"cmin\": 0, \"color\": [0.0, 0.0, 0.0, 1.0, 0.0, 0.0, 0.0, 0.0, 0.0, 0.0, 0.0, 0.0, 0.0, 0.0, 0.0, 1.0, 1.0, 1.0, 2.0, 0.0, 162.0, 0.0, 0.0, 0.0, 0.0, 0.0, 0.0, 0.0, 0.0, 0.0, 0.0, 0.0, 0.0, 0.0, 0.0, 0.0, 0.0, 0.0, 0.0, 1.0, 0.0, 1.0, 0.0, 0.0, 0.0, 0.0, 0.0, 0.0, 0.0, 0.0, 0.0, 0.0, 0.0, 0.0, 0.0, 0.0], \"colorbar\": {\"title\": {\"text\": \"Number of Deaths\"}}, \"line\": {\"color\": \"rgba(0, 0, 0)\", \"width\": 0.5}, \"reversescale\": true, \"size\": [10.115957272708098, 4.0, 4.671033598060435, 8.721725638409168, 4.0, 4.29268464756894, 4.0, 9.626593798247049, 4.0, 4.815004806125491, 8.525114079844972, 6.34244448653463, 11.38001099657052, 8.020833027836328, 5.510133141647044, 7.0270620082926145, 7.692987434079096, 7.0270620082926145, 11.038995328023105, 5.346228848142263, 25.703179629243312, 11.02827308350268, 4.0, 5.792353285846804, 5.4305300479524705, 9.049227150319336, 9.581712296890988, 5.657613768320726, 6.88403547398714, 5.0558871595781, 5.0558871595781, 4.0, 4.671033598060435, 5.510133141647044, 4.29268464756894, 4.94179852477375, 4.0, 7.440961897531936, 9.316938772764521, 8.525114079844972, 6.731445075485936, 9.268214233380256, 5.346228848142263, 4.671033598060435, 4.0, 5.160119477784612, 5.657613768320726, 6.389492891729259, 4.0, 4.671033598060435, 4.29268464756894, 4.29268464756894, 4.0, 5.657613768320726, 7.411423718466154, 12.43210883489381]}, \"mode\": \"lines+markers\", \"text\": [\"China, Anhui-> Deaths: 0.0 Confirmed: 200.0\", \"US, Arizona-> Deaths: 0.0 Confirmed: 1.0\", \"Germany, Bavaria-> Deaths: 0.0 Confirmed: 4.0\", \"China, Beijing-> Deaths: 1.0 Confirmed: 111.0\", \"Canada, British Columbia-> Deaths: 0.0 Confirmed: 1.0\", \"US, California-> Deaths: 0.0 Confirmed: 2.0\", \"Cambodia, Cambodia-> Deaths: 0.0 Confirmed: 1.0\", \"China, Chongqing-> Deaths: 0.0 Confirmed: 165.0\", \"Finland, Finland-> Deaths: 0.0 Confirmed: 1.0\", \"France, France-> Deaths: 0.0 Confirmed: 5.0\", \"China, Fujian-> Deaths: 0.0 Confirmed: 101.0\", \"China, Gansu-> Deaths: 0.0 Confirmed: 26.0\", \"China, Guangdong-> Deaths: 0.0 Confirmed: 311.0\", \"China, Guangxi-> Deaths: 0.0 Confirmed: 78.0\", \"China, Guizhou-> Deaths: 0.0 Confirmed: 12.0\", \"China, Hainan-> Deaths: 1.0 Confirmed: 43.0\", \"China, Hebei-> Deaths: 1.0 Confirmed: 65.0\", \"China, Heilongjiang-> Deaths: 1.0 Confirmed: 43.0\", \"China, Henan-> Deaths: 2.0 Confirmed: 278.0\", \"Hong Kong, Hong Kong-> Deaths: 0.0 Confirmed: 10.0\", \"China, Hubei-> Deaths: 162.0 Confirmed: 4586.0\", \"China, Hunan-> Deaths: 0.0 Confirmed: 277.0\", \"US, Illinois-> Deaths: 0.0 Confirmed: 1.0\", \"China, Inner Mongolia-> Deaths: 0.0 Confirmed: 16.0\", \"Japan, Japan-> Deaths: 0.0 Confirmed: 11.0\", \"China, Jiangsu-> Deaths: 0.0 Confirmed: 129.0\", \"China, Jiangxi-> Deaths: 0.0 Confirmed: 162.0\", \"China, Jilin-> Deaths: 0.0 Confirmed: 14.0\", \"China, Liaoning-> Deaths: 0.0 Confirmed: 39.0\", \"Macau, Macau-> Deaths: 0.0 Confirmed: 7.0\", \"Malaysia, Malaysia-> Deaths: 0.0 Confirmed: 7.0\", \"Nepal, Nepal-> Deaths: 0.0 Confirmed: 1.0\", \"Australia, New South Wales-> Deaths: 0.0 Confirmed: 4.0\", \"China, Ningxia-> Deaths: 0.0 Confirmed: 12.0\", \"Canada, Ontario-> Deaths: 0.0 Confirmed: 2.0\", \"China, Qinghai-> Deaths: 0.0 Confirmed: 6.0\", \"Australia, Queensland-> Deaths: 0.0 Confirmed: 1.0\", \"China, Shaanxi-> Deaths: 0.0 Confirmed: 56.0\", \"China, Shandong-> Deaths: 0.0 Confirmed: 145.0\", \"China, Shanghai-> Deaths: 1.0 Confirmed: 101.0\", \"China, Shanxi-> Deaths: 0.0 Confirmed: 35.0\", \"China, Sichuan-> Deaths: 1.0 Confirmed: 142.0\", \"Singapore, Singapore-> Deaths: 0.0 Confirmed: 10.0\", \"South Korea, South Korea-> Deaths: 0.0 Confirmed: 4.0\", \"Sri Lanka, Sri Lanka-> Deaths: 0.0 Confirmed: 1.0\", \"Taiwan, Taiwan-> Deaths: 0.0 Confirmed: 8.0\", \"Thailand, Thailand-> Deaths: 0.0 Confirmed: 14.0\", \"China, Tianjin-> Deaths: 0.0 Confirmed: 27.0\", \"China, Tibet-> Deaths: 0.0 Confirmed: 1.0\", \"United Arab Emirates, United Arab Emirates-> Deaths: 0.0 Confirmed: 4.0\", \"Australia, Victoria-> Deaths: 0.0 Confirmed: 2.0\", \"Vietnam, Vietnam-> Deaths: 0.0 Confirmed: 2.0\", \"US, Washington-> Deaths: 0.0 Confirmed: 1.0\", \"China, Xinjiang-> Deaths: 0.0 Confirmed: 14.0\", \"China, Yunnan-> Deaths: 0.0 Confirmed: 55.0\", \"China, Zhejiang-> Deaths: 0.0 Confirmed: 428.0\"], \"type\": \"scattergeo\"}], \"layout\": {\"title\": {\"text\": \"Corona Virus, 2020-01-29\", \"x\": 0.5, \"xanchor\": \"center\", \"y\": 0.98, \"yanchor\": \"top\"}}}, {\"data\": [{\"lat\": [32.0, 34.395342, 48.9467562, 39.906217, 55.001251, 36.7014631, 13.5066394, 30.05518, 63.2467777, 46.603353999999996, 26.5450001, 38.0000001, 23.135769399999997, 24.0, 27.0, 19.2000001, 39.0000001, 48.000004700000005, 34.0000001, 22.2793278, 31.15172525, 27.999587800000004, 40.079660600000004, 22.3511148, 43.2443242, 42.6384261, 36.5748441, 33.0000001, 28.0, 42.9995032, 40.997519700000005, 22.175760500000003, 4.5693754, 28.108392900000002, -31.875983500000004, 37.0000001, 50.000678, 12.750348599999999, 35.40709525, -22.1646782, 36.0, 36.0000001, 31.232275800000004, 37.0, 30.500000099999998, 1.357107, 36.5581914, 7.555494199999999, 23.973937399999997, 14.8971921, 39.1235635, 31.89434315, 24.0002488, -36.5986096, 13.2904027, 38.894893200000006, 41.7574769, 25.0, 29.000000099999998], \"locationmode\": \"country names\", \"lon\": [117.0, -111.76327549999999, 11.4038717, 116.3912757, -125.00244099999999, -118.75599740000001, 104.869423, 107.8748712, 25.9209164, 1.8883334999999999, 117.84277800000001, 101.9999999, 113.19826880000001, 109.0, 107.0, 109.5999999, 116.0, 127.99999199999999, 113.9999999, 114.16281310000001, 112.87832224656044, 112.00953799999999, -89.4337288, 78.6677428, 114.32516640000001, 12.674297, 139.2394179, 119.9999999, 116.0, 125.9816054, 122.99554690000001, 113.5514142, 102.2656823, 84.0917139, 147.2869493, 105.9999999, -86.000977, 122.7312101, 95.95211573241954, 144.58449030000003, 109.0, 118.9999999, 121.4692071, 112.0, 102.4999999, 103.81949920000001, 127.9408564, 80.7137847, 120.9820179, 100.83273, 117.1980785, 87.07813712706509, 53.999482900000004, 144.6780052, 108.42651129999999, -77.0365529, 87.16738423046895, 102.0, 119.9999999], \"marker\": {\"autocolorscale\": false, \"cmax\": 350.0, \"cmin\": 0, \"color\": [0.0, 0.0, 0.0, 1.0, 0.0, 0.0, 0.0, 0.0, 0.0, 0.0, 0.0, 0.0, 0.0, 0.0, 0.0, 1.0, 1.0, 2.0, 2.0, 0.0, 204.0, 0.0, 0.0, 0.0, 0.0, 0.0, 0.0, 0.0, 0.0, 0.0, 0.0, 0.0, 0.0, 0.0, 0.0, 0.0, 0.0, 0.0, 0.0, 0.0, 0.0, 0.0, 1.0, 0.0, 1.0, 0.0, 0.0, 0.0, 0.0, 0.0, 0.0, 0.0, 0.0, 0.0, 0.0, 0.0, 0.0, 0.0, 0.0], \"colorbar\": {\"title\": {\"text\": \"Number of Deaths\"}}, \"line\": {\"color\": \"rgba(0, 0, 0)\", \"width\": 0.5}, \"reversescale\": true, \"size\": [10.577682845233985, 4.0, 4.671033598060435, 8.90747631399984, 4.0, 4.29268464756894, 4.0, 10.19428866251348, 4.0, 4.815004806125491, 8.525114079844972, 6.480397821231865, 12.138735961471609, 8.228058805837552, 5.726398632195241, 7.258416635648482, 8.11469740720754, 7.527631944695398, 11.773319580552005, 5.510133141647044, 27.775848127009525, 11.58528755199164, 4.29268464756894, 4.0, 6.032934011676862, 4.29268464756894, 5.4305300479524705, 9.670964397559343, 10.613068179138615, 5.657613768320726, 7.09544342612729, 5.0558871595781, 5.160119477784612, 4.0, 4.671033598060435, 6.088238621134508, 4.29268464756894, 4.0, 5.160119477784612, 4.502144029037208, 8.228058805837552, 9.815361392350553, 9.031816721613545, 6.88403547398714, 9.801155291402312, 5.346228848142263, 4.94179852477375, 4.0, 5.256436683972135, 5.657613768320726, 6.6096322232028495, 4.0, 4.671033598060435, 4.29268464756894, 4.29268464756894, 4.0, 5.855760766039176, 7.9727614582939985, 13.258918680359471]}, \"mode\": \"lines+markers\", \"text\": [\"China, Anhui-> Deaths: 0.0 Confirmed: 237.0\", \"US, Arizona-> Deaths: 0.0 Confirmed: 1.0\", \"Germany, Bavaria-> Deaths: 0.0 Confirmed: 4.0\", \"China, Beijing-> Deaths: 1.0 Confirmed: 121.0\", \"Canada, British Columbia-> Deaths: 0.0 Confirmed: 1.0\", \"US, California-> Deaths: 0.0 Confirmed: 2.0\", \"Cambodia, Cambodia-> Deaths: 0.0 Confirmed: 1.0\", \"China, Chongqing-> Deaths: 0.0 Confirmed: 206.0\", \"Finland, Finland-> Deaths: 0.0 Confirmed: 1.0\", \"France, France-> Deaths: 0.0 Confirmed: 5.0\", \"China, Fujian-> Deaths: 0.0 Confirmed: 101.0\", \"China, Gansu-> Deaths: 0.0 Confirmed: 29.0\", \"China, Guangdong-> Deaths: 0.0 Confirmed: 393.0\", \"China, Guangxi-> Deaths: 0.0 Confirmed: 87.0\", \"China, Guizhou-> Deaths: 0.0 Confirmed: 15.0\", \"China, Hainan-> Deaths: 1.0 Confirmed: 50.0\", \"China, Hebei-> Deaths: 1.0 Confirmed: 82.0\", \"China, Heilongjiang-> Deaths: 2.0 Confirmed: 59.0\", \"China, Henan-> Deaths: 2.0 Confirmed: 352.0\", \"Hong Kong, Hong Kong-> Deaths: 0.0 Confirmed: 12.0\", \"China, Hubei-> Deaths: 204.0 Confirmed: 5806.0\", \"China, Hunan-> Deaths: 0.0 Confirmed: 332.0\", \"US, Illinois-> Deaths: 0.0 Confirmed: 2.0\", \"India, India-> Deaths: 0.0 Confirmed: 1.0\", \"China, Inner Mongolia-> Deaths: 0.0 Confirmed: 20.0\", \"Italy, Italy-> Deaths: 0.0 Confirmed: 2.0\", \"Japan, Japan-> Deaths: 0.0 Confirmed: 11.0\", \"China, Jiangsu-> Deaths: 0.0 Confirmed: 168.0\", \"China, Jiangxi-> Deaths: 0.0 Confirmed: 240.0\", \"China, Jilin-> Deaths: 0.0 Confirmed: 14.0\", \"China, Liaoning-> Deaths: 0.0 Confirmed: 45.0\", \"Macau, Macau-> Deaths: 0.0 Confirmed: 7.0\", \"Malaysia, Malaysia-> Deaths: 0.0 Confirmed: 8.0\", \"Nepal, Nepal-> Deaths: 0.0 Confirmed: 1.0\", \"Australia, New South Wales-> Deaths: 0.0 Confirmed: 4.0\", \"China, Ningxia-> Deaths: 0.0 Confirmed: 21.0\", \"Canada, Ontario-> Deaths: 0.0 Confirmed: 2.0\", \"Philippines, Philippines-> Deaths: 0.0 Confirmed: 1.0\", \"China, Qinghai-> Deaths: 0.0 Confirmed: 8.0\", \"Australia, Queensland-> Deaths: 0.0 Confirmed: 3.0\", \"China, Shaanxi-> Deaths: 0.0 Confirmed: 87.0\", \"China, Shandong-> Deaths: 0.0 Confirmed: 178.0\", \"China, Shanghai-> Deaths: 1.0 Confirmed: 128.0\", \"China, Shanxi-> Deaths: 0.0 Confirmed: 39.0\", \"China, Sichuan-> Deaths: 1.0 Confirmed: 177.0\", \"Singapore, Singapore-> Deaths: 0.0 Confirmed: 10.0\", \"South Korea, South Korea-> Deaths: 0.0 Confirmed: 6.0\", \"Sri Lanka, Sri Lanka-> Deaths: 0.0 Confirmed: 1.0\", \"Taiwan, Taiwan-> Deaths: 0.0 Confirmed: 9.0\", \"Thailand, Thailand-> Deaths: 0.0 Confirmed: 14.0\", \"China, Tianjin-> Deaths: 0.0 Confirmed: 32.0\", \"China, Tibet-> Deaths: 0.0 Confirmed: 1.0\", \"United Arab Emirates, United Arab Emirates-> Deaths: 0.0 Confirmed: 4.0\", \"Australia, Victoria-> Deaths: 0.0 Confirmed: 2.0\", \"Vietnam, Vietnam-> Deaths: 0.0 Confirmed: 2.0\", \"US, Washington-> Deaths: 0.0 Confirmed: 1.0\", \"China, Xinjiang-> Deaths: 0.0 Confirmed: 17.0\", \"China, Yunnan-> Deaths: 0.0 Confirmed: 76.0\", \"China, Zhejiang-> Deaths: 0.0 Confirmed: 537.0\"], \"type\": \"scattergeo\"}], \"layout\": {\"title\": {\"text\": \"Corona Virus, 2020-01-30\", \"x\": 0.5, \"xanchor\": \"center\", \"y\": 0.98, \"yanchor\": \"top\"}}}, {\"data\": [{\"lat\": [32.0, 34.395342, 48.9467562, 39.906217, 55.001251, 36.7014631, 13.5066394, 30.05518, 63.2467777, 46.603353999999996, 26.5450001, 38.0000001, 23.135769399999997, 24.0, 27.0, 19.2000001, 39.0000001, 48.000004700000005, 34.0000001, 22.2793278, 31.15172525, 27.999587800000004, 40.079660600000004, 22.3511148, 43.2443242, 42.6384261, 36.5748441, 33.0000001, 28.0, 42.9995032, 40.997519700000005, 22.175760500000003, 4.5693754, 28.108392900000002, -31.875983500000004, 37.0000001, 50.000678, 12.750348599999999, 35.40709525, -22.1646782, 64.6863136, 36.0, 36.0000001, 31.232275800000004, 37.0, 30.500000099999998, 1.357107, 36.5581914, 39.3262345, 7.555494199999999, 59.67497120000001, 23.973937399999997, 14.8971921, 39.1235635, 31.89434315, 54.702354500000006, 24.0002488, -36.5986096, 13.2904027, 38.894893200000006, 41.7574769, 25.0, 29.000000099999998], \"locationmode\": \"country names\", \"lon\": [117.0, -111.76327549999999, 11.4038717, 116.3912757, -125.00244099999999, -118.75599740000001, 104.869423, 107.8748712, 25.9209164, 1.8883334999999999, 117.84277800000001, 101.9999999, 113.19826880000001, 109.0, 107.0, 109.5999999, 116.0, 127.99999199999999, 113.9999999, 114.16281310000001, 112.87832224656044, 112.00953799999999, -89.4337288, 78.6677428, 114.32516640000001, 12.674297, 139.2394179, 119.9999999, 116.0, 125.9816054, 122.99554690000001, 113.5514142, 102.2656823, 84.0917139, 147.2869493, 105.9999999, -86.000977, 122.7312101, 95.95211573241954, 144.58449030000003, 97.7453061, 109.0, 118.9999999, 121.4692071, 112.0, 102.4999999, 103.81949920000001, 127.9408564, -4.838064900000001, 80.7137847, 14.5208584, 120.9820179, 100.83273, 117.1980785, 87.07813712706509, -3.2765752999999997, 53.999482900000004, 144.6780052, 108.42651129999999, -77.0365529, 87.16738423046895, 102.0, 119.9999999], \"marker\": {\"autocolorscale\": false, \"cmax\": 350.0, \"cmin\": 0, \"color\": [0.0, 0.0, 0.0, 1.0, 0.0, 0.0, 0.0, 1.0, 0.0, 0.0, 0.0, 0.0, 0.0, 0.0, 0.0, 1.0, 1.0, 2.0, 2.0, 0.0, 249.0, 0.0, 0.0, 0.0, 0.0, 0.0, 0.0, 0.0, 0.0, 0.0, 0.0, 0.0, 0.0, 0.0, 0.0, 0.0, 0.0, 0.0, 0.0, 0.0, 0.0, 0.0, 0.0, 1.0, 0.0, 1.0, 0.0, 0.0, 0.0, 0.0, 0.0, 0.0, 0.0, 0.0, 0.0, 0.0, 0.0, 0.0, 0.0, 0.0, 0.0, 0.0, 0.0], \"colorbar\": {\"title\": {\"text\": \"Number of Deaths\"}}, \"line\": {\"color\": \"rgba(0, 0, 0)\", \"width\": 0.5}, \"reversescale\": true, \"size\": [10.577682845233985, 4.0, 5.0558871595781, 9.21883716430103, 4.0, 4.502144029037208, 4.0, 10.589509130855859, 4.0, 4.94179852477375, 8.889346789610265, 6.731445075485936, 12.497025161261432, 8.250235297922899, 6.480397821231865, 7.49905683093882, 8.422187491104461, 7.527631944695398, 11.773319580552005, 5.585661160918501, 29.76629323402198, 11.58528755199164, 4.29268464756894, 4.0, 6.032934011676862, 4.29268464756894, 5.855760766039176, 9.670964397559343, 10.613068179138615, 5.657613768320726, 7.555903716104263, 5.0558871595781, 5.160119477784612, 4.0, 4.671033598060435, 6.088238621134508, 4.29268464756894, 4.0, 5.160119477784612, 4.502144029037208, 4.29268464756894, 8.228058805837552, 9.899560321169895, 9.443843353139162, 7.161937009665921, 9.801155291402312, 5.792353285846804, 5.4305300479524705, 4.0, 4.0, 4.0, 5.346228848142263, 5.975859650018929, 6.6096322232028495, 4.0, 4.29268464756894, 4.671033598060435, 4.29268464756894, 4.29268464756894, 4.0, 5.855760766039176, 8.137710912549311, 13.258918680359471]}, \"mode\": \"lines+markers\", \"text\": [\"China, Anhui-> Deaths: 0.0 Confirmed: 237.0\", \"US, Arizona-> Deaths: 0.0 Confirmed: 1.0\", \"Germany, Bavaria-> Deaths: 0.0 Confirmed: 7.0\", \"China, Beijing-> Deaths: 1.0 Confirmed: 139.0\", \"Canada, British Columbia-> Deaths: 0.0 Confirmed: 1.0\", \"US, California-> Deaths: 0.0 Confirmed: 3.0\", \"Cambodia, Cambodia-> Deaths: 0.0 Confirmed: 1.0\", \"China, Chongqing-> Deaths: 1.0 Confirmed: 238.0\", \"Finland, Finland-> Deaths: 0.0 Confirmed: 1.0\", \"France, France-> Deaths: 0.0 Confirmed: 6.0\", \"China, Fujian-> Deaths: 0.0 Confirmed: 120.0\", \"China, Gansu-> Deaths: 0.0 Confirmed: 35.0\", \"China, Guangdong-> Deaths: 0.0 Confirmed: 436.0\", \"China, Guangxi-> Deaths: 0.0 Confirmed: 88.0\", \"China, Guizhou-> Deaths: 0.0 Confirmed: 29.0\", \"China, Hainan-> Deaths: 1.0 Confirmed: 58.0\", \"China, Hebei-> Deaths: 1.0 Confirmed: 96.0\", \"China, Heilongjiang-> Deaths: 2.0 Confirmed: 59.0\", \"China, Henan-> Deaths: 2.0 Confirmed: 352.0\", \"Hong Kong, Hong Kong-> Deaths: 0.0 Confirmed: 13.0\", \"China, Hubei-> Deaths: 249.0 Confirmed: 7153.0\", \"China, Hunan-> Deaths: 0.0 Confirmed: 332.0\", \"US, Illinois-> Deaths: 0.0 Confirmed: 2.0\", \"India, India-> Deaths: 0.0 Confirmed: 1.0\", \"China, Inner Mongolia-> Deaths: 0.0 Confirmed: 20.0\", \"Italy, Italy-> Deaths: 0.0 Confirmed: 2.0\", \"Japan, Japan-> Deaths: 0.0 Confirmed: 17.0\", \"China, Jiangsu-> Deaths: 0.0 Confirmed: 168.0\", \"China, Jiangxi-> Deaths: 0.0 Confirmed: 240.0\", \"China, Jilin-> Deaths: 0.0 Confirmed: 14.0\", \"China, Liaoning-> Deaths: 0.0 Confirmed: 60.0\", \"Macau, Macau-> Deaths: 0.0 Confirmed: 7.0\", \"Malaysia, Malaysia-> Deaths: 0.0 Confirmed: 8.0\", \"Nepal, Nepal-> Deaths: 0.0 Confirmed: 1.0\", \"Australia, New South Wales-> Deaths: 0.0 Confirmed: 4.0\", \"China, Ningxia-> Deaths: 0.0 Confirmed: 21.0\", \"Canada, Ontario-> Deaths: 0.0 Confirmed: 2.0\", \"Philippines, Philippines-> Deaths: 0.0 Confirmed: 1.0\", \"China, Qinghai-> Deaths: 0.0 Confirmed: 8.0\", \"Australia, Queensland-> Deaths: 0.0 Confirmed: 3.0\", \"Russia, Russia-> Deaths: 0.0 Confirmed: 2.0\", \"China, Shaanxi-> Deaths: 0.0 Confirmed: 87.0\", \"China, Shandong-> Deaths: 0.0 Confirmed: 184.0\", \"China, Shanghai-> Deaths: 1.0 Confirmed: 153.0\", \"China, Shanxi-> Deaths: 0.0 Confirmed: 47.0\", \"China, Sichuan-> Deaths: 1.0 Confirmed: 177.0\", \"Singapore, Singapore-> Deaths: 0.0 Confirmed: 16.0\", \"South Korea, South Korea-> Deaths: 0.0 Confirmed: 11.0\", \"Spain, Spain-> Deaths: 0.0 Confirmed: 1.0\", \"Sri Lanka, Sri Lanka-> Deaths: 0.0 Confirmed: 1.0\", \"Sweden, Sweden-> Deaths: 0.0 Confirmed: 1.0\", \"Taiwan, Taiwan-> Deaths: 0.0 Confirmed: 10.0\", \"Thailand, Thailand-> Deaths: 0.0 Confirmed: 19.0\", \"China, Tianjin-> Deaths: 0.0 Confirmed: 32.0\", \"China, Tibet-> Deaths: 0.0 Confirmed: 1.0\", \"UK, UK-> Deaths: 0.0 Confirmed: 2.0\", \"United Arab Emirates, United Arab Emirates-> Deaths: 0.0 Confirmed: 4.0\", \"Australia, Victoria-> Deaths: 0.0 Confirmed: 2.0\", \"Vietnam, Vietnam-> Deaths: 0.0 Confirmed: 2.0\", \"US, Washington-> Deaths: 0.0 Confirmed: 1.0\", \"China, Xinjiang-> Deaths: 0.0 Confirmed: 17.0\", \"China, Yunnan-> Deaths: 0.0 Confirmed: 83.0\", \"China, Zhejiang-> Deaths: 0.0 Confirmed: 537.0\"], \"type\": \"scattergeo\"}], \"layout\": {\"title\": {\"text\": \"Corona Virus, 2020-01-31\", \"x\": 0.5, \"xanchor\": \"center\", \"y\": 0.98, \"yanchor\": \"top\"}}}, {\"data\": [{\"lat\": [32.0, 39.906217, 42.3602534, 55.001251, 13.5066394, 41.875561600000005, 30.05518, 63.2467777, 46.603353999999996, 26.5450001, 38.0000001, 23.135769399999997, 24.0, 27.0, 19.2000001, 39.0000001, 48.000004700000005, 34.0000001, 22.2793278, 31.15172525, 27.999587800000004, 22.3511148, 43.2443242, 42.6384261, 36.5748441, 33.0000001, 28.0, 42.9995032, 40.997519700000005, 34.0536909, 22.175760500000003, 4.5693754, 28.108392900000002, -31.875983500000004, 37.0000001, 50.000678, 29.7742659, 12.750348599999999, 35.40709525, -22.1646782, 64.6863136, 37.35411320000001, 47.6038321, 36.0, 36.0000001, 31.232275800000004, 37.0, 30.500000099999998, 1.357107, -30.534366499999997, 36.5581914, 39.3262345, 7.555494199999999, 59.67497120000001, 23.973937399999997, 33.4255056, 14.8971921, 39.1235635, 31.89434315, 54.702354500000006, 24.0002488, -36.5986096, 13.2904027, 41.7574769, 25.0, 29.000000099999998], \"locationmode\": \"country names\", \"lon\": [117.0, 116.3912757, -71.0582912, -125.00244099999999, 104.869423, -87.6244212, 107.8748712, 25.9209164, 1.8883334999999999, 117.84277800000001, 101.9999999, 113.19826880000001, 109.0, 107.0, 109.5999999, 116.0, 127.99999199999999, 113.9999999, 114.16281310000001, 112.87832224656044, 112.00953799999999, 78.6677428, 114.32516640000001, 12.674297, 139.2394179, 119.9999999, 116.0, 125.9816054, 122.99554690000001, -118.2427666, 113.5514142, 102.2656823, 84.0917139, 147.2869493, 105.9999999, -86.000977, -95.3341066, 122.7312101, 95.95211573241954, 144.58449030000003, 97.7453061, -121.95517439999999, -122.3300624, 109.0, 118.9999999, 121.4692071, 112.0, 102.4999999, 103.81949920000001, 135.6301212, 127.9408564, -4.838064900000001, 80.7137847, 14.5208584, 120.9820179, -111.9400125, 100.83273, 117.1980785, 87.07813712706509, -3.2765752999999997, 53.999482900000004, 144.6780052, 108.42651129999999, 87.16738423046895, 102.0, 119.9999999], \"marker\": {\"autocolorscale\": false, \"cmax\": 350.0, \"cmin\": 0, \"color\": [0.0, 1.0, 0.0, 0.0, 0.0, 0.0, 2.0, 0.0, 0.0, 0.0, 0.0, 0.0, 0.0, 0.0, 1.0, 1.0, 2.0, 2.0, 0.0, 350.0, 0.0, 0.0, 0.0, 0.0, 0.0, 0.0, 0.0, 0.0, 0.0, 0.0, 0.0, 0.0, 0.0, 0.0, 0.0, 0.0, 0.0, 1.0, 0.0, 0.0, 0.0, 0.0, 0.0, 0.0, 0.0, 1.0, 0.0, 1.0, 0.0, 0.0, 0.0, 0.0, 0.0, 0.0, 0.0, 0.0, 0.0, 0.0, 0.0, 0.0, 0.0, 0.0, 0.0, 0.0, 0.0, 0.0], \"colorbar\": {\"title\": {\"text\": \"Number of Deaths\"}}, \"line\": {\"color\": \"rgba(0, 0, 0)\", \"width\": 0.5}, \"reversescale\": true, \"size\": [12.266402734916461, 9.995635501635093, 4.0, 4.0, 4.0, 4.29268464756894, 11.26898714097422, 4.0, 4.94179852477375, 9.536304383316704, 7.2897639830644705, 14.214642812282642, 9.014320439199771, 7.128917772316606, 7.8489894617132165, 8.759694167055606, 8.401199567139276, 13.460721531990252, 5.726398632195241, 34.577643875457504, 13.144629578632946, 4.29268464756894, 6.389492891729259, 4.29268464756894, 6.032934011676862, 10.96342212402689, 12.121483265511438, 6.567435936849419, 7.823581762327395, 4.0, 5.160119477784612, 5.160119477784612, 4.0, 4.671033598060435, 6.435456517476041, 4.502144029037208, 4.0, 4.29268464756894, 5.4305300479524705, 4.29268464756894, 4.29268464756894, 4.29268464756894, 4.0, 8.815861693894782, 10.683012170568894, 10.022677210900873, 7.719599661532381, 10.77461969731363, 5.916861059582148, 4.29268464756894, 5.726398632195241, 4.0, 4.0, 4.0, 5.346228848142263, 4.0, 5.975859650018929, 7.194516815297205, 4.0, 4.29268464756894, 4.815004806125491, 4.671033598060435, 4.94179852477375, 6.244810575561126, 8.605167939821492, 14.459414586845678]}, \"mode\": \"lines+markers\", \"text\": [\"China, Anhui-> Deaths: 0.0 Confirmed: 408.0\", \"China, Beijing-> Deaths: 1.0 Confirmed: 191.0\", \"US, Boston, MA-> Deaths: 0.0 Confirmed: 1.0\", \"Canada, British Columbia-> Deaths: 0.0 Confirmed: 1.0\", \"Cambodia, Cambodia-> Deaths: 0.0 Confirmed: 1.0\", \"US, Chicago, IL-> Deaths: 0.0 Confirmed: 2.0\", \"China, Chongqing-> Deaths: 2.0 Confirmed: 300.0\", \"Finland, Finland-> Deaths: 0.0 Confirmed: 1.0\", \"France, France-> Deaths: 0.0 Confirmed: 6.0\", \"China, Fujian-> Deaths: 0.0 Confirmed: 159.0\", \"China, Gansu-> Deaths: 0.0 Confirmed: 51.0\", \"China, Guangdong-> Deaths: 0.0 Confirmed: 683.0\", \"China, Guangxi-> Deaths: 0.0 Confirmed: 127.0\", \"China, Guizhou-> Deaths: 0.0 Confirmed: 46.0\", \"China, Hainan-> Deaths: 1.0 Confirmed: 71.0\", \"China, Hebei-> Deaths: 1.0 Confirmed: 113.0\", \"China, Heilongjiang-> Deaths: 2.0 Confirmed: 95.0\", \"China, Henan-> Deaths: 2.0 Confirmed: 566.0\", \"Hong Kong, Hong Kong-> Deaths: 0.0 Confirmed: 15.0\", \"China, Hubei-> Deaths: 350.0 Confirmed: 11177.0\", \"China, Hunan-> Deaths: 0.0 Confirmed: 521.0\", \"India, India-> Deaths: 0.0 Confirmed: 2.0\", \"China, Inner Mongolia-> Deaths: 0.0 Confirmed: 27.0\", \"Italy, Italy-> Deaths: 0.0 Confirmed: 2.0\", \"Japan, Japan-> Deaths: 0.0 Confirmed: 20.0\", \"China, Jiangsu-> Deaths: 0.0 Confirmed: 271.0\", \"China, Jiangxi-> Deaths: 0.0 Confirmed: 391.0\", \"China, Jilin-> Deaths: 0.0 Confirmed: 31.0\", \"China, Liaoning-> Deaths: 0.0 Confirmed: 70.0\", \"US, Los Angeles, CA-> Deaths: 0.0 Confirmed: 1.0\", \"Macau, Macau-> Deaths: 0.0 Confirmed: 8.0\", \"Malaysia, Malaysia-> Deaths: 0.0 Confirmed: 8.0\", \"Nepal, Nepal-> Deaths: 0.0 Confirmed: 1.0\", \"Australia, New South Wales-> Deaths: 0.0 Confirmed: 4.0\", \"China, Ningxia-> Deaths: 0.0 Confirmed: 28.0\", \"Canada, Ontario-> Deaths: 0.0 Confirmed: 3.0\", \"US, Orange, CA-> Deaths: 0.0 Confirmed: 1.0\", \"Philippines, Philippines-> Deaths: 1.0 Confirmed: 2.0\", \"China, Qinghai-> Deaths: 0.0 Confirmed: 11.0\", \"Australia, Queensland-> Deaths: 0.0 Confirmed: 2.0\", \"Russia, Russia-> Deaths: 0.0 Confirmed: 2.0\", \"US, Santa Clara, CA-> Deaths: 0.0 Confirmed: 2.0\", \"US, Seattle, WA-> Deaths: 0.0 Confirmed: 1.0\", \"China, Shaanxi-> Deaths: 0.0 Confirmed: 116.0\", \"China, Shandong-> Deaths: 0.0 Confirmed: 246.0\", \"China, Shanghai-> Deaths: 1.0 Confirmed: 193.0\", \"China, Shanxi-> Deaths: 0.0 Confirmed: 66.0\", \"China, Sichuan-> Deaths: 1.0 Confirmed: 254.0\", \"Singapore, Singapore-> Deaths: 0.0 Confirmed: 18.0\", \"Australia, South Australia-> Deaths: 0.0 Confirmed: 2.0\", \"South Korea, South Korea-> Deaths: 0.0 Confirmed: 15.0\", \"Spain, Spain-> Deaths: 0.0 Confirmed: 1.0\", \"Sri Lanka, Sri Lanka-> Deaths: 0.0 Confirmed: 1.0\", \"Sweden, Sweden-> Deaths: 0.0 Confirmed: 1.0\", \"Taiwan, Taiwan-> Deaths: 0.0 Confirmed: 10.0\", \"US, Tempe, AZ-> Deaths: 0.0 Confirmed: 1.0\", \"Thailand, Thailand-> Deaths: 0.0 Confirmed: 19.0\", \"China, Tianjin-> Deaths: 0.0 Confirmed: 48.0\", \"China, Tibet-> Deaths: 0.0 Confirmed: 1.0\", \"UK, UK-> Deaths: 0.0 Confirmed: 2.0\", \"United Arab Emirates, United Arab Emirates-> Deaths: 0.0 Confirmed: 5.0\", \"Australia, Victoria-> Deaths: 0.0 Confirmed: 4.0\", \"Vietnam, Vietnam-> Deaths: 0.0 Confirmed: 6.0\", \"China, Xinjiang-> Deaths: 0.0 Confirmed: 24.0\", \"China, Yunnan-> Deaths: 0.0 Confirmed: 105.0\", \"China, Zhejiang-> Deaths: 0.0 Confirmed: 724.0\"], \"type\": \"scattergeo\"}], \"layout\": {\"title\": {\"text\": \"Corona Virus, 2020-02-02\", \"x\": 0.5, \"xanchor\": \"center\", \"y\": 0.98, \"yanchor\": \"top\"}}}]);\n",
       "                        }).then(function(){\n",
       "                            \n",
       "var gd = document.getElementById('820c2f44-c036-48ed-a2de-0c7971ceb800');\n",
       "var x = new MutationObserver(function (mutations, observer) {{\n",
       "        var display = window.getComputedStyle(gd).display;\n",
       "        if (!display || display === 'none') {{\n",
       "            console.log([gd, 'removed!']);\n",
       "            Plotly.purge(gd);\n",
       "            observer.disconnect();\n",
       "        }}\n",
       "}});\n",
       "\n",
       "// Listen for the removal of the full notebook cells\n",
       "var notebookContainer = gd.closest('#notebook-container');\n",
       "if (notebookContainer) {{\n",
       "    x.observe(notebookContainer, {childList: true});\n",
       "}}\n",
       "\n",
       "// Listen for the clearing of the current output cell\n",
       "var outputEl = gd.closest('.output');\n",
       "if (outputEl) {{\n",
       "    x.observe(outputEl, {childList: true});\n",
       "}}\n",
       "\n",
       "                        })\n",
       "                };\n",
       "                });\n",
       "            </script>\n",
       "        </div>"
      ]
     },
     "metadata": {},
     "output_type": "display_data"
    }
   ],
   "source": [
    "dates = np.sort(df['Date'].unique())\n",
    "data = [go.Scattergeo(\n",
    "            locationmode='country names',\n",
    "            lon = df.loc[df['Date']==dt, 'lon'],\n",
    "            lat = df.loc[df['Date']==dt, 'lat'],\n",
    "            text = df.loc[df['Date']==dt, 'Country'] + ', ' + df.loc[df['Date']==dt, 'PS'] +   '-> Deaths: ' + df.loc[df['Date']==dt, 'Deaths'].astype(str) + ' Confirmed: ' + df.loc[df['Date']==dt,'Confirmed'].astype(str),\n",
    "            mode = 'lines+markers',\n",
    "            marker = dict(\n",
    "                size = (df.loc[df['Date']==dt,'Confirmed'])**(1/2.7)+3,\n",
    "                reversescale = True,\n",
    "                autocolorscale = False,\n",
    "                line = dict(\n",
    "                    width=0.5,\n",
    "                    color='rgba(0, 0, 0)'\n",
    "                        ),\n",
    "                #colorscale='rdgy', #'jet',rdylbu, 'oryel', \n",
    "                cmin=0,\n",
    "                color=df.loc[df['Date']==dt,'Deaths'],\n",
    "                cmax=df['Deaths'].max(),\n",
    "                colorbar_title=\"Number of Deaths\"\n",
    "            )) \n",
    "        for dt in dates]\n",
    "\n",
    "\n",
    "fig = go.Figure(\n",
    "    data=data[0],\n",
    "    layout=go.Layout(\n",
    "        title = {'text': f'Corona Virus, {dates[0]}',\n",
    "                                'y':0.98,\n",
    "                                'x':0.5,\n",
    "                                'xanchor': 'center',\n",
    "                                'yanchor': 'top'},\n",
    "        geo = dict(\n",
    "            scope='world',\n",
    "            projection_type='robinson',\n",
    "            showland = True,\n",
    "            landcolor = \"rgb(252, 240, 220)\",\n",
    "            showcountries=True,\n",
    "            showocean=True,\n",
    "            countrycolor = \"rgb(128, 128, 128)\"\n",
    "            \n",
    "            ),\n",
    "     updatemenus=[dict(\n",
    "            type=\"buttons\",\n",
    "            buttons=[dict(label=\"Play\",\n",
    "                          method=\"animate\",\n",
    "                          args=[None])])]),\n",
    "    \n",
    "    frames=[go.Frame(data=dt, \n",
    "                     layout=go.Layout(\n",
    "                          title={'text': f'Corona Virus, {date}',\n",
    "                                'y':0.98,\n",
    "                                'x':0.5,\n",
    "                                'xanchor': 'center',\n",
    "                                'yanchor': 'top'}\n",
    "                           ))\n",
    "            for dt,date in zip(data[1:],dates[1:])])\n",
    "\n",
    "fig.show()\n"
   ]
  },
  {
   "cell_type": "markdown",
   "metadata": {
    "collapsed": true
   },
   "source": [
    "<a id = Section54></a>\n",
    "### 5.4 Let's compare the spread of virus in China vs Rest world."
   ]
  },
  {
   "cell_type": "code",
   "execution_count": 23,
   "metadata": {},
   "outputs": [
    {
     "data": {
      "text/html": [
       "<div>\n",
       "<style scoped>\n",
       "    .dataframe tbody tr th:only-of-type {\n",
       "        vertical-align: middle;\n",
       "    }\n",
       "\n",
       "    .dataframe tbody tr th {\n",
       "        vertical-align: top;\n",
       "    }\n",
       "\n",
       "    .dataframe thead th {\n",
       "        text-align: right;\n",
       "    }\n",
       "</style>\n",
       "<table border=\"1\" class=\"dataframe\">\n",
       "  <thead>\n",
       "    <tr style=\"text-align: right;\">\n",
       "      <th></th>\n",
       "      <th>PS</th>\n",
       "      <th>Country</th>\n",
       "      <th>Date</th>\n",
       "      <th>Confirmed</th>\n",
       "      <th>Deaths</th>\n",
       "      <th>Recovered</th>\n",
       "      <th>lat</th>\n",
       "      <th>lon</th>\n",
       "    </tr>\n",
       "  </thead>\n",
       "  <tbody>\n",
       "    <tr>\n",
       "      <th>0</th>\n",
       "      <td>Anhui</td>\n",
       "      <td>China</td>\n",
       "      <td>2020-01-22</td>\n",
       "      <td>1.0</td>\n",
       "      <td>0.0</td>\n",
       "      <td>0.0</td>\n",
       "      <td>32.0</td>\n",
       "      <td>117.0</td>\n",
       "    </tr>\n",
       "    <tr>\n",
       "      <th>1</th>\n",
       "      <td>Anhui</td>\n",
       "      <td>China</td>\n",
       "      <td>2020-01-23</td>\n",
       "      <td>9.0</td>\n",
       "      <td>0.0</td>\n",
       "      <td>0.0</td>\n",
       "      <td>32.0</td>\n",
       "      <td>117.0</td>\n",
       "    </tr>\n",
       "    <tr>\n",
       "      <th>2</th>\n",
       "      <td>Anhui</td>\n",
       "      <td>China</td>\n",
       "      <td>2020-01-24</td>\n",
       "      <td>15.0</td>\n",
       "      <td>0.0</td>\n",
       "      <td>0.0</td>\n",
       "      <td>32.0</td>\n",
       "      <td>117.0</td>\n",
       "    </tr>\n",
       "    <tr>\n",
       "      <th>3</th>\n",
       "      <td>Anhui</td>\n",
       "      <td>China</td>\n",
       "      <td>2020-01-25</td>\n",
       "      <td>60.0</td>\n",
       "      <td>0.0</td>\n",
       "      <td>0.0</td>\n",
       "      <td>32.0</td>\n",
       "      <td>117.0</td>\n",
       "    </tr>\n",
       "    <tr>\n",
       "      <th>4</th>\n",
       "      <td>Anhui</td>\n",
       "      <td>China</td>\n",
       "      <td>2020-01-26</td>\n",
       "      <td>70.0</td>\n",
       "      <td>0.0</td>\n",
       "      <td>0.0</td>\n",
       "      <td>32.0</td>\n",
       "      <td>117.0</td>\n",
       "    </tr>\n",
       "  </tbody>\n",
       "</table>\n",
       "</div>"
      ],
      "text/plain": [
       "      PS Country        Date  Confirmed  Deaths  Recovered   lat    lon\n",
       "0  Anhui   China  2020-01-22        1.0     0.0        0.0  32.0  117.0\n",
       "1  Anhui   China  2020-01-23        9.0     0.0        0.0  32.0  117.0\n",
       "2  Anhui   China  2020-01-24       15.0     0.0        0.0  32.0  117.0\n",
       "3  Anhui   China  2020-01-25       60.0     0.0        0.0  32.0  117.0\n",
       "4  Anhui   China  2020-01-26       70.0     0.0        0.0  32.0  117.0"
      ]
     },
     "execution_count": 23,
     "metadata": {},
     "output_type": "execute_result"
    }
   ],
   "source": [
    "df.head()"
   ]
  },
  {
   "cell_type": "code",
   "execution_count": 24,
   "metadata": {},
   "outputs": [
    {
     "data": {
      "text/html": [
       "<div>\n",
       "<style scoped>\n",
       "    .dataframe tbody tr th:only-of-type {\n",
       "        vertical-align: middle;\n",
       "    }\n",
       "\n",
       "    .dataframe tbody tr th {\n",
       "        vertical-align: top;\n",
       "    }\n",
       "\n",
       "    .dataframe thead th {\n",
       "        text-align: right;\n",
       "    }\n",
       "</style>\n",
       "<table border=\"1\" class=\"dataframe\">\n",
       "  <thead>\n",
       "    <tr style=\"text-align: right;\">\n",
       "      <th></th>\n",
       "      <th>PS</th>\n",
       "      <th>Country</th>\n",
       "      <th>Date</th>\n",
       "      <th>Confirmed</th>\n",
       "      <th>Deaths</th>\n",
       "      <th>Recovered</th>\n",
       "      <th>lat</th>\n",
       "      <th>lon</th>\n",
       "    </tr>\n",
       "  </thead>\n",
       "  <tbody>\n",
       "    <tr>\n",
       "      <th>0</th>\n",
       "      <td>Anhui</td>\n",
       "      <td>China</td>\n",
       "      <td>2020-01-22</td>\n",
       "      <td>1.0</td>\n",
       "      <td>0.0</td>\n",
       "      <td>0.0</td>\n",
       "      <td>32.0</td>\n",
       "      <td>117.0</td>\n",
       "    </tr>\n",
       "    <tr>\n",
       "      <th>1</th>\n",
       "      <td>Anhui</td>\n",
       "      <td>China</td>\n",
       "      <td>2020-01-23</td>\n",
       "      <td>9.0</td>\n",
       "      <td>0.0</td>\n",
       "      <td>0.0</td>\n",
       "      <td>32.0</td>\n",
       "      <td>117.0</td>\n",
       "    </tr>\n",
       "    <tr>\n",
       "      <th>2</th>\n",
       "      <td>Anhui</td>\n",
       "      <td>China</td>\n",
       "      <td>2020-01-24</td>\n",
       "      <td>15.0</td>\n",
       "      <td>0.0</td>\n",
       "      <td>0.0</td>\n",
       "      <td>32.0</td>\n",
       "      <td>117.0</td>\n",
       "    </tr>\n",
       "    <tr>\n",
       "      <th>3</th>\n",
       "      <td>Anhui</td>\n",
       "      <td>China</td>\n",
       "      <td>2020-01-25</td>\n",
       "      <td>60.0</td>\n",
       "      <td>0.0</td>\n",
       "      <td>0.0</td>\n",
       "      <td>32.0</td>\n",
       "      <td>117.0</td>\n",
       "    </tr>\n",
       "    <tr>\n",
       "      <th>4</th>\n",
       "      <td>Anhui</td>\n",
       "      <td>China</td>\n",
       "      <td>2020-01-26</td>\n",
       "      <td>70.0</td>\n",
       "      <td>0.0</td>\n",
       "      <td>0.0</td>\n",
       "      <td>32.0</td>\n",
       "      <td>117.0</td>\n",
       "    </tr>\n",
       "  </tbody>\n",
       "</table>\n",
       "</div>"
      ],
      "text/plain": [
       "      PS Country        Date  Confirmed  Deaths  Recovered   lat    lon\n",
       "0  Anhui   China  2020-01-22        1.0     0.0        0.0  32.0  117.0\n",
       "1  Anhui   China  2020-01-23        9.0     0.0        0.0  32.0  117.0\n",
       "2  Anhui   China  2020-01-24       15.0     0.0        0.0  32.0  117.0\n",
       "3  Anhui   China  2020-01-25       60.0     0.0        0.0  32.0  117.0\n",
       "4  Anhui   China  2020-01-26       70.0     0.0        0.0  32.0  117.0"
      ]
     },
     "execution_count": 24,
     "metadata": {},
     "output_type": "execute_result"
    }
   ],
   "source": [
    "# For China\n",
    "china=df[df['Country']=='China']\n",
    "china.head()"
   ]
  },
  {
   "cell_type": "code",
   "execution_count": 25,
   "metadata": {},
   "outputs": [
    {
     "data": {
      "text/html": [
       "<div>\n",
       "<style scoped>\n",
       "    .dataframe tbody tr th:only-of-type {\n",
       "        vertical-align: middle;\n",
       "    }\n",
       "\n",
       "    .dataframe tbody tr th {\n",
       "        vertical-align: top;\n",
       "    }\n",
       "\n",
       "    .dataframe thead th {\n",
       "        text-align: right;\n",
       "    }\n",
       "</style>\n",
       "<table border=\"1\" class=\"dataframe\">\n",
       "  <thead>\n",
       "    <tr style=\"text-align: right;\">\n",
       "      <th></th>\n",
       "      <th>PS</th>\n",
       "      <th>Country</th>\n",
       "      <th>Date</th>\n",
       "      <th>Confirmed</th>\n",
       "      <th>Deaths</th>\n",
       "      <th>Recovered</th>\n",
       "      <th>lat</th>\n",
       "      <th>lon</th>\n",
       "    </tr>\n",
       "  </thead>\n",
       "  <tbody>\n",
       "    <tr>\n",
       "      <th>505</th>\n",
       "      <td>Washington</td>\n",
       "      <td>US</td>\n",
       "      <td>2020-01-27</td>\n",
       "      <td>1.0</td>\n",
       "      <td>0.0</td>\n",
       "      <td>0.0</td>\n",
       "      <td>38.894893</td>\n",
       "      <td>-77.036553</td>\n",
       "    </tr>\n",
       "    <tr>\n",
       "      <th>506</th>\n",
       "      <td>Washington</td>\n",
       "      <td>US</td>\n",
       "      <td>2020-01-28</td>\n",
       "      <td>1.0</td>\n",
       "      <td>0.0</td>\n",
       "      <td>0.0</td>\n",
       "      <td>38.894893</td>\n",
       "      <td>-77.036553</td>\n",
       "    </tr>\n",
       "    <tr>\n",
       "      <th>507</th>\n",
       "      <td>Washington</td>\n",
       "      <td>US</td>\n",
       "      <td>2020-01-29</td>\n",
       "      <td>1.0</td>\n",
       "      <td>0.0</td>\n",
       "      <td>0.0</td>\n",
       "      <td>38.894893</td>\n",
       "      <td>-77.036553</td>\n",
       "    </tr>\n",
       "    <tr>\n",
       "      <th>508</th>\n",
       "      <td>Washington</td>\n",
       "      <td>US</td>\n",
       "      <td>2020-01-30</td>\n",
       "      <td>1.0</td>\n",
       "      <td>0.0</td>\n",
       "      <td>0.0</td>\n",
       "      <td>38.894893</td>\n",
       "      <td>-77.036553</td>\n",
       "    </tr>\n",
       "    <tr>\n",
       "      <th>509</th>\n",
       "      <td>Washington</td>\n",
       "      <td>US</td>\n",
       "      <td>2020-01-31</td>\n",
       "      <td>1.0</td>\n",
       "      <td>0.0</td>\n",
       "      <td>0.0</td>\n",
       "      <td>38.894893</td>\n",
       "      <td>-77.036553</td>\n",
       "    </tr>\n",
       "  </tbody>\n",
       "</table>\n",
       "</div>"
      ],
      "text/plain": [
       "             PS Country        Date  Confirmed  Deaths  Recovered        lat  \\\n",
       "505  Washington      US  2020-01-27        1.0     0.0        0.0  38.894893   \n",
       "506  Washington      US  2020-01-28        1.0     0.0        0.0  38.894893   \n",
       "507  Washington      US  2020-01-29        1.0     0.0        0.0  38.894893   \n",
       "508  Washington      US  2020-01-30        1.0     0.0        0.0  38.894893   \n",
       "509  Washington      US  2020-01-31        1.0     0.0        0.0  38.894893   \n",
       "\n",
       "           lon  \n",
       "505 -77.036553  \n",
       "506 -77.036553  \n",
       "507 -77.036553  \n",
       "508 -77.036553  \n",
       "509 -77.036553  "
      ]
     },
     "execution_count": 25,
     "metadata": {},
     "output_type": "execute_result"
    }
   ],
   "source": [
    "# For remaining world\n",
    "world=df[df['Country']!='China']\n",
    "world.tail()"
   ]
  },
  {
   "cell_type": "code",
   "execution_count": 26,
   "metadata": {
    "collapsed": true
   },
   "outputs": [],
   "source": [
    "W=world.groupby('Date')['Confirmed'].sum()"
   ]
  },
  {
   "cell_type": "code",
   "execution_count": 27,
   "metadata": {
    "collapsed": true
   },
   "outputs": [],
   "source": [
    "C=china.groupby('Date')['Confirmed'].sum()"
   ]
  },
  {
   "cell_type": "markdown",
   "metadata": {},
   "source": [
    "<a id = Section505></a>\n",
    "### 5.5 Number of Corona Virus confirmed cases <font color='red'>China vs Rest World</font></center>"
   ]
  },
  {
   "cell_type": "code",
   "execution_count": 28,
   "metadata": {},
   "outputs": [
    {
     "data": {
      "application/vnd.plotly.v1+json": {
       "config": {
        "plotlyServerURL": "https://plot.ly"
       },
       "data": [
        {
         "line": {
          "color": "deepskyblue"
         },
         "name": "Rest_World",
         "opacity": 0.8,
         "type": "scatter",
         "x": [
          "2020-01-22",
          "2020-01-23",
          "2020-01-24",
          "2020-01-25",
          "2020-01-26",
          "2020-01-27",
          "2020-01-28",
          "2020-01-29",
          "2020-01-30",
          "2020-01-31",
          "2020-02-02"
         ],
         "y": [
          6,
          14,
          25,
          36,
          53,
          64,
          87,
          105,
          118,
          153,
          171
         ]
        },
        {
         "line": {
          "color": "red"
         },
         "name": "China",
         "opacity": 0.6,
         "type": "scatter",
         "x": [
          "2020-01-22",
          "2020-01-23",
          "2020-01-24",
          "2020-01-25",
          "2020-01-26",
          "2020-01-27",
          "2020-01-28",
          "2020-01-29",
          "2020-01-30",
          "2020-01-31",
          "2020-02-02"
         ],
         "y": [
          549,
          639,
          916,
          1979,
          2737,
          4409,
          5970,
          7678,
          9658,
          11221,
          17114
         ]
        }
       ],
       "layout": {
        "template": {
         "data": {
          "bar": [
           {
            "error_x": {
             "color": "#2a3f5f"
            },
            "error_y": {
             "color": "#2a3f5f"
            },
            "marker": {
             "line": {
              "color": "#E5ECF6",
              "width": 0.5
             }
            },
            "type": "bar"
           }
          ],
          "barpolar": [
           {
            "marker": {
             "line": {
              "color": "#E5ECF6",
              "width": 0.5
             }
            },
            "type": "barpolar"
           }
          ],
          "carpet": [
           {
            "aaxis": {
             "endlinecolor": "#2a3f5f",
             "gridcolor": "white",
             "linecolor": "white",
             "minorgridcolor": "white",
             "startlinecolor": "#2a3f5f"
            },
            "baxis": {
             "endlinecolor": "#2a3f5f",
             "gridcolor": "white",
             "linecolor": "white",
             "minorgridcolor": "white",
             "startlinecolor": "#2a3f5f"
            },
            "type": "carpet"
           }
          ],
          "choropleth": [
           {
            "colorbar": {
             "outlinewidth": 0,
             "ticks": ""
            },
            "type": "choropleth"
           }
          ],
          "contour": [
           {
            "colorbar": {
             "outlinewidth": 0,
             "ticks": ""
            },
            "colorscale": [
             [
              0,
              "#0d0887"
             ],
             [
              0.1111111111111111,
              "#46039f"
             ],
             [
              0.2222222222222222,
              "#7201a8"
             ],
             [
              0.3333333333333333,
              "#9c179e"
             ],
             [
              0.4444444444444444,
              "#bd3786"
             ],
             [
              0.5555555555555556,
              "#d8576b"
             ],
             [
              0.6666666666666666,
              "#ed7953"
             ],
             [
              0.7777777777777778,
              "#fb9f3a"
             ],
             [
              0.8888888888888888,
              "#fdca26"
             ],
             [
              1,
              "#f0f921"
             ]
            ],
            "type": "contour"
           }
          ],
          "contourcarpet": [
           {
            "colorbar": {
             "outlinewidth": 0,
             "ticks": ""
            },
            "type": "contourcarpet"
           }
          ],
          "heatmap": [
           {
            "colorbar": {
             "outlinewidth": 0,
             "ticks": ""
            },
            "colorscale": [
             [
              0,
              "#0d0887"
             ],
             [
              0.1111111111111111,
              "#46039f"
             ],
             [
              0.2222222222222222,
              "#7201a8"
             ],
             [
              0.3333333333333333,
              "#9c179e"
             ],
             [
              0.4444444444444444,
              "#bd3786"
             ],
             [
              0.5555555555555556,
              "#d8576b"
             ],
             [
              0.6666666666666666,
              "#ed7953"
             ],
             [
              0.7777777777777778,
              "#fb9f3a"
             ],
             [
              0.8888888888888888,
              "#fdca26"
             ],
             [
              1,
              "#f0f921"
             ]
            ],
            "type": "heatmap"
           }
          ],
          "heatmapgl": [
           {
            "colorbar": {
             "outlinewidth": 0,
             "ticks": ""
            },
            "colorscale": [
             [
              0,
              "#0d0887"
             ],
             [
              0.1111111111111111,
              "#46039f"
             ],
             [
              0.2222222222222222,
              "#7201a8"
             ],
             [
              0.3333333333333333,
              "#9c179e"
             ],
             [
              0.4444444444444444,
              "#bd3786"
             ],
             [
              0.5555555555555556,
              "#d8576b"
             ],
             [
              0.6666666666666666,
              "#ed7953"
             ],
             [
              0.7777777777777778,
              "#fb9f3a"
             ],
             [
              0.8888888888888888,
              "#fdca26"
             ],
             [
              1,
              "#f0f921"
             ]
            ],
            "type": "heatmapgl"
           }
          ],
          "histogram": [
           {
            "marker": {
             "colorbar": {
              "outlinewidth": 0,
              "ticks": ""
             }
            },
            "type": "histogram"
           }
          ],
          "histogram2d": [
           {
            "colorbar": {
             "outlinewidth": 0,
             "ticks": ""
            },
            "colorscale": [
             [
              0,
              "#0d0887"
             ],
             [
              0.1111111111111111,
              "#46039f"
             ],
             [
              0.2222222222222222,
              "#7201a8"
             ],
             [
              0.3333333333333333,
              "#9c179e"
             ],
             [
              0.4444444444444444,
              "#bd3786"
             ],
             [
              0.5555555555555556,
              "#d8576b"
             ],
             [
              0.6666666666666666,
              "#ed7953"
             ],
             [
              0.7777777777777778,
              "#fb9f3a"
             ],
             [
              0.8888888888888888,
              "#fdca26"
             ],
             [
              1,
              "#f0f921"
             ]
            ],
            "type": "histogram2d"
           }
          ],
          "histogram2dcontour": [
           {
            "colorbar": {
             "outlinewidth": 0,
             "ticks": ""
            },
            "colorscale": [
             [
              0,
              "#0d0887"
             ],
             [
              0.1111111111111111,
              "#46039f"
             ],
             [
              0.2222222222222222,
              "#7201a8"
             ],
             [
              0.3333333333333333,
              "#9c179e"
             ],
             [
              0.4444444444444444,
              "#bd3786"
             ],
             [
              0.5555555555555556,
              "#d8576b"
             ],
             [
              0.6666666666666666,
              "#ed7953"
             ],
             [
              0.7777777777777778,
              "#fb9f3a"
             ],
             [
              0.8888888888888888,
              "#fdca26"
             ],
             [
              1,
              "#f0f921"
             ]
            ],
            "type": "histogram2dcontour"
           }
          ],
          "mesh3d": [
           {
            "colorbar": {
             "outlinewidth": 0,
             "ticks": ""
            },
            "type": "mesh3d"
           }
          ],
          "parcoords": [
           {
            "line": {
             "colorbar": {
              "outlinewidth": 0,
              "ticks": ""
             }
            },
            "type": "parcoords"
           }
          ],
          "scatter": [
           {
            "marker": {
             "colorbar": {
              "outlinewidth": 0,
              "ticks": ""
             }
            },
            "type": "scatter"
           }
          ],
          "scatter3d": [
           {
            "line": {
             "colorbar": {
              "outlinewidth": 0,
              "ticks": ""
             }
            },
            "marker": {
             "colorbar": {
              "outlinewidth": 0,
              "ticks": ""
             }
            },
            "type": "scatter3d"
           }
          ],
          "scattercarpet": [
           {
            "marker": {
             "colorbar": {
              "outlinewidth": 0,
              "ticks": ""
             }
            },
            "type": "scattercarpet"
           }
          ],
          "scattergeo": [
           {
            "marker": {
             "colorbar": {
              "outlinewidth": 0,
              "ticks": ""
             }
            },
            "type": "scattergeo"
           }
          ],
          "scattergl": [
           {
            "marker": {
             "colorbar": {
              "outlinewidth": 0,
              "ticks": ""
             }
            },
            "type": "scattergl"
           }
          ],
          "scattermapbox": [
           {
            "marker": {
             "colorbar": {
              "outlinewidth": 0,
              "ticks": ""
             }
            },
            "type": "scattermapbox"
           }
          ],
          "scatterpolar": [
           {
            "marker": {
             "colorbar": {
              "outlinewidth": 0,
              "ticks": ""
             }
            },
            "type": "scatterpolar"
           }
          ],
          "scatterpolargl": [
           {
            "marker": {
             "colorbar": {
              "outlinewidth": 0,
              "ticks": ""
             }
            },
            "type": "scatterpolargl"
           }
          ],
          "scatterternary": [
           {
            "marker": {
             "colorbar": {
              "outlinewidth": 0,
              "ticks": ""
             }
            },
            "type": "scatterternary"
           }
          ],
          "surface": [
           {
            "colorbar": {
             "outlinewidth": 0,
             "ticks": ""
            },
            "colorscale": [
             [
              0,
              "#0d0887"
             ],
             [
              0.1111111111111111,
              "#46039f"
             ],
             [
              0.2222222222222222,
              "#7201a8"
             ],
             [
              0.3333333333333333,
              "#9c179e"
             ],
             [
              0.4444444444444444,
              "#bd3786"
             ],
             [
              0.5555555555555556,
              "#d8576b"
             ],
             [
              0.6666666666666666,
              "#ed7953"
             ],
             [
              0.7777777777777778,
              "#fb9f3a"
             ],
             [
              0.8888888888888888,
              "#fdca26"
             ],
             [
              1,
              "#f0f921"
             ]
            ],
            "type": "surface"
           }
          ],
          "table": [
           {
            "cells": {
             "fill": {
              "color": "#EBF0F8"
             },
             "line": {
              "color": "white"
             }
            },
            "header": {
             "fill": {
              "color": "#C8D4E3"
             },
             "line": {
              "color": "white"
             }
            },
            "type": "table"
           }
          ]
         },
         "layout": {
          "annotationdefaults": {
           "arrowcolor": "#2a3f5f",
           "arrowhead": 0,
           "arrowwidth": 1
          },
          "colorscale": {
           "diverging": [
            [
             0,
             "#8e0152"
            ],
            [
             0.1,
             "#c51b7d"
            ],
            [
             0.2,
             "#de77ae"
            ],
            [
             0.3,
             "#f1b6da"
            ],
            [
             0.4,
             "#fde0ef"
            ],
            [
             0.5,
             "#f7f7f7"
            ],
            [
             0.6,
             "#e6f5d0"
            ],
            [
             0.7,
             "#b8e186"
            ],
            [
             0.8,
             "#7fbc41"
            ],
            [
             0.9,
             "#4d9221"
            ],
            [
             1,
             "#276419"
            ]
           ],
           "sequential": [
            [
             0,
             "#0d0887"
            ],
            [
             0.1111111111111111,
             "#46039f"
            ],
            [
             0.2222222222222222,
             "#7201a8"
            ],
            [
             0.3333333333333333,
             "#9c179e"
            ],
            [
             0.4444444444444444,
             "#bd3786"
            ],
            [
             0.5555555555555556,
             "#d8576b"
            ],
            [
             0.6666666666666666,
             "#ed7953"
            ],
            [
             0.7777777777777778,
             "#fb9f3a"
            ],
            [
             0.8888888888888888,
             "#fdca26"
            ],
            [
             1,
             "#f0f921"
            ]
           ],
           "sequentialminus": [
            [
             0,
             "#0d0887"
            ],
            [
             0.1111111111111111,
             "#46039f"
            ],
            [
             0.2222222222222222,
             "#7201a8"
            ],
            [
             0.3333333333333333,
             "#9c179e"
            ],
            [
             0.4444444444444444,
             "#bd3786"
            ],
            [
             0.5555555555555556,
             "#d8576b"
            ],
            [
             0.6666666666666666,
             "#ed7953"
            ],
            [
             0.7777777777777778,
             "#fb9f3a"
            ],
            [
             0.8888888888888888,
             "#fdca26"
            ],
            [
             1,
             "#f0f921"
            ]
           ]
          },
          "colorway": [
           "#636efa",
           "#EF553B",
           "#00cc96",
           "#ab63fa",
           "#FFA15A",
           "#19d3f3",
           "#FF6692",
           "#B6E880",
           "#FF97FF",
           "#FECB52"
          ],
          "font": {
           "color": "#2a3f5f"
          },
          "geo": {
           "bgcolor": "white",
           "lakecolor": "white",
           "landcolor": "#E5ECF6",
           "showlakes": true,
           "showland": true,
           "subunitcolor": "white"
          },
          "hoverlabel": {
           "align": "left"
          },
          "hovermode": "closest",
          "mapbox": {
           "style": "light"
          },
          "paper_bgcolor": "white",
          "plot_bgcolor": "#E5ECF6",
          "polar": {
           "angularaxis": {
            "gridcolor": "white",
            "linecolor": "white",
            "ticks": ""
           },
           "bgcolor": "#E5ECF6",
           "radialaxis": {
            "gridcolor": "white",
            "linecolor": "white",
            "ticks": ""
           }
          },
          "scene": {
           "xaxis": {
            "backgroundcolor": "#E5ECF6",
            "gridcolor": "white",
            "gridwidth": 2,
            "linecolor": "white",
            "showbackground": true,
            "ticks": "",
            "zerolinecolor": "white"
           },
           "yaxis": {
            "backgroundcolor": "#E5ECF6",
            "gridcolor": "white",
            "gridwidth": 2,
            "linecolor": "white",
            "showbackground": true,
            "ticks": "",
            "zerolinecolor": "white"
           },
           "zaxis": {
            "backgroundcolor": "#E5ECF6",
            "gridcolor": "white",
            "gridwidth": 2,
            "linecolor": "white",
            "showbackground": true,
            "ticks": "",
            "zerolinecolor": "white"
           }
          },
          "shapedefaults": {
           "line": {
            "color": "#2a3f5f"
           }
          },
          "ternary": {
           "aaxis": {
            "gridcolor": "white",
            "linecolor": "white",
            "ticks": ""
           },
           "baxis": {
            "gridcolor": "white",
            "linecolor": "white",
            "ticks": ""
           },
           "bgcolor": "#E5ECF6",
           "caxis": {
            "gridcolor": "white",
            "linecolor": "white",
            "ticks": ""
           }
          },
          "title": {
           "x": 0.05
          },
          "xaxis": {
           "automargin": true,
           "gridcolor": "white",
           "linecolor": "white",
           "ticks": "",
           "zerolinecolor": "white",
           "zerolinewidth": 2
          },
          "yaxis": {
           "automargin": true,
           "gridcolor": "white",
           "linecolor": "white",
           "ticks": "",
           "zerolinecolor": "white",
           "zerolinewidth": 2
          }
         }
        },
        "title": {
         "text": "Corona Virus Confirmed cases in China vs Rest World",
         "x": 0.5,
         "xanchor": "center",
         "y": 0.85,
         "yanchor": "top"
        },
        "xaxis": {
         "title": {
          "text": "Virus Spread Dates"
         }
        },
        "yaxis": {
         "title": {
          "text": "Number of Confirmed infected people"
         }
        }
       }
      },
      "text/html": [
       "<div>\n",
       "        \n",
       "        \n",
       "            <div id=\"cb98ed4a-0312-44b1-a4f1-9be056e7096a\" class=\"plotly-graph-div\" style=\"height:525px; width:100%;\"></div>\n",
       "            <script type=\"text/javascript\">\n",
       "                require([\"plotly\"], function(Plotly) {\n",
       "                    window.PLOTLYENV=window.PLOTLYENV || {};\n",
       "                    \n",
       "                if (document.getElementById(\"cb98ed4a-0312-44b1-a4f1-9be056e7096a\")) {\n",
       "                    Plotly.newPlot(\n",
       "                        'cb98ed4a-0312-44b1-a4f1-9be056e7096a',\n",
       "                        [{\"line\": {\"color\": \"deepskyblue\"}, \"name\": \"Rest_World\", \"opacity\": 0.8, \"type\": \"scatter\", \"x\": [\"2020-01-22\", \"2020-01-23\", \"2020-01-24\", \"2020-01-25\", \"2020-01-26\", \"2020-01-27\", \"2020-01-28\", \"2020-01-29\", \"2020-01-30\", \"2020-01-31\", \"2020-02-02\"], \"y\": [6.0, 14.0, 25.0, 36.0, 53.0, 64.0, 87.0, 105.0, 118.0, 153.0, 171.0]}, {\"line\": {\"color\": \"red\"}, \"name\": \"China\", \"opacity\": 0.6, \"type\": \"scatter\", \"x\": [\"2020-01-22\", \"2020-01-23\", \"2020-01-24\", \"2020-01-25\", \"2020-01-26\", \"2020-01-27\", \"2020-01-28\", \"2020-01-29\", \"2020-01-30\", \"2020-01-31\", \"2020-02-02\"], \"y\": [549.0, 639.0, 916.0, 1979.0, 2737.0, 4409.0, 5970.0, 7678.0, 9658.0, 11221.0, 17114.0]}],\n",
       "                        {\"template\": {\"data\": {\"bar\": [{\"error_x\": {\"color\": \"#2a3f5f\"}, \"error_y\": {\"color\": \"#2a3f5f\"}, \"marker\": {\"line\": {\"color\": \"#E5ECF6\", \"width\": 0.5}}, \"type\": \"bar\"}], \"barpolar\": [{\"marker\": {\"line\": {\"color\": \"#E5ECF6\", \"width\": 0.5}}, \"type\": \"barpolar\"}], \"carpet\": [{\"aaxis\": {\"endlinecolor\": \"#2a3f5f\", \"gridcolor\": \"white\", \"linecolor\": \"white\", \"minorgridcolor\": \"white\", \"startlinecolor\": \"#2a3f5f\"}, \"baxis\": {\"endlinecolor\": \"#2a3f5f\", \"gridcolor\": \"white\", \"linecolor\": \"white\", \"minorgridcolor\": \"white\", \"startlinecolor\": \"#2a3f5f\"}, \"type\": \"carpet\"}], \"choropleth\": [{\"colorbar\": {\"outlinewidth\": 0, \"ticks\": \"\"}, \"type\": \"choropleth\"}], \"contour\": [{\"colorbar\": {\"outlinewidth\": 0, \"ticks\": \"\"}, \"colorscale\": [[0.0, \"#0d0887\"], [0.1111111111111111, \"#46039f\"], [0.2222222222222222, \"#7201a8\"], [0.3333333333333333, \"#9c179e\"], [0.4444444444444444, \"#bd3786\"], [0.5555555555555556, \"#d8576b\"], [0.6666666666666666, \"#ed7953\"], [0.7777777777777778, \"#fb9f3a\"], [0.8888888888888888, \"#fdca26\"], [1.0, \"#f0f921\"]], \"type\": \"contour\"}], \"contourcarpet\": [{\"colorbar\": {\"outlinewidth\": 0, \"ticks\": \"\"}, \"type\": \"contourcarpet\"}], \"heatmap\": [{\"colorbar\": {\"outlinewidth\": 0, \"ticks\": \"\"}, \"colorscale\": [[0.0, \"#0d0887\"], [0.1111111111111111, \"#46039f\"], [0.2222222222222222, \"#7201a8\"], [0.3333333333333333, \"#9c179e\"], [0.4444444444444444, \"#bd3786\"], [0.5555555555555556, \"#d8576b\"], [0.6666666666666666, \"#ed7953\"], [0.7777777777777778, \"#fb9f3a\"], [0.8888888888888888, \"#fdca26\"], [1.0, \"#f0f921\"]], \"type\": \"heatmap\"}], \"heatmapgl\": [{\"colorbar\": {\"outlinewidth\": 0, \"ticks\": \"\"}, \"colorscale\": [[0.0, \"#0d0887\"], [0.1111111111111111, \"#46039f\"], [0.2222222222222222, \"#7201a8\"], [0.3333333333333333, \"#9c179e\"], [0.4444444444444444, \"#bd3786\"], [0.5555555555555556, \"#d8576b\"], [0.6666666666666666, \"#ed7953\"], [0.7777777777777778, \"#fb9f3a\"], [0.8888888888888888, \"#fdca26\"], [1.0, \"#f0f921\"]], \"type\": \"heatmapgl\"}], \"histogram\": [{\"marker\": {\"colorbar\": {\"outlinewidth\": 0, \"ticks\": \"\"}}, \"type\": \"histogram\"}], \"histogram2d\": [{\"colorbar\": {\"outlinewidth\": 0, \"ticks\": \"\"}, \"colorscale\": [[0.0, \"#0d0887\"], [0.1111111111111111, \"#46039f\"], [0.2222222222222222, \"#7201a8\"], [0.3333333333333333, \"#9c179e\"], [0.4444444444444444, \"#bd3786\"], [0.5555555555555556, \"#d8576b\"], [0.6666666666666666, \"#ed7953\"], [0.7777777777777778, \"#fb9f3a\"], [0.8888888888888888, \"#fdca26\"], [1.0, \"#f0f921\"]], \"type\": \"histogram2d\"}], \"histogram2dcontour\": [{\"colorbar\": {\"outlinewidth\": 0, \"ticks\": \"\"}, \"colorscale\": [[0.0, \"#0d0887\"], [0.1111111111111111, \"#46039f\"], [0.2222222222222222, \"#7201a8\"], [0.3333333333333333, \"#9c179e\"], [0.4444444444444444, \"#bd3786\"], [0.5555555555555556, \"#d8576b\"], [0.6666666666666666, \"#ed7953\"], [0.7777777777777778, \"#fb9f3a\"], [0.8888888888888888, \"#fdca26\"], [1.0, \"#f0f921\"]], \"type\": \"histogram2dcontour\"}], \"mesh3d\": [{\"colorbar\": {\"outlinewidth\": 0, \"ticks\": \"\"}, \"type\": \"mesh3d\"}], \"parcoords\": [{\"line\": {\"colorbar\": {\"outlinewidth\": 0, \"ticks\": \"\"}}, \"type\": \"parcoords\"}], \"scatter\": [{\"marker\": {\"colorbar\": {\"outlinewidth\": 0, \"ticks\": \"\"}}, \"type\": \"scatter\"}], \"scatter3d\": [{\"line\": {\"colorbar\": {\"outlinewidth\": 0, \"ticks\": \"\"}}, \"marker\": {\"colorbar\": {\"outlinewidth\": 0, \"ticks\": \"\"}}, \"type\": \"scatter3d\"}], \"scattercarpet\": [{\"marker\": {\"colorbar\": {\"outlinewidth\": 0, \"ticks\": \"\"}}, \"type\": \"scattercarpet\"}], \"scattergeo\": [{\"marker\": {\"colorbar\": {\"outlinewidth\": 0, \"ticks\": \"\"}}, \"type\": \"scattergeo\"}], \"scattergl\": [{\"marker\": {\"colorbar\": {\"outlinewidth\": 0, \"ticks\": \"\"}}, \"type\": \"scattergl\"}], \"scattermapbox\": [{\"marker\": {\"colorbar\": {\"outlinewidth\": 0, \"ticks\": \"\"}}, \"type\": \"scattermapbox\"}], \"scatterpolar\": [{\"marker\": {\"colorbar\": {\"outlinewidth\": 0, \"ticks\": \"\"}}, \"type\": \"scatterpolar\"}], \"scatterpolargl\": [{\"marker\": {\"colorbar\": {\"outlinewidth\": 0, \"ticks\": \"\"}}, \"type\": \"scatterpolargl\"}], \"scatterternary\": [{\"marker\": {\"colorbar\": {\"outlinewidth\": 0, \"ticks\": \"\"}}, \"type\": \"scatterternary\"}], \"surface\": [{\"colorbar\": {\"outlinewidth\": 0, \"ticks\": \"\"}, \"colorscale\": [[0.0, \"#0d0887\"], [0.1111111111111111, \"#46039f\"], [0.2222222222222222, \"#7201a8\"], [0.3333333333333333, \"#9c179e\"], [0.4444444444444444, \"#bd3786\"], [0.5555555555555556, \"#d8576b\"], [0.6666666666666666, \"#ed7953\"], [0.7777777777777778, \"#fb9f3a\"], [0.8888888888888888, \"#fdca26\"], [1.0, \"#f0f921\"]], \"type\": \"surface\"}], \"table\": [{\"cells\": {\"fill\": {\"color\": \"#EBF0F8\"}, \"line\": {\"color\": \"white\"}}, \"header\": {\"fill\": {\"color\": \"#C8D4E3\"}, \"line\": {\"color\": \"white\"}}, \"type\": \"table\"}]}, \"layout\": {\"annotationdefaults\": {\"arrowcolor\": \"#2a3f5f\", \"arrowhead\": 0, \"arrowwidth\": 1}, \"colorscale\": {\"diverging\": [[0, \"#8e0152\"], [0.1, \"#c51b7d\"], [0.2, \"#de77ae\"], [0.3, \"#f1b6da\"], [0.4, \"#fde0ef\"], [0.5, \"#f7f7f7\"], [0.6, \"#e6f5d0\"], [0.7, \"#b8e186\"], [0.8, \"#7fbc41\"], [0.9, \"#4d9221\"], [1, \"#276419\"]], \"sequential\": [[0.0, \"#0d0887\"], [0.1111111111111111, \"#46039f\"], [0.2222222222222222, \"#7201a8\"], [0.3333333333333333, \"#9c179e\"], [0.4444444444444444, \"#bd3786\"], [0.5555555555555556, \"#d8576b\"], [0.6666666666666666, \"#ed7953\"], [0.7777777777777778, \"#fb9f3a\"], [0.8888888888888888, \"#fdca26\"], [1.0, \"#f0f921\"]], \"sequentialminus\": [[0.0, \"#0d0887\"], [0.1111111111111111, \"#46039f\"], [0.2222222222222222, \"#7201a8\"], [0.3333333333333333, \"#9c179e\"], [0.4444444444444444, \"#bd3786\"], [0.5555555555555556, \"#d8576b\"], [0.6666666666666666, \"#ed7953\"], [0.7777777777777778, \"#fb9f3a\"], [0.8888888888888888, \"#fdca26\"], [1.0, \"#f0f921\"]]}, \"colorway\": [\"#636efa\", \"#EF553B\", \"#00cc96\", \"#ab63fa\", \"#FFA15A\", \"#19d3f3\", \"#FF6692\", \"#B6E880\", \"#FF97FF\", \"#FECB52\"], \"font\": {\"color\": \"#2a3f5f\"}, \"geo\": {\"bgcolor\": \"white\", \"lakecolor\": \"white\", \"landcolor\": \"#E5ECF6\", \"showlakes\": true, \"showland\": true, \"subunitcolor\": \"white\"}, \"hoverlabel\": {\"align\": \"left\"}, \"hovermode\": \"closest\", \"mapbox\": {\"style\": \"light\"}, \"paper_bgcolor\": \"white\", \"plot_bgcolor\": \"#E5ECF6\", \"polar\": {\"angularaxis\": {\"gridcolor\": \"white\", \"linecolor\": \"white\", \"ticks\": \"\"}, \"bgcolor\": \"#E5ECF6\", \"radialaxis\": {\"gridcolor\": \"white\", \"linecolor\": \"white\", \"ticks\": \"\"}}, \"scene\": {\"xaxis\": {\"backgroundcolor\": \"#E5ECF6\", \"gridcolor\": \"white\", \"gridwidth\": 2, \"linecolor\": \"white\", \"showbackground\": true, \"ticks\": \"\", \"zerolinecolor\": \"white\"}, \"yaxis\": {\"backgroundcolor\": \"#E5ECF6\", \"gridcolor\": \"white\", \"gridwidth\": 2, \"linecolor\": \"white\", \"showbackground\": true, \"ticks\": \"\", \"zerolinecolor\": \"white\"}, \"zaxis\": {\"backgroundcolor\": \"#E5ECF6\", \"gridcolor\": \"white\", \"gridwidth\": 2, \"linecolor\": \"white\", \"showbackground\": true, \"ticks\": \"\", \"zerolinecolor\": \"white\"}}, \"shapedefaults\": {\"line\": {\"color\": \"#2a3f5f\"}}, \"ternary\": {\"aaxis\": {\"gridcolor\": \"white\", \"linecolor\": \"white\", \"ticks\": \"\"}, \"baxis\": {\"gridcolor\": \"white\", \"linecolor\": \"white\", \"ticks\": \"\"}, \"bgcolor\": \"#E5ECF6\", \"caxis\": {\"gridcolor\": \"white\", \"linecolor\": \"white\", \"ticks\": \"\"}}, \"title\": {\"x\": 0.05}, \"xaxis\": {\"automargin\": true, \"gridcolor\": \"white\", \"linecolor\": \"white\", \"ticks\": \"\", \"zerolinecolor\": \"white\", \"zerolinewidth\": 2}, \"yaxis\": {\"automargin\": true, \"gridcolor\": \"white\", \"linecolor\": \"white\", \"ticks\": \"\", \"zerolinecolor\": \"white\", \"zerolinewidth\": 2}}}, \"title\": {\"text\": \"Corona Virus Confirmed cases in China vs Rest World\", \"x\": 0.5, \"xanchor\": \"center\", \"y\": 0.85, \"yanchor\": \"top\"}, \"xaxis\": {\"title\": {\"text\": \"Virus Spread Dates\"}}, \"yaxis\": {\"title\": {\"text\": \"Number of Confirmed infected people\"}}},\n",
       "                        {\"responsive\": true}\n",
       "                    ).then(function(){\n",
       "                            \n",
       "var gd = document.getElementById('cb98ed4a-0312-44b1-a4f1-9be056e7096a');\n",
       "var x = new MutationObserver(function (mutations, observer) {{\n",
       "        var display = window.getComputedStyle(gd).display;\n",
       "        if (!display || display === 'none') {{\n",
       "            console.log([gd, 'removed!']);\n",
       "            Plotly.purge(gd);\n",
       "            observer.disconnect();\n",
       "        }}\n",
       "}});\n",
       "\n",
       "// Listen for the removal of the full notebook cells\n",
       "var notebookContainer = gd.closest('#notebook-container');\n",
       "if (notebookContainer) {{\n",
       "    x.observe(notebookContainer, {childList: true});\n",
       "}}\n",
       "\n",
       "// Listen for the clearing of the current output cell\n",
       "var outputEl = gd.closest('.output');\n",
       "if (outputEl) {{\n",
       "    x.observe(outputEl, {childList: true});\n",
       "}}\n",
       "\n",
       "                        })\n",
       "                };\n",
       "                });\n",
       "            </script>\n",
       "        </div>"
      ]
     },
     "metadata": {},
     "output_type": "display_data"
    }
   ],
   "source": [
    "import plotly.graph_objects as go\n",
    "import datetime\n",
    "\n",
    "X_china = C.index\n",
    "X_world = W.index\n",
    "\n",
    "fig = go.Figure(layout=go.Layout(\n",
    "        title = {'text': f'Corona Virus Confirmed cases in China vs Rest World',\n",
    "                                'y':0.85,\n",
    "                                'x':0.5,\n",
    "                                'xanchor': 'center',\n",
    "                                'yanchor': 'top'},\n",
    "        xaxis_title=\"Virus Spread Dates\",\n",
    "        yaxis_title=\"Number of Confirmed infected people\"))\n",
    "\n",
    "fig.add_trace(go.Scatter(x=X_world, y=W.values,line_color='deepskyblue',name='Rest_World',\n",
    "                opacity=0.8))\n",
    "\n",
    "fig.add_trace(go.Scatter(x=X_china, y=C.values,line_color='red',name='China',\n",
    "                opacity=0.6))\n",
    "fig.show()"
   ]
  },
  {
   "cell_type": "markdown",
   "metadata": {},
   "source": [
    "<a id=Section55></a>\n",
    "### 5.5 Number of deaths due to Corona Virus <font color='red'>China vs Rest World</font></center>"
   ]
  },
  {
   "cell_type": "code",
   "execution_count": 29,
   "metadata": {
    "collapsed": true
   },
   "outputs": [],
   "source": [
    "# For China\n",
    "death_c=china.groupby('Date')['Deaths'].sum()\n",
    "\n",
    "# Rest world\n",
    "death_w=world.groupby('Date')['Deaths'].sum()"
   ]
  },
  {
   "cell_type": "code",
   "execution_count": 30,
   "metadata": {},
   "outputs": [
    {
     "data": {
      "application/vnd.plotly.v1+json": {
       "config": {
        "plotlyServerURL": "https://plot.ly"
       },
       "data": [
        {
         "line": {
          "color": "deepskyblue"
         },
         "name": "Rest_World",
         "opacity": 0.8,
         "type": "scatter",
         "x": [
          "2020-01-22",
          "2020-01-23",
          "2020-01-24",
          "2020-01-25",
          "2020-01-26",
          "2020-01-27",
          "2020-01-28",
          "2020-01-29",
          "2020-01-30",
          "2020-01-31",
          "2020-02-02"
         ],
         "y": [
          0,
          0,
          0,
          0,
          0,
          0,
          0,
          0,
          0,
          0,
          1
         ]
        },
        {
         "line": {
          "color": "red"
         },
         "name": "China",
         "opacity": 0.6,
         "type": "scatter",
         "x": [
          "2020-01-22",
          "2020-01-23",
          "2020-01-24",
          "2020-01-25",
          "2020-01-26",
          "2020-01-27",
          "2020-01-28",
          "2020-01-29",
          "2020-01-30",
          "2020-01-31",
          "2020-02-02"
         ],
         "y": [
          0,
          18,
          26,
          56,
          80,
          107,
          132,
          170,
          213,
          259,
          361
         ]
        }
       ],
       "layout": {
        "template": {
         "data": {
          "bar": [
           {
            "error_x": {
             "color": "#2a3f5f"
            },
            "error_y": {
             "color": "#2a3f5f"
            },
            "marker": {
             "line": {
              "color": "#E5ECF6",
              "width": 0.5
             }
            },
            "type": "bar"
           }
          ],
          "barpolar": [
           {
            "marker": {
             "line": {
              "color": "#E5ECF6",
              "width": 0.5
             }
            },
            "type": "barpolar"
           }
          ],
          "carpet": [
           {
            "aaxis": {
             "endlinecolor": "#2a3f5f",
             "gridcolor": "white",
             "linecolor": "white",
             "minorgridcolor": "white",
             "startlinecolor": "#2a3f5f"
            },
            "baxis": {
             "endlinecolor": "#2a3f5f",
             "gridcolor": "white",
             "linecolor": "white",
             "minorgridcolor": "white",
             "startlinecolor": "#2a3f5f"
            },
            "type": "carpet"
           }
          ],
          "choropleth": [
           {
            "colorbar": {
             "outlinewidth": 0,
             "ticks": ""
            },
            "type": "choropleth"
           }
          ],
          "contour": [
           {
            "colorbar": {
             "outlinewidth": 0,
             "ticks": ""
            },
            "colorscale": [
             [
              0,
              "#0d0887"
             ],
             [
              0.1111111111111111,
              "#46039f"
             ],
             [
              0.2222222222222222,
              "#7201a8"
             ],
             [
              0.3333333333333333,
              "#9c179e"
             ],
             [
              0.4444444444444444,
              "#bd3786"
             ],
             [
              0.5555555555555556,
              "#d8576b"
             ],
             [
              0.6666666666666666,
              "#ed7953"
             ],
             [
              0.7777777777777778,
              "#fb9f3a"
             ],
             [
              0.8888888888888888,
              "#fdca26"
             ],
             [
              1,
              "#f0f921"
             ]
            ],
            "type": "contour"
           }
          ],
          "contourcarpet": [
           {
            "colorbar": {
             "outlinewidth": 0,
             "ticks": ""
            },
            "type": "contourcarpet"
           }
          ],
          "heatmap": [
           {
            "colorbar": {
             "outlinewidth": 0,
             "ticks": ""
            },
            "colorscale": [
             [
              0,
              "#0d0887"
             ],
             [
              0.1111111111111111,
              "#46039f"
             ],
             [
              0.2222222222222222,
              "#7201a8"
             ],
             [
              0.3333333333333333,
              "#9c179e"
             ],
             [
              0.4444444444444444,
              "#bd3786"
             ],
             [
              0.5555555555555556,
              "#d8576b"
             ],
             [
              0.6666666666666666,
              "#ed7953"
             ],
             [
              0.7777777777777778,
              "#fb9f3a"
             ],
             [
              0.8888888888888888,
              "#fdca26"
             ],
             [
              1,
              "#f0f921"
             ]
            ],
            "type": "heatmap"
           }
          ],
          "heatmapgl": [
           {
            "colorbar": {
             "outlinewidth": 0,
             "ticks": ""
            },
            "colorscale": [
             [
              0,
              "#0d0887"
             ],
             [
              0.1111111111111111,
              "#46039f"
             ],
             [
              0.2222222222222222,
              "#7201a8"
             ],
             [
              0.3333333333333333,
              "#9c179e"
             ],
             [
              0.4444444444444444,
              "#bd3786"
             ],
             [
              0.5555555555555556,
              "#d8576b"
             ],
             [
              0.6666666666666666,
              "#ed7953"
             ],
             [
              0.7777777777777778,
              "#fb9f3a"
             ],
             [
              0.8888888888888888,
              "#fdca26"
             ],
             [
              1,
              "#f0f921"
             ]
            ],
            "type": "heatmapgl"
           }
          ],
          "histogram": [
           {
            "marker": {
             "colorbar": {
              "outlinewidth": 0,
              "ticks": ""
             }
            },
            "type": "histogram"
           }
          ],
          "histogram2d": [
           {
            "colorbar": {
             "outlinewidth": 0,
             "ticks": ""
            },
            "colorscale": [
             [
              0,
              "#0d0887"
             ],
             [
              0.1111111111111111,
              "#46039f"
             ],
             [
              0.2222222222222222,
              "#7201a8"
             ],
             [
              0.3333333333333333,
              "#9c179e"
             ],
             [
              0.4444444444444444,
              "#bd3786"
             ],
             [
              0.5555555555555556,
              "#d8576b"
             ],
             [
              0.6666666666666666,
              "#ed7953"
             ],
             [
              0.7777777777777778,
              "#fb9f3a"
             ],
             [
              0.8888888888888888,
              "#fdca26"
             ],
             [
              1,
              "#f0f921"
             ]
            ],
            "type": "histogram2d"
           }
          ],
          "histogram2dcontour": [
           {
            "colorbar": {
             "outlinewidth": 0,
             "ticks": ""
            },
            "colorscale": [
             [
              0,
              "#0d0887"
             ],
             [
              0.1111111111111111,
              "#46039f"
             ],
             [
              0.2222222222222222,
              "#7201a8"
             ],
             [
              0.3333333333333333,
              "#9c179e"
             ],
             [
              0.4444444444444444,
              "#bd3786"
             ],
             [
              0.5555555555555556,
              "#d8576b"
             ],
             [
              0.6666666666666666,
              "#ed7953"
             ],
             [
              0.7777777777777778,
              "#fb9f3a"
             ],
             [
              0.8888888888888888,
              "#fdca26"
             ],
             [
              1,
              "#f0f921"
             ]
            ],
            "type": "histogram2dcontour"
           }
          ],
          "mesh3d": [
           {
            "colorbar": {
             "outlinewidth": 0,
             "ticks": ""
            },
            "type": "mesh3d"
           }
          ],
          "parcoords": [
           {
            "line": {
             "colorbar": {
              "outlinewidth": 0,
              "ticks": ""
             }
            },
            "type": "parcoords"
           }
          ],
          "scatter": [
           {
            "marker": {
             "colorbar": {
              "outlinewidth": 0,
              "ticks": ""
             }
            },
            "type": "scatter"
           }
          ],
          "scatter3d": [
           {
            "line": {
             "colorbar": {
              "outlinewidth": 0,
              "ticks": ""
             }
            },
            "marker": {
             "colorbar": {
              "outlinewidth": 0,
              "ticks": ""
             }
            },
            "type": "scatter3d"
           }
          ],
          "scattercarpet": [
           {
            "marker": {
             "colorbar": {
              "outlinewidth": 0,
              "ticks": ""
             }
            },
            "type": "scattercarpet"
           }
          ],
          "scattergeo": [
           {
            "marker": {
             "colorbar": {
              "outlinewidth": 0,
              "ticks": ""
             }
            },
            "type": "scattergeo"
           }
          ],
          "scattergl": [
           {
            "marker": {
             "colorbar": {
              "outlinewidth": 0,
              "ticks": ""
             }
            },
            "type": "scattergl"
           }
          ],
          "scattermapbox": [
           {
            "marker": {
             "colorbar": {
              "outlinewidth": 0,
              "ticks": ""
             }
            },
            "type": "scattermapbox"
           }
          ],
          "scatterpolar": [
           {
            "marker": {
             "colorbar": {
              "outlinewidth": 0,
              "ticks": ""
             }
            },
            "type": "scatterpolar"
           }
          ],
          "scatterpolargl": [
           {
            "marker": {
             "colorbar": {
              "outlinewidth": 0,
              "ticks": ""
             }
            },
            "type": "scatterpolargl"
           }
          ],
          "scatterternary": [
           {
            "marker": {
             "colorbar": {
              "outlinewidth": 0,
              "ticks": ""
             }
            },
            "type": "scatterternary"
           }
          ],
          "surface": [
           {
            "colorbar": {
             "outlinewidth": 0,
             "ticks": ""
            },
            "colorscale": [
             [
              0,
              "#0d0887"
             ],
             [
              0.1111111111111111,
              "#46039f"
             ],
             [
              0.2222222222222222,
              "#7201a8"
             ],
             [
              0.3333333333333333,
              "#9c179e"
             ],
             [
              0.4444444444444444,
              "#bd3786"
             ],
             [
              0.5555555555555556,
              "#d8576b"
             ],
             [
              0.6666666666666666,
              "#ed7953"
             ],
             [
              0.7777777777777778,
              "#fb9f3a"
             ],
             [
              0.8888888888888888,
              "#fdca26"
             ],
             [
              1,
              "#f0f921"
             ]
            ],
            "type": "surface"
           }
          ],
          "table": [
           {
            "cells": {
             "fill": {
              "color": "#EBF0F8"
             },
             "line": {
              "color": "white"
             }
            },
            "header": {
             "fill": {
              "color": "#C8D4E3"
             },
             "line": {
              "color": "white"
             }
            },
            "type": "table"
           }
          ]
         },
         "layout": {
          "annotationdefaults": {
           "arrowcolor": "#2a3f5f",
           "arrowhead": 0,
           "arrowwidth": 1
          },
          "colorscale": {
           "diverging": [
            [
             0,
             "#8e0152"
            ],
            [
             0.1,
             "#c51b7d"
            ],
            [
             0.2,
             "#de77ae"
            ],
            [
             0.3,
             "#f1b6da"
            ],
            [
             0.4,
             "#fde0ef"
            ],
            [
             0.5,
             "#f7f7f7"
            ],
            [
             0.6,
             "#e6f5d0"
            ],
            [
             0.7,
             "#b8e186"
            ],
            [
             0.8,
             "#7fbc41"
            ],
            [
             0.9,
             "#4d9221"
            ],
            [
             1,
             "#276419"
            ]
           ],
           "sequential": [
            [
             0,
             "#0d0887"
            ],
            [
             0.1111111111111111,
             "#46039f"
            ],
            [
             0.2222222222222222,
             "#7201a8"
            ],
            [
             0.3333333333333333,
             "#9c179e"
            ],
            [
             0.4444444444444444,
             "#bd3786"
            ],
            [
             0.5555555555555556,
             "#d8576b"
            ],
            [
             0.6666666666666666,
             "#ed7953"
            ],
            [
             0.7777777777777778,
             "#fb9f3a"
            ],
            [
             0.8888888888888888,
             "#fdca26"
            ],
            [
             1,
             "#f0f921"
            ]
           ],
           "sequentialminus": [
            [
             0,
             "#0d0887"
            ],
            [
             0.1111111111111111,
             "#46039f"
            ],
            [
             0.2222222222222222,
             "#7201a8"
            ],
            [
             0.3333333333333333,
             "#9c179e"
            ],
            [
             0.4444444444444444,
             "#bd3786"
            ],
            [
             0.5555555555555556,
             "#d8576b"
            ],
            [
             0.6666666666666666,
             "#ed7953"
            ],
            [
             0.7777777777777778,
             "#fb9f3a"
            ],
            [
             0.8888888888888888,
             "#fdca26"
            ],
            [
             1,
             "#f0f921"
            ]
           ]
          },
          "colorway": [
           "#636efa",
           "#EF553B",
           "#00cc96",
           "#ab63fa",
           "#FFA15A",
           "#19d3f3",
           "#FF6692",
           "#B6E880",
           "#FF97FF",
           "#FECB52"
          ],
          "font": {
           "color": "#2a3f5f"
          },
          "geo": {
           "bgcolor": "white",
           "lakecolor": "white",
           "landcolor": "#E5ECF6",
           "showlakes": true,
           "showland": true,
           "subunitcolor": "white"
          },
          "hoverlabel": {
           "align": "left"
          },
          "hovermode": "closest",
          "mapbox": {
           "style": "light"
          },
          "paper_bgcolor": "white",
          "plot_bgcolor": "#E5ECF6",
          "polar": {
           "angularaxis": {
            "gridcolor": "white",
            "linecolor": "white",
            "ticks": ""
           },
           "bgcolor": "#E5ECF6",
           "radialaxis": {
            "gridcolor": "white",
            "linecolor": "white",
            "ticks": ""
           }
          },
          "scene": {
           "xaxis": {
            "backgroundcolor": "#E5ECF6",
            "gridcolor": "white",
            "gridwidth": 2,
            "linecolor": "white",
            "showbackground": true,
            "ticks": "",
            "zerolinecolor": "white"
           },
           "yaxis": {
            "backgroundcolor": "#E5ECF6",
            "gridcolor": "white",
            "gridwidth": 2,
            "linecolor": "white",
            "showbackground": true,
            "ticks": "",
            "zerolinecolor": "white"
           },
           "zaxis": {
            "backgroundcolor": "#E5ECF6",
            "gridcolor": "white",
            "gridwidth": 2,
            "linecolor": "white",
            "showbackground": true,
            "ticks": "",
            "zerolinecolor": "white"
           }
          },
          "shapedefaults": {
           "line": {
            "color": "#2a3f5f"
           }
          },
          "ternary": {
           "aaxis": {
            "gridcolor": "white",
            "linecolor": "white",
            "ticks": ""
           },
           "baxis": {
            "gridcolor": "white",
            "linecolor": "white",
            "ticks": ""
           },
           "bgcolor": "#E5ECF6",
           "caxis": {
            "gridcolor": "white",
            "linecolor": "white",
            "ticks": ""
           }
          },
          "title": {
           "x": 0.05
          },
          "xaxis": {
           "automargin": true,
           "gridcolor": "white",
           "linecolor": "white",
           "ticks": "",
           "zerolinecolor": "white",
           "zerolinewidth": 2
          },
          "yaxis": {
           "automargin": true,
           "gridcolor": "white",
           "linecolor": "white",
           "ticks": "",
           "zerolinecolor": "white",
           "zerolinewidth": 2
          }
         }
        },
        "title": {
         "text": "Number of deaths due to Corona Virus China vs Rest World",
         "x": 0.5,
         "xanchor": "center",
         "y": 0.85,
         "yanchor": "top"
        },
        "xaxis": {
         "title": {
          "text": "Virus Spread Dates"
         }
        },
        "yaxis": {
         "title": {
          "text": "Number of Deaths"
         }
        }
       }
      },
      "text/html": [
       "<div>\n",
       "        \n",
       "        \n",
       "            <div id=\"7524b283-199a-4247-b00f-e622fcb3cd6f\" class=\"plotly-graph-div\" style=\"height:525px; width:100%;\"></div>\n",
       "            <script type=\"text/javascript\">\n",
       "                require([\"plotly\"], function(Plotly) {\n",
       "                    window.PLOTLYENV=window.PLOTLYENV || {};\n",
       "                    \n",
       "                if (document.getElementById(\"7524b283-199a-4247-b00f-e622fcb3cd6f\")) {\n",
       "                    Plotly.newPlot(\n",
       "                        '7524b283-199a-4247-b00f-e622fcb3cd6f',\n",
       "                        [{\"line\": {\"color\": \"deepskyblue\"}, \"name\": \"Rest_World\", \"opacity\": 0.8, \"type\": \"scatter\", \"x\": [\"2020-01-22\", \"2020-01-23\", \"2020-01-24\", \"2020-01-25\", \"2020-01-26\", \"2020-01-27\", \"2020-01-28\", \"2020-01-29\", \"2020-01-30\", \"2020-01-31\", \"2020-02-02\"], \"y\": [0.0, 0.0, 0.0, 0.0, 0.0, 0.0, 0.0, 0.0, 0.0, 0.0, 1.0]}, {\"line\": {\"color\": \"red\"}, \"name\": \"China\", \"opacity\": 0.6, \"type\": \"scatter\", \"x\": [\"2020-01-22\", \"2020-01-23\", \"2020-01-24\", \"2020-01-25\", \"2020-01-26\", \"2020-01-27\", \"2020-01-28\", \"2020-01-29\", \"2020-01-30\", \"2020-01-31\", \"2020-02-02\"], \"y\": [0.0, 18.0, 26.0, 56.0, 80.0, 107.0, 132.0, 170.0, 213.0, 259.0, 361.0]}],\n",
       "                        {\"template\": {\"data\": {\"bar\": [{\"error_x\": {\"color\": \"#2a3f5f\"}, \"error_y\": {\"color\": \"#2a3f5f\"}, \"marker\": {\"line\": {\"color\": \"#E5ECF6\", \"width\": 0.5}}, \"type\": \"bar\"}], \"barpolar\": [{\"marker\": {\"line\": {\"color\": \"#E5ECF6\", \"width\": 0.5}}, \"type\": \"barpolar\"}], \"carpet\": [{\"aaxis\": {\"endlinecolor\": \"#2a3f5f\", \"gridcolor\": \"white\", \"linecolor\": \"white\", \"minorgridcolor\": \"white\", \"startlinecolor\": \"#2a3f5f\"}, \"baxis\": {\"endlinecolor\": \"#2a3f5f\", \"gridcolor\": \"white\", \"linecolor\": \"white\", \"minorgridcolor\": \"white\", \"startlinecolor\": \"#2a3f5f\"}, \"type\": \"carpet\"}], \"choropleth\": [{\"colorbar\": {\"outlinewidth\": 0, \"ticks\": \"\"}, \"type\": \"choropleth\"}], \"contour\": [{\"colorbar\": {\"outlinewidth\": 0, \"ticks\": \"\"}, \"colorscale\": [[0.0, \"#0d0887\"], [0.1111111111111111, \"#46039f\"], [0.2222222222222222, \"#7201a8\"], [0.3333333333333333, \"#9c179e\"], [0.4444444444444444, \"#bd3786\"], [0.5555555555555556, \"#d8576b\"], [0.6666666666666666, \"#ed7953\"], [0.7777777777777778, \"#fb9f3a\"], [0.8888888888888888, \"#fdca26\"], [1.0, \"#f0f921\"]], \"type\": \"contour\"}], \"contourcarpet\": [{\"colorbar\": {\"outlinewidth\": 0, \"ticks\": \"\"}, \"type\": \"contourcarpet\"}], \"heatmap\": [{\"colorbar\": {\"outlinewidth\": 0, \"ticks\": \"\"}, \"colorscale\": [[0.0, \"#0d0887\"], [0.1111111111111111, \"#46039f\"], [0.2222222222222222, \"#7201a8\"], [0.3333333333333333, \"#9c179e\"], [0.4444444444444444, \"#bd3786\"], [0.5555555555555556, \"#d8576b\"], [0.6666666666666666, \"#ed7953\"], [0.7777777777777778, \"#fb9f3a\"], [0.8888888888888888, \"#fdca26\"], [1.0, \"#f0f921\"]], \"type\": \"heatmap\"}], \"heatmapgl\": [{\"colorbar\": {\"outlinewidth\": 0, \"ticks\": \"\"}, \"colorscale\": [[0.0, \"#0d0887\"], [0.1111111111111111, \"#46039f\"], [0.2222222222222222, \"#7201a8\"], [0.3333333333333333, \"#9c179e\"], [0.4444444444444444, \"#bd3786\"], [0.5555555555555556, \"#d8576b\"], [0.6666666666666666, \"#ed7953\"], [0.7777777777777778, \"#fb9f3a\"], [0.8888888888888888, \"#fdca26\"], [1.0, \"#f0f921\"]], \"type\": \"heatmapgl\"}], \"histogram\": [{\"marker\": {\"colorbar\": {\"outlinewidth\": 0, \"ticks\": \"\"}}, \"type\": \"histogram\"}], \"histogram2d\": [{\"colorbar\": {\"outlinewidth\": 0, \"ticks\": \"\"}, \"colorscale\": [[0.0, \"#0d0887\"], [0.1111111111111111, \"#46039f\"], [0.2222222222222222, \"#7201a8\"], [0.3333333333333333, \"#9c179e\"], [0.4444444444444444, \"#bd3786\"], [0.5555555555555556, \"#d8576b\"], [0.6666666666666666, \"#ed7953\"], [0.7777777777777778, \"#fb9f3a\"], [0.8888888888888888, \"#fdca26\"], [1.0, \"#f0f921\"]], \"type\": \"histogram2d\"}], \"histogram2dcontour\": [{\"colorbar\": {\"outlinewidth\": 0, \"ticks\": \"\"}, \"colorscale\": [[0.0, \"#0d0887\"], [0.1111111111111111, \"#46039f\"], [0.2222222222222222, \"#7201a8\"], [0.3333333333333333, \"#9c179e\"], [0.4444444444444444, \"#bd3786\"], [0.5555555555555556, \"#d8576b\"], [0.6666666666666666, \"#ed7953\"], [0.7777777777777778, \"#fb9f3a\"], [0.8888888888888888, \"#fdca26\"], [1.0, \"#f0f921\"]], \"type\": \"histogram2dcontour\"}], \"mesh3d\": [{\"colorbar\": {\"outlinewidth\": 0, \"ticks\": \"\"}, \"type\": \"mesh3d\"}], \"parcoords\": [{\"line\": {\"colorbar\": {\"outlinewidth\": 0, \"ticks\": \"\"}}, \"type\": \"parcoords\"}], \"scatter\": [{\"marker\": {\"colorbar\": {\"outlinewidth\": 0, \"ticks\": \"\"}}, \"type\": \"scatter\"}], \"scatter3d\": [{\"line\": {\"colorbar\": {\"outlinewidth\": 0, \"ticks\": \"\"}}, \"marker\": {\"colorbar\": {\"outlinewidth\": 0, \"ticks\": \"\"}}, \"type\": \"scatter3d\"}], \"scattercarpet\": [{\"marker\": {\"colorbar\": {\"outlinewidth\": 0, \"ticks\": \"\"}}, \"type\": \"scattercarpet\"}], \"scattergeo\": [{\"marker\": {\"colorbar\": {\"outlinewidth\": 0, \"ticks\": \"\"}}, \"type\": \"scattergeo\"}], \"scattergl\": [{\"marker\": {\"colorbar\": {\"outlinewidth\": 0, \"ticks\": \"\"}}, \"type\": \"scattergl\"}], \"scattermapbox\": [{\"marker\": {\"colorbar\": {\"outlinewidth\": 0, \"ticks\": \"\"}}, \"type\": \"scattermapbox\"}], \"scatterpolar\": [{\"marker\": {\"colorbar\": {\"outlinewidth\": 0, \"ticks\": \"\"}}, \"type\": \"scatterpolar\"}], \"scatterpolargl\": [{\"marker\": {\"colorbar\": {\"outlinewidth\": 0, \"ticks\": \"\"}}, \"type\": \"scatterpolargl\"}], \"scatterternary\": [{\"marker\": {\"colorbar\": {\"outlinewidth\": 0, \"ticks\": \"\"}}, \"type\": \"scatterternary\"}], \"surface\": [{\"colorbar\": {\"outlinewidth\": 0, \"ticks\": \"\"}, \"colorscale\": [[0.0, \"#0d0887\"], [0.1111111111111111, \"#46039f\"], [0.2222222222222222, \"#7201a8\"], [0.3333333333333333, \"#9c179e\"], [0.4444444444444444, \"#bd3786\"], [0.5555555555555556, \"#d8576b\"], [0.6666666666666666, \"#ed7953\"], [0.7777777777777778, \"#fb9f3a\"], [0.8888888888888888, \"#fdca26\"], [1.0, \"#f0f921\"]], \"type\": \"surface\"}], \"table\": [{\"cells\": {\"fill\": {\"color\": \"#EBF0F8\"}, \"line\": {\"color\": \"white\"}}, \"header\": {\"fill\": {\"color\": \"#C8D4E3\"}, \"line\": {\"color\": \"white\"}}, \"type\": \"table\"}]}, \"layout\": {\"annotationdefaults\": {\"arrowcolor\": \"#2a3f5f\", \"arrowhead\": 0, \"arrowwidth\": 1}, \"colorscale\": {\"diverging\": [[0, \"#8e0152\"], [0.1, \"#c51b7d\"], [0.2, \"#de77ae\"], [0.3, \"#f1b6da\"], [0.4, \"#fde0ef\"], [0.5, \"#f7f7f7\"], [0.6, \"#e6f5d0\"], [0.7, \"#b8e186\"], [0.8, \"#7fbc41\"], [0.9, \"#4d9221\"], [1, \"#276419\"]], \"sequential\": [[0.0, \"#0d0887\"], [0.1111111111111111, \"#46039f\"], [0.2222222222222222, \"#7201a8\"], [0.3333333333333333, \"#9c179e\"], [0.4444444444444444, \"#bd3786\"], [0.5555555555555556, \"#d8576b\"], [0.6666666666666666, \"#ed7953\"], [0.7777777777777778, \"#fb9f3a\"], [0.8888888888888888, \"#fdca26\"], [1.0, \"#f0f921\"]], \"sequentialminus\": [[0.0, \"#0d0887\"], [0.1111111111111111, \"#46039f\"], [0.2222222222222222, \"#7201a8\"], [0.3333333333333333, \"#9c179e\"], [0.4444444444444444, \"#bd3786\"], [0.5555555555555556, \"#d8576b\"], [0.6666666666666666, \"#ed7953\"], [0.7777777777777778, \"#fb9f3a\"], [0.8888888888888888, \"#fdca26\"], [1.0, \"#f0f921\"]]}, \"colorway\": [\"#636efa\", \"#EF553B\", \"#00cc96\", \"#ab63fa\", \"#FFA15A\", \"#19d3f3\", \"#FF6692\", \"#B6E880\", \"#FF97FF\", \"#FECB52\"], \"font\": {\"color\": \"#2a3f5f\"}, \"geo\": {\"bgcolor\": \"white\", \"lakecolor\": \"white\", \"landcolor\": \"#E5ECF6\", \"showlakes\": true, \"showland\": true, \"subunitcolor\": \"white\"}, \"hoverlabel\": {\"align\": \"left\"}, \"hovermode\": \"closest\", \"mapbox\": {\"style\": \"light\"}, \"paper_bgcolor\": \"white\", \"plot_bgcolor\": \"#E5ECF6\", \"polar\": {\"angularaxis\": {\"gridcolor\": \"white\", \"linecolor\": \"white\", \"ticks\": \"\"}, \"bgcolor\": \"#E5ECF6\", \"radialaxis\": {\"gridcolor\": \"white\", \"linecolor\": \"white\", \"ticks\": \"\"}}, \"scene\": {\"xaxis\": {\"backgroundcolor\": \"#E5ECF6\", \"gridcolor\": \"white\", \"gridwidth\": 2, \"linecolor\": \"white\", \"showbackground\": true, \"ticks\": \"\", \"zerolinecolor\": \"white\"}, \"yaxis\": {\"backgroundcolor\": \"#E5ECF6\", \"gridcolor\": \"white\", \"gridwidth\": 2, \"linecolor\": \"white\", \"showbackground\": true, \"ticks\": \"\", \"zerolinecolor\": \"white\"}, \"zaxis\": {\"backgroundcolor\": \"#E5ECF6\", \"gridcolor\": \"white\", \"gridwidth\": 2, \"linecolor\": \"white\", \"showbackground\": true, \"ticks\": \"\", \"zerolinecolor\": \"white\"}}, \"shapedefaults\": {\"line\": {\"color\": \"#2a3f5f\"}}, \"ternary\": {\"aaxis\": {\"gridcolor\": \"white\", \"linecolor\": \"white\", \"ticks\": \"\"}, \"baxis\": {\"gridcolor\": \"white\", \"linecolor\": \"white\", \"ticks\": \"\"}, \"bgcolor\": \"#E5ECF6\", \"caxis\": {\"gridcolor\": \"white\", \"linecolor\": \"white\", \"ticks\": \"\"}}, \"title\": {\"x\": 0.05}, \"xaxis\": {\"automargin\": true, \"gridcolor\": \"white\", \"linecolor\": \"white\", \"ticks\": \"\", \"zerolinecolor\": \"white\", \"zerolinewidth\": 2}, \"yaxis\": {\"automargin\": true, \"gridcolor\": \"white\", \"linecolor\": \"white\", \"ticks\": \"\", \"zerolinecolor\": \"white\", \"zerolinewidth\": 2}}}, \"title\": {\"text\": \"Number of deaths due to Corona Virus China vs Rest World\", \"x\": 0.5, \"xanchor\": \"center\", \"y\": 0.85, \"yanchor\": \"top\"}, \"xaxis\": {\"title\": {\"text\": \"Virus Spread Dates\"}}, \"yaxis\": {\"title\": {\"text\": \"Number of Deaths\"}}},\n",
       "                        {\"responsive\": true}\n",
       "                    ).then(function(){\n",
       "                            \n",
       "var gd = document.getElementById('7524b283-199a-4247-b00f-e622fcb3cd6f');\n",
       "var x = new MutationObserver(function (mutations, observer) {{\n",
       "        var display = window.getComputedStyle(gd).display;\n",
       "        if (!display || display === 'none') {{\n",
       "            console.log([gd, 'removed!']);\n",
       "            Plotly.purge(gd);\n",
       "            observer.disconnect();\n",
       "        }}\n",
       "}});\n",
       "\n",
       "// Listen for the removal of the full notebook cells\n",
       "var notebookContainer = gd.closest('#notebook-container');\n",
       "if (notebookContainer) {{\n",
       "    x.observe(notebookContainer, {childList: true});\n",
       "}}\n",
       "\n",
       "// Listen for the clearing of the current output cell\n",
       "var outputEl = gd.closest('.output');\n",
       "if (outputEl) {{\n",
       "    x.observe(outputEl, {childList: true});\n",
       "}}\n",
       "\n",
       "                        })\n",
       "                };\n",
       "                });\n",
       "            </script>\n",
       "        </div>"
      ]
     },
     "metadata": {},
     "output_type": "display_data"
    }
   ],
   "source": [
    "import plotly.graph_objects as go\n",
    "import datetime\n",
    "\n",
    "X_c = death_c.index\n",
    "X_w = death_w.index\n",
    "\n",
    "fig = go.Figure(layout=go.Layout(\n",
    "        title = {'text': f'Number of deaths due to Corona Virus China vs Rest World',\n",
    "                                'y':0.85,\n",
    "                                'x':0.5,\n",
    "                                'xanchor': 'center',\n",
    "                                'yanchor': 'top'},\n",
    "        xaxis_title=\"Virus Spread Dates\",\n",
    "        yaxis_title=\"Number of Deaths\"))\n",
    "\n",
    "fig.add_trace(go.Scatter(x=X_w, y=death_w.values,line_color='deepskyblue',name='Rest_World',\n",
    "                opacity=0.8))\n",
    "\n",
    "fig.add_trace(go.Scatter(x=X_c, y=death_c.values,line_color='red',name='China',\n",
    "                opacity=0.6))\n",
    "fig.show()"
   ]
  },
  {
   "cell_type": "markdown",
   "metadata": {},
   "source": [
    "This data is till 2nd of Feb as the new data came i will try to merge it with my ongoing case study. For this data set we don't need to predict any thing it's just data exploration.\n",
    "\n",
    "Finally,For a while the problem is serious but it is also very exaggerated in the media, and people living outside of China have no reason to worry. However, I feel __sorry for China__, because all attention to this virus should focus on this country, not the fears of distant countries. Let's hope that we will soon be able to say that the virus has gone down in history  🙏 🙏 🙏 🙏 🙏."
   ]
  }
 ],
 "metadata": {
  "kernelspec": {
   "display_name": "Python 3",
   "language": "python",
   "name": "python3"
  },
  "language_info": {
   "codemirror_mode": {
    "name": "ipython",
    "version": 3
   },
   "file_extension": ".py",
   "mimetype": "text/x-python",
   "name": "python",
   "nbconvert_exporter": "python",
   "pygments_lexer": "ipython3",
   "version": "3.7.3"
  }
 },
 "nbformat": 4,
 "nbformat_minor": 2
}
